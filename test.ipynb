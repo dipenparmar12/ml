{
 "cells": [
  {
   "cell_type": "code",
   "execution_count": 1,
   "id": "ce9d8cd1-d77a-4688-b441-a842d09a3d16",
   "metadata": {
    "ExecuteTime": {
     "end_time": "2023-12-17T05:45:15.051721Z",
     "start_time": "2023-12-17T05:45:15.048678Z"
    }
   },
   "outputs": [],
   "source": [
    "import numpy as np  # linear algebra\n",
    "import pandas as pd  # data processing\n",
    "import matplotlib.pyplot as plt\n",
    "import seaborn as sns"
   ]
  },
  {
   "cell_type": "code",
   "execution_count": 3,
   "id": "18cbe270-dd44-45f7-bdb2-36686bc81d67",
   "metadata": {},
   "outputs": [
    {
     "name": "stdout",
     "output_type": "stream",
     "text": [
      "Collecting numpy\n",
      "  Obtaining dependency information for numpy from https://files.pythonhosted.org/packages/d2/2f/b42860931c1479714201495ffe47d74460a916ae426a21fc9b68c5e329aa/numpy-1.26.0-cp311-cp311-macosx_10_9_x86_64.whl.metadata\n",
      "  Downloading numpy-1.26.0-cp311-cp311-macosx_10_9_x86_64.whl.metadata (53 kB)\n",
      "\u001B[2K     \u001B[38;2;114;156;31m━━━━━━━━━━━━━━━━━━━━━━━━━━━━━━━━━━━━━━━\u001B[0m \u001B[32m53.5/53.5 kB\u001B[0m \u001B[31m724.7 kB/s\u001B[0m eta \u001B[36m0:00:00\u001B[0m31m2.2 MB/s\u001B[0m eta \u001B[36m0:00:01\u001B[0m\n",
      "\u001B[?25hDownloading numpy-1.26.0-cp311-cp311-macosx_10_9_x86_64.whl (20.6 MB)\n",
      "\u001B[2K   \u001B[38;2;114;156;31m━━━━━━━━━━━━━━━━━━━━━━━━━━━━━━━━━━━━━━━━\u001B[0m \u001B[32m20.6/20.6 MB\u001B[0m \u001B[31m9.7 MB/s\u001B[0m eta \u001B[36m0:00:00\u001B[0m0m eta \u001B[36m0:00:01\u001B[0m0:01\u001B[0m:01\u001B[0m\n",
      "\u001B[?25hInstalling collected packages: numpy\n",
      "Successfully installed numpy-1.26.0\n"
     ]
    }
   ],
   "source": [
    "# Install a pip package in the current Jupyter kernel\n",
    "import sys\n",
    "!{sys.executable} -m pip install numpy"
   ]
  },
  {
   "cell_type": "code",
   "execution_count": 213,
   "outputs": [
    {
     "name": "stdout",
     "output_type": "stream",
     "text": [
      "Inside wrapper - Before calling Arguments (10, 20)\n",
      "10, 20\n",
      "After calling\n",
      "---------------\n",
      "Inside wrapper - Before calling Arguments ('123',)\n"
     ]
    },
    {
     "ename": "ValueError",
     "evalue": "Error occurred: input should be an integer",
     "output_type": "error",
     "traceback": [
      "\u001B[0;31m---------------------------------------------------------------------------\u001B[0m",
      "\u001B[0;31mValueError\u001B[0m                                Traceback (most recent call last)",
      "Cell \u001B[0;32mIn[213], line 21\u001B[0m\n\u001B[1;32m     19\u001B[0m my_sum(\u001B[38;5;241m10\u001B[39m, \u001B[38;5;241m20\u001B[39m)\n\u001B[1;32m     20\u001B[0m \u001B[38;5;28mprint\u001B[39m(\u001B[38;5;124m\"\u001B[39m\u001B[38;5;124m---------------\u001B[39m\u001B[38;5;124m\"\u001B[39m)\n\u001B[0;32m---> 21\u001B[0m \u001B[43mmy_sum\u001B[49m\u001B[43m(\u001B[49m\u001B[38;5;124;43m\"\u001B[39;49m\u001B[38;5;124;43m123\u001B[39;49m\u001B[38;5;124;43m\"\u001B[39;49m\u001B[43m)\u001B[49m\n",
      "Cell \u001B[0;32mIn[213], line 5\u001B[0m, in \u001B[0;36mvalidate.<locals>.wrapper\u001B[0;34m(*args)\u001B[0m\n\u001B[1;32m      3\u001B[0m \u001B[38;5;28mprint\u001B[39m(\u001B[38;5;124mf\u001B[39m\u001B[38;5;124m\"\u001B[39m\u001B[38;5;124mInside wrapper - Before calling Arguments \u001B[39m\u001B[38;5;132;01m{\u001B[39;00margs\u001B[38;5;132;01m}\u001B[39;00m\u001B[38;5;124m\"\u001B[39m)\n\u001B[1;32m      4\u001B[0m \u001B[38;5;28;01mif\u001B[39;00m \u001B[38;5;129;01mnot\u001B[39;00m \u001B[38;5;28misinstance\u001B[39m(args[\u001B[38;5;241m0\u001B[39m], \u001B[38;5;28mint\u001B[39m):\n\u001B[0;32m----> 5\u001B[0m     \u001B[38;5;28;01mraise\u001B[39;00m \u001B[38;5;167;01mValueError\u001B[39;00m(\u001B[38;5;124m\"\u001B[39m\u001B[38;5;124mError occurred: input should be an integer\u001B[39m\u001B[38;5;124m\"\u001B[39m)\n\u001B[1;32m      7\u001B[0m output \u001B[38;5;241m=\u001B[39m func(\u001B[38;5;241m*\u001B[39margs)\n\u001B[1;32m      8\u001B[0m \u001B[38;5;28mprint\u001B[39m(\u001B[38;5;124m\"\u001B[39m\u001B[38;5;124mAfter calling\u001B[39m\u001B[38;5;124m\"\u001B[39m)\n",
      "\u001B[0;31mValueError\u001B[0m: Error occurred: input should be an integer"
     ]
    }
   ],
   "source": [
    "def decorator(func):\n",
    "    def wrapper(*args):\n",
    "        print(f\"Inside wrapper - Before calling Arguments {args}\")\n",
    "        if not isinstance(args[0], int):\n",
    "            raise ValueError(\"Error occurred: input should be an integer\")\n",
    "\n",
    "        output = func(*args)\n",
    "        print(\"After calling\")\n",
    "        return output\n",
    "\n",
    "    return wrapper\n",
    "\n",
    "\n",
    "@decorator\n",
    "def my_sum(a, b=0):\n",
    "    print(f\"{a}, {b}\")\n",
    "\n",
    "\n",
    "my_sum(10, 20)\n",
    "print(\"---------------\")\n",
    "my_sum(\"123\")"
   ],
   "metadata": {
    "collapsed": false,
    "ExecuteTime": {
     "end_time": "2023-12-28T06:47:44.492747Z",
     "start_time": "2023-12-28T06:47:44.468128Z"
    }
   },
   "id": "96d0b50cc80a0ab6"
  },
  {
   "cell_type": "code",
   "execution_count": 1,
   "outputs": [
    {
     "name": "stdout",
     "output_type": "stream",
     "text": [
      "Decorator arguments: Argument1, Argument2\n",
      "Inside wrapper - Before calling the wrapped function\n",
      "Inside example_function - Received arguments: 3, 5\n",
      "Inside wrapper - After calling the wrapped function\n",
      "Result: 8\n"
     ]
    }
   ],
   "source": [
    "### wrapper method in Python that accepts arguments and wraps another method\n",
    "def decorator_with_args(arg1, arg2):\n",
    "    def decorator(func):\n",
    "        def wrapper(*args, **kwargs):\n",
    "            print(f\"Decorator arguments: {arg1}, {arg2}\")\n",
    "            print(\"Inside wrapper - Before calling the wrapped function\")\n",
    "            result = func(*args, **kwargs)  # Call the wrapped function\n",
    "            print(\"Inside wrapper - After calling the wrapped function\")\n",
    "            return result\n",
    "\n",
    "        return wrapper\n",
    "\n",
    "    return decorator\n",
    "\n",
    "\n",
    "# Example usage:\n",
    "@decorator_with_args(\"Argument1\", \"Argument2\")\n",
    "def example_function(a, b):\n",
    "    print(f\"Inside example_function - Received arguments: {a}, {b}\")\n",
    "    return a + b\n",
    "\n",
    "\n",
    "# Call the decorated function\n",
    "result = example_function(3, 5)\n",
    "print(f\"Result: {result}\")\n"
   ],
   "metadata": {
    "collapsed": false,
    "ExecuteTime": {
     "end_time": "2024-01-03T10:25:40.194904Z",
     "start_time": "2024-01-03T10:25:40.190763Z"
    }
   },
   "id": "ab3f72e75059156e"
  },
  {
   "cell_type": "code",
   "execution_count": 87,
   "outputs": [],
   "source": [],
   "metadata": {
    "collapsed": false,
    "ExecuteTime": {
     "end_time": "2023-12-28T06:30:06.387391Z",
     "start_time": "2023-12-28T06:30:06.381228Z"
    }
   },
   "id": "e4c78fb0a978de4b"
  }
 ],
 "metadata": {
  "kernelspec": {
   "display_name": "Python 3 (ipykernel)",
   "language": "python",
   "name": "python3"
  },
  "language_info": {
   "codemirror_mode": {
    "name": "ipython",
    "version": 3
   },
   "file_extension": ".py",
   "mimetype": "text/x-python",
   "name": "python",
   "nbconvert_exporter": "python",
   "pygments_lexer": "ipython3",
   "version": "3.11.5"
  }
 },
 "nbformat": 4,
 "nbformat_minor": 5
}
