{
 "cells": [
  {
   "cell_type": "code",
   "execution_count": 1,
   "id": "ce9d8cd1-d77a-4688-b441-a842d09a3d16",
   "metadata": {
    "ExecuteTime": {
     "end_time": "2023-12-17T05:45:15.051721Z",
     "start_time": "2023-12-17T05:45:15.048678Z"
    }
   },
   "outputs": [],
   "source": [
    "import numpy as np  # linear algebra\n",
    "import pandas as pd  # data processing\n",
    "import matplotlib.pyplot as plt\n",
    "import seaborn as sns"
   ]
  },
  {
   "cell_type": "code",
   "execution_count": 3,
   "id": "18cbe270-dd44-45f7-bdb2-36686bc81d67",
   "metadata": {},
   "outputs": [
    {
     "name": "stdout",
     "output_type": "stream",
     "text": [
      "Collecting numpy\n",
      "  Obtaining dependency information for numpy from https://files.pythonhosted.org/packages/d2/2f/b42860931c1479714201495ffe47d74460a916ae426a21fc9b68c5e329aa/numpy-1.26.0-cp311-cp311-macosx_10_9_x86_64.whl.metadata\n",
      "  Downloading numpy-1.26.0-cp311-cp311-macosx_10_9_x86_64.whl.metadata (53 kB)\n",
      "\u001B[2K     \u001B[38;2;114;156;31m━━━━━━━━━━━━━━━━━━━━━━━━━━━━━━━━━━━━━━━\u001B[0m \u001B[32m53.5/53.5 kB\u001B[0m \u001B[31m724.7 kB/s\u001B[0m eta \u001B[36m0:00:00\u001B[0m31m2.2 MB/s\u001B[0m eta \u001B[36m0:00:01\u001B[0m\n",
      "\u001B[?25hDownloading numpy-1.26.0-cp311-cp311-macosx_10_9_x86_64.whl (20.6 MB)\n",
      "\u001B[2K   \u001B[38;2;114;156;31m━━━━━━━━━━━━━━━━━━━━━━━━━━━━━━━━━━━━━━━━\u001B[0m \u001B[32m20.6/20.6 MB\u001B[0m \u001B[31m9.7 MB/s\u001B[0m eta \u001B[36m0:00:00\u001B[0m0m eta \u001B[36m0:00:01\u001B[0m0:01\u001B[0m:01\u001B[0m\n",
      "\u001B[?25hInstalling collected packages: numpy\n",
      "Successfully installed numpy-1.26.0\n"
     ]
    }
   ],
   "source": [
    "# Install a pip package in the current Jupyter kernel\n",
    "import sys\n",
    "!{sys.executable} -m pip install numpy"
   ]
  }
 ],
 "metadata": {
  "kernelspec": {
   "display_name": "Python 3 (ipykernel)",
   "language": "python",
   "name": "python3"
  },
  "language_info": {
   "codemirror_mode": {
    "name": "ipython",
    "version": 3
   },
   "file_extension": ".py",
   "mimetype": "text/x-python",
   "name": "python",
   "nbconvert_exporter": "python",
   "pygments_lexer": "ipython3",
   "version": "3.11.5"
  }
 },
 "nbformat": 4,
 "nbformat_minor": 5
}
