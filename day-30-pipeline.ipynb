{
 "cells": [
  {
   "cell_type": "code",
   "execution_count": 652,
   "id": "6044e373f6cc739c",
   "metadata": {
    "collapsed": false,
    "ExecuteTime": {
     "end_time": "2023-12-25T10:17:17.924766Z",
     "start_time": "2023-12-25T10:17:17.902608Z"
    }
   },
   "outputs": [],
   "source": [
    "import pandas as pd  # data processing\n",
    "import numpy as np  # linear algebra\n",
    "import matplotlib.pyplot as plt\n",
    "import seaborn as sns\n",
    "from sklearn.base import BaseEstimator\n"
   ]
  },
  {
   "cell_type": "code",
   "execution_count": 653,
   "id": "b0f9a63a4f4427c9",
   "metadata": {
    "collapsed": false,
    "ExecuteTime": {
     "end_time": "2023-12-25T10:17:17.925467Z",
     "start_time": "2023-12-25T10:17:17.911515Z"
    }
   },
   "outputs": [],
   "source": [
    "from sklearn.compose import ColumnTransformer\n",
    "from sklearn.impute import SimpleImputer\n",
    "from sklearn.preprocessing import OneHotEncoder\n",
    "from sklearn.model_selection import train_test_split\n",
    "from sklearn.preprocessing import MinMaxScaler\n",
    "from sklearn.pipeline import Pipeline, make_pipeline\n",
    "# from sklearn.feature_selection import SelectKBest,chi2\n",
    "# from sklearn.tree import DecisionTreeClassifier"
   ]
  },
  {
   "cell_type": "code",
   "execution_count": 654,
   "id": "54786dbdbed56eb5",
   "metadata": {
    "collapsed": false,
    "ExecuteTime": {
     "end_time": "2023-12-25T10:17:17.955947Z",
     "start_time": "2023-12-25T10:17:17.930380Z"
    }
   },
   "outputs": [
    {
     "data": {
      "text/plain": "Index(['PassengerId', 'Survived', 'Pclass', 'Name', 'Sex', 'Age', 'SibSp',\n       'Parch', 'Ticket', 'Fare', 'Cabin', 'Embarked'],\n      dtype='object')"
     },
     "execution_count": 654,
     "metadata": {},
     "output_type": "execute_result"
    }
   ],
   "source": [
    "df = pd.read_csv('./data/titanic.csv')\n",
    "df.columns"
   ]
  },
  {
   "cell_type": "markdown",
   "source": [
    "### Make pipline\n",
    "- Drop columns \n",
    "- Impute Age\n",
    "- Handle categorical data Sex\n",
    "- OneHotEncode Embarked"
   ],
   "metadata": {
    "collapsed": false
   },
   "id": "98f4cd0ebdaff636"
  },
  {
   "cell_type": "code",
   "execution_count": 835,
   "outputs": [
    {
     "data": {
      "text/plain": "     Pclass Sex  Survived        Age Embarked\n0         3   1         0  22.000000        S\n1         1   0         1  38.000000        C\n2         3   0         1  26.000000        S\n3         1   0         1  35.000000        S\n4         3   1         0  35.000000        S\n..      ...  ..       ...        ...      ...\n886       2   1         0  27.000000        S\n887       1   0         1  19.000000        S\n888       3   0         0  29.699118        S\n889       1   1         1  26.000000        C\n890       3   1         0  32.000000        Q\n\n[891 rows x 5 columns]",
      "text/html": "<div>\n<style scoped>\n    .dataframe tbody tr th:only-of-type {\n        vertical-align: middle;\n    }\n\n    .dataframe tbody tr th {\n        vertical-align: top;\n    }\n\n    .dataframe thead th {\n        text-align: right;\n    }\n</style>\n<table border=\"1\" class=\"dataframe\">\n  <thead>\n    <tr style=\"text-align: right;\">\n      <th></th>\n      <th>Pclass</th>\n      <th>Sex</th>\n      <th>Survived</th>\n      <th>Age</th>\n      <th>Embarked</th>\n    </tr>\n  </thead>\n  <tbody>\n    <tr>\n      <th>0</th>\n      <td>3</td>\n      <td>1</td>\n      <td>0</td>\n      <td>22.000000</td>\n      <td>S</td>\n    </tr>\n    <tr>\n      <th>1</th>\n      <td>1</td>\n      <td>0</td>\n      <td>1</td>\n      <td>38.000000</td>\n      <td>C</td>\n    </tr>\n    <tr>\n      <th>2</th>\n      <td>3</td>\n      <td>0</td>\n      <td>1</td>\n      <td>26.000000</td>\n      <td>S</td>\n    </tr>\n    <tr>\n      <th>3</th>\n      <td>1</td>\n      <td>0</td>\n      <td>1</td>\n      <td>35.000000</td>\n      <td>S</td>\n    </tr>\n    <tr>\n      <th>4</th>\n      <td>3</td>\n      <td>1</td>\n      <td>0</td>\n      <td>35.000000</td>\n      <td>S</td>\n    </tr>\n    <tr>\n      <th>...</th>\n      <td>...</td>\n      <td>...</td>\n      <td>...</td>\n      <td>...</td>\n      <td>...</td>\n    </tr>\n    <tr>\n      <th>886</th>\n      <td>2</td>\n      <td>1</td>\n      <td>0</td>\n      <td>27.000000</td>\n      <td>S</td>\n    </tr>\n    <tr>\n      <th>887</th>\n      <td>1</td>\n      <td>0</td>\n      <td>1</td>\n      <td>19.000000</td>\n      <td>S</td>\n    </tr>\n    <tr>\n      <th>888</th>\n      <td>3</td>\n      <td>0</td>\n      <td>0</td>\n      <td>29.699118</td>\n      <td>S</td>\n    </tr>\n    <tr>\n      <th>889</th>\n      <td>1</td>\n      <td>1</td>\n      <td>1</td>\n      <td>26.000000</td>\n      <td>C</td>\n    </tr>\n    <tr>\n      <th>890</th>\n      <td>3</td>\n      <td>1</td>\n      <td>0</td>\n      <td>32.000000</td>\n      <td>Q</td>\n    </tr>\n  </tbody>\n</table>\n<p>891 rows × 5 columns</p>\n</div>"
     },
     "execution_count": 835,
     "metadata": {},
     "output_type": "execute_result"
    }
   ],
   "source": [
    "from sklearn.base import BaseEstimator, TransformerMixin\n",
    "\n",
    "\n",
    "class ColumnSelector(BaseEstimator, TransformerMixin):\n",
    "    \"\"\"\n",
    "    Selects specific columns from a DataFrame.\n",
    "    Example:\n",
    "        selector = ColumnSelector(['Age', 'Test'])\n",
    "        selector.fit_transform(df)\n",
    "    \"\"\"\n",
    "\n",
    "    def __init__(self, columns_to_keep):\n",
    "        \"\"\"\n",
    "        columns_to_keep (list): List of column names to be selected.\n",
    "        \"\"\"\n",
    "        self.columns_to_keep = columns_to_keep\n",
    "\n",
    "    def fit(self, X, y=None):\n",
    "        return self\n",
    "\n",
    "    def transform(self, X):\n",
    "        \"\"\"\n",
    "        Returns:\n",
    "        selected_columns (DataFrame): DataFrame with selected columns.\n",
    "        \"\"\"\n",
    "        x_copy = X.copy()\n",
    "        # selected_columns = X[self.columns_to_keep]\n",
    "        selected_columns = list(set(self.columns_to_keep) & set(X.columns))  # list-intersection\n",
    "        return x_copy[selected_columns]\n"
   ],
   "metadata": {
    "collapsed": false,
    "ExecuteTime": {
     "end_time": "2023-12-26T05:35:40.174223Z",
     "start_time": "2023-12-26T05:35:40.170355Z"
    }
   },
   "id": "58d2f247dd5b2831"
  },
  {
   "cell_type": "code",
   "execution_count": 804,
   "outputs": [],
   "source": [
    "# col = ColumnSelector(['Pclass', 'Sex', 'Age', 'Embarked', 'Survived', ])\n",
    "# df = col.fit_transform(df)\n",
    "# df"
   ],
   "metadata": {
    "collapsed": false,
    "ExecuteTime": {
     "end_time": "2023-12-26T05:32:56.126499Z",
     "start_time": "2023-12-26T05:32:56.123129Z"
    }
   },
   "id": "7592dcb663b71c1d"
  },
  {
   "cell_type": "code",
   "execution_count": 712,
   "outputs": [],
   "source": [
    "from sklearn.base import BaseEstimator, TransformerMixin\n",
    "\n",
    "\n",
    "class Imputer(BaseEstimator, TransformerMixin):\n",
    "    \"\"\"\n",
    "    Example: \n",
    "        imputer = Imputer(['Age'])\n",
    "        imputer.fit_transform(df)\n",
    "    \"\"\"\n",
    "\n",
    "    def __init__(self, columns_to_impute, **kwargs):\n",
    "        self.columns_to_impute = columns_to_impute\n",
    "        self.strategy = kwargs.get('strategy', 'mean')\n",
    "\n",
    "    def fit(self, X, y=None):\n",
    "        return self\n",
    "\n",
    "    def transform(self, X):\n",
    "        x_copy = X.copy()\n",
    "        selected_columns = x_copy[self.columns_to_impute]\n",
    "        imputer = SimpleImputer(strategy=self.strategy)\n",
    "        x_copy.loc[:, self.columns_to_impute] = imputer.fit_transform(selected_columns)\n",
    "        # X['Age'] = imputer.fit_transform(selected_columns)\n",
    "\n",
    "        return X"
   ],
   "metadata": {
    "collapsed": false,
    "ExecuteTime": {
     "end_time": "2023-12-26T05:12:42.533566Z",
     "start_time": "2023-12-26T05:12:42.526069Z"
    }
   },
   "id": "8abb324277c62903"
  },
  {
   "cell_type": "code",
   "execution_count": 715,
   "outputs": [
    {
     "data": {
      "text/plain": "     Pclass Sex        Age Embarked  Survived\n0         3   1  22.000000        S         0\n1         1   0  38.000000        C         1\n2         3   0  26.000000        S         1\n3         1   0  35.000000        S         1\n4         3   1  35.000000        S         0\n..      ...  ..        ...      ...       ...\n886       2   1  27.000000        S         0\n887       1   0  19.000000        S         1\n888       3   0  29.699118        S         0\n889       1   1  26.000000        C         1\n890       3   1  32.000000        Q         0\n\n[891 rows x 5 columns]",
      "text/html": "<div>\n<style scoped>\n    .dataframe tbody tr th:only-of-type {\n        vertical-align: middle;\n    }\n\n    .dataframe tbody tr th {\n        vertical-align: top;\n    }\n\n    .dataframe thead th {\n        text-align: right;\n    }\n</style>\n<table border=\"1\" class=\"dataframe\">\n  <thead>\n    <tr style=\"text-align: right;\">\n      <th></th>\n      <th>Pclass</th>\n      <th>Sex</th>\n      <th>Age</th>\n      <th>Embarked</th>\n      <th>Survived</th>\n    </tr>\n  </thead>\n  <tbody>\n    <tr>\n      <th>0</th>\n      <td>3</td>\n      <td>1</td>\n      <td>22.000000</td>\n      <td>S</td>\n      <td>0</td>\n    </tr>\n    <tr>\n      <th>1</th>\n      <td>1</td>\n      <td>0</td>\n      <td>38.000000</td>\n      <td>C</td>\n      <td>1</td>\n    </tr>\n    <tr>\n      <th>2</th>\n      <td>3</td>\n      <td>0</td>\n      <td>26.000000</td>\n      <td>S</td>\n      <td>1</td>\n    </tr>\n    <tr>\n      <th>3</th>\n      <td>1</td>\n      <td>0</td>\n      <td>35.000000</td>\n      <td>S</td>\n      <td>1</td>\n    </tr>\n    <tr>\n      <th>4</th>\n      <td>3</td>\n      <td>1</td>\n      <td>35.000000</td>\n      <td>S</td>\n      <td>0</td>\n    </tr>\n    <tr>\n      <th>...</th>\n      <td>...</td>\n      <td>...</td>\n      <td>...</td>\n      <td>...</td>\n      <td>...</td>\n    </tr>\n    <tr>\n      <th>886</th>\n      <td>2</td>\n      <td>1</td>\n      <td>27.000000</td>\n      <td>S</td>\n      <td>0</td>\n    </tr>\n    <tr>\n      <th>887</th>\n      <td>1</td>\n      <td>0</td>\n      <td>19.000000</td>\n      <td>S</td>\n      <td>1</td>\n    </tr>\n    <tr>\n      <th>888</th>\n      <td>3</td>\n      <td>0</td>\n      <td>29.699118</td>\n      <td>S</td>\n      <td>0</td>\n    </tr>\n    <tr>\n      <th>889</th>\n      <td>1</td>\n      <td>1</td>\n      <td>26.000000</td>\n      <td>C</td>\n      <td>1</td>\n    </tr>\n    <tr>\n      <th>890</th>\n      <td>3</td>\n      <td>1</td>\n      <td>32.000000</td>\n      <td>Q</td>\n      <td>0</td>\n    </tr>\n  </tbody>\n</table>\n<p>891 rows × 5 columns</p>\n</div>"
     },
     "execution_count": 715,
     "metadata": {},
     "output_type": "execute_result"
    }
   ],
   "source": [
    "# Imputer(['Age']).fit_transform(df)\n",
    "# Imputer(['Embarked'], strategy='most_frequent').fit_transform(df)"
   ],
   "metadata": {
    "collapsed": false,
    "ExecuteTime": {
     "end_time": "2023-12-26T05:13:02.547933Z",
     "start_time": "2023-12-26T05:13:02.539134Z"
    }
   },
   "id": "ac00b216f05248db"
  },
  {
   "cell_type": "code",
   "execution_count": 659,
   "outputs": [],
   "source": [
    "from sklearn.base import BaseEstimator, TransformerMixin\n",
    "\n",
    "\n",
    "class FeatureEncode(BaseEstimator, TransformerMixin):\n",
    "    \"\"\"\n",
    "    Example:\n",
    "        feature_encoder = FeatureEncode('Sex', val_replace={'male': 1, 'female': 0})\n",
    "        feature_encoder.fit_transform(df)       \n",
    "    \"\"\"\n",
    "\n",
    "    def __init__(self, column_name, **kwargs):\n",
    "        self.column_name = column_name\n",
    "        self.val_replace = kwargs.get('val_replace', {'male': 1, 'female': 0})\n",
    "\n",
    "    def fit(self, X, y=None):\n",
    "        return self\n",
    "\n",
    "    def transform(self, X):\n",
    "        x_copy = X.copy()\n",
    "        x_copy.loc[:, [self.column_name]] = x_copy[self.column_name].replace(self.val_replace)\n",
    "        return x_copy"
   ],
   "metadata": {
    "collapsed": false,
    "ExecuteTime": {
     "end_time": "2023-12-25T10:17:17.964425Z",
     "start_time": "2023-12-25T10:17:17.961578Z"
    }
   },
   "id": "3310aa45f70155ea"
  },
  {
   "cell_type": "code",
   "execution_count": 805,
   "outputs": [],
   "source": [
    "# df = FeatureEncode('Sex', val_replace={'male': 1, 'female': 0}).fit_transform(df)\n",
    "# df"
   ],
   "metadata": {
    "collapsed": false,
    "ExecuteTime": {
     "end_time": "2023-12-26T05:33:03.752630Z",
     "start_time": "2023-12-26T05:33:03.748563Z"
    }
   },
   "id": "f781bb83b1a800e5"
  },
  {
   "cell_type": "code",
   "execution_count": 806,
   "outputs": [
    {
     "name": "stdout",
     "output_type": "stream",
     "text": [
      "Missing: Embarked\n",
      "False    891\n",
      "Name: count, dtype: int64\n",
      "Value counts: Embarked\n",
      "S    646\n",
      "C    168\n",
      "Q     77\n",
      "Name: count, dtype: int64\n",
      "feature_names:  ['Embarked_C' 'Embarked_Q' 'Embarked_S']\n",
      "feature_matrix:  [[0. 0. 1.]\n",
      " [1. 0. 0.]\n",
      " [0. 0. 1.]\n",
      " ...\n",
      " [0. 0. 1.]\n",
      " [1. 0. 0.]\n",
      " [0. 1. 0.]]\n",
      "matrix.Transposed:  [[0. 1. 0. ... 0. 1. 0.]\n",
      " [0. 0. 0. ... 0. 0. 1.]\n",
      " [1. 0. 1. ... 1. 0. 0.]]\n"
     ]
    },
    {
     "data": {
      "text/plain": "     Pclass Sex        Age  Survived  Embarked_C  Embarked_Q  Embarked_S\n0         3   1  22.000000         0         0.0         0.0         1.0\n1         1   0  38.000000         1         1.0         0.0         0.0\n2         3   0  26.000000         1         0.0         0.0         1.0\n3         1   0  35.000000         1         0.0         0.0         1.0\n4         3   1  35.000000         0         0.0         0.0         1.0\n..      ...  ..        ...       ...         ...         ...         ...\n886       2   1  27.000000         0         0.0         0.0         1.0\n887       1   0  19.000000         1         0.0         0.0         1.0\n888       3   0  29.699118         0         0.0         0.0         1.0\n889       1   1  26.000000         1         1.0         0.0         0.0\n890       3   1  32.000000         0         0.0         1.0         0.0\n\n[891 rows x 7 columns]",
      "text/html": "<div>\n<style scoped>\n    .dataframe tbody tr th:only-of-type {\n        vertical-align: middle;\n    }\n\n    .dataframe tbody tr th {\n        vertical-align: top;\n    }\n\n    .dataframe thead th {\n        text-align: right;\n    }\n</style>\n<table border=\"1\" class=\"dataframe\">\n  <thead>\n    <tr style=\"text-align: right;\">\n      <th></th>\n      <th>Pclass</th>\n      <th>Sex</th>\n      <th>Age</th>\n      <th>Survived</th>\n      <th>Embarked_C</th>\n      <th>Embarked_Q</th>\n      <th>Embarked_S</th>\n    </tr>\n  </thead>\n  <tbody>\n    <tr>\n      <th>0</th>\n      <td>3</td>\n      <td>1</td>\n      <td>22.000000</td>\n      <td>0</td>\n      <td>0.0</td>\n      <td>0.0</td>\n      <td>1.0</td>\n    </tr>\n    <tr>\n      <th>1</th>\n      <td>1</td>\n      <td>0</td>\n      <td>38.000000</td>\n      <td>1</td>\n      <td>1.0</td>\n      <td>0.0</td>\n      <td>0.0</td>\n    </tr>\n    <tr>\n      <th>2</th>\n      <td>3</td>\n      <td>0</td>\n      <td>26.000000</td>\n      <td>1</td>\n      <td>0.0</td>\n      <td>0.0</td>\n      <td>1.0</td>\n    </tr>\n    <tr>\n      <th>3</th>\n      <td>1</td>\n      <td>0</td>\n      <td>35.000000</td>\n      <td>1</td>\n      <td>0.0</td>\n      <td>0.0</td>\n      <td>1.0</td>\n    </tr>\n    <tr>\n      <th>4</th>\n      <td>3</td>\n      <td>1</td>\n      <td>35.000000</td>\n      <td>0</td>\n      <td>0.0</td>\n      <td>0.0</td>\n      <td>1.0</td>\n    </tr>\n    <tr>\n      <th>...</th>\n      <td>...</td>\n      <td>...</td>\n      <td>...</td>\n      <td>...</td>\n      <td>...</td>\n      <td>...</td>\n      <td>...</td>\n    </tr>\n    <tr>\n      <th>886</th>\n      <td>2</td>\n      <td>1</td>\n      <td>27.000000</td>\n      <td>0</td>\n      <td>0.0</td>\n      <td>0.0</td>\n      <td>1.0</td>\n    </tr>\n    <tr>\n      <th>887</th>\n      <td>1</td>\n      <td>0</td>\n      <td>19.000000</td>\n      <td>1</td>\n      <td>0.0</td>\n      <td>0.0</td>\n      <td>1.0</td>\n    </tr>\n    <tr>\n      <th>888</th>\n      <td>3</td>\n      <td>0</td>\n      <td>29.699118</td>\n      <td>0</td>\n      <td>0.0</td>\n      <td>0.0</td>\n      <td>1.0</td>\n    </tr>\n    <tr>\n      <th>889</th>\n      <td>1</td>\n      <td>1</td>\n      <td>26.000000</td>\n      <td>1</td>\n      <td>1.0</td>\n      <td>0.0</td>\n      <td>0.0</td>\n    </tr>\n    <tr>\n      <th>890</th>\n      <td>3</td>\n      <td>1</td>\n      <td>32.000000</td>\n      <td>0</td>\n      <td>0.0</td>\n      <td>1.0</td>\n      <td>0.0</td>\n    </tr>\n  </tbody>\n</table>\n<p>891 rows × 7 columns</p>\n</div>"
     },
     "execution_count": 806,
     "metadata": {},
     "output_type": "execute_result"
    }
   ],
   "source": [
    "# OneHotEncode \n",
    "encoder = OneHotEncoder(sparse_output=False)\n",
    "matrix = encoder.fit_transform(df[['Embarked']])\n",
    "\n",
    "# Retrieve feature names\n",
    "feature_names = encoder.get_feature_names_out(input_features=['Embarked'])\n",
    "dfTemp = pd.concat([df, pd.DataFrame(matrix, columns=feature_names)], axis=1)\n",
    "\n",
    "print(\"Missing:\", df.Embarked.isna().value_counts())\n",
    "print(\"Value counts:\", df.Embarked.value_counts())\n",
    "print(\"feature_names: \", feature_names)\n",
    "print(\"feature_matrix: \", matrix)\n",
    "print(\"matrix.Transposed: \", matrix.T)\n",
    "\n",
    "dfTemp.drop(['Embarked'], axis=1, inplace=True)\n",
    "dfTemp"
   ],
   "metadata": {
    "collapsed": false,
    "ExecuteTime": {
     "end_time": "2023-12-26T05:33:05.479808Z",
     "start_time": "2023-12-26T05:33:05.459500Z"
    }
   },
   "id": "277adc616332a3f4"
  },
  {
   "cell_type": "markdown",
   "source": [],
   "metadata": {
    "collapsed": false
   },
   "id": "589f2af9f71d4e5d"
  },
  {
   "cell_type": "code",
   "execution_count": 808,
   "outputs": [],
   "source": [
    "class Ohe(BaseEstimator, TransformerMixin):\n",
    "    \"\"\"\n",
    "    One-hot encoding\n",
    "    ohe = Ohe(column_name='Embarked', drop_original=True)\n",
    "    ohe.fit_transform(pd.read_csv('./data.csv'))\n",
    "    \"\"\"\n",
    "\n",
    "    def __init__(self, column_name, **kwargs):\n",
    "        self.column_name = column_name\n",
    "        self.drop = kwargs.get('drop', None)  # first\n",
    "        self.drop_original = kwargs.get('drop_original', False)\n",
    "\n",
    "    def fit(self, X, y=None):\n",
    "        return self\n",
    "\n",
    "    def transform(self, X):\n",
    "        x_copy = X.copy()\n",
    "        encoder = OneHotEncoder(sparse_output=False, drop=self.drop)\n",
    "        matrix = encoder.fit_transform(x_copy.loc[:, [self.column_name]])\n",
    "\n",
    "        # # Retrieve feature names\n",
    "        feature_names = encoder.get_feature_names_out(input_features=[self.column_name])\n",
    "        x_copy = pd.concat([df, pd.DataFrame(matrix, columns=feature_names)], axis=1)\n",
    "\n",
    "        if self.drop_original:\n",
    "            x_copy.drop(columns=[self.column_name], inplace=True)\n",
    "        return x_copy"
   ],
   "metadata": {
    "collapsed": false,
    "ExecuteTime": {
     "end_time": "2023-12-26T05:33:18.928448Z",
     "start_time": "2023-12-26T05:33:18.904793Z"
    }
   },
   "id": "82e76d0dfa7bb0b5"
  },
  {
   "cell_type": "code",
   "execution_count": 822,
   "outputs": [
    {
     "ename": "TypeError",
     "evalue": "ColumnSelector() takes no arguments",
     "output_type": "error",
     "traceback": [
      "\u001B[0;31m---------------------------------------------------------------------------\u001B[0m",
      "\u001B[0;31mTypeError\u001B[0m                                 Traceback (most recent call last)",
      "Cell \u001B[0;32mIn[822], line 3\u001B[0m\n\u001B[1;32m      1\u001B[0m \u001B[38;5;66;03m# Ohe('Embarked', drop_original=True).fit_transform(df)\u001B[39;00m\n\u001B[0;32m----> 3\u001B[0m \u001B[43mColumnSelector\u001B[49m\u001B[43m(\u001B[49m\u001B[43m[\u001B[49m\u001B[38;5;124;43m'\u001B[39;49m\u001B[38;5;124;43mPclass\u001B[39;49m\u001B[38;5;124;43m'\u001B[39;49m\u001B[43m,\u001B[49m\u001B[43m \u001B[49m\u001B[38;5;124;43m'\u001B[39;49m\u001B[38;5;124;43mSex\u001B[39;49m\u001B[38;5;124;43m'\u001B[39;49m\u001B[43m,\u001B[49m\u001B[43m \u001B[49m\u001B[38;5;124;43m'\u001B[39;49m\u001B[38;5;124;43mAge\u001B[39;49m\u001B[38;5;124;43m'\u001B[39;49m\u001B[43m,\u001B[49m\u001B[43m \u001B[49m\u001B[38;5;124;43m'\u001B[39;49m\u001B[38;5;124;43mEmbarked\u001B[39;49m\u001B[38;5;124;43m'\u001B[39;49m\u001B[43m,\u001B[49m\u001B[43m \u001B[49m\u001B[38;5;124;43m'\u001B[39;49m\u001B[38;5;124;43mSurvived\u001B[39;49m\u001B[38;5;124;43m'\u001B[39;49m\u001B[43m]\u001B[49m\u001B[43m)\u001B[49m\n",
      "\u001B[0;31mTypeError\u001B[0m: ColumnSelector() takes no arguments"
     ]
    }
   ],
   "source": [
    "# Ohe('Embarked', drop_original=True).fit_transform(df)\n",
    "\n",
    "ColumnSelector(['Pclass', 'Sex', 'Age', 'Embarked', 'Survived'])"
   ],
   "metadata": {
    "collapsed": false,
    "ExecuteTime": {
     "end_time": "2023-12-26T05:34:34.895201Z",
     "start_time": "2023-12-26T05:34:34.890548Z"
    }
   },
   "id": "88c0e68ce35dd664"
  },
  {
   "cell_type": "code",
   "execution_count": 891,
   "outputs": [
    {
     "data": {
      "text/plain": "     Pclass Sex        Age  Survived  Embarked_C  Embarked_Q  Embarked_S\n0         3   1  22.000000         0         0.0         0.0         1.0\n1         1   0  38.000000         1         1.0         0.0         0.0\n2         3   0  26.000000         1         0.0         0.0         1.0\n3         1   0  35.000000         1         0.0         0.0         1.0\n4         3   1  35.000000         0         0.0         0.0         1.0\n..      ...  ..        ...       ...         ...         ...         ...\n886       2   1  27.000000         0         0.0         0.0         1.0\n887       1   0  19.000000         1         0.0         0.0         1.0\n888       3   0  29.699118         0         0.0         0.0         1.0\n889       1   1  26.000000         1         1.0         0.0         0.0\n890       3   1  32.000000         0         0.0         1.0         0.0\n\n[891 rows x 7 columns]",
      "text/html": "<div>\n<style scoped>\n    .dataframe tbody tr th:only-of-type {\n        vertical-align: middle;\n    }\n\n    .dataframe tbody tr th {\n        vertical-align: top;\n    }\n\n    .dataframe thead th {\n        text-align: right;\n    }\n</style>\n<table border=\"1\" class=\"dataframe\">\n  <thead>\n    <tr style=\"text-align: right;\">\n      <th></th>\n      <th>Pclass</th>\n      <th>Sex</th>\n      <th>Age</th>\n      <th>Survived</th>\n      <th>Embarked_C</th>\n      <th>Embarked_Q</th>\n      <th>Embarked_S</th>\n    </tr>\n  </thead>\n  <tbody>\n    <tr>\n      <th>0</th>\n      <td>3</td>\n      <td>1</td>\n      <td>22.000000</td>\n      <td>0</td>\n      <td>0.0</td>\n      <td>0.0</td>\n      <td>1.0</td>\n    </tr>\n    <tr>\n      <th>1</th>\n      <td>1</td>\n      <td>0</td>\n      <td>38.000000</td>\n      <td>1</td>\n      <td>1.0</td>\n      <td>0.0</td>\n      <td>0.0</td>\n    </tr>\n    <tr>\n      <th>2</th>\n      <td>3</td>\n      <td>0</td>\n      <td>26.000000</td>\n      <td>1</td>\n      <td>0.0</td>\n      <td>0.0</td>\n      <td>1.0</td>\n    </tr>\n    <tr>\n      <th>3</th>\n      <td>1</td>\n      <td>0</td>\n      <td>35.000000</td>\n      <td>1</td>\n      <td>0.0</td>\n      <td>0.0</td>\n      <td>1.0</td>\n    </tr>\n    <tr>\n      <th>4</th>\n      <td>3</td>\n      <td>1</td>\n      <td>35.000000</td>\n      <td>0</td>\n      <td>0.0</td>\n      <td>0.0</td>\n      <td>1.0</td>\n    </tr>\n    <tr>\n      <th>...</th>\n      <td>...</td>\n      <td>...</td>\n      <td>...</td>\n      <td>...</td>\n      <td>...</td>\n      <td>...</td>\n      <td>...</td>\n    </tr>\n    <tr>\n      <th>886</th>\n      <td>2</td>\n      <td>1</td>\n      <td>27.000000</td>\n      <td>0</td>\n      <td>0.0</td>\n      <td>0.0</td>\n      <td>1.0</td>\n    </tr>\n    <tr>\n      <th>887</th>\n      <td>1</td>\n      <td>0</td>\n      <td>19.000000</td>\n      <td>1</td>\n      <td>0.0</td>\n      <td>0.0</td>\n      <td>1.0</td>\n    </tr>\n    <tr>\n      <th>888</th>\n      <td>3</td>\n      <td>0</td>\n      <td>29.699118</td>\n      <td>0</td>\n      <td>0.0</td>\n      <td>0.0</td>\n      <td>1.0</td>\n    </tr>\n    <tr>\n      <th>889</th>\n      <td>1</td>\n      <td>1</td>\n      <td>26.000000</td>\n      <td>1</td>\n      <td>1.0</td>\n      <td>0.0</td>\n      <td>0.0</td>\n    </tr>\n    <tr>\n      <th>890</th>\n      <td>3</td>\n      <td>1</td>\n      <td>32.000000</td>\n      <td>0</td>\n      <td>0.0</td>\n      <td>1.0</td>\n      <td>0.0</td>\n    </tr>\n  </tbody>\n</table>\n<p>891 rows × 7 columns</p>\n</div>"
     },
     "execution_count": 891,
     "metadata": {},
     "output_type": "execute_result"
    }
   ],
   "source": [
    "# Pipeline components\n",
    "preprocessor = ColumnTransformer([\n",
    "    ('encoder', OneHotEncoder(sparse_output=False), ['Embarked'])\n",
    "])\n",
    "\n",
    "pipe = Pipeline([\n",
    "    ('col_select', ColumnSelector(['Pclass', 'Sex', 'Age', 'Embarked', 'Survived'])),\n",
    "    ('encode', FeatureEncode('Sex', val_replace={'male': 1, 'female': 0})),\n",
    "    ('imputer_age', Imputer(['Age'])),\n",
    "    ('imputer_emb', Imputer(['Embarked'], strategy='most_frequent')),\n",
    "    ('ohe', Ohe('Embarked', drop_original=True)),\n",
    "    # ('preprocessor', preprocessor)\n",
    "])\n",
    "\n",
    "df1 = pd.read_csv('./data/titanic.csv')\n",
    "pipe.fit_transform(df1)"
   ],
   "metadata": {
    "collapsed": false,
    "ExecuteTime": {
     "end_time": "2023-12-26T05:41:42.815411Z",
     "start_time": "2023-12-26T05:41:42.789875Z"
    }
   },
   "id": "c4090b1f989d2983"
  },
  {
   "cell_type": "code",
   "execution_count": 895,
   "id": "e758e5ddac318b68",
   "metadata": {
    "collapsed": false,
    "ExecuteTime": {
     "end_time": "2023-12-26T05:41:59.585983Z",
     "start_time": "2023-12-26T05:41:59.571586Z"
    }
   },
   "outputs": [
    {
     "name": "stdout",
     "output_type": "stream",
     "text": [
      "<class 'pandas.core.frame.DataFrame'>\n",
      "Index: 179 entries, 709 to 10\n",
      "Data columns (total 4 columns):\n",
      " #   Column    Non-Null Count  Dtype  \n",
      "---  ------    --------------  -----  \n",
      " 0   Pclass    179 non-null    int64  \n",
      " 1   Sex       179 non-null    object \n",
      " 2   Age       179 non-null    float64\n",
      " 3   Embarked  179 non-null    object \n",
      "dtypes: float64(1), int64(1), object(2)\n",
      "memory usage: 7.0+ KB\n"
     ]
    }
   ],
   "source": [
    "from sklearn.model_selection import train_test_split\n",
    "\n",
    "x = df.loc[:, df.columns != 'Survived']\n",
    "y = df.loc[:, ['Survived']]\n",
    "\n",
    "x, y, x_test, y_test = train_test_split(x, y, test_size=0.2, random_state=42)\n",
    "\n",
    "# x.info()\n",
    "y.info()"
   ]
  }
 ],
 "metadata": {
  "kernelspec": {
   "display_name": "Python 3 (ipykernel)",
   "language": "python",
   "name": "python3"
  },
  "language_info": {
   "codemirror_mode": {
    "name": "ipython",
    "version": 3
   },
   "file_extension": ".py",
   "mimetype": "text/x-python",
   "name": "python",
   "nbconvert_exporter": "python",
   "pygments_lexer": "ipython3",
   "version": "3.11.6"
  }
 },
 "nbformat": 4,
 "nbformat_minor": 5
}
