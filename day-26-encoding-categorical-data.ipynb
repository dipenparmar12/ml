{
 "cells": [
  {
   "cell_type": "code",
   "execution_count": 124,
   "id": "initial_id",
   "metadata": {
    "collapsed": true,
    "ExecuteTime": {
     "end_time": "2023-12-13T12:17:58.051570Z",
     "start_time": "2023-12-13T12:17:58.041390Z"
    }
   },
   "outputs": [],
   "source": [
    "import numpy as np  # linear algebra\n",
    "import pandas as pd  # data processing\n",
    "import matplotlib.pyplot as plt\n",
    "import seaborn as sns"
   ]
  },
  {
   "cell_type": "code",
   "execution_count": 125,
   "outputs": [
    {
     "data": {
      "text/plain": "    age  gender   review education purchased\n0    30  Female  Average    School        No\n1    68  Female     Poor        UG        No\n2    70  Female     Good        PG        No\n3    72  Female     Good        PG        No\n4    16  Female  Average        UG        No\n5    31  Female  Average    School       Yes\n6    18    Male     Good    School        No\n7    60  Female     Poor    School       Yes\n8    65  Female  Average        UG        No\n9    74    Male     Good        UG       Yes\n10   98  Female     Good        UG       Yes\n11   74    Male     Good        UG       Yes\n12   51    Male     Poor    School        No\n13   57  Female  Average    School        No\n14   15    Male     Poor        PG       Yes\n15   75    Male     Poor        UG        No\n16   59    Male     Poor        UG       Yes\n17   22  Female     Poor        UG       Yes\n18   19    Male     Good    School        No\n19   97    Male     Poor        PG       Yes\n20   57  Female  Average    School       Yes\n21   32    Male  Average        PG        No\n22   18  Female     Poor        PG       Yes\n23   96  Female     Good    School        No\n24   16  Female  Average        PG       Yes\n25   57  Female     Good    School        No\n26   53  Female     Poor        PG        No\n27   69  Female     Poor        PG        No\n28   48    Male     Poor    School        No\n29   83  Female  Average        UG       Yes\n30   73    Male  Average        UG        No\n31   22  Female     Poor    School       Yes\n32   92    Male  Average        UG       Yes\n33   89  Female     Good        PG       Yes\n34   86    Male  Average    School        No\n35   74    Male     Poor    School       Yes\n36   34  Female     Good        UG       Yes\n37   94    Male  Average        PG       Yes\n38   45  Female     Good    School        No\n39   76    Male     Poor        PG        No\n40   39    Male     Good    School        No\n41   23    Male     Good        PG       Yes\n42   30  Female     Good        PG       Yes\n43   27    Male     Poor        PG        No\n44   77  Female  Average        UG        No\n45   61    Male     Poor        PG       Yes\n46   64  Female     Poor        PG        No\n47   38  Female     Good        PG       Yes\n48   39  Female     Good        UG       Yes\n49   25  Female     Good        UG        No",
      "text/html": "<div>\n<style scoped>\n    .dataframe tbody tr th:only-of-type {\n        vertical-align: middle;\n    }\n\n    .dataframe tbody tr th {\n        vertical-align: top;\n    }\n\n    .dataframe thead th {\n        text-align: right;\n    }\n</style>\n<table border=\"1\" class=\"dataframe\">\n  <thead>\n    <tr style=\"text-align: right;\">\n      <th></th>\n      <th>age</th>\n      <th>gender</th>\n      <th>review</th>\n      <th>education</th>\n      <th>purchased</th>\n    </tr>\n  </thead>\n  <tbody>\n    <tr>\n      <th>0</th>\n      <td>30</td>\n      <td>Female</td>\n      <td>Average</td>\n      <td>School</td>\n      <td>No</td>\n    </tr>\n    <tr>\n      <th>1</th>\n      <td>68</td>\n      <td>Female</td>\n      <td>Poor</td>\n      <td>UG</td>\n      <td>No</td>\n    </tr>\n    <tr>\n      <th>2</th>\n      <td>70</td>\n      <td>Female</td>\n      <td>Good</td>\n      <td>PG</td>\n      <td>No</td>\n    </tr>\n    <tr>\n      <th>3</th>\n      <td>72</td>\n      <td>Female</td>\n      <td>Good</td>\n      <td>PG</td>\n      <td>No</td>\n    </tr>\n    <tr>\n      <th>4</th>\n      <td>16</td>\n      <td>Female</td>\n      <td>Average</td>\n      <td>UG</td>\n      <td>No</td>\n    </tr>\n    <tr>\n      <th>5</th>\n      <td>31</td>\n      <td>Female</td>\n      <td>Average</td>\n      <td>School</td>\n      <td>Yes</td>\n    </tr>\n    <tr>\n      <th>6</th>\n      <td>18</td>\n      <td>Male</td>\n      <td>Good</td>\n      <td>School</td>\n      <td>No</td>\n    </tr>\n    <tr>\n      <th>7</th>\n      <td>60</td>\n      <td>Female</td>\n      <td>Poor</td>\n      <td>School</td>\n      <td>Yes</td>\n    </tr>\n    <tr>\n      <th>8</th>\n      <td>65</td>\n      <td>Female</td>\n      <td>Average</td>\n      <td>UG</td>\n      <td>No</td>\n    </tr>\n    <tr>\n      <th>9</th>\n      <td>74</td>\n      <td>Male</td>\n      <td>Good</td>\n      <td>UG</td>\n      <td>Yes</td>\n    </tr>\n    <tr>\n      <th>10</th>\n      <td>98</td>\n      <td>Female</td>\n      <td>Good</td>\n      <td>UG</td>\n      <td>Yes</td>\n    </tr>\n    <tr>\n      <th>11</th>\n      <td>74</td>\n      <td>Male</td>\n      <td>Good</td>\n      <td>UG</td>\n      <td>Yes</td>\n    </tr>\n    <tr>\n      <th>12</th>\n      <td>51</td>\n      <td>Male</td>\n      <td>Poor</td>\n      <td>School</td>\n      <td>No</td>\n    </tr>\n    <tr>\n      <th>13</th>\n      <td>57</td>\n      <td>Female</td>\n      <td>Average</td>\n      <td>School</td>\n      <td>No</td>\n    </tr>\n    <tr>\n      <th>14</th>\n      <td>15</td>\n      <td>Male</td>\n      <td>Poor</td>\n      <td>PG</td>\n      <td>Yes</td>\n    </tr>\n    <tr>\n      <th>15</th>\n      <td>75</td>\n      <td>Male</td>\n      <td>Poor</td>\n      <td>UG</td>\n      <td>No</td>\n    </tr>\n    <tr>\n      <th>16</th>\n      <td>59</td>\n      <td>Male</td>\n      <td>Poor</td>\n      <td>UG</td>\n      <td>Yes</td>\n    </tr>\n    <tr>\n      <th>17</th>\n      <td>22</td>\n      <td>Female</td>\n      <td>Poor</td>\n      <td>UG</td>\n      <td>Yes</td>\n    </tr>\n    <tr>\n      <th>18</th>\n      <td>19</td>\n      <td>Male</td>\n      <td>Good</td>\n      <td>School</td>\n      <td>No</td>\n    </tr>\n    <tr>\n      <th>19</th>\n      <td>97</td>\n      <td>Male</td>\n      <td>Poor</td>\n      <td>PG</td>\n      <td>Yes</td>\n    </tr>\n    <tr>\n      <th>20</th>\n      <td>57</td>\n      <td>Female</td>\n      <td>Average</td>\n      <td>School</td>\n      <td>Yes</td>\n    </tr>\n    <tr>\n      <th>21</th>\n      <td>32</td>\n      <td>Male</td>\n      <td>Average</td>\n      <td>PG</td>\n      <td>No</td>\n    </tr>\n    <tr>\n      <th>22</th>\n      <td>18</td>\n      <td>Female</td>\n      <td>Poor</td>\n      <td>PG</td>\n      <td>Yes</td>\n    </tr>\n    <tr>\n      <th>23</th>\n      <td>96</td>\n      <td>Female</td>\n      <td>Good</td>\n      <td>School</td>\n      <td>No</td>\n    </tr>\n    <tr>\n      <th>24</th>\n      <td>16</td>\n      <td>Female</td>\n      <td>Average</td>\n      <td>PG</td>\n      <td>Yes</td>\n    </tr>\n    <tr>\n      <th>25</th>\n      <td>57</td>\n      <td>Female</td>\n      <td>Good</td>\n      <td>School</td>\n      <td>No</td>\n    </tr>\n    <tr>\n      <th>26</th>\n      <td>53</td>\n      <td>Female</td>\n      <td>Poor</td>\n      <td>PG</td>\n      <td>No</td>\n    </tr>\n    <tr>\n      <th>27</th>\n      <td>69</td>\n      <td>Female</td>\n      <td>Poor</td>\n      <td>PG</td>\n      <td>No</td>\n    </tr>\n    <tr>\n      <th>28</th>\n      <td>48</td>\n      <td>Male</td>\n      <td>Poor</td>\n      <td>School</td>\n      <td>No</td>\n    </tr>\n    <tr>\n      <th>29</th>\n      <td>83</td>\n      <td>Female</td>\n      <td>Average</td>\n      <td>UG</td>\n      <td>Yes</td>\n    </tr>\n    <tr>\n      <th>30</th>\n      <td>73</td>\n      <td>Male</td>\n      <td>Average</td>\n      <td>UG</td>\n      <td>No</td>\n    </tr>\n    <tr>\n      <th>31</th>\n      <td>22</td>\n      <td>Female</td>\n      <td>Poor</td>\n      <td>School</td>\n      <td>Yes</td>\n    </tr>\n    <tr>\n      <th>32</th>\n      <td>92</td>\n      <td>Male</td>\n      <td>Average</td>\n      <td>UG</td>\n      <td>Yes</td>\n    </tr>\n    <tr>\n      <th>33</th>\n      <td>89</td>\n      <td>Female</td>\n      <td>Good</td>\n      <td>PG</td>\n      <td>Yes</td>\n    </tr>\n    <tr>\n      <th>34</th>\n      <td>86</td>\n      <td>Male</td>\n      <td>Average</td>\n      <td>School</td>\n      <td>No</td>\n    </tr>\n    <tr>\n      <th>35</th>\n      <td>74</td>\n      <td>Male</td>\n      <td>Poor</td>\n      <td>School</td>\n      <td>Yes</td>\n    </tr>\n    <tr>\n      <th>36</th>\n      <td>34</td>\n      <td>Female</td>\n      <td>Good</td>\n      <td>UG</td>\n      <td>Yes</td>\n    </tr>\n    <tr>\n      <th>37</th>\n      <td>94</td>\n      <td>Male</td>\n      <td>Average</td>\n      <td>PG</td>\n      <td>Yes</td>\n    </tr>\n    <tr>\n      <th>38</th>\n      <td>45</td>\n      <td>Female</td>\n      <td>Good</td>\n      <td>School</td>\n      <td>No</td>\n    </tr>\n    <tr>\n      <th>39</th>\n      <td>76</td>\n      <td>Male</td>\n      <td>Poor</td>\n      <td>PG</td>\n      <td>No</td>\n    </tr>\n    <tr>\n      <th>40</th>\n      <td>39</td>\n      <td>Male</td>\n      <td>Good</td>\n      <td>School</td>\n      <td>No</td>\n    </tr>\n    <tr>\n      <th>41</th>\n      <td>23</td>\n      <td>Male</td>\n      <td>Good</td>\n      <td>PG</td>\n      <td>Yes</td>\n    </tr>\n    <tr>\n      <th>42</th>\n      <td>30</td>\n      <td>Female</td>\n      <td>Good</td>\n      <td>PG</td>\n      <td>Yes</td>\n    </tr>\n    <tr>\n      <th>43</th>\n      <td>27</td>\n      <td>Male</td>\n      <td>Poor</td>\n      <td>PG</td>\n      <td>No</td>\n    </tr>\n    <tr>\n      <th>44</th>\n      <td>77</td>\n      <td>Female</td>\n      <td>Average</td>\n      <td>UG</td>\n      <td>No</td>\n    </tr>\n    <tr>\n      <th>45</th>\n      <td>61</td>\n      <td>Male</td>\n      <td>Poor</td>\n      <td>PG</td>\n      <td>Yes</td>\n    </tr>\n    <tr>\n      <th>46</th>\n      <td>64</td>\n      <td>Female</td>\n      <td>Poor</td>\n      <td>PG</td>\n      <td>No</td>\n    </tr>\n    <tr>\n      <th>47</th>\n      <td>38</td>\n      <td>Female</td>\n      <td>Good</td>\n      <td>PG</td>\n      <td>Yes</td>\n    </tr>\n    <tr>\n      <th>48</th>\n      <td>39</td>\n      <td>Female</td>\n      <td>Good</td>\n      <td>UG</td>\n      <td>Yes</td>\n    </tr>\n    <tr>\n      <th>49</th>\n      <td>25</td>\n      <td>Female</td>\n      <td>Good</td>\n      <td>UG</td>\n      <td>No</td>\n    </tr>\n  </tbody>\n</table>\n</div>"
     },
     "execution_count": 125,
     "metadata": {},
     "output_type": "execute_result"
    }
   ],
   "source": [
    "customer_df = pd.read_csv('./day-26-encoding-categorical-data-customer.csv')\n",
    "\n",
    "customer_df"
   ],
   "metadata": {
    "collapsed": false,
    "ExecuteTime": {
     "end_time": "2023-12-13T12:17:58.070565Z",
     "start_time": "2023-12-13T12:17:58.045768Z"
    }
   },
   "id": "21c916875a360e82"
  },
  {
   "cell_type": "code",
   "execution_count": 126,
   "outputs": [
    {
     "data": {
      "text/plain": "     review education purchased\n0   Average    School        No\n1      Poor        UG        No\n2      Good        PG        No\n3      Good        PG        No\n4   Average        UG        No\n5   Average    School       Yes\n6      Good    School        No\n7      Poor    School       Yes\n8   Average        UG        No\n9      Good        UG       Yes\n10     Good        UG       Yes\n11     Good        UG       Yes\n12     Poor    School        No\n13  Average    School        No\n14     Poor        PG       Yes\n15     Poor        UG        No\n16     Poor        UG       Yes\n17     Poor        UG       Yes\n18     Good    School        No\n19     Poor        PG       Yes\n20  Average    School       Yes\n21  Average        PG        No\n22     Poor        PG       Yes\n23     Good    School        No\n24  Average        PG       Yes\n25     Good    School        No\n26     Poor        PG        No\n27     Poor        PG        No\n28     Poor    School        No\n29  Average        UG       Yes\n30  Average        UG        No\n31     Poor    School       Yes\n32  Average        UG       Yes\n33     Good        PG       Yes\n34  Average    School        No\n35     Poor    School       Yes\n36     Good        UG       Yes\n37  Average        PG       Yes\n38     Good    School        No\n39     Poor        PG        No\n40     Good    School        No\n41     Good        PG       Yes\n42     Good        PG       Yes\n43     Poor        PG        No\n44  Average        UG        No\n45     Poor        PG       Yes\n46     Poor        PG        No\n47     Good        PG       Yes\n48     Good        UG       Yes\n49     Good        UG        No",
      "text/html": "<div>\n<style scoped>\n    .dataframe tbody tr th:only-of-type {\n        vertical-align: middle;\n    }\n\n    .dataframe tbody tr th {\n        vertical-align: top;\n    }\n\n    .dataframe thead th {\n        text-align: right;\n    }\n</style>\n<table border=\"1\" class=\"dataframe\">\n  <thead>\n    <tr style=\"text-align: right;\">\n      <th></th>\n      <th>review</th>\n      <th>education</th>\n      <th>purchased</th>\n    </tr>\n  </thead>\n  <tbody>\n    <tr>\n      <th>0</th>\n      <td>Average</td>\n      <td>School</td>\n      <td>No</td>\n    </tr>\n    <tr>\n      <th>1</th>\n      <td>Poor</td>\n      <td>UG</td>\n      <td>No</td>\n    </tr>\n    <tr>\n      <th>2</th>\n      <td>Good</td>\n      <td>PG</td>\n      <td>No</td>\n    </tr>\n    <tr>\n      <th>3</th>\n      <td>Good</td>\n      <td>PG</td>\n      <td>No</td>\n    </tr>\n    <tr>\n      <th>4</th>\n      <td>Average</td>\n      <td>UG</td>\n      <td>No</td>\n    </tr>\n    <tr>\n      <th>5</th>\n      <td>Average</td>\n      <td>School</td>\n      <td>Yes</td>\n    </tr>\n    <tr>\n      <th>6</th>\n      <td>Good</td>\n      <td>School</td>\n      <td>No</td>\n    </tr>\n    <tr>\n      <th>7</th>\n      <td>Poor</td>\n      <td>School</td>\n      <td>Yes</td>\n    </tr>\n    <tr>\n      <th>8</th>\n      <td>Average</td>\n      <td>UG</td>\n      <td>No</td>\n    </tr>\n    <tr>\n      <th>9</th>\n      <td>Good</td>\n      <td>UG</td>\n      <td>Yes</td>\n    </tr>\n    <tr>\n      <th>10</th>\n      <td>Good</td>\n      <td>UG</td>\n      <td>Yes</td>\n    </tr>\n    <tr>\n      <th>11</th>\n      <td>Good</td>\n      <td>UG</td>\n      <td>Yes</td>\n    </tr>\n    <tr>\n      <th>12</th>\n      <td>Poor</td>\n      <td>School</td>\n      <td>No</td>\n    </tr>\n    <tr>\n      <th>13</th>\n      <td>Average</td>\n      <td>School</td>\n      <td>No</td>\n    </tr>\n    <tr>\n      <th>14</th>\n      <td>Poor</td>\n      <td>PG</td>\n      <td>Yes</td>\n    </tr>\n    <tr>\n      <th>15</th>\n      <td>Poor</td>\n      <td>UG</td>\n      <td>No</td>\n    </tr>\n    <tr>\n      <th>16</th>\n      <td>Poor</td>\n      <td>UG</td>\n      <td>Yes</td>\n    </tr>\n    <tr>\n      <th>17</th>\n      <td>Poor</td>\n      <td>UG</td>\n      <td>Yes</td>\n    </tr>\n    <tr>\n      <th>18</th>\n      <td>Good</td>\n      <td>School</td>\n      <td>No</td>\n    </tr>\n    <tr>\n      <th>19</th>\n      <td>Poor</td>\n      <td>PG</td>\n      <td>Yes</td>\n    </tr>\n    <tr>\n      <th>20</th>\n      <td>Average</td>\n      <td>School</td>\n      <td>Yes</td>\n    </tr>\n    <tr>\n      <th>21</th>\n      <td>Average</td>\n      <td>PG</td>\n      <td>No</td>\n    </tr>\n    <tr>\n      <th>22</th>\n      <td>Poor</td>\n      <td>PG</td>\n      <td>Yes</td>\n    </tr>\n    <tr>\n      <th>23</th>\n      <td>Good</td>\n      <td>School</td>\n      <td>No</td>\n    </tr>\n    <tr>\n      <th>24</th>\n      <td>Average</td>\n      <td>PG</td>\n      <td>Yes</td>\n    </tr>\n    <tr>\n      <th>25</th>\n      <td>Good</td>\n      <td>School</td>\n      <td>No</td>\n    </tr>\n    <tr>\n      <th>26</th>\n      <td>Poor</td>\n      <td>PG</td>\n      <td>No</td>\n    </tr>\n    <tr>\n      <th>27</th>\n      <td>Poor</td>\n      <td>PG</td>\n      <td>No</td>\n    </tr>\n    <tr>\n      <th>28</th>\n      <td>Poor</td>\n      <td>School</td>\n      <td>No</td>\n    </tr>\n    <tr>\n      <th>29</th>\n      <td>Average</td>\n      <td>UG</td>\n      <td>Yes</td>\n    </tr>\n    <tr>\n      <th>30</th>\n      <td>Average</td>\n      <td>UG</td>\n      <td>No</td>\n    </tr>\n    <tr>\n      <th>31</th>\n      <td>Poor</td>\n      <td>School</td>\n      <td>Yes</td>\n    </tr>\n    <tr>\n      <th>32</th>\n      <td>Average</td>\n      <td>UG</td>\n      <td>Yes</td>\n    </tr>\n    <tr>\n      <th>33</th>\n      <td>Good</td>\n      <td>PG</td>\n      <td>Yes</td>\n    </tr>\n    <tr>\n      <th>34</th>\n      <td>Average</td>\n      <td>School</td>\n      <td>No</td>\n    </tr>\n    <tr>\n      <th>35</th>\n      <td>Poor</td>\n      <td>School</td>\n      <td>Yes</td>\n    </tr>\n    <tr>\n      <th>36</th>\n      <td>Good</td>\n      <td>UG</td>\n      <td>Yes</td>\n    </tr>\n    <tr>\n      <th>37</th>\n      <td>Average</td>\n      <td>PG</td>\n      <td>Yes</td>\n    </tr>\n    <tr>\n      <th>38</th>\n      <td>Good</td>\n      <td>School</td>\n      <td>No</td>\n    </tr>\n    <tr>\n      <th>39</th>\n      <td>Poor</td>\n      <td>PG</td>\n      <td>No</td>\n    </tr>\n    <tr>\n      <th>40</th>\n      <td>Good</td>\n      <td>School</td>\n      <td>No</td>\n    </tr>\n    <tr>\n      <th>41</th>\n      <td>Good</td>\n      <td>PG</td>\n      <td>Yes</td>\n    </tr>\n    <tr>\n      <th>42</th>\n      <td>Good</td>\n      <td>PG</td>\n      <td>Yes</td>\n    </tr>\n    <tr>\n      <th>43</th>\n      <td>Poor</td>\n      <td>PG</td>\n      <td>No</td>\n    </tr>\n    <tr>\n      <th>44</th>\n      <td>Average</td>\n      <td>UG</td>\n      <td>No</td>\n    </tr>\n    <tr>\n      <th>45</th>\n      <td>Poor</td>\n      <td>PG</td>\n      <td>Yes</td>\n    </tr>\n    <tr>\n      <th>46</th>\n      <td>Poor</td>\n      <td>PG</td>\n      <td>No</td>\n    </tr>\n    <tr>\n      <th>47</th>\n      <td>Good</td>\n      <td>PG</td>\n      <td>Yes</td>\n    </tr>\n    <tr>\n      <th>48</th>\n      <td>Good</td>\n      <td>UG</td>\n      <td>Yes</td>\n    </tr>\n    <tr>\n      <th>49</th>\n      <td>Good</td>\n      <td>UG</td>\n      <td>No</td>\n    </tr>\n  </tbody>\n</table>\n</div>"
     },
     "execution_count": 126,
     "metadata": {},
     "output_type": "execute_result"
    }
   ],
   "source": [
    "df = customer_df.iloc[:, 2:]\n",
    "df"
   ],
   "metadata": {
    "collapsed": false,
    "ExecuteTime": {
     "end_time": "2023-12-13T12:17:58.071314Z",
     "start_time": "2023-12-13T12:17:58.061471Z"
    }
   },
   "id": "a00d8094f41fee13"
  },
  {
   "cell_type": "code",
   "execution_count": 127,
   "outputs": [],
   "source": [
    "from sklearn.model_selection import train_test_split\n",
    "\n",
    "# [review, education]\n",
    "features = df.iloc[:, :2]\n",
    "# [purchased]\n",
    "target = df.iloc[:, -1]\n",
    "\n",
    "X_train, X_test, y_train, y_test = train_test_split(features, target, test_size=0.2)"
   ],
   "metadata": {
    "collapsed": false,
    "ExecuteTime": {
     "end_time": "2023-12-13T12:17:58.071705Z",
     "start_time": "2023-12-13T12:17:58.065344Z"
    }
   },
   "id": "62098980997c110"
  },
  {
   "cell_type": "code",
   "execution_count": 128,
   "outputs": [
    {
     "data": {
      "text/plain": "     review education\n0   Average    School\n49     Good        UG\n43     Poor        PG\n16     Poor        UG\n46     Poor        PG\n2      Good        PG\n19     Poor        PG\n21  Average        PG\n30  Average        UG\n3      Good        PG\n47     Good        PG\n33     Good        PG\n36     Good        UG\n18     Good    School\n7      Poor    School\n31     Poor    School\n38     Good    School\n48     Good        UG\n17     Poor        UG\n20  Average    School\n27     Poor        PG\n6      Good    School\n11     Good        UG\n24  Average        PG\n39     Poor        PG\n9      Good        UG\n8   Average        UG\n22     Poor        PG\n13  Average    School\n34  Average    School\n5   Average    School\n32  Average        UG\n41     Good        PG\n45     Poor        PG\n35     Poor    School\n25     Good    School\n37  Average        PG\n14     Poor        PG\n28     Poor    School\n40     Good    School",
      "text/html": "<div>\n<style scoped>\n    .dataframe tbody tr th:only-of-type {\n        vertical-align: middle;\n    }\n\n    .dataframe tbody tr th {\n        vertical-align: top;\n    }\n\n    .dataframe thead th {\n        text-align: right;\n    }\n</style>\n<table border=\"1\" class=\"dataframe\">\n  <thead>\n    <tr style=\"text-align: right;\">\n      <th></th>\n      <th>review</th>\n      <th>education</th>\n    </tr>\n  </thead>\n  <tbody>\n    <tr>\n      <th>0</th>\n      <td>Average</td>\n      <td>School</td>\n    </tr>\n    <tr>\n      <th>49</th>\n      <td>Good</td>\n      <td>UG</td>\n    </tr>\n    <tr>\n      <th>43</th>\n      <td>Poor</td>\n      <td>PG</td>\n    </tr>\n    <tr>\n      <th>16</th>\n      <td>Poor</td>\n      <td>UG</td>\n    </tr>\n    <tr>\n      <th>46</th>\n      <td>Poor</td>\n      <td>PG</td>\n    </tr>\n    <tr>\n      <th>2</th>\n      <td>Good</td>\n      <td>PG</td>\n    </tr>\n    <tr>\n      <th>19</th>\n      <td>Poor</td>\n      <td>PG</td>\n    </tr>\n    <tr>\n      <th>21</th>\n      <td>Average</td>\n      <td>PG</td>\n    </tr>\n    <tr>\n      <th>30</th>\n      <td>Average</td>\n      <td>UG</td>\n    </tr>\n    <tr>\n      <th>3</th>\n      <td>Good</td>\n      <td>PG</td>\n    </tr>\n    <tr>\n      <th>47</th>\n      <td>Good</td>\n      <td>PG</td>\n    </tr>\n    <tr>\n      <th>33</th>\n      <td>Good</td>\n      <td>PG</td>\n    </tr>\n    <tr>\n      <th>36</th>\n      <td>Good</td>\n      <td>UG</td>\n    </tr>\n    <tr>\n      <th>18</th>\n      <td>Good</td>\n      <td>School</td>\n    </tr>\n    <tr>\n      <th>7</th>\n      <td>Poor</td>\n      <td>School</td>\n    </tr>\n    <tr>\n      <th>31</th>\n      <td>Poor</td>\n      <td>School</td>\n    </tr>\n    <tr>\n      <th>38</th>\n      <td>Good</td>\n      <td>School</td>\n    </tr>\n    <tr>\n      <th>48</th>\n      <td>Good</td>\n      <td>UG</td>\n    </tr>\n    <tr>\n      <th>17</th>\n      <td>Poor</td>\n      <td>UG</td>\n    </tr>\n    <tr>\n      <th>20</th>\n      <td>Average</td>\n      <td>School</td>\n    </tr>\n    <tr>\n      <th>27</th>\n      <td>Poor</td>\n      <td>PG</td>\n    </tr>\n    <tr>\n      <th>6</th>\n      <td>Good</td>\n      <td>School</td>\n    </tr>\n    <tr>\n      <th>11</th>\n      <td>Good</td>\n      <td>UG</td>\n    </tr>\n    <tr>\n      <th>24</th>\n      <td>Average</td>\n      <td>PG</td>\n    </tr>\n    <tr>\n      <th>39</th>\n      <td>Poor</td>\n      <td>PG</td>\n    </tr>\n    <tr>\n      <th>9</th>\n      <td>Good</td>\n      <td>UG</td>\n    </tr>\n    <tr>\n      <th>8</th>\n      <td>Average</td>\n      <td>UG</td>\n    </tr>\n    <tr>\n      <th>22</th>\n      <td>Poor</td>\n      <td>PG</td>\n    </tr>\n    <tr>\n      <th>13</th>\n      <td>Average</td>\n      <td>School</td>\n    </tr>\n    <tr>\n      <th>34</th>\n      <td>Average</td>\n      <td>School</td>\n    </tr>\n    <tr>\n      <th>5</th>\n      <td>Average</td>\n      <td>School</td>\n    </tr>\n    <tr>\n      <th>32</th>\n      <td>Average</td>\n      <td>UG</td>\n    </tr>\n    <tr>\n      <th>41</th>\n      <td>Good</td>\n      <td>PG</td>\n    </tr>\n    <tr>\n      <th>45</th>\n      <td>Poor</td>\n      <td>PG</td>\n    </tr>\n    <tr>\n      <th>35</th>\n      <td>Poor</td>\n      <td>School</td>\n    </tr>\n    <tr>\n      <th>25</th>\n      <td>Good</td>\n      <td>School</td>\n    </tr>\n    <tr>\n      <th>37</th>\n      <td>Average</td>\n      <td>PG</td>\n    </tr>\n    <tr>\n      <th>14</th>\n      <td>Poor</td>\n      <td>PG</td>\n    </tr>\n    <tr>\n      <th>28</th>\n      <td>Poor</td>\n      <td>School</td>\n    </tr>\n    <tr>\n      <th>40</th>\n      <td>Good</td>\n      <td>School</td>\n    </tr>\n  </tbody>\n</table>\n</div>"
     },
     "execution_count": 128,
     "metadata": {},
     "output_type": "execute_result"
    }
   ],
   "source": [
    "X_train"
   ],
   "metadata": {
    "collapsed": false,
    "ExecuteTime": {
     "end_time": "2023-12-13T12:17:58.081995Z",
     "start_time": "2023-12-13T12:17:58.075636Z"
    }
   },
   "id": "bf783aea85bec5c4"
  },
  {
   "cell_type": "code",
   "execution_count": 129,
   "outputs": [
    {
     "data": {
      "text/plain": "0      No\n49     No\n43     No\n16    Yes\n46     No\n2      No\n19    Yes\n21     No\n30     No\n3      No\n47    Yes\n33    Yes\n36    Yes\n18     No\n7     Yes\n31    Yes\n38     No\n48    Yes\n17    Yes\n20    Yes\n27     No\n6      No\n11    Yes\n24    Yes\n39     No\n9     Yes\n8      No\n22    Yes\n13     No\n34     No\n5     Yes\n32    Yes\n41    Yes\n45    Yes\n35    Yes\n25     No\n37    Yes\n14    Yes\n28     No\n40     No\nName: purchased, dtype: object"
     },
     "execution_count": 129,
     "metadata": {},
     "output_type": "execute_result"
    }
   ],
   "source": [
    "y_train"
   ],
   "metadata": {
    "collapsed": false,
    "ExecuteTime": {
     "end_time": "2023-12-13T12:17:58.082613Z",
     "start_time": "2023-12-13T12:17:58.080Z"
    }
   },
   "id": "cd8ffe4b2e965a4f"
  },
  {
   "cell_type": "code",
   "execution_count": 130,
   "outputs": [
    {
     "data": {
      "text/plain": "OrdinalEncoder(categories=[['Poor', 'Average', 'Good'], ['School', 'UG', 'PG']])",
      "text/html": "<style>#sk-container-id-10 {color: black;}#sk-container-id-10 pre{padding: 0;}#sk-container-id-10 div.sk-toggleable {background-color: white;}#sk-container-id-10 label.sk-toggleable__label {cursor: pointer;display: block;width: 100%;margin-bottom: 0;padding: 0.3em;box-sizing: border-box;text-align: center;}#sk-container-id-10 label.sk-toggleable__label-arrow:before {content: \"▸\";float: left;margin-right: 0.25em;color: #696969;}#sk-container-id-10 label.sk-toggleable__label-arrow:hover:before {color: black;}#sk-container-id-10 div.sk-estimator:hover label.sk-toggleable__label-arrow:before {color: black;}#sk-container-id-10 div.sk-toggleable__content {max-height: 0;max-width: 0;overflow: hidden;text-align: left;background-color: #f0f8ff;}#sk-container-id-10 div.sk-toggleable__content pre {margin: 0.2em;color: black;border-radius: 0.25em;background-color: #f0f8ff;}#sk-container-id-10 input.sk-toggleable__control:checked~div.sk-toggleable__content {max-height: 200px;max-width: 100%;overflow: auto;}#sk-container-id-10 input.sk-toggleable__control:checked~label.sk-toggleable__label-arrow:before {content: \"▾\";}#sk-container-id-10 div.sk-estimator input.sk-toggleable__control:checked~label.sk-toggleable__label {background-color: #d4ebff;}#sk-container-id-10 div.sk-label input.sk-toggleable__control:checked~label.sk-toggleable__label {background-color: #d4ebff;}#sk-container-id-10 input.sk-hidden--visually {border: 0;clip: rect(1px 1px 1px 1px);clip: rect(1px, 1px, 1px, 1px);height: 1px;margin: -1px;overflow: hidden;padding: 0;position: absolute;width: 1px;}#sk-container-id-10 div.sk-estimator {font-family: monospace;background-color: #f0f8ff;border: 1px dotted black;border-radius: 0.25em;box-sizing: border-box;margin-bottom: 0.5em;}#sk-container-id-10 div.sk-estimator:hover {background-color: #d4ebff;}#sk-container-id-10 div.sk-parallel-item::after {content: \"\";width: 100%;border-bottom: 1px solid gray;flex-grow: 1;}#sk-container-id-10 div.sk-label:hover label.sk-toggleable__label {background-color: #d4ebff;}#sk-container-id-10 div.sk-serial::before {content: \"\";position: absolute;border-left: 1px solid gray;box-sizing: border-box;top: 0;bottom: 0;left: 50%;z-index: 0;}#sk-container-id-10 div.sk-serial {display: flex;flex-direction: column;align-items: center;background-color: white;padding-right: 0.2em;padding-left: 0.2em;position: relative;}#sk-container-id-10 div.sk-item {position: relative;z-index: 1;}#sk-container-id-10 div.sk-parallel {display: flex;align-items: stretch;justify-content: center;background-color: white;position: relative;}#sk-container-id-10 div.sk-item::before, #sk-container-id-10 div.sk-parallel-item::before {content: \"\";position: absolute;border-left: 1px solid gray;box-sizing: border-box;top: 0;bottom: 0;left: 50%;z-index: -1;}#sk-container-id-10 div.sk-parallel-item {display: flex;flex-direction: column;z-index: 1;position: relative;background-color: white;}#sk-container-id-10 div.sk-parallel-item:first-child::after {align-self: flex-end;width: 50%;}#sk-container-id-10 div.sk-parallel-item:last-child::after {align-self: flex-start;width: 50%;}#sk-container-id-10 div.sk-parallel-item:only-child::after {width: 0;}#sk-container-id-10 div.sk-dashed-wrapped {border: 1px dashed gray;margin: 0 0.4em 0.5em 0.4em;box-sizing: border-box;padding-bottom: 0.4em;background-color: white;}#sk-container-id-10 div.sk-label label {font-family: monospace;font-weight: bold;display: inline-block;line-height: 1.2em;}#sk-container-id-10 div.sk-label-container {text-align: center;}#sk-container-id-10 div.sk-container {/* jupyter's `normalize.less` sets `[hidden] { display: none; }` but bootstrap.min.css set `[hidden] { display: none !important; }` so we also need the `!important` here to be able to override the default hidden behavior on the sphinx rendered scikit-learn.org. See: https://github.com/scikit-learn/scikit-learn/issues/21755 */display: inline-block !important;position: relative;}#sk-container-id-10 div.sk-text-repr-fallback {display: none;}</style><div id=\"sk-container-id-10\" class=\"sk-top-container\"><div class=\"sk-text-repr-fallback\"><pre>OrdinalEncoder(categories=[[&#x27;Poor&#x27;, &#x27;Average&#x27;, &#x27;Good&#x27;], [&#x27;School&#x27;, &#x27;UG&#x27;, &#x27;PG&#x27;]])</pre><b>In a Jupyter environment, please rerun this cell to show the HTML representation or trust the notebook. <br />On GitHub, the HTML representation is unable to render, please try loading this page with nbviewer.org.</b></div><div class=\"sk-container\" hidden><div class=\"sk-item\"><div class=\"sk-estimator sk-toggleable\"><input class=\"sk-toggleable__control sk-hidden--visually\" id=\"sk-estimator-id-10\" type=\"checkbox\" checked><label for=\"sk-estimator-id-10\" class=\"sk-toggleable__label sk-toggleable__label-arrow\">OrdinalEncoder</label><div class=\"sk-toggleable__content\"><pre>OrdinalEncoder(categories=[[&#x27;Poor&#x27;, &#x27;Average&#x27;, &#x27;Good&#x27;], [&#x27;School&#x27;, &#x27;UG&#x27;, &#x27;PG&#x27;]])</pre></div></div></div></div></div>"
     },
     "execution_count": 130,
     "metadata": {},
     "output_type": "execute_result"
    }
   ],
   "source": [
    "from sklearn.preprocessing import OrdinalEncoder\n",
    "encoder = OrdinalEncoder(categories=[['Poor','Average','Good'],['School','UG','PG']])\n",
    "\n",
    "encoder.fit(X_train)"
   ],
   "metadata": {
    "collapsed": false,
    "ExecuteTime": {
     "end_time": "2023-12-13T12:17:58.091740Z",
     "start_time": "2023-12-13T12:17:58.084521Z"
    }
   },
   "id": "fa751da70d5db631"
  },
  {
   "cell_type": "code",
   "execution_count": 131,
   "outputs": [
    {
     "data": {
      "text/plain": "array([[1., 0.],\n       [2., 1.],\n       [0., 2.],\n       [0., 1.],\n       [0., 2.],\n       [2., 2.],\n       [0., 2.],\n       [1., 2.],\n       [1., 1.],\n       [2., 2.],\n       [2., 2.],\n       [2., 2.],\n       [2., 1.],\n       [2., 0.],\n       [0., 0.],\n       [0., 0.],\n       [2., 0.],\n       [2., 1.],\n       [0., 1.],\n       [1., 0.],\n       [0., 2.],\n       [2., 0.],\n       [2., 1.],\n       [1., 2.],\n       [0., 2.],\n       [2., 1.],\n       [1., 1.],\n       [0., 2.],\n       [1., 0.],\n       [1., 0.],\n       [1., 0.],\n       [1., 1.],\n       [2., 2.],\n       [0., 2.],\n       [0., 0.],\n       [2., 0.],\n       [1., 2.],\n       [0., 2.],\n       [0., 0.],\n       [2., 0.]])"
     },
     "execution_count": 131,
     "metadata": {},
     "output_type": "execute_result"
    }
   ],
   "source": [
    "X_train_encoded = encoder.transform(X_train)\n",
    "X_train_encoded"
   ],
   "metadata": {
    "collapsed": false,
    "ExecuteTime": {
     "end_time": "2023-12-13T12:17:58.105412Z",
     "start_time": "2023-12-13T12:17:58.088754Z"
    }
   },
   "id": "22de1710f961a9c"
  },
  {
   "cell_type": "code",
   "execution_count": 132,
   "outputs": [
    {
     "data": {
      "text/plain": "[array(['Poor', 'Average', 'Good'], dtype=object),\n array(['School', 'UG', 'PG'], dtype=object)]"
     },
     "execution_count": 132,
     "metadata": {},
     "output_type": "execute_result"
    }
   ],
   "source": [
    "encoder.categories_"
   ],
   "metadata": {
    "collapsed": false,
    "ExecuteTime": {
     "end_time": "2023-12-13T12:17:58.105939Z",
     "start_time": "2023-12-13T12:17:58.091923Z"
    }
   },
   "id": "7ee3f979b461ff22"
  },
  {
   "cell_type": "code",
   "execution_count": 133,
   "outputs": [
    {
     "data": {
      "text/plain": "LabelEncoder()",
      "text/html": "<style>#sk-container-id-11 {color: black;}#sk-container-id-11 pre{padding: 0;}#sk-container-id-11 div.sk-toggleable {background-color: white;}#sk-container-id-11 label.sk-toggleable__label {cursor: pointer;display: block;width: 100%;margin-bottom: 0;padding: 0.3em;box-sizing: border-box;text-align: center;}#sk-container-id-11 label.sk-toggleable__label-arrow:before {content: \"▸\";float: left;margin-right: 0.25em;color: #696969;}#sk-container-id-11 label.sk-toggleable__label-arrow:hover:before {color: black;}#sk-container-id-11 div.sk-estimator:hover label.sk-toggleable__label-arrow:before {color: black;}#sk-container-id-11 div.sk-toggleable__content {max-height: 0;max-width: 0;overflow: hidden;text-align: left;background-color: #f0f8ff;}#sk-container-id-11 div.sk-toggleable__content pre {margin: 0.2em;color: black;border-radius: 0.25em;background-color: #f0f8ff;}#sk-container-id-11 input.sk-toggleable__control:checked~div.sk-toggleable__content {max-height: 200px;max-width: 100%;overflow: auto;}#sk-container-id-11 input.sk-toggleable__control:checked~label.sk-toggleable__label-arrow:before {content: \"▾\";}#sk-container-id-11 div.sk-estimator input.sk-toggleable__control:checked~label.sk-toggleable__label {background-color: #d4ebff;}#sk-container-id-11 div.sk-label input.sk-toggleable__control:checked~label.sk-toggleable__label {background-color: #d4ebff;}#sk-container-id-11 input.sk-hidden--visually {border: 0;clip: rect(1px 1px 1px 1px);clip: rect(1px, 1px, 1px, 1px);height: 1px;margin: -1px;overflow: hidden;padding: 0;position: absolute;width: 1px;}#sk-container-id-11 div.sk-estimator {font-family: monospace;background-color: #f0f8ff;border: 1px dotted black;border-radius: 0.25em;box-sizing: border-box;margin-bottom: 0.5em;}#sk-container-id-11 div.sk-estimator:hover {background-color: #d4ebff;}#sk-container-id-11 div.sk-parallel-item::after {content: \"\";width: 100%;border-bottom: 1px solid gray;flex-grow: 1;}#sk-container-id-11 div.sk-label:hover label.sk-toggleable__label {background-color: #d4ebff;}#sk-container-id-11 div.sk-serial::before {content: \"\";position: absolute;border-left: 1px solid gray;box-sizing: border-box;top: 0;bottom: 0;left: 50%;z-index: 0;}#sk-container-id-11 div.sk-serial {display: flex;flex-direction: column;align-items: center;background-color: white;padding-right: 0.2em;padding-left: 0.2em;position: relative;}#sk-container-id-11 div.sk-item {position: relative;z-index: 1;}#sk-container-id-11 div.sk-parallel {display: flex;align-items: stretch;justify-content: center;background-color: white;position: relative;}#sk-container-id-11 div.sk-item::before, #sk-container-id-11 div.sk-parallel-item::before {content: \"\";position: absolute;border-left: 1px solid gray;box-sizing: border-box;top: 0;bottom: 0;left: 50%;z-index: -1;}#sk-container-id-11 div.sk-parallel-item {display: flex;flex-direction: column;z-index: 1;position: relative;background-color: white;}#sk-container-id-11 div.sk-parallel-item:first-child::after {align-self: flex-end;width: 50%;}#sk-container-id-11 div.sk-parallel-item:last-child::after {align-self: flex-start;width: 50%;}#sk-container-id-11 div.sk-parallel-item:only-child::after {width: 0;}#sk-container-id-11 div.sk-dashed-wrapped {border: 1px dashed gray;margin: 0 0.4em 0.5em 0.4em;box-sizing: border-box;padding-bottom: 0.4em;background-color: white;}#sk-container-id-11 div.sk-label label {font-family: monospace;font-weight: bold;display: inline-block;line-height: 1.2em;}#sk-container-id-11 div.sk-label-container {text-align: center;}#sk-container-id-11 div.sk-container {/* jupyter's `normalize.less` sets `[hidden] { display: none; }` but bootstrap.min.css set `[hidden] { display: none !important; }` so we also need the `!important` here to be able to override the default hidden behavior on the sphinx rendered scikit-learn.org. See: https://github.com/scikit-learn/scikit-learn/issues/21755 */display: inline-block !important;position: relative;}#sk-container-id-11 div.sk-text-repr-fallback {display: none;}</style><div id=\"sk-container-id-11\" class=\"sk-top-container\"><div class=\"sk-text-repr-fallback\"><pre>LabelEncoder()</pre><b>In a Jupyter environment, please rerun this cell to show the HTML representation or trust the notebook. <br />On GitHub, the HTML representation is unable to render, please try loading this page with nbviewer.org.</b></div><div class=\"sk-container\" hidden><div class=\"sk-item\"><div class=\"sk-estimator sk-toggleable\"><input class=\"sk-toggleable__control sk-hidden--visually\" id=\"sk-estimator-id-11\" type=\"checkbox\" checked><label for=\"sk-estimator-id-11\" class=\"sk-toggleable__label sk-toggleable__label-arrow\">LabelEncoder</label><div class=\"sk-toggleable__content\"><pre>LabelEncoder()</pre></div></div></div></div></div>"
     },
     "execution_count": 133,
     "metadata": {},
     "output_type": "execute_result"
    }
   ],
   "source": [
    "from sklearn.preprocessing import LabelEncoder\n",
    "label_encoder = LabelEncoder()\n",
    "label_encoder.fit(y_train)"
   ],
   "metadata": {
    "collapsed": false,
    "ExecuteTime": {
     "end_time": "2023-12-13T12:17:58.120710Z",
     "start_time": "2023-12-13T12:17:58.095364Z"
    }
   },
   "id": "5c53332d58511e5a"
  },
  {
   "cell_type": "code",
   "execution_count": 134,
   "outputs": [
    {
     "data": {
      "text/plain": "array(['No', 'Yes'], dtype=object)"
     },
     "execution_count": 134,
     "metadata": {},
     "output_type": "execute_result"
    }
   ],
   "source": [
    "label_encoder.classes_"
   ],
   "metadata": {
    "collapsed": false,
    "ExecuteTime": {
     "end_time": "2023-12-13T12:17:58.120860Z",
     "start_time": "2023-12-13T12:17:58.098705Z"
    }
   },
   "id": "54aac0b9a7dc3a90"
  },
  {
   "cell_type": "code",
   "execution_count": 135,
   "outputs": [
    {
     "data": {
      "text/plain": "array([0, 0, 0, 1, 0, 0, 1, 0, 0, 0, 1, 1, 1, 0, 1, 1, 0, 1, 1, 1, 0, 0,\n       1, 1, 0, 1, 0, 1, 0, 0, 1, 1, 1, 1, 1, 0, 1, 1, 0, 0])"
     },
     "execution_count": 135,
     "metadata": {},
     "output_type": "execute_result"
    }
   ],
   "source": [
    "y_train_encoded = label_encoder.transform(y_train)\n",
    "y_test_encoded = label_encoder.transform(y_test)\n",
    "\n",
    "y_train_encoded"
   ],
   "metadata": {
    "collapsed": false,
    "ExecuteTime": {
     "end_time": "2023-12-13T12:17:58.120959Z",
     "start_time": "2023-12-13T12:17:58.102124Z"
    }
   },
   "id": "4e88e575dc0ec4f2"
  }
 ],
 "metadata": {
  "kernelspec": {
   "display_name": "Python 3",
   "language": "python",
   "name": "python3"
  },
  "language_info": {
   "codemirror_mode": {
    "name": "ipython",
    "version": 2
   },
   "file_extension": ".py",
   "mimetype": "text/x-python",
   "name": "python",
   "nbconvert_exporter": "python",
   "pygments_lexer": "ipython2",
   "version": "2.7.6"
  }
 },
 "nbformat": 4,
 "nbformat_minor": 5
}
