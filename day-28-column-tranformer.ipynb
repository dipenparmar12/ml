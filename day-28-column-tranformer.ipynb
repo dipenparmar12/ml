{
 "cells": [
  {
   "cell_type": "code",
   "execution_count": 88,
   "outputs": [],
   "source": [
    "import numpy as np  # linear algebra\n",
    "from sklearn.compose import ColumnTransformer\n",
    "\n",
    "import pandas as pd  # data processing\n",
    "import matplotlib.pyplot as plt\n",
    "import seaborn as sns"
   ],
   "metadata": {
    "collapsed": false,
    "ExecuteTime": {
     "end_time": "2023-12-22T12:01:39.953940Z",
     "start_time": "2023-12-22T12:01:39.927326Z"
    }
   },
   "id": "6044e373f6cc739c"
  },
  {
   "cell_type": "code",
   "execution_count": 89,
   "outputs": [
    {
     "data": {
      "text/plain": "    age  gender  fever   cough       city has_covid\n0    60    Male  103.0    Mild    Kolkata        No\n1    27    Male  100.0    Mild      Delhi       Yes\n2    42    Male  101.0    Mild      Delhi        No\n3    31  Female   98.0    Mild    Kolkata        No\n4    65  Female  101.0    Mild     Mumbai        No\n..  ...     ...    ...     ...        ...       ...\n95   12  Female  104.0    Mild  Bangalore        No\n96   51  Female  101.0  Strong    Kolkata       Yes\n97   20  Female  101.0    Mild  Bangalore        No\n98    5  Female   98.0  Strong     Mumbai        No\n99   10  Female   98.0  Strong    Kolkata       Yes\n\n[100 rows x 6 columns]",
      "text/html": "<div>\n<style scoped>\n    .dataframe tbody tr th:only-of-type {\n        vertical-align: middle;\n    }\n\n    .dataframe tbody tr th {\n        vertical-align: top;\n    }\n\n    .dataframe thead th {\n        text-align: right;\n    }\n</style>\n<table border=\"1\" class=\"dataframe\">\n  <thead>\n    <tr style=\"text-align: right;\">\n      <th></th>\n      <th>age</th>\n      <th>gender</th>\n      <th>fever</th>\n      <th>cough</th>\n      <th>city</th>\n      <th>has_covid</th>\n    </tr>\n  </thead>\n  <tbody>\n    <tr>\n      <th>0</th>\n      <td>60</td>\n      <td>Male</td>\n      <td>103.0</td>\n      <td>Mild</td>\n      <td>Kolkata</td>\n      <td>No</td>\n    </tr>\n    <tr>\n      <th>1</th>\n      <td>27</td>\n      <td>Male</td>\n      <td>100.0</td>\n      <td>Mild</td>\n      <td>Delhi</td>\n      <td>Yes</td>\n    </tr>\n    <tr>\n      <th>2</th>\n      <td>42</td>\n      <td>Male</td>\n      <td>101.0</td>\n      <td>Mild</td>\n      <td>Delhi</td>\n      <td>No</td>\n    </tr>\n    <tr>\n      <th>3</th>\n      <td>31</td>\n      <td>Female</td>\n      <td>98.0</td>\n      <td>Mild</td>\n      <td>Kolkata</td>\n      <td>No</td>\n    </tr>\n    <tr>\n      <th>4</th>\n      <td>65</td>\n      <td>Female</td>\n      <td>101.0</td>\n      <td>Mild</td>\n      <td>Mumbai</td>\n      <td>No</td>\n    </tr>\n    <tr>\n      <th>...</th>\n      <td>...</td>\n      <td>...</td>\n      <td>...</td>\n      <td>...</td>\n      <td>...</td>\n      <td>...</td>\n    </tr>\n    <tr>\n      <th>95</th>\n      <td>12</td>\n      <td>Female</td>\n      <td>104.0</td>\n      <td>Mild</td>\n      <td>Bangalore</td>\n      <td>No</td>\n    </tr>\n    <tr>\n      <th>96</th>\n      <td>51</td>\n      <td>Female</td>\n      <td>101.0</td>\n      <td>Strong</td>\n      <td>Kolkata</td>\n      <td>Yes</td>\n    </tr>\n    <tr>\n      <th>97</th>\n      <td>20</td>\n      <td>Female</td>\n      <td>101.0</td>\n      <td>Mild</td>\n      <td>Bangalore</td>\n      <td>No</td>\n    </tr>\n    <tr>\n      <th>98</th>\n      <td>5</td>\n      <td>Female</td>\n      <td>98.0</td>\n      <td>Strong</td>\n      <td>Mumbai</td>\n      <td>No</td>\n    </tr>\n    <tr>\n      <th>99</th>\n      <td>10</td>\n      <td>Female</td>\n      <td>98.0</td>\n      <td>Strong</td>\n      <td>Kolkata</td>\n      <td>Yes</td>\n    </tr>\n  </tbody>\n</table>\n<p>100 rows × 6 columns</p>\n</div>"
     },
     "execution_count": 89,
     "metadata": {},
     "output_type": "execute_result"
    }
   ],
   "source": [
    "df = pd.read_csv('./reference/100_day_ml_source_code/day28-column-transformer/covid_toy.csv')\n",
    "df"
   ],
   "metadata": {
    "collapsed": false,
    "ExecuteTime": {
     "end_time": "2023-12-22T12:01:39.954473Z",
     "start_time": "2023-12-22T12:01:39.931688Z"
    }
   },
   "id": "54786dbdbed56eb5"
  },
  {
   "cell_type": "code",
   "execution_count": 90,
   "outputs": [],
   "source": [
    "from sklearn.impute import SimpleImputer\n",
    "from sklearn.preprocessing import StandardScaler\n",
    "from sklearn.preprocessing import OrdinalEncoder\n",
    "# \n",
    "from sklearn.compose import ColumnTransformer"
   ],
   "metadata": {
    "collapsed": false,
    "ExecuteTime": {
     "end_time": "2023-12-22T12:01:39.954610Z",
     "start_time": "2023-12-22T12:01:39.941779Z"
    }
   },
   "id": "9f8c57b539d63cf"
  },
  {
   "cell_type": "markdown",
   "source": [
    "SimpleImputer : fever\n",
    "StandardScaler : age\n",
    "OrdinalEncoder : cough"
   ],
   "metadata": {
    "collapsed": false
   },
   "id": "8ee91d5afe84e981"
  },
  {
   "cell_type": "code",
   "execution_count": 91,
   "outputs": [
    {
     "data": {
      "text/plain": "    fever\n0   103.0\n1   100.0\n2   101.0\n3    98.0\n4   101.0\n..    ...\n95  104.0\n96  101.0\n97  101.0\n98   98.0\n99   98.0\n\n[100 rows x 1 columns]",
      "text/html": "<div>\n<style scoped>\n    .dataframe tbody tr th:only-of-type {\n        vertical-align: middle;\n    }\n\n    .dataframe tbody tr th {\n        vertical-align: top;\n    }\n\n    .dataframe thead th {\n        text-align: right;\n    }\n</style>\n<table border=\"1\" class=\"dataframe\">\n  <thead>\n    <tr style=\"text-align: right;\">\n      <th></th>\n      <th>fever</th>\n    </tr>\n  </thead>\n  <tbody>\n    <tr>\n      <th>0</th>\n      <td>103.0</td>\n    </tr>\n    <tr>\n      <th>1</th>\n      <td>100.0</td>\n    </tr>\n    <tr>\n      <th>2</th>\n      <td>101.0</td>\n    </tr>\n    <tr>\n      <th>3</th>\n      <td>98.0</td>\n    </tr>\n    <tr>\n      <th>4</th>\n      <td>101.0</td>\n    </tr>\n    <tr>\n      <th>...</th>\n      <td>...</td>\n    </tr>\n    <tr>\n      <th>95</th>\n      <td>104.0</td>\n    </tr>\n    <tr>\n      <th>96</th>\n      <td>101.0</td>\n    </tr>\n    <tr>\n      <th>97</th>\n      <td>101.0</td>\n    </tr>\n    <tr>\n      <th>98</th>\n      <td>98.0</td>\n    </tr>\n    <tr>\n      <th>99</th>\n      <td>98.0</td>\n    </tr>\n  </tbody>\n</table>\n<p>100 rows × 1 columns</p>\n</div>"
     },
     "execution_count": 91,
     "metadata": {},
     "output_type": "execute_result"
    }
   ],
   "source": [
    "## Fill Missing values \n",
    "imp_mean = SimpleImputer(missing_values=np.nan, strategy='mean')\n",
    "df[['fever']] = imp_mean.fit_transform(df[['fever']])\n",
    "df[['fever']]"
   ],
   "metadata": {
    "collapsed": false,
    "ExecuteTime": {
     "end_time": "2023-12-22T12:01:39.954848Z",
     "start_time": "2023-12-22T12:01:39.944285Z"
    }
   },
   "id": "d9a902690f2d2752"
  },
  {
   "cell_type": "code",
   "execution_count": 92,
   "outputs": [
    {
     "data": {
      "text/plain": "0     0.637467\n1    -0.695639\n2    -0.089682\n3    -0.534050\n4     0.839453\n        ...   \n95   -1.301596\n96    0.273893\n97   -0.978419\n98   -1.584376\n99   -1.382390\nName: age, Length: 100, dtype: float64"
     },
     "execution_count": 92,
     "metadata": {},
     "output_type": "execute_result"
    }
   ],
   "source": [
    "scaler = StandardScaler()\n",
    "df[['age']] = scaler.fit_transform(df[['age']])\n",
    "df['age']"
   ],
   "metadata": {
    "collapsed": false,
    "ExecuteTime": {
     "end_time": "2023-12-22T12:01:39.960143Z",
     "start_time": "2023-12-22T12:01:39.956465Z"
    }
   },
   "id": "8b7cfcaf8e01e587"
  },
  {
   "cell_type": "code",
   "execution_count": 93,
   "outputs": [
    {
     "data": {
      "text/plain": "     cough  cough_encoded\n0     Mild            0.0\n1     Mild            0.0\n2     Mild            0.0\n3     Mild            0.0\n4     Mild            0.0\n..     ...            ...\n95    Mild            0.0\n96  Strong            1.0\n97    Mild            0.0\n98  Strong            1.0\n99  Strong            1.0\n\n[100 rows x 2 columns]",
      "text/html": "<div>\n<style scoped>\n    .dataframe tbody tr th:only-of-type {\n        vertical-align: middle;\n    }\n\n    .dataframe tbody tr th {\n        vertical-align: top;\n    }\n\n    .dataframe thead th {\n        text-align: right;\n    }\n</style>\n<table border=\"1\" class=\"dataframe\">\n  <thead>\n    <tr style=\"text-align: right;\">\n      <th></th>\n      <th>cough</th>\n      <th>cough_encoded</th>\n    </tr>\n  </thead>\n  <tbody>\n    <tr>\n      <th>0</th>\n      <td>Mild</td>\n      <td>0.0</td>\n    </tr>\n    <tr>\n      <th>1</th>\n      <td>Mild</td>\n      <td>0.0</td>\n    </tr>\n    <tr>\n      <th>2</th>\n      <td>Mild</td>\n      <td>0.0</td>\n    </tr>\n    <tr>\n      <th>3</th>\n      <td>Mild</td>\n      <td>0.0</td>\n    </tr>\n    <tr>\n      <th>4</th>\n      <td>Mild</td>\n      <td>0.0</td>\n    </tr>\n    <tr>\n      <th>...</th>\n      <td>...</td>\n      <td>...</td>\n    </tr>\n    <tr>\n      <th>95</th>\n      <td>Mild</td>\n      <td>0.0</td>\n    </tr>\n    <tr>\n      <th>96</th>\n      <td>Strong</td>\n      <td>1.0</td>\n    </tr>\n    <tr>\n      <th>97</th>\n      <td>Mild</td>\n      <td>0.0</td>\n    </tr>\n    <tr>\n      <th>98</th>\n      <td>Strong</td>\n      <td>1.0</td>\n    </tr>\n    <tr>\n      <th>99</th>\n      <td>Strong</td>\n      <td>1.0</td>\n    </tr>\n  </tbody>\n</table>\n<p>100 rows × 2 columns</p>\n</div>"
     },
     "execution_count": 93,
     "metadata": {},
     "output_type": "execute_result"
    }
   ],
   "source": [
    "encoder = OrdinalEncoder(categories=[['Mild', 'Strong']])\n",
    "df[['cough_encoded']] = encoder.fit_transform(df[['cough']])\n",
    "df[['cough', 'cough_encoded']]"
   ],
   "metadata": {
    "collapsed": false,
    "ExecuteTime": {
     "end_time": "2023-12-22T12:01:39.978451Z",
     "start_time": "2023-12-22T12:01:39.959176Z"
    }
   },
   "id": "f6cdb525bb9cb718"
  },
  {
   "cell_type": "markdown",
   "source": [
    "### Column Transformer"
   ],
   "metadata": {
    "collapsed": false
   },
   "id": "b6371d8c097cb459"
  },
  {
   "cell_type": "code",
   "execution_count": 102,
   "outputs": [
    {
     "data": {
      "text/plain": "array([[ 0.63746697,  0.63746697,  0.        ],\n       [-0.69563886, -0.69563886,  0.        ],\n       [-0.08968166, -0.08968166,  0.        ],\n       [-0.53405027, -0.53405027,  0.        ],\n       [ 0.8394527 ,  0.8394527 ,  0.        ],\n       [ 1.60699847,  1.60699847,  0.        ],\n       [-1.22080176, -1.22080176,  1.        ],\n       [-0.97841888, -0.97841888,  1.        ],\n       [-1.01881603, -1.01881603,  1.        ],\n       [ 0.79905555,  0.79905555,  0.        ],\n       [ 1.24342416,  1.24342416,  0.        ],\n       [ 0.8394527 ,  0.8394527 ,  0.        ],\n       [-0.77643315, -0.77643315,  1.        ],\n       [ 0.79905555,  0.79905555,  0.        ],\n       [ 0.27389265,  0.27389265,  0.        ],\n       [ 1.04143843,  1.04143843,  1.        ],\n       [ 1.00104128,  1.00104128,  0.        ],\n       [-0.17047596, -0.17047596,  1.        ],\n       [ 0.79905555,  0.79905555,  0.        ],\n       [-0.08968166, -0.08968166,  1.        ],\n       [-1.30159605, -1.30159605,  1.        ],\n       [ 1.16262987,  1.16262987,  0.        ],\n       [ 1.08183557,  1.08183557,  1.        ],\n       [ 1.44540989,  1.44540989,  0.        ],\n       [-1.2611989 , -1.2611989 ,  1.        ],\n       [-0.85722744, -0.85722744,  0.        ],\n       [-1.01881603, -1.01881603,  0.        ],\n       [-0.45325598, -0.45325598,  1.        ],\n       [-1.14000746, -1.14000746,  0.        ],\n       [-0.41285883, -0.41285883,  1.        ],\n       [-1.18040461, -1.18040461,  0.        ],\n       [ 1.56660133,  1.56660133,  0.        ],\n       [-0.41285883, -0.41285883,  1.        ],\n       [-0.736036  , -0.736036  ,  0.        ],\n       [ 1.20302701,  1.20302701,  0.        ],\n       [ 1.52620418,  1.52620418,  1.        ],\n       [-0.25127025, -0.25127025,  0.        ],\n       [ 0.43548124,  0.43548124,  0.        ],\n       [ 0.19309836,  0.19309836,  0.        ],\n       [ 0.2334955 ,  0.2334955 ,  0.        ],\n       [ 0.19309836,  0.19309836,  0.        ],\n       [ 1.52620418,  1.52620418,  0.        ],\n       [-0.69563886, -0.69563886,  0.        ],\n       [-0.89762459, -0.89762459,  0.        ],\n       [-0.97841888, -0.97841888,  1.        ],\n       [ 1.12223272,  1.12223272,  0.        ],\n       [-1.01881603, -1.01881603,  0.        ],\n       [-1.05921317, -1.05921317,  0.        ],\n       [ 0.87984984,  0.87984984,  1.        ],\n       [-0.00888737, -0.00888737,  0.        ],\n       [-1.01881603, -1.01881603,  0.        ],\n       [-1.3419932 , -1.3419932 ,  1.        ],\n       [ 0.11230407,  0.11230407,  1.        ],\n       [ 1.56660133,  1.56660133,  0.        ],\n       [ 0.63746697,  0.63746697,  0.        ],\n       [ 1.48580704,  1.48580704,  0.        ],\n       [ 1.08183557,  1.08183557,  1.        ],\n       [ 0.19309836,  0.19309836,  1.        ],\n       [-0.85722744, -0.85722744,  1.        ],\n       [-1.54397893, -1.54397893,  0.        ],\n       [-0.8168303 , -0.8168303 ,  1.        ],\n       [ 1.48580704,  1.48580704,  1.        ],\n       [ 0.47587838,  0.47587838,  1.        ],\n       [-1.38239034, -1.38239034,  0.        ],\n       [-0.08968166, -0.08968166,  0.        ],\n       [ 1.00104128,  1.00104128,  0.        ],\n       [ 0.27389265,  0.27389265,  0.        ],\n       [ 0.8394527 ,  0.8394527 ,  0.        ],\n       [ 0.39508409,  0.39508409,  1.        ],\n       [ 1.16262987,  1.16262987,  0.        ],\n       [ 0.96064414,  0.96064414,  1.        ],\n       [ 1.24342416,  1.24342416,  1.        ],\n       [ 1.56660133,  1.56660133,  0.        ],\n       [-0.41285883, -0.41285883,  1.        ],\n       [-0.41285883, -0.41285883,  1.        ],\n       [-1.58437607, -1.58437607,  0.        ],\n       [ 1.44540989,  1.44540989,  0.        ],\n       [-1.46318463, -1.46318463,  0.        ],\n       [-1.3419932 , -1.3419932 ,  0.        ],\n       [ 0.15270121,  0.15270121,  0.        ],\n       [-1.22080176, -1.22080176,  0.        ],\n       [ 0.8394527 ,  0.8394527 ,  0.        ],\n       [-0.8168303 , -0.8168303 ,  0.        ],\n       [-1.09961032, -1.09961032,  0.        ],\n       [ 1.00104128,  1.00104128,  1.        ],\n       [-1.14000746, -1.14000746,  0.        ],\n       [-0.77643315, -0.77643315,  0.        ],\n       [ 0.11230407,  0.11230407,  1.        ],\n       [-1.58437607, -1.58437607,  0.        ],\n       [ 0.07190692,  0.07190692,  1.        ],\n       [ 0.59706982,  0.59706982,  1.        ],\n       [-0.25127025, -0.25127025,  0.        ],\n       [ 1.52620418,  1.52620418,  1.        ],\n       [-0.69563886, -0.69563886,  0.        ],\n       [ 1.40501274,  1.40501274,  1.        ],\n       [-1.30159605, -1.30159605,  0.        ],\n       [ 0.27389265,  0.27389265,  1.        ],\n       [-0.97841888, -0.97841888,  0.        ],\n       [-1.58437607, -1.58437607,  1.        ],\n       [-1.38239034, -1.38239034,  1.        ]])"
     },
     "execution_count": 102,
     "metadata": {},
     "output_type": "execute_result"
    }
   ],
   "source": [
    "transformer = ColumnTransformer(transformers=[\n",
    "    ('imputer', SimpleImputer(missing_values=np.nan, strategy='mean'), ['age']),\n",
    "    ('scaler', StandardScaler(), ['age']),\n",
    "    ('encoder', OrdinalEncoder(categories=[['Mild', 'Strong']]), ['cough']),\n",
    "])\n",
    "\n",
    "transformer.fit_transform(df)"
   ],
   "metadata": {
    "collapsed": false,
    "ExecuteTime": {
     "end_time": "2023-12-22T12:03:17.504071Z",
     "start_time": "2023-12-22T12:03:17.499687Z"
    }
   },
   "id": "d767b9ea2434b07f"
  },
  {
   "cell_type": "code",
   "execution_count": 111,
   "outputs": [
    {
     "data": {
      "text/plain": "[('imputer', SimpleImputer(), ['age']),\n ('scaler', StandardScaler(), ['age']),\n ('encoder', OrdinalEncoder(categories=[['Mild', 'Strong']]), ['cough']),\n ('remainder', 'drop', [1, 2, 4, 5, 6])]"
     },
     "execution_count": 111,
     "metadata": {},
     "output_type": "execute_result"
    }
   ],
   "source": [
    "transformer.transformers_"
   ],
   "metadata": {
    "collapsed": false,
    "ExecuteTime": {
     "end_time": "2023-12-22T12:03:21.011716Z",
     "start_time": "2023-12-22T12:03:21.009169Z"
    }
   },
   "id": "b14510c96965cae4"
  }
 ],
 "metadata": {
  "kernelspec": {
   "display_name": "Python 3 (ipykernel)",
   "language": "python",
   "name": "python3"
  },
  "language_info": {
   "codemirror_mode": {
    "name": "ipython",
    "version": 3
   },
   "file_extension": ".py",
   "mimetype": "text/x-python",
   "name": "python",
   "nbconvert_exporter": "python",
   "pygments_lexer": "ipython3",
   "version": "3.11.5"
  }
 },
 "nbformat": 4,
 "nbformat_minor": 5
}
