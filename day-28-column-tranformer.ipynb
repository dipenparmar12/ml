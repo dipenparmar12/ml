{
 "cells": [
  {
   "cell_type": "code",
   "execution_count": 88,
   "outputs": [],
   "source": [
    "import numpy as np  # linear algebra\n",
    "from sklearn.compose import ColumnTransformer\n",
    "\n",
    "import pandas as pd  # data processing\n",
    "import matplotlib.pyplot as plt\n",
    "import seaborn as sns"
   ],
   "metadata": {
    "collapsed": false,
    "ExecuteTime": {
     "end_time": "2023-12-22T12:01:39.953940Z",
     "start_time": "2023-12-22T12:01:39.927326Z"
    }
   },
   "id": "6044e373f6cc739c"
  },
  {
   "cell_type": "code",
   "execution_count": 89,
   "outputs": [
    {
     "data": {
      "text/plain": "    age  gender  fever   cough       city has_covid\n0    60    Male  103.0    Mild    Kolkata        No\n1    27    Male  100.0    Mild      Delhi       Yes\n2    42    Male  101.0    Mild      Delhi        No\n3    31  Female   98.0    Mild    Kolkata        No\n4    65  Female  101.0    Mild     Mumbai        No\n..  ...     ...    ...     ...        ...       ...\n95   12  Female  104.0    Mild  Bangalore        No\n96   51  Female  101.0  Strong    Kolkata       Yes\n97   20  Female  101.0    Mild  Bangalore        No\n98    5  Female   98.0  Strong     Mumbai        No\n99   10  Female   98.0  Strong    Kolkata       Yes\n\n[100 rows x 6 columns]",
      "text/html": "<div>\n<style scoped>\n    .dataframe tbody tr th:only-of-type {\n        vertical-align: middle;\n    }\n\n    .dataframe tbody tr th {\n        vertical-align: top;\n    }\n\n    .dataframe thead th {\n        text-align: right;\n    }\n</style>\n<table border=\"1\" class=\"dataframe\">\n  <thead>\n    <tr style=\"text-align: right;\">\n      <th></th>\n      <th>age</th>\n      <th>gender</th>\n      <th>fever</th>\n      <th>cough</th>\n      <th>city</th>\n      <th>has_covid</th>\n    </tr>\n  </thead>\n  <tbody>\n    <tr>\n      <th>0</th>\n      <td>60</td>\n      <td>Male</td>\n      <td>103.0</td>\n      <td>Mild</td>\n      <td>Kolkata</td>\n      <td>No</td>\n    </tr>\n    <tr>\n      <th>1</th>\n      <td>27</td>\n      <td>Male</td>\n      <td>100.0</td>\n      <td>Mild</td>\n      <td>Delhi</td>\n      <td>Yes</td>\n    </tr>\n    <tr>\n      <th>2</th>\n      <td>42</td>\n      <td>Male</td>\n      <td>101.0</td>\n      <td>Mild</td>\n      <td>Delhi</td>\n      <td>No</td>\n    </tr>\n    <tr>\n      <th>3</th>\n      <td>31</td>\n      <td>Female</td>\n      <td>98.0</td>\n      <td>Mild</td>\n      <td>Kolkata</td>\n      <td>No</td>\n    </tr>\n    <tr>\n      <th>4</th>\n      <td>65</td>\n      <td>Female</td>\n      <td>101.0</td>\n      <td>Mild</td>\n      <td>Mumbai</td>\n      <td>No</td>\n    </tr>\n    <tr>\n      <th>...</th>\n      <td>...</td>\n      <td>...</td>\n      <td>...</td>\n      <td>...</td>\n      <td>...</td>\n      <td>...</td>\n    </tr>\n    <tr>\n      <th>95</th>\n      <td>12</td>\n      <td>Female</td>\n      <td>104.0</td>\n      <td>Mild</td>\n      <td>Bangalore</td>\n      <td>No</td>\n    </tr>\n    <tr>\n      <th>96</th>\n      <td>51</td>\n      <td>Female</td>\n      <td>101.0</td>\n      <td>Strong</td>\n      <td>Kolkata</td>\n      <td>Yes</td>\n    </tr>\n    <tr>\n      <th>97</th>\n      <td>20</td>\n      <td>Female</td>\n      <td>101.0</td>\n      <td>Mild</td>\n      <td>Bangalore</td>\n      <td>No</td>\n    </tr>\n    <tr>\n      <th>98</th>\n      <td>5</td>\n      <td>Female</td>\n      <td>98.0</td>\n      <td>Strong</td>\n      <td>Mumbai</td>\n      <td>No</td>\n    </tr>\n    <tr>\n      <th>99</th>\n      <td>10</td>\n      <td>Female</td>\n      <td>98.0</td>\n      <td>Strong</td>\n      <td>Kolkata</td>\n      <td>Yes</td>\n    </tr>\n  </tbody>\n</table>\n<p>100 rows × 6 columns</p>\n</div>"
     },
     "execution_count": 89,
     "metadata": {},
     "output_type": "execute_result"
    }
   ],
   "source": [
    "df = pd.read_csv('./reference/100_day_ml_source_code/day28-column-transformer/covid_toy.csv')\n",
    "df"
   ],
   "metadata": {
    "collapsed": false,
    "ExecuteTime": {
     "end_time": "2023-12-22T12:01:39.954473Z",
     "start_time": "2023-12-22T12:01:39.931688Z"
    }
   },
   "id": "54786dbdbed56eb5"
  },
  {
   "cell_type": "code",
   "execution_count": 90,
   "outputs": [],
   "source": [
    "from sklearn.impute import SimpleImputer\n",
    "from sklearn.preprocessing import StandardScaler\n",
    "from sklearn.preprocessing import OrdinalEncoder\n",
    "# \n",
    "from sklearn.compose import ColumnTransformer"
   ],
   "metadata": {
    "collapsed": false,
    "ExecuteTime": {
     "end_time": "2023-12-22T12:01:39.954610Z",
     "start_time": "2023-12-22T12:01:39.941779Z"
    }
   },
   "id": "9f8c57b539d63cf"
  },
  {
   "cell_type": "markdown",
   "source": [
    "SimpleImputer : fever\n",
    "StandardScaler : age\n",
    "OrdinalEncoder : cough"
   ],
   "metadata": {
    "collapsed": false
   },
   "id": "8ee91d5afe84e981"
  },
  {
   "cell_type": "code",
   "execution_count": 91,
   "outputs": [
    {
     "data": {
      "text/plain": "    fever\n0   103.0\n1   100.0\n2   101.0\n3    98.0\n4   101.0\n..    ...\n95  104.0\n96  101.0\n97  101.0\n98   98.0\n99   98.0\n\n[100 rows x 1 columns]",
      "text/html": "<div>\n<style scoped>\n    .dataframe tbody tr th:only-of-type {\n        vertical-align: middle;\n    }\n\n    .dataframe tbody tr th {\n        vertical-align: top;\n    }\n\n    .dataframe thead th {\n        text-align: right;\n    }\n</style>\n<table border=\"1\" class=\"dataframe\">\n  <thead>\n    <tr style=\"text-align: right;\">\n      <th></th>\n      <th>fever</th>\n    </tr>\n  </thead>\n  <tbody>\n    <tr>\n      <th>0</th>\n      <td>103.0</td>\n    </tr>\n    <tr>\n      <th>1</th>\n      <td>100.0</td>\n    </tr>\n    <tr>\n      <th>2</th>\n      <td>101.0</td>\n    </tr>\n    <tr>\n      <th>3</th>\n      <td>98.0</td>\n    </tr>\n    <tr>\n      <th>4</th>\n      <td>101.0</td>\n    </tr>\n    <tr>\n      <th>...</th>\n      <td>...</td>\n    </tr>\n    <tr>\n      <th>95</th>\n      <td>104.0</td>\n    </tr>\n    <tr>\n      <th>96</th>\n      <td>101.0</td>\n    </tr>\n    <tr>\n      <th>97</th>\n      <td>101.0</td>\n    </tr>\n    <tr>\n      <th>98</th>\n      <td>98.0</td>\n    </tr>\n    <tr>\n      <th>99</th>\n      <td>98.0</td>\n    </tr>\n  </tbody>\n</table>\n<p>100 rows × 1 columns</p>\n</div>"
     },
     "execution_count": 91,
     "metadata": {},
     "output_type": "execute_result"
    }
   ],
   "source": [
    "## Fill Missing values \n",
    "imp_mean = SimpleImputer(missing_values=np.nan, strategy='mean')\n",
    "df[['fever']] = imp_mean.fit_transform(df[['fever']])\n",
    "df[['fever']]"
   ],
   "metadata": {
    "collapsed": false,
    "ExecuteTime": {
     "end_time": "2023-12-22T12:01:39.954848Z",
     "start_time": "2023-12-22T12:01:39.944285Z"
    }
   },
   "id": "d9a902690f2d2752"
  },
  {
   "cell_type": "code",
   "execution_count": 92,
   "outputs": [
    {
     "data": {
      "text/plain": "0     0.637467\n1    -0.695639\n2    -0.089682\n3    -0.534050\n4     0.839453\n        ...   \n95   -1.301596\n96    0.273893\n97   -0.978419\n98   -1.584376\n99   -1.382390\nName: age, Length: 100, dtype: float64"
     },
     "execution_count": 92,
     "metadata": {},
     "output_type": "execute_result"
    }
   ],
   "source": [
    "scaler = StandardScaler()\n",
    "df[['age']] = scaler.fit_transform(df[['age']])\n",
    "df['age']"
   ],
   "metadata": {
    "collapsed": false,
    "ExecuteTime": {
     "end_time": "2023-12-22T12:01:39.960143Z",
     "start_time": "2023-12-22T12:01:39.956465Z"
    }
   },
   "id": "8b7cfcaf8e01e587"
  },
  {
   "cell_type": "code",
   "execution_count": 93,
   "outputs": [
    {
     "data": {
      "text/plain": "     cough  cough_encoded\n0     Mild            0.0\n1     Mild            0.0\n2     Mild            0.0\n3     Mild            0.0\n4     Mild            0.0\n..     ...            ...\n95    Mild            0.0\n96  Strong            1.0\n97    Mild            0.0\n98  Strong            1.0\n99  Strong            1.0\n\n[100 rows x 2 columns]",
      "text/html": "<div>\n<style scoped>\n    .dataframe tbody tr th:only-of-type {\n        vertical-align: middle;\n    }\n\n    .dataframe tbody tr th {\n        vertical-align: top;\n    }\n\n    .dataframe thead th {\n        text-align: right;\n    }\n</style>\n<table border=\"1\" class=\"dataframe\">\n  <thead>\n    <tr style=\"text-align: right;\">\n      <th></th>\n      <th>cough</th>\n      <th>cough_encoded</th>\n    </tr>\n  </thead>\n  <tbody>\n    <tr>\n      <th>0</th>\n      <td>Mild</td>\n      <td>0.0</td>\n    </tr>\n    <tr>\n      <th>1</th>\n      <td>Mild</td>\n      <td>0.0</td>\n    </tr>\n    <tr>\n      <th>2</th>\n      <td>Mild</td>\n      <td>0.0</td>\n    </tr>\n    <tr>\n      <th>3</th>\n      <td>Mild</td>\n      <td>0.0</td>\n    </tr>\n    <tr>\n      <th>4</th>\n      <td>Mild</td>\n      <td>0.0</td>\n    </tr>\n    <tr>\n      <th>...</th>\n      <td>...</td>\n      <td>...</td>\n    </tr>\n    <tr>\n      <th>95</th>\n      <td>Mild</td>\n      <td>0.0</td>\n    </tr>\n    <tr>\n      <th>96</th>\n      <td>Strong</td>\n      <td>1.0</td>\n    </tr>\n    <tr>\n      <th>97</th>\n      <td>Mild</td>\n      <td>0.0</td>\n    </tr>\n    <tr>\n      <th>98</th>\n      <td>Strong</td>\n      <td>1.0</td>\n    </tr>\n    <tr>\n      <th>99</th>\n      <td>Strong</td>\n      <td>1.0</td>\n    </tr>\n  </tbody>\n</table>\n<p>100 rows × 2 columns</p>\n</div>"
     },
     "execution_count": 93,
     "metadata": {},
     "output_type": "execute_result"
    }
   ],
   "source": [
    "encoder = OrdinalEncoder(categories=[['Mild', 'Strong']])\n",
    "df[['cough_encoded']] = encoder.fit_transform(df[['cough']])\n",
    "df[['cough', 'cough_encoded']]"
   ],
   "metadata": {
    "collapsed": false,
    "ExecuteTime": {
     "end_time": "2023-12-22T12:01:39.978451Z",
     "start_time": "2023-12-22T12:01:39.959176Z"
    }
   },
   "id": "f6cdb525bb9cb718"
  },
  {
   "cell_type": "markdown",
   "source": [
    "### Column Transformer"
   ],
   "metadata": {
    "collapsed": false
   },
   "id": "b6371d8c097cb459"
  },
  {
   "cell_type": "code",
   "execution_count": 113,
   "outputs": [
    {
     "data": {
      "text/plain": "array([[0.6374669662528468, 0.6374669662528468, 0.0, 'Male', 103.0,\n        'Kolkata', 'No', 0.0],\n       [-0.6956388567093802, -0.6956388567093802, 0.0, 'Male', 100.0,\n        'Delhi', 'Yes', 0.0],\n       [-0.0896816644538225, -0.08968166445382253, 0.0, 'Male', 101.0,\n        'Delhi', 'No', 0.0],\n       [-0.5340502721078981, -0.5340502721078981, 0.0, 'Female', 98.0,\n        'Kolkata', 'No', 0.0],\n       [0.8394526970046994, 0.8394526970046994, 0.0, 'Female', 101.0,\n        'Mumbai', 'No', 0.0],\n       [1.606998473861739, 1.606998473861739, 0.0, 'Female',\n        100.84444444444445, 'Bangalore', 'Yes', 0.0],\n       [-1.2208017566641969, -1.2208017566641969, 1.0, 'Male', 101.0,\n        'Bangalore', 'No', 1.0],\n       [-0.9784188797619738, -0.9784188797619738, 1.0, 'Female',\n        100.84444444444445, 'Mumbai', 'Yes', 1.0],\n       [-1.0188160259123444, -1.0188160259123444, 1.0, 'Female', 100.0,\n        'Bangalore', 'No', 1.0],\n       [0.7990555508543289, 0.7990555508543289, 0.0, 'Female', 101.0,\n        'Delhi', 'No', 0.0],\n       [1.2434241585084045, 1.2434241585084045, 0.0, 'Female',\n        100.84444444444445, 'Delhi', 'No', 0.0],\n       [0.8394526970046994, 0.8394526970046994, 0.0, 'Female', 98.0,\n        'Mumbai', 'Yes', 0.0],\n       [-0.7764331490101213, -0.7764331490101213, 1.0, 'Female', 99.0,\n        'Kolkata', 'No', 1.0],\n       [0.7990555508543289, 0.7990555508543289, 0.0, 'Male', 102.0,\n        'Bangalore', 'Yes', 0.0],\n       [0.27389265089951215, 0.2738926508995121, 0.0, 'Male', 104.0,\n        'Bangalore', 'No', 0.0],\n       [1.041438427756552, 1.041438427756552, 1.0, 'Male', 103.0,\n        'Kolkata', 'Yes', 1.0],\n       [1.0010412816061813, 1.0010412816061813, 0.0, 'Female', 103.0,\n        'Kolkata', 'Yes', 0.0],\n       [-0.17047595675456353, -0.17047595675456356, 1.0, 'Female', 98.0,\n        'Delhi', 'No', 1.0],\n       [0.7990555508543289, 0.7990555508543289, 0.0, 'Female', 98.0,\n        'Bangalore', 'Yes', 0.0],\n       [-0.0896816644538225, -0.08968166445382253, 1.0, 'Female',\n        100.84444444444445, 'Bangalore', 'Yes', 1.0],\n       [-1.301596048964938, -1.301596048964938, 1.0, 'Male', 98.0,\n        'Bangalore', 'No', 1.0],\n       [1.1626298662076635, 1.1626298662076635, 0.0, 'Male', 98.0,\n        'Bangalore', 'Yes', 0.0],\n       [1.0818355739069225, 1.0818355739069225, 1.0, 'Female', 98.0,\n        'Kolkata', 'Yes', 1.0],\n       [1.4454098892602572, 1.4454098892602572, 0.0, 'Female', 98.0,\n        'Delhi', 'Yes', 0.0],\n       [-1.2611989028145674, -1.2611989028145674, 1.0, 'Female', 100.0,\n        'Kolkata', 'No', 1.0],\n       [-0.8572274413108623, -0.8572274413108623, 0.0, 'Male',\n        100.84444444444445, 'Mumbai', 'No', 0.0],\n       [-1.0188160259123444, -1.0188160259123444, 0.0, 'Female', 100.0,\n        'Kolkata', 'Yes', 0.0],\n       [-0.45325597980715715, -0.4532559798071572, 1.0, 'Female', 102.0,\n        'Delhi', 'No', 1.0],\n       [-1.140007464363456, -1.140007464363456, 0.0, 'Male', 104.0,\n        'Kolkata', 'No', 0.0],\n       [-0.4128588336567866, -0.41285883365678666, 1.0, 'Female',\n        100.84444444444445, 'Mumbai', 'Yes', 1.0],\n       [-1.1804046105138264, -1.1804046105138264, 0.0, 'Male', 101.0,\n        'Delhi', 'Yes', 0.0],\n       [1.5666013277113686, 1.5666013277113686, 0.0, 'Male', 103.0,\n        'Kolkata', 'No', 0.0],\n       [-0.4128588336567866, -0.41285883365678666, 1.0, 'Female', 101.0,\n        'Delhi', 'Yes', 1.0],\n       [-0.7360360028597508, -0.7360360028597508, 0.0, 'Female', 98.0,\n        'Kolkata', 'No', 0.0],\n       [1.203027012358034, 1.203027012358034, 0.0, 'Male', 102.0,\n        'Mumbai', 'Yes', 0.0],\n       [1.5262041815609981, 1.5262041815609981, 1.0, 'Female', 102.0,\n        'Bangalore', 'No', 1.0],\n       [-0.25127024905530454, -0.2512702490553046, 0.0, 'Female', 101.0,\n        'Bangalore', 'No', 0.0],\n       [0.4354812355009942, 0.43548123550099416, 0.0, 'Male', 100.0,\n        'Kolkata', 'No', 0.0],\n       [0.1930983585987711, 0.19309835859877109, 0.0, 'Female', 101.0,\n        'Delhi', 'Yes', 0.0],\n       [0.23349550474914163, 0.2334955047491416, 0.0, 'Female', 103.0,\n        'Kolkata', 'No', 0.0],\n       [0.1930983585987711, 0.19309835859877109, 0.0, 'Female', 102.0,\n        'Delhi', 'No', 0.0],\n       [1.5262041815609981, 1.5262041815609981, 0.0, 'Male',\n        100.84444444444445, 'Kolkata', 'Yes', 0.0],\n       [-0.6956388567093802, -0.6956388567093802, 0.0, 'Male', 100.0,\n        'Delhi', 'Yes', 0.0],\n       [-0.8976245874612329, -0.8976245874612329, 0.0, 'Female', 99.0,\n        'Bangalore', 'Yes', 0.0],\n       [-0.9784188797619738, -0.9784188797619738, 1.0, 'Male', 102.0,\n        'Delhi', 'No', 1.0],\n       [1.122232720057293, 1.122232720057293, 0.0, 'Male', 99.0,\n        'Bangalore', 'No', 0.0],\n       [-1.0188160259123444, -1.0188160259123444, 0.0, 'Female', 101.0,\n        'Mumbai', 'No', 0.0],\n       [-1.059213172062715, -1.059213172062715, 0.0, 'Female', 104.0,\n        'Bangalore', 'No', 0.0],\n       [0.8798498431550699, 0.8798498431550699, 1.0, 'Male', 99.0,\n        'Bangalore', 'No', 1.0],\n       [-0.008887372153081467, -0.008887372153081498, 0.0, 'Male', 104.0,\n        'Mumbai', 'No', 0.0],\n       [-1.0188160259123444, -1.0188160259123444, 0.0, 'Male', 101.0,\n        'Delhi', 'Yes', 0.0],\n       [-1.3419931951153086, -1.3419931951153086, 1.0, 'Female', 100.0,\n        'Kolkata', 'Yes', 1.0],\n       [0.11230406629803008, 0.11230406629803005, 1.0, 'Female', 100.0,\n        'Bangalore', 'Yes', 1.0],\n       [1.5666013277113686, 1.5666013277113686, 0.0, 'Male', 98.0,\n        'Delhi', 'Yes', 0.0],\n       [0.6374669662528468, 0.6374669662528468, 0.0, 'Female', 99.0,\n        'Mumbai', 'Yes', 0.0],\n       [1.4858070354106276, 1.4858070354106276, 0.0, 'Female', 101.0,\n        'Mumbai', 'Yes', 0.0],\n       [1.0818355739069225, 1.0818355739069225, 1.0, 'Male',\n        100.84444444444445, 'Kolkata', 'No', 1.0],\n       [0.1930983585987711, 0.19309835859877109, 1.0, 'Female', 99.0,\n        'Bangalore', 'No', 1.0],\n       [-0.8572274413108623, -0.8572274413108623, 1.0, 'Male', 98.0,\n        'Mumbai', 'Yes', 1.0],\n       [-1.543978925867161, -1.543978925867161, 0.0, 'Female', 104.0,\n        'Kolkata', 'Yes', 0.0],\n       [-0.8168302951604918, -0.8168302951604918, 1.0, 'Female', 102.0,\n        'Bangalore', 'Yes', 1.0],\n       [1.4858070354106276, 1.4858070354106276, 1.0, 'Female', 98.0,\n        'Mumbai', 'No', 1.0],\n       [0.4758783816513647, 0.47587838165136465, 1.0, 'Female', 104.0,\n        'Bangalore', 'Yes', 1.0],\n       [-1.382390341265679, -1.382390341265679, 0.0, 'Male', 100.0,\n        'Bangalore', 'No', 0.0],\n       [-0.0896816644538225, -0.08968166445382253, 0.0, 'Male', 104.0,\n        'Mumbai', 'No', 0.0],\n       [1.0010412816061813, 1.0010412816061813, 0.0, 'Female', 102.0,\n        'Bangalore', 'No', 0.0],\n       [0.27389265089951215, 0.2738926508995121, 0.0, 'Male', 104.0,\n        'Kolkata', 'No', 0.0],\n       [0.8394526970046994, 0.8394526970046994, 0.0, 'Male', 99.0,\n        'Bangalore', 'No', 0.0],\n       [0.39508408935062367, 0.3950840893506236, 1.0, 'Female', 104.0,\n        'Kolkata', 'No', 1.0],\n       [1.1626298662076635, 1.1626298662076635, 0.0, 'Female', 103.0,\n        'Delhi', 'No', 0.0],\n       [0.960644135455811, 0.960644135455811, 1.0, 'Female', 101.0,\n        'Delhi', 'No', 1.0],\n       [1.2434241585084045, 1.2434241585084045, 1.0, 'Female', 104.0,\n        'Delhi', 'No', 1.0],\n       [1.5666013277113686, 1.5666013277113686, 0.0, 'Female', 101.0,\n        'Kolkata', 'No', 0.0],\n       [-0.4128588336567866, -0.41285883365678666, 1.0, 'Male', 98.0,\n        'Kolkata', 'Yes', 1.0],\n       [-0.4128588336567866, -0.41285883365678666, 1.0, 'Female', 104.0,\n        'Delhi', 'No', 1.0],\n       [-1.5843760720175315, -1.5843760720175315, 0.0, 'Male', 102.0,\n        'Kolkata', 'Yes', 0.0],\n       [1.4454098892602572, 1.4454098892602572, 0.0, 'Male', 100.0,\n        'Bangalore', 'Yes', 0.0],\n       [-1.46318463356642, -1.46318463356642, 0.0, 'Female', 101.0,\n        'Kolkata', 'No', 0.0],\n       [-1.3419931951153086, -1.3419931951153086, 0.0, 'Male', 100.0,\n        'Bangalore', 'Yes', 0.0],\n       [0.1527012124484006, 0.15270121244840057, 0.0, 'Female', 103.0,\n        'Kolkata', 'Yes', 0.0],\n       [-1.2208017566641969, -1.2208017566641969, 0.0, 'Female', 99.0,\n        'Mumbai', 'Yes', 0.0],\n       [0.8394526970046994, 0.8394526970046994, 0.0, 'Male', 99.0,\n        'Delhi', 'No', 0.0],\n       [-0.8168302951604918, -0.8168302951604918, 0.0, 'Male', 98.0,\n        'Kolkata', 'Yes', 0.0],\n       [-1.0996103182130854, -1.0996103182130854, 0.0, 'Female', 104.0,\n        'Kolkata', 'No', 0.0],\n       [1.0010412816061813, 1.0010412816061813, 1.0, 'Female', 98.0,\n        'Mumbai', 'No', 1.0],\n       [-1.140007464363456, -1.140007464363456, 0.0, 'Female', 103.0,\n        'Bangalore', 'Yes', 0.0],\n       [-0.7764331490101213, -0.7764331490101213, 0.0, 'Male', 104.0,\n        'Bangalore', 'Yes', 0.0],\n       [0.11230406629803008, 0.11230406629803005, 1.0, 'Male', 101.0,\n        'Bangalore', 'No', 1.0],\n       [-1.5843760720175315, -1.5843760720175315, 0.0, 'Female', 100.0,\n        'Kolkata', 'No', 0.0],\n       [0.07190692014765956, 0.07190692014765954, 1.0, 'Male', 103.0,\n        'Bangalore', 'No', 1.0],\n       [0.5970698201024762, 0.5970698201024762, 1.0, 'Female', 99.0,\n        'Delhi', 'No', 1.0],\n       [-0.25127024905530454, -0.2512702490553046, 0.0, 'Male',\n        100.84444444444445, 'Delhi', 'Yes', 0.0],\n       [1.5262041815609981, 1.5262041815609981, 1.0, 'Female', 102.0,\n        'Kolkata', 'No', 1.0],\n       [-0.6956388567093802, -0.6956388567093802, 0.0, 'Male', 100.0,\n        'Kolkata', 'Yes', 0.0],\n       [1.4050127431098867, 1.4050127431098867, 1.0, 'Male',\n        100.84444444444445, 'Kolkata', 'Yes', 1.0],\n       [-1.301596048964938, -1.301596048964938, 0.0, 'Female', 104.0,\n        'Bangalore', 'No', 0.0],\n       [0.27389265089951215, 0.2738926508995121, 1.0, 'Female', 101.0,\n        'Kolkata', 'Yes', 1.0],\n       [-0.9784188797619738, -0.9784188797619738, 0.0, 'Female', 101.0,\n        'Bangalore', 'No', 0.0],\n       [-1.5843760720175315, -1.5843760720175315, 1.0, 'Female', 98.0,\n        'Mumbai', 'No', 1.0],\n       [-1.382390341265679, -1.382390341265679, 1.0, 'Female', 98.0,\n        'Kolkata', 'Yes', 1.0]], dtype=object)"
     },
     "execution_count": 113,
     "metadata": {},
     "output_type": "execute_result"
    }
   ],
   "source": [
    "transformer = ColumnTransformer(transformers=[\n",
    "    ('imputer', SimpleImputer(missing_values=np.nan, strategy='mean'), ['age']),\n",
    "    ('scaler', StandardScaler(), ['age']),\n",
    "    ('encoder', OrdinalEncoder(categories=[['Mild', 'Strong']]), ['cough']),\n",
    "], remainder='passthrough')\n",
    "\n",
    "transformer.fit_transform(df)"
   ],
   "metadata": {
    "collapsed": false,
    "ExecuteTime": {
     "end_time": "2023-12-22T12:07:58.216860Z",
     "start_time": "2023-12-22T12:07:58.205111Z"
    }
   },
   "id": "d767b9ea2434b07f"
  },
  {
   "cell_type": "code",
   "execution_count": 115,
   "outputs": [
    {
     "data": {
      "text/plain": "[('imputer', SimpleImputer(), ['age']),\n ('scaler', StandardScaler(), ['age']),\n ('encoder', OrdinalEncoder(categories=[['Mild', 'Strong']]), ['cough']),\n ('remainder', 'passthrough', [1, 2, 4, 5, 6])]"
     },
     "execution_count": 115,
     "metadata": {},
     "output_type": "execute_result"
    }
   ],
   "source": [
    "transformer.transformers_"
   ],
   "metadata": {
    "collapsed": false,
    "ExecuteTime": {
     "end_time": "2023-12-22T12:08:04.969094Z",
     "start_time": "2023-12-22T12:08:04.965258Z"
    }
   },
   "id": "b14510c96965cae4"
  }
 ],
 "metadata": {
  "kernelspec": {
   "display_name": "Python 3 (ipykernel)",
   "language": "python",
   "name": "python3"
  },
  "language_info": {
   "codemirror_mode": {
    "name": "ipython",
    "version": 3
   },
   "file_extension": ".py",
   "mimetype": "text/x-python",
   "name": "python",
   "nbconvert_exporter": "python",
   "pygments_lexer": "ipython3",
   "version": "3.11.5"
  }
 },
 "nbformat": 4,
 "nbformat_minor": 5
}
