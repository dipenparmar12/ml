{
 "cells": [
  {
   "cell_type": "code",
   "execution_count": 24,
   "outputs": [],
   "source": [
    "import numpy as np  # linear algebra\n",
    "import pandas as pd  # data processing\n",
    "\n",
    "import matplotlib.pyplot as plt\n",
    "\n",
    "from sklearn.model_selection import train_test_split\n",
    "\n",
    "from sklearn.tree import DecisionTreeClassifier\n",
    "\n",
    "from sklearn.metrics import accuracy_score\n",
    "from sklearn.model_selection import cross_val_score\n",
    "\n",
    "from sklearn.preprocessing import KBinsDiscretizer\n",
    "from sklearn.compose import ColumnTransformer"
   ],
   "metadata": {
    "collapsed": false,
    "ExecuteTime": {
     "end_time": "2024-01-05T09:38:02.960343Z",
     "start_time": "2024-01-05T09:38:02.684412Z"
    }
   },
   "id": "6044e373f6cc739c"
  },
  {
   "cell_type": "code",
   "execution_count": 77,
   "outputs": [
    {
     "data": {
      "text/plain": "     Survived   Age     Fare\n0           0  22.0   7.2500\n1           1  38.0  71.2833\n2           1  26.0   7.9250\n3           1  35.0  53.1000\n4           0  35.0   8.0500\n..        ...   ...      ...\n886         0  27.0  13.0000\n887         1  19.0  30.0000\n888         0   NaN  23.4500\n889         1  26.0  30.0000\n890         0  32.0   7.7500\n\n[891 rows x 3 columns]",
      "text/html": "<div>\n<style scoped>\n    .dataframe tbody tr th:only-of-type {\n        vertical-align: middle;\n    }\n\n    .dataframe tbody tr th {\n        vertical-align: top;\n    }\n\n    .dataframe thead th {\n        text-align: right;\n    }\n</style>\n<table border=\"1\" class=\"dataframe\">\n  <thead>\n    <tr style=\"text-align: right;\">\n      <th></th>\n      <th>Survived</th>\n      <th>Age</th>\n      <th>Fare</th>\n    </tr>\n  </thead>\n  <tbody>\n    <tr>\n      <th>0</th>\n      <td>0</td>\n      <td>22.0</td>\n      <td>7.2500</td>\n    </tr>\n    <tr>\n      <th>1</th>\n      <td>1</td>\n      <td>38.0</td>\n      <td>71.2833</td>\n    </tr>\n    <tr>\n      <th>2</th>\n      <td>1</td>\n      <td>26.0</td>\n      <td>7.9250</td>\n    </tr>\n    <tr>\n      <th>3</th>\n      <td>1</td>\n      <td>35.0</td>\n      <td>53.1000</td>\n    </tr>\n    <tr>\n      <th>4</th>\n      <td>0</td>\n      <td>35.0</td>\n      <td>8.0500</td>\n    </tr>\n    <tr>\n      <th>...</th>\n      <td>...</td>\n      <td>...</td>\n      <td>...</td>\n    </tr>\n    <tr>\n      <th>886</th>\n      <td>0</td>\n      <td>27.0</td>\n      <td>13.0000</td>\n    </tr>\n    <tr>\n      <th>887</th>\n      <td>1</td>\n      <td>19.0</td>\n      <td>30.0000</td>\n    </tr>\n    <tr>\n      <th>888</th>\n      <td>0</td>\n      <td>NaN</td>\n      <td>23.4500</td>\n    </tr>\n    <tr>\n      <th>889</th>\n      <td>1</td>\n      <td>26.0</td>\n      <td>30.0000</td>\n    </tr>\n    <tr>\n      <th>890</th>\n      <td>0</td>\n      <td>32.0</td>\n      <td>7.7500</td>\n    </tr>\n  </tbody>\n</table>\n<p>891 rows × 3 columns</p>\n</div>"
     },
     "execution_count": 77,
     "metadata": {},
     "output_type": "execute_result"
    }
   ],
   "source": [
    "df = pd.read_csv('./reference/100_day_ml_source_code/day32-binning-and-binarization/train.csv',\n",
    "                 usecols=['Age', 'Fare', 'Survived'])\n",
    "df"
   ],
   "metadata": {
    "collapsed": false,
    "ExecuteTime": {
     "end_time": "2024-01-05T10:57:17.081515Z",
     "start_time": "2024-01-05T10:57:17.073394Z"
    }
   },
   "id": "54786dbdbed56eb5"
  },
  {
   "cell_type": "code",
   "execution_count": 89,
   "outputs": [
    {
     "name": "stdout",
     "output_type": "stream",
     "text": [
      "(714, 3)\n"
     ]
    }
   ],
   "source": [
    "df.dropna(inplace=True)\n",
    "df['Age'] = df['Age'].astype(int)\n",
    "df['Fare'] = df['Fare'].round(2)\n",
    "\n",
    "df.columns = df.columns.str.strip()\n",
    "\n",
    "print(df.shape)\n",
    "# df"
   ],
   "metadata": {
    "collapsed": false,
    "ExecuteTime": {
     "end_time": "2024-01-05T11:00:02.428908Z",
     "start_time": "2024-01-05T11:00:02.423597Z"
    }
   },
   "id": "763402edb26e946a"
  },
  {
   "cell_type": "code",
   "execution_count": 123,
   "outputs": [],
   "source": [
    "x = df.iloc[:, 1:]\n",
    "y = df.iloc[:, 0]\n",
    "# x\n",
    "# y"
   ],
   "metadata": {
    "collapsed": false,
    "ExecuteTime": {
     "end_time": "2024-01-05T11:08:56.717547Z",
     "start_time": "2024-01-05T11:08:56.713343Z"
    }
   },
   "id": "a721c5764424850"
  },
  {
   "cell_type": "code",
   "execution_count": 126,
   "outputs": [
    {
     "data": {
      "text/plain": "     Age   Fare\n328   31  20.52\n73    26  14.45\n253   30  16.10\n719   33   7.78\n666   25  13.00",
      "text/html": "<div>\n<style scoped>\n    .dataframe tbody tr th:only-of-type {\n        vertical-align: middle;\n    }\n\n    .dataframe tbody tr th {\n        vertical-align: top;\n    }\n\n    .dataframe thead th {\n        text-align: right;\n    }\n</style>\n<table border=\"1\" class=\"dataframe\">\n  <thead>\n    <tr style=\"text-align: right;\">\n      <th></th>\n      <th>Age</th>\n      <th>Fare</th>\n    </tr>\n  </thead>\n  <tbody>\n    <tr>\n      <th>328</th>\n      <td>31</td>\n      <td>20.52</td>\n    </tr>\n    <tr>\n      <th>73</th>\n      <td>26</td>\n      <td>14.45</td>\n    </tr>\n    <tr>\n      <th>253</th>\n      <td>30</td>\n      <td>16.10</td>\n    </tr>\n    <tr>\n      <th>719</th>\n      <td>33</td>\n      <td>7.78</td>\n    </tr>\n    <tr>\n      <th>666</th>\n      <td>25</td>\n      <td>13.00</td>\n    </tr>\n  </tbody>\n</table>\n</div>"
     },
     "execution_count": 126,
     "metadata": {},
     "output_type": "execute_result"
    }
   ],
   "source": [
    "x_train, x_test, y_train, y_test = train_test_split(x, y, test_size=0.2, random_state=42)\n",
    "x_train.head()"
   ],
   "metadata": {
    "collapsed": false,
    "ExecuteTime": {
     "end_time": "2024-01-05T11:09:01.240838Z",
     "start_time": "2024-01-05T11:09:01.227987Z"
    }
   },
   "id": "bb7b61cf7606f0f6"
  },
  {
   "cell_type": "code",
   "execution_count": 137,
   "outputs": [],
   "source": [
    "clf = DecisionTreeClassifier()\n",
    "clf.fit(x_train, y_train)\n",
    "\n",
    "y_pred = clf.predict(x_test)"
   ],
   "metadata": {
    "collapsed": false,
    "ExecuteTime": {
     "end_time": "2024-01-05T11:10:13.543409Z",
     "start_time": "2024-01-05T11:10:13.539216Z"
    }
   },
   "id": "71722b4d111d621c"
  },
  {
   "cell_type": "code",
   "execution_count": 143,
   "outputs": [
    {
     "data": {
      "text/plain": "0.6363636363636364"
     },
     "execution_count": 143,
     "metadata": {},
     "output_type": "execute_result"
    }
   ],
   "source": [
    "accuracy_score(y_test, y_pred)"
   ],
   "metadata": {
    "collapsed": false,
    "ExecuteTime": {
     "end_time": "2024-01-05T11:10:37.226298Z",
     "start_time": "2024-01-05T11:10:37.221672Z"
    }
   },
   "id": "3eb12c106fd5b11d"
  },
  {
   "cell_type": "code",
   "execution_count": 148,
   "outputs": [
    {
     "data": {
      "text/plain": "0.6190485570767261"
     },
     "execution_count": 148,
     "metadata": {},
     "output_type": "execute_result"
    }
   ],
   "source": [
    "pred_results = cross_val_score(DecisionTreeClassifier(), x, y, cv=5, scoring='accuracy')\n",
    "np.mean(pred_results)"
   ],
   "metadata": {
    "collapsed": false,
    "ExecuteTime": {
     "end_time": "2024-01-05T11:12:13.867740Z",
     "start_time": "2024-01-05T11:12:13.841480Z"
    }
   },
   "id": "31b5876532724ee"
  },
  {
   "cell_type": "code",
   "execution_count": 152,
   "outputs": [],
   "source": [
    "kbin_age = KBinsDiscretizer(n_bins=10, encode='ordinal', strategy='quantile')\n",
    "kbin_fare = KBinsDiscretizer(n_bins=10, encode='ordinal', strategy='quantile')"
   ],
   "metadata": {
    "collapsed": false,
    "ExecuteTime": {
     "end_time": "2024-01-05T11:13:19.707491Z",
     "start_time": "2024-01-05T11:13:19.704642Z"
    }
   },
   "id": "f1e5d9c33de8c0a2"
  },
  {
   "cell_type": "code",
   "execution_count": 155,
   "outputs": [],
   "source": [
    "trf = ColumnTransformer(transformers=[\n",
    "    ('age', kbin_age, [0]),\n",
    "    ('fare', kbin_fare, [1])\n",
    "])"
   ],
   "metadata": {
    "collapsed": false,
    "ExecuteTime": {
     "end_time": "2024-01-05T11:14:26.682686Z",
     "start_time": "2024-01-05T11:14:26.679068Z"
    }
   },
   "id": "f7f8d8e3fd1ddb3e"
  },
  {
   "cell_type": "code",
   "execution_count": 158,
   "outputs": [],
   "source": [
    "x_train_trf = trf.fit_transform(x_train)\n",
    "x_test_trf = trf.transform(x_test)"
   ],
   "metadata": {
    "collapsed": false,
    "ExecuteTime": {
     "end_time": "2024-01-05T11:14:46.743472Z",
     "start_time": "2024-01-05T11:14:46.734151Z"
    }
   },
   "id": "628ac2b9b927be4e"
  },
  {
   "cell_type": "code",
   "execution_count": 175,
   "outputs": [
    {
     "name": "stdout",
     "output_type": "stream",
     "text": [
      "No bins:  [10]\n"
     ]
    }
   ],
   "source": [
    "print(\"No bins: \", trf.named_transformers_['age'].n_bins_)"
   ],
   "metadata": {
    "collapsed": false,
    "ExecuteTime": {
     "end_time": "2024-01-06T05:27:02.486002Z",
     "start_time": "2024-01-06T05:27:02.479581Z"
    }
   },
   "id": "e42b160ac9f30d9b"
  },
  {
   "cell_type": "code",
   "execution_count": 176,
   "outputs": [
    {
     "data": {
      "text/plain": "array([array([ 0., 14., 19., 22., 25., 28., 32., 36., 42., 50., 80.])],\n      dtype=object)"
     },
     "execution_count": 176,
     "metadata": {},
     "output_type": "execute_result"
    }
   ],
   "source": [
    "trf.named_transformers_['age'].bin_edges_"
   ],
   "metadata": {
    "collapsed": false,
    "ExecuteTime": {
     "end_time": "2024-01-06T05:27:03.584321Z",
     "start_time": "2024-01-06T05:27:03.581474Z"
    }
   },
   "id": "c2d1df264e42e4"
  },
  {
   "cell_type": "code",
   "execution_count": 177,
   "outputs": [
    {
     "data": {
      "text/plain": "array([array([  0.  ,   7.75,   7.9 ,   9.22,  13.  ,  15.75,  26.  ,  29.12,\n               51.48,  82.17, 512.33])                                       ],\n      dtype=object)"
     },
     "execution_count": 177,
     "metadata": {},
     "output_type": "execute_result"
    }
   ],
   "source": [
    "trf.named_transformers_['fare'].bin_edges_"
   ],
   "metadata": {
    "collapsed": false,
    "ExecuteTime": {
     "end_time": "2024-01-06T05:27:05.011408Z",
     "start_time": "2024-01-06T05:27:05.003771Z"
    }
   },
   "id": "db24cc0315fbba72"
  },
  {
   "cell_type": "code",
   "execution_count": 230,
   "outputs": [
    {
     "name": "stdout",
     "output_type": "stream",
     "text": [
      "\n",
      "Cross val score: 0.6330985915492957\n",
      "Strategy:  quantile\n"
     ]
    },
    {
     "data": {
      "text/plain": "<Figure size 1400x400 with 2 Axes>",
      "image/png": "[encoded data removed]"
     },
     "metadata": {},
     "output_type": "display_data"
    },
    {
     "name": "stdout",
     "output_type": "stream",
     "text": [
      "\n",
      "Cross val score: 0.6345070422535211\n",
      "Strategy:  uniform\n"
     ]
    },
    {
     "data": {
      "text/plain": "<Figure size 1400x400 with 2 Axes>",
      "image/png": "[encoded data removed]"
     },
     "metadata": {},
     "output_type": "display_data"
    },
    {
     "name": "stdout",
     "output_type": "stream",
     "text": [
      "\n",
      "Cross val score: 0.6359350547730829\n",
      "Strategy:  kmeans\n"
     ]
    },
    {
     "data": {
      "text/plain": "<Figure size 1400x400 with 2 Axes>",
      "image/png": "[encoded data removed]"
     },
     "metadata": {},
     "output_type": "display_data"
    }
   ],
   "source": [
    "def discretize(bins, strategy):\n",
    "    kbin_age = KBinsDiscretizer(n_bins=bins, encode='ordinal', strategy=strategy, subsample=None)\n",
    "    kbin_fare = KBinsDiscretizer(n_bins=bins, encode='ordinal', strategy=strategy, subsample=None)\n",
    "\n",
    "    trf = ColumnTransformer(transformers=[\n",
    "        ('age', kbin_age, [0]),\n",
    "        ('fare', kbin_fare, [1])\n",
    "    ])\n",
    "    x_trf = trf.fit_transform(x)\n",
    "\n",
    "    pred_results = cross_val_score(DecisionTreeClassifier(), x, y, cv=10, scoring='accuracy')\n",
    "    print()\n",
    "    print(\"Cross val score:\", np.mean(pred_results))\n",
    "    print(\"Strategy: \", strategy)\n",
    "\n",
    "    plt.figure(figsize=(14, 4))\n",
    "    plt.subplot(121)\n",
    "    plt.hist(x['Age'])\n",
    "    plt.title('Before Binning')\n",
    "\n",
    "    plt.subplot(122)\n",
    "    plt.hist(x_trf[:, 0], color='red')\n",
    "    plt.title('After Binning')\n",
    "\n",
    "    plt.show()\n",
    "\n",
    "\n",
    "discretize(10, 'quantile')\n",
    "discretize(10, 'uniform')\n",
    "discretize(10, 'kmeans')"
   ],
   "metadata": {
    "collapsed": false,
    "ExecuteTime": {
     "end_time": "2024-01-06T05:41:21.048991Z",
     "start_time": "2024-01-06T05:41:20.174951Z"
    }
   },
   "id": "f8bb00716924d20e"
  },
  {
   "cell_type": "code",
   "execution_count": null,
   "outputs": [],
   "source": [],
   "metadata": {
    "collapsed": false
   },
   "id": "c784d6c07eacde3"
  }
 ],
 "metadata": {
  "kernelspec": {
   "display_name": "Python 3 (ipykernel)",
   "language": "python",
   "name": "python3"
  },
  "language_info": {
   "codemirror_mode": {
    "name": "ipython",
    "version": 3
   },
   "file_extension": ".py",
   "mimetype": "text/x-python",
   "name": "python",
   "nbconvert_exporter": "python",
   "pygments_lexer": "ipython3",
   "version": "3.11.5"
  }
 },
 "nbformat": 4,
 "nbformat_minor": 5
}
