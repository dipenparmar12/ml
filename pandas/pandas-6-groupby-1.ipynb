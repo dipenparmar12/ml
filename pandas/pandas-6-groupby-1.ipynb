{
 "cells": [
  {
   "cell_type": "markdown",
   "source": [
    "Source: \n",
    "- https://youtu.be/txMdrV1Ut64?list=PL-osiE80TeTsWmV9i9c58mdDCSskIFdDS"
   ],
   "metadata": {
    "collapsed": false
   },
   "id": "abd841b8623ec792"
  },
  {
   "cell_type": "code",
   "execution_count": 33,
   "id": "initial_id",
   "metadata": {
    "collapsed": true,
    "ExecuteTime": {
     "end_time": "2023-11-05T06:57:46.908904Z",
     "start_time": "2023-11-05T06:57:46.902432Z"
    }
   },
   "outputs": [],
   "source": [
    "import pandas as pd\n",
    "import numpy as np"
   ]
  },
  {
   "cell_type": "code",
   "execution_count": 34,
   "outputs": [
    {
     "data": {
      "text/plain": "          id  ConvertedCompYearly                       Country  \\\n0          0                  NaN                           NaN   \n1          1             285000.0      United States of America   \n2          2             250000.0      United States of America   \n3          3             156000.0      United States of America   \n4          4              23456.0                   Philippines   \n...      ...                  ...                           ...   \n89179  89179                  NaN                        Brazil   \n89180  89180                  NaN                       Romania   \n89181  89181                  NaN                        Israel   \n89182  89182                  NaN                   Switzerland   \n89183  89183                  NaN  Iran, Islamic Republic of...   \n\n                        Currency  ConvertedCompYearly.1  \\\n0                            NaN                    NaN   \n1      USD\\tUnited States dollar               285000.0   \n2      USD\\tUnited States dollar               250000.0   \n3      USD\\tUnited States dollar               156000.0   \n4           PHP\\tPhilippine peso                23456.0   \n...                          ...                    ...   \n89179        BRL\\tBrazilian real                    NaN   \n89180                        NaN                    NaN   \n89181                        NaN                    NaN   \n89182                        NaN                    NaN   \n89183          IRR\\tIranian rial                    NaN   \n\n                                  LanguageHaveWorkedWith  \\\n0                                                    NaN   \n1                             HTML/CSS;JavaScript;Python   \n2                             Bash/Shell (all shells);Go   \n3      Bash/Shell (all shells);HTML/CSS;JavaScript;PH...   \n4                         HTML/CSS;JavaScript;TypeScript   \n...                                                  ...   \n89179            HTML/CSS;Java;JavaScript;SQL;TypeScript   \n89180                               Dart;Java;Python;SQL   \n89181  Assembly;Bash/Shell (all shells);C;C#;Python;R...   \n89182  Bash/Shell (all shells);C#;HTML/CSS;Java;JavaS...   \n89183                    C#;Go;JavaScript;SQL;TypeScript   \n\n                                 RemoteWork     CompTotal  WorkExp SOAccount  \\\n0                                       NaN           NaN      NaN       NaN   \n1                                    Remote  2.850000e+05     10.0       Yes   \n2      Hybrid (some remote, some in-person)  2.500000e+05     23.0       Yes   \n3      Hybrid (some remote, some in-person)  1.560000e+05      7.0       Yes   \n4                                    Remote  1.320000e+06      6.0        No   \n...                                     ...           ...      ...       ...   \n89179                                Remote  2.000000e+05      NaN       Yes   \n89180  Hybrid (some remote, some in-person)           NaN      NaN       Yes   \n89181                                   NaN           NaN      NaN       NaN   \n89182  Hybrid (some remote, some in-person)           NaN      NaN        No   \n89183  Hybrid (some remote, some in-person)  3.300000e+09     14.0       Yes   \n\n                                              Employment YearsCode  \\\n0                                                    NaN       NaN   \n1                                    Employed, full-time        18   \n2                                    Employed, full-time        27   \n3                                    Employed, full-time        12   \n4      Employed, full-time;Independent contractor, fr...         6   \n...                                                  ...       ...   \n89179  Employed, full-time;Independent contractor, fr...        20   \n89180             Student, full-time;Employed, part-time         5   \n89181                                I prefer not to say        10   \n89182             Employed, part-time;Student, part-time         3   \n89183                                Employed, full-time        17   \n\n      YearsCodePro                               DevType  \n0              NaN                                   NaN  \n1                9  Senior Executive (C-Suite, VP, etc.)  \n2               23                   Developer, back-end  \n3                7                  Developer, front-end  \n4                4                 Developer, full-stack  \n...            ...                                   ...  \n89179            5                  Developer, front-end  \n89180          NaN                   Developer, back-end  \n89181          NaN                                   NaN  \n89182          NaN                  System administrator  \n89183           12                 Developer, full-stack  \n\n[89184 rows x 14 columns]",
      "text/html": "<div>\n<style scoped>\n    .dataframe tbody tr th:only-of-type {\n        vertical-align: middle;\n    }\n\n    .dataframe tbody tr th {\n        vertical-align: top;\n    }\n\n    .dataframe thead th {\n        text-align: right;\n    }\n</style>\n<table border=\"1\" class=\"dataframe\">\n  <thead>\n    <tr style=\"text-align: right;\">\n      <th></th>\n      <th>id</th>\n      <th>ConvertedCompYearly</th>\n      <th>Country</th>\n      <th>Currency</th>\n      <th>ConvertedCompYearly.1</th>\n      <th>LanguageHaveWorkedWith</th>\n      <th>RemoteWork</th>\n      <th>CompTotal</th>\n      <th>WorkExp</th>\n      <th>SOAccount</th>\n      <th>Employment</th>\n      <th>YearsCode</th>\n      <th>YearsCodePro</th>\n      <th>DevType</th>\n    </tr>\n  </thead>\n  <tbody>\n    <tr>\n      <th>0</th>\n      <td>0</td>\n      <td>NaN</td>\n      <td>NaN</td>\n      <td>NaN</td>\n      <td>NaN</td>\n      <td>NaN</td>\n      <td>NaN</td>\n      <td>NaN</td>\n      <td>NaN</td>\n      <td>NaN</td>\n      <td>NaN</td>\n      <td>NaN</td>\n      <td>NaN</td>\n      <td>NaN</td>\n    </tr>\n    <tr>\n      <th>1</th>\n      <td>1</td>\n      <td>285000.0</td>\n      <td>United States of America</td>\n      <td>USD\\tUnited States dollar</td>\n      <td>285000.0</td>\n      <td>HTML/CSS;JavaScript;Python</td>\n      <td>Remote</td>\n      <td>2.850000e+05</td>\n      <td>10.0</td>\n      <td>Yes</td>\n      <td>Employed, full-time</td>\n      <td>18</td>\n      <td>9</td>\n      <td>Senior Executive (C-Suite, VP, etc.)</td>\n    </tr>\n    <tr>\n      <th>2</th>\n      <td>2</td>\n      <td>250000.0</td>\n      <td>United States of America</td>\n      <td>USD\\tUnited States dollar</td>\n      <td>250000.0</td>\n      <td>Bash/Shell (all shells);Go</td>\n      <td>Hybrid (some remote, some in-person)</td>\n      <td>2.500000e+05</td>\n      <td>23.0</td>\n      <td>Yes</td>\n      <td>Employed, full-time</td>\n      <td>27</td>\n      <td>23</td>\n      <td>Developer, back-end</td>\n    </tr>\n    <tr>\n      <th>3</th>\n      <td>3</td>\n      <td>156000.0</td>\n      <td>United States of America</td>\n      <td>USD\\tUnited States dollar</td>\n      <td>156000.0</td>\n      <td>Bash/Shell (all shells);HTML/CSS;JavaScript;PH...</td>\n      <td>Hybrid (some remote, some in-person)</td>\n      <td>1.560000e+05</td>\n      <td>7.0</td>\n      <td>Yes</td>\n      <td>Employed, full-time</td>\n      <td>12</td>\n      <td>7</td>\n      <td>Developer, front-end</td>\n    </tr>\n    <tr>\n      <th>4</th>\n      <td>4</td>\n      <td>23456.0</td>\n      <td>Philippines</td>\n      <td>PHP\\tPhilippine peso</td>\n      <td>23456.0</td>\n      <td>HTML/CSS;JavaScript;TypeScript</td>\n      <td>Remote</td>\n      <td>1.320000e+06</td>\n      <td>6.0</td>\n      <td>No</td>\n      <td>Employed, full-time;Independent contractor, fr...</td>\n      <td>6</td>\n      <td>4</td>\n      <td>Developer, full-stack</td>\n    </tr>\n    <tr>\n      <th>...</th>\n      <td>...</td>\n      <td>...</td>\n      <td>...</td>\n      <td>...</td>\n      <td>...</td>\n      <td>...</td>\n      <td>...</td>\n      <td>...</td>\n      <td>...</td>\n      <td>...</td>\n      <td>...</td>\n      <td>...</td>\n      <td>...</td>\n      <td>...</td>\n    </tr>\n    <tr>\n      <th>89179</th>\n      <td>89179</td>\n      <td>NaN</td>\n      <td>Brazil</td>\n      <td>BRL\\tBrazilian real</td>\n      <td>NaN</td>\n      <td>HTML/CSS;Java;JavaScript;SQL;TypeScript</td>\n      <td>Remote</td>\n      <td>2.000000e+05</td>\n      <td>NaN</td>\n      <td>Yes</td>\n      <td>Employed, full-time;Independent contractor, fr...</td>\n      <td>20</td>\n      <td>5</td>\n      <td>Developer, front-end</td>\n    </tr>\n    <tr>\n      <th>89180</th>\n      <td>89180</td>\n      <td>NaN</td>\n      <td>Romania</td>\n      <td>NaN</td>\n      <td>NaN</td>\n      <td>Dart;Java;Python;SQL</td>\n      <td>Hybrid (some remote, some in-person)</td>\n      <td>NaN</td>\n      <td>NaN</td>\n      <td>Yes</td>\n      <td>Student, full-time;Employed, part-time</td>\n      <td>5</td>\n      <td>NaN</td>\n      <td>Developer, back-end</td>\n    </tr>\n    <tr>\n      <th>89181</th>\n      <td>89181</td>\n      <td>NaN</td>\n      <td>Israel</td>\n      <td>NaN</td>\n      <td>NaN</td>\n      <td>Assembly;Bash/Shell (all shells);C;C#;Python;R...</td>\n      <td>NaN</td>\n      <td>NaN</td>\n      <td>NaN</td>\n      <td>NaN</td>\n      <td>I prefer not to say</td>\n      <td>10</td>\n      <td>NaN</td>\n      <td>NaN</td>\n    </tr>\n    <tr>\n      <th>89182</th>\n      <td>89182</td>\n      <td>NaN</td>\n      <td>Switzerland</td>\n      <td>NaN</td>\n      <td>NaN</td>\n      <td>Bash/Shell (all shells);C#;HTML/CSS;Java;JavaS...</td>\n      <td>Hybrid (some remote, some in-person)</td>\n      <td>NaN</td>\n      <td>NaN</td>\n      <td>No</td>\n      <td>Employed, part-time;Student, part-time</td>\n      <td>3</td>\n      <td>NaN</td>\n      <td>System administrator</td>\n    </tr>\n    <tr>\n      <th>89183</th>\n      <td>89183</td>\n      <td>NaN</td>\n      <td>Iran, Islamic Republic of...</td>\n      <td>IRR\\tIranian rial</td>\n      <td>NaN</td>\n      <td>C#;Go;JavaScript;SQL;TypeScript</td>\n      <td>Hybrid (some remote, some in-person)</td>\n      <td>3.300000e+09</td>\n      <td>14.0</td>\n      <td>Yes</td>\n      <td>Employed, full-time</td>\n      <td>17</td>\n      <td>12</td>\n      <td>Developer, full-stack</td>\n    </tr>\n  </tbody>\n</table>\n<p>89184 rows × 14 columns</p>\n</div>"
     },
     "execution_count": 34,
     "metadata": {},
     "output_type": "execute_result"
    }
   ],
   "source": [
    "df = pd.read_csv('./output_minified.csv')\n",
    "schema = pd.read_csv('./stack-overflow-survey-2023/survey_results_schema.csv')\n",
    "\n",
    "df"
   ],
   "metadata": {
    "collapsed": false,
    "ExecuteTime": {
     "end_time": "2023-11-05T06:57:47.084322Z",
     "start_time": "2023-11-05T06:57:46.906866Z"
    }
   },
   "id": "b0146b06f3edc2ee"
  },
  {
   "cell_type": "code",
   "execution_count": 35,
   "outputs": [
    {
     "data": {
      "text/plain": "Index(['id', 'ConvertedCompYearly', 'Country', 'Currency',\n       'ConvertedCompYearly.1', 'LanguageHaveWorkedWith', 'RemoteWork',\n       'CompTotal', 'WorkExp', 'SOAccount', 'Employment', 'YearsCode',\n       'YearsCodePro', 'DevType'],\n      dtype='object')"
     },
     "execution_count": 35,
     "metadata": {},
     "output_type": "execute_result"
    }
   ],
   "source": [
    "df.columns"
   ],
   "metadata": {
    "collapsed": false,
    "ExecuteTime": {
     "end_time": "2023-11-05T06:57:47.087267Z",
     "start_time": "2023-11-05T06:57:47.084430Z"
    }
   },
   "id": "490655dba195b7d6"
  },
  {
   "cell_type": "code",
   "execution_count": 36,
   "outputs": [
    {
     "data": {
      "text/plain": "SOAccount\nYes                        66282\nNo                         14618\nNot sure/can't remember     6952\nName: count, dtype: int64"
     },
     "execution_count": 36,
     "metadata": {},
     "output_type": "execute_result"
    }
   ],
   "source": [
    "df['SOAccount'].value_counts()"
   ],
   "metadata": {
    "collapsed": false,
    "ExecuteTime": {
     "end_time": "2023-11-05T06:57:47.093604Z",
     "start_time": "2023-11-05T06:57:47.091278Z"
    }
   },
   "id": "154341d728bfdd24"
  },
  {
   "cell_type": "code",
   "execution_count": 41,
   "outputs": [
    {
     "data": {
      "text/plain": "SOAccount\nYes                        0.754473\nNo                         0.166393\nNot sure/can't remember    0.079133\nName: proportion, dtype: float64"
     },
     "execution_count": 41,
     "metadata": {},
     "output_type": "execute_result"
    }
   ],
   "source": [
    "df['SOAccount'].value_counts(normalize=True)"
   ],
   "metadata": {
    "collapsed": false,
    "ExecuteTime": {
     "end_time": "2023-11-05T06:58:26.047872Z",
     "start_time": "2023-11-05T06:58:26.041268Z"
    }
   },
   "id": "374c25ae9a169610"
  },
  {
   "cell_type": "code",
   "execution_count": 43,
   "outputs": [
    {
     "data": {
      "text/plain": "Country\nUnited States of America                                18647\nGermany                                                  7328\nIndia                                                    5625\nUnited Kingdom of Great Britain and Northern Ireland     5552\nCanada                                                   3507\n                                                        ...  \nSaint Kitts and Nevis                                       1\nMarshall Islands                                            1\nSamoa                                                       1\nCentral African Republic                                    1\nSan Marino                                                  1\nName: count, Length: 185, dtype: int64"
     },
     "execution_count": 43,
     "metadata": {},
     "output_type": "execute_result"
    }
   ],
   "source": [
    "df['Country'].value_counts()"
   ],
   "metadata": {
    "collapsed": false,
    "ExecuteTime": {
     "end_time": "2023-11-05T06:58:47.162231Z",
     "start_time": "2023-11-05T06:58:47.154044Z"
    }
   },
   "id": "e9abb165a0efa996"
  },
  {
   "cell_type": "code",
   "execution_count": 60,
   "outputs": [
    {
     "data": {
      "text/plain": "id                        5625\nConvertedCompYearly       1868\nCountry                   5625\nCurrency                  3705\nConvertedCompYearly.1     1868\nLanguageHaveWorkedWith    5520\nRemoteWork                4147\nCompTotal                 1915\nWorkExp                   2901\nSOAccount                 5606\nEmployment                5612\nYearsCode                 5533\nYearsCodePro              3643\nDevType                   4493\ndtype: int64"
     },
     "execution_count": 60,
     "metadata": {},
     "output_type": "execute_result"
    }
   ],
   "source": [
    "country_gp = df.groupby(['Country'])\n",
    "\n",
    "country_gp.get_group('India').count()"
   ],
   "metadata": {
    "collapsed": false,
    "ExecuteTime": {
     "end_time": "2023-11-05T07:05:14.679843Z",
     "start_time": "2023-11-05T07:05:14.669456Z"
    }
   },
   "id": "22fec581025d304"
  },
  {
   "cell_type": "code",
   "execution_count": 61,
   "outputs": [
    {
     "data": {
      "text/plain": "RemoteWork\nHybrid (some remote, some in-person)    1638\nRemote                                  1405\nIn-person                               1104\nName: count, dtype: int64"
     },
     "execution_count": 61,
     "metadata": {},
     "output_type": "execute_result"
    }
   ],
   "source": [
    "country_gp.get_group('India')['RemoteWork'].value_counts()"
   ],
   "metadata": {
    "collapsed": false,
    "ExecuteTime": {
     "end_time": "2023-11-05T07:05:39.082035Z",
     "start_time": "2023-11-05T07:05:39.075724Z"
    }
   },
   "id": "2360889310b99c99"
  },
  {
   "cell_type": "code",
   "execution_count": 77,
   "outputs": [
    {
     "data": {
      "text/plain": "Country      RemoteWork                          \nAfghanistan  Hybrid (some remote, some in-person)    17\n             Remote                                  17\n             In-person                                8\nAlbania      Hybrid (some remote, some in-person)    18\n             In-person                               17\n                                                     ..\nZambia       Hybrid (some remote, some in-person)     5\n             Remote                                   3\nZimbabwe     Remote                                   7\n             Hybrid (some remote, some in-person)     5\n             In-person                                5\nName: count, Length: 490, dtype: int64"
     },
     "execution_count": 77,
     "metadata": {},
     "output_type": "execute_result"
    }
   ],
   "source": [
    "country_gp['RemoteWork'].value_counts() ## Returns multiple-indexed series"
   ],
   "metadata": {
    "collapsed": false,
    "ExecuteTime": {
     "end_time": "2023-11-05T07:10:35.538637Z",
     "start_time": "2023-11-05T07:10:35.528063Z"
    }
   },
   "id": "dff0264008f19a25"
  },
  {
   "cell_type": "code",
   "execution_count": 82,
   "outputs": [
    {
     "data": {
      "text/plain": "                                          min        max           mean  \\\nCountry                                                                   \nAfghanistan                              33.0  9203683.0  843636.090909   \nAlbania                                  14.0   139700.0   29219.450000   \nAlgeria                                 512.0    37776.0   10069.190476   \nAndorra                               23560.0   289142.0  120368.800000   \nAngola                                  662.0     7942.0    4302.000000   \n...                                       ...        ...            ...   \nVenezuela, Bolivarian Republic of...      5.0   180000.0   23068.851852   \nViet Nam                                  1.0   125000.0   20995.956140   \nYemen                                  1500.0    59917.0   15089.333333   \nZambia                                  605.0    41122.0   13897.800000   \nZimbabwe                               3000.0   114000.0   26740.000000   \n\n                                       median  \nCountry                                        \nAfghanistan                             915.0  \nAlbania                               10741.0  \nAlgeria                                8782.0  \nAndorra                               42836.0  \nAngola                                 4302.0  \n...                                       ...  \nVenezuela, Bolivarian Republic of...  12000.0  \nViet Nam                              12763.0  \nYemen                                  6500.0  \nZambia                                 9687.0  \nZimbabwe                              12500.0  \n\n[185 rows x 4 columns]",
      "text/html": "<div>\n<style scoped>\n    .dataframe tbody tr th:only-of-type {\n        vertical-align: middle;\n    }\n\n    .dataframe tbody tr th {\n        vertical-align: top;\n    }\n\n    .dataframe thead th {\n        text-align: right;\n    }\n</style>\n<table border=\"1\" class=\"dataframe\">\n  <thead>\n    <tr style=\"text-align: right;\">\n      <th></th>\n      <th>min</th>\n      <th>max</th>\n      <th>mean</th>\n      <th>median</th>\n    </tr>\n    <tr>\n      <th>Country</th>\n      <th></th>\n      <th></th>\n      <th></th>\n      <th></th>\n    </tr>\n  </thead>\n  <tbody>\n    <tr>\n      <th>Afghanistan</th>\n      <td>33.0</td>\n      <td>9203683.0</td>\n      <td>843636.090909</td>\n      <td>915.0</td>\n    </tr>\n    <tr>\n      <th>Albania</th>\n      <td>14.0</td>\n      <td>139700.0</td>\n      <td>29219.450000</td>\n      <td>10741.0</td>\n    </tr>\n    <tr>\n      <th>Algeria</th>\n      <td>512.0</td>\n      <td>37776.0</td>\n      <td>10069.190476</td>\n      <td>8782.0</td>\n    </tr>\n    <tr>\n      <th>Andorra</th>\n      <td>23560.0</td>\n      <td>289142.0</td>\n      <td>120368.800000</td>\n      <td>42836.0</td>\n    </tr>\n    <tr>\n      <th>Angola</th>\n      <td>662.0</td>\n      <td>7942.0</td>\n      <td>4302.000000</td>\n      <td>4302.0</td>\n    </tr>\n    <tr>\n      <th>...</th>\n      <td>...</td>\n      <td>...</td>\n      <td>...</td>\n      <td>...</td>\n    </tr>\n    <tr>\n      <th>Venezuela, Bolivarian Republic of...</th>\n      <td>5.0</td>\n      <td>180000.0</td>\n      <td>23068.851852</td>\n      <td>12000.0</td>\n    </tr>\n    <tr>\n      <th>Viet Nam</th>\n      <td>1.0</td>\n      <td>125000.0</td>\n      <td>20995.956140</td>\n      <td>12763.0</td>\n    </tr>\n    <tr>\n      <th>Yemen</th>\n      <td>1500.0</td>\n      <td>59917.0</td>\n      <td>15089.333333</td>\n      <td>6500.0</td>\n    </tr>\n    <tr>\n      <th>Zambia</th>\n      <td>605.0</td>\n      <td>41122.0</td>\n      <td>13897.800000</td>\n      <td>9687.0</td>\n    </tr>\n    <tr>\n      <th>Zimbabwe</th>\n      <td>3000.0</td>\n      <td>114000.0</td>\n      <td>26740.000000</td>\n      <td>12500.0</td>\n    </tr>\n  </tbody>\n</table>\n<p>185 rows × 4 columns</p>\n</div>"
     },
     "execution_count": 82,
     "metadata": {},
     "output_type": "execute_result"
    }
   ],
   "source": [
    "country_gp['ConvertedCompYearly'].agg(['min','max','mean','median'])"
   ],
   "metadata": {
    "collapsed": false,
    "ExecuteTime": {
     "end_time": "2023-11-05T09:26:49.551618Z",
     "start_time": "2023-11-05T09:26:49.530893Z"
    }
   },
   "id": "133fe2831a527331"
  },
  {
   "cell_type": "code",
   "execution_count": 99,
   "outputs": [
    {
     "data": {
      "text/plain": "2793"
     },
     "execution_count": 99,
     "metadata": {},
     "output_type": "execute_result"
    }
   ],
   "source": [
    "filter_india = df['Country'] == 'India'\n",
    "python_series = df[filter_india]['LanguageHaveWorkedWith'].str.contains('Python')\n",
    "python_series.sum()"
   ],
   "metadata": {
    "collapsed": false,
    "ExecuteTime": {
     "end_time": "2023-11-05T09:30:41.970976Z",
     "start_time": "2023-11-05T09:30:41.962486Z"
    }
   },
   "id": "a1516afe5b2dd634"
  },
  {
   "cell_type": "code",
   "execution_count": 136,
   "outputs": [
    {
     "data": {
      "text/plain": "Country\nAfghanistan                              22\nAlbania                                  19\nAlgeria                                  35\nAndorra                                   5\nAngola                                    4\n                                       ... \nVenezuela, Bolivarian Republic of...     42\nViet Nam                                174\nYemen                                     8\nZambia                                   11\nZimbabwe                                 19\nName: LanguageHaveWorkedWith, Length: 185, dtype: int64"
     },
     "execution_count": 136,
     "metadata": {},
     "output_type": "execute_result"
    }
   ],
   "source": [
    "# country_gp['LanguageHaveWorkedWith'].str.contains('Python') ## will not work with groups-of-series\n",
    "country_uses_python = country_gp['LanguageHaveWorkedWith'].apply(lambda series: series.str.contains('Python').sum())\n",
    "country_uses_python"
   ],
   "metadata": {
    "collapsed": false,
    "ExecuteTime": {
     "end_time": "2023-11-05T09:44:44.268597Z",
     "start_time": "2023-11-05T09:44:44.199241Z"
    }
   },
   "id": "10b84580b045e194"
  },
  {
   "cell_type": "code",
   "execution_count": 135,
   "outputs": [
    {
     "data": {
      "text/plain": "Country\nAfghanistan                              58\nAlbania                                  55\nAlgeria                                  83\nAndorra                                  15\nAngola                                   11\n                                       ... \nVenezuela, Bolivarian Republic of...    103\nViet Nam                                380\nYemen                                    18\nZambia                                   26\nZimbabwe                                 33\nName: LanguageHaveWorkedWith, Length: 185, dtype: int64"
     },
     "execution_count": 135,
     "metadata": {},
     "output_type": "execute_result"
    }
   ],
   "source": [
    "country_wise_response_count = country_gp['LanguageHaveWorkedWith'].count()\n",
    "country_wise_response_count"
   ],
   "metadata": {
    "collapsed": false,
    "ExecuteTime": {
     "end_time": "2023-11-05T09:44:10.796840Z",
     "start_time": "2023-11-05T09:44:10.788326Z"
    }
   },
   "id": "43475e0d72e2be5b"
  },
  {
   "cell_type": "code",
   "execution_count": 149,
   "outputs": [
    {
     "data": {
      "text/plain": "                                      TotalRespondents  KnowsPython\nCountry                                                            \nAfghanistan                                         58           22\nAlbania                                             55           19\nAlgeria                                             83           35\nAndorra                                             15            5\nAngola                                              11            4\n...                                                ...          ...\nVenezuela, Bolivarian Republic of...               103           42\nViet Nam                                           380          174\nYemen                                               18            8\nZambia                                              26           11\nZimbabwe                                            33           19\n\n[185 rows x 2 columns]",
      "text/html": "<div>\n<style scoped>\n    .dataframe tbody tr th:only-of-type {\n        vertical-align: middle;\n    }\n\n    .dataframe tbody tr th {\n        vertical-align: top;\n    }\n\n    .dataframe thead th {\n        text-align: right;\n    }\n</style>\n<table border=\"1\" class=\"dataframe\">\n  <thead>\n    <tr style=\"text-align: right;\">\n      <th></th>\n      <th>TotalRespondents</th>\n      <th>KnowsPython</th>\n    </tr>\n    <tr>\n      <th>Country</th>\n      <th></th>\n      <th></th>\n    </tr>\n  </thead>\n  <tbody>\n    <tr>\n      <th>Afghanistan</th>\n      <td>58</td>\n      <td>22</td>\n    </tr>\n    <tr>\n      <th>Albania</th>\n      <td>55</td>\n      <td>19</td>\n    </tr>\n    <tr>\n      <th>Algeria</th>\n      <td>83</td>\n      <td>35</td>\n    </tr>\n    <tr>\n      <th>Andorra</th>\n      <td>15</td>\n      <td>5</td>\n    </tr>\n    <tr>\n      <th>Angola</th>\n      <td>11</td>\n      <td>4</td>\n    </tr>\n    <tr>\n      <th>...</th>\n      <td>...</td>\n      <td>...</td>\n    </tr>\n    <tr>\n      <th>Venezuela, Bolivarian Republic of...</th>\n      <td>103</td>\n      <td>42</td>\n    </tr>\n    <tr>\n      <th>Viet Nam</th>\n      <td>380</td>\n      <td>174</td>\n    </tr>\n    <tr>\n      <th>Yemen</th>\n      <td>18</td>\n      <td>8</td>\n    </tr>\n    <tr>\n      <th>Zambia</th>\n      <td>26</td>\n      <td>11</td>\n    </tr>\n    <tr>\n      <th>Zimbabwe</th>\n      <td>33</td>\n      <td>19</td>\n    </tr>\n  </tbody>\n</table>\n<p>185 rows × 2 columns</p>\n</div>"
     },
     "execution_count": 149,
     "metadata": {},
     "output_type": "execute_result"
    }
   ],
   "source": [
    "python_df = pd.concat([country_wise_response_count,country_uses_python], axis='columns', sort=False)\n",
    "\n",
    "columns = list(python_df.columns)\n",
    "columns[0] = 'TotalRespondents'\n",
    "columns[1] = 'KnowsPython'\n",
    "python_df.columns = columns\n",
    "python_df"
   ],
   "metadata": {
    "collapsed": false,
    "ExecuteTime": {
     "end_time": "2023-11-05T09:51:15.496426Z",
     "start_time": "2023-11-05T09:51:15.486255Z"
    }
   },
   "id": "d1cd5bc9d88404cb"
  },
  {
   "cell_type": "code",
   "execution_count": 156,
   "outputs": [
    {
     "data": {
      "text/plain": "                  TotalRespondents  KnowsPython  PercKnowsPython\nCountry                                                         \nNorth Korea                      4            4            100.0\nDominica                         2            2            100.0\nGrenada                          1            1            100.0\nLesotho                          4            4            100.0\nSan Marino                       1            1            100.0\n...                            ...          ...              ...\nGabon                            2            0              0.0\nMarshall Islands                 1            0              0.0\nMonaco                           2            0              0.0\nBahamas                          2            0              0.0\nNiger                            4            0              0.0\n\n[185 rows x 3 columns]",
      "text/html": "<div>\n<style scoped>\n    .dataframe tbody tr th:only-of-type {\n        vertical-align: middle;\n    }\n\n    .dataframe tbody tr th {\n        vertical-align: top;\n    }\n\n    .dataframe thead th {\n        text-align: right;\n    }\n</style>\n<table border=\"1\" class=\"dataframe\">\n  <thead>\n    <tr style=\"text-align: right;\">\n      <th></th>\n      <th>TotalRespondents</th>\n      <th>KnowsPython</th>\n      <th>PercKnowsPython</th>\n    </tr>\n    <tr>\n      <th>Country</th>\n      <th></th>\n      <th></th>\n      <th></th>\n    </tr>\n  </thead>\n  <tbody>\n    <tr>\n      <th>North Korea</th>\n      <td>4</td>\n      <td>4</td>\n      <td>100.0</td>\n    </tr>\n    <tr>\n      <th>Dominica</th>\n      <td>2</td>\n      <td>2</td>\n      <td>100.0</td>\n    </tr>\n    <tr>\n      <th>Grenada</th>\n      <td>1</td>\n      <td>1</td>\n      <td>100.0</td>\n    </tr>\n    <tr>\n      <th>Lesotho</th>\n      <td>4</td>\n      <td>4</td>\n      <td>100.0</td>\n    </tr>\n    <tr>\n      <th>San Marino</th>\n      <td>1</td>\n      <td>1</td>\n      <td>100.0</td>\n    </tr>\n    <tr>\n      <th>...</th>\n      <td>...</td>\n      <td>...</td>\n      <td>...</td>\n    </tr>\n    <tr>\n      <th>Gabon</th>\n      <td>2</td>\n      <td>0</td>\n      <td>0.0</td>\n    </tr>\n    <tr>\n      <th>Marshall Islands</th>\n      <td>1</td>\n      <td>0</td>\n      <td>0.0</td>\n    </tr>\n    <tr>\n      <th>Monaco</th>\n      <td>2</td>\n      <td>0</td>\n      <td>0.0</td>\n    </tr>\n    <tr>\n      <th>Bahamas</th>\n      <td>2</td>\n      <td>0</td>\n      <td>0.0</td>\n    </tr>\n    <tr>\n      <th>Niger</th>\n      <td>4</td>\n      <td>0</td>\n      <td>0.0</td>\n    </tr>\n  </tbody>\n</table>\n<p>185 rows × 3 columns</p>\n</div>"
     },
     "execution_count": 156,
     "metadata": {},
     "output_type": "execute_result"
    }
   ],
   "source": [
    "python_df['PercKnowsPython'] = (python_df['KnowsPython']/python_df['TotalRespondents']) * 100\n",
    "python_df.sort_values(by='PercKnowsPython', ascending=False, inplace=True)\n",
    "\n",
    "python_df"
   ],
   "metadata": {
    "collapsed": false,
    "ExecuteTime": {
     "end_time": "2023-11-05T09:53:13.051543Z",
     "start_time": "2023-11-05T09:53:13.042007Z"
    }
   },
   "id": "79d74d558749a5e8"
  }
 ],
 "metadata": {
  "kernelspec": {
   "display_name": "Python 3",
   "language": "python",
   "name": "python3"
  },
  "language_info": {
   "codemirror_mode": {
    "name": "ipython",
    "version": 2
   },
   "file_extension": ".py",
   "mimetype": "text/x-python",
   "name": "python",
   "nbconvert_exporter": "python",
   "pygments_lexer": "ipython2",
   "version": "2.7.6"
  }
 },
 "nbformat": 4,
 "nbformat_minor": 5
}
