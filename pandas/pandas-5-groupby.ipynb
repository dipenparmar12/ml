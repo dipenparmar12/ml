{
 "cells": [
  {
   "cell_type": "markdown",
   "source": [
    "Source: \n",
    "- https://www.w3resource.com/python-exercises/pandas/groupby/index.php\n",
    "- https://chat.openai.com/share/4d403d12-c68e-45d6-ab72-6c5f69809330\n",
    "- "
   ],
   "metadata": {
    "collapsed": false
   },
   "id": "abd841b8623ec792"
  },
  {
   "cell_type": "code",
   "execution_count": 2,
   "id": "initial_id",
   "metadata": {
    "collapsed": true,
    "ExecuteTime": {
     "end_time": "2023-11-04T12:07:30.562573Z",
     "start_time": "2023-11-04T12:07:30.268092Z"
    }
   },
   "outputs": [],
   "source": [
    "import pandas as pd\n",
    "import numpy as np"
   ]
  },
  {
   "cell_type": "code",
   "execution_count": 3,
   "outputs": [],
   "source": [
    "# import csv\n",
    "# csv_data = \"\"\"school,class,name,date_Of_Birth,age,height,weight,address\n",
    "# S1,s001,V,Alberto Franco,15/05/2002,12,173,35,street1\n",
    "# S2,s002,V,Gino Mcneill,17/05/2002,12,192,32,street2\n",
    "# S3,s003,VI,Ryan Parkes,16/02/1999,13,186,33,street3\n",
    "# S4,s001,VI,Eesha Hinton,25/09/1998,13,167,30,street1\n",
    "# S5,s002,V,Gino Mcneill,11/05/2002,14,151,31,street2\n",
    "# S6,s004,VI,David Parkes,15/09/1997,12,159,32,street4\"\"\"\n",
    "# \n",
    "# # Create a dictionary reader from the CSV data\n",
    "# csv_reader = csv.DictReader(csv_data.splitlines())\n",
    "# \n",
    "# # Convert the CSV data into a list of dictionaries\n",
    "# data_list = [row for row in csv_reader]\n",
    "# \n",
    "# df = pd.DataFrame(data_list)"
   ],
   "metadata": {
    "collapsed": false,
    "ExecuteTime": {
     "end_time": "2023-11-04T12:07:30.567325Z",
     "start_time": "2023-11-04T12:07:30.565644Z"
    }
   },
   "id": "8c5dbbe57eeac698"
  },
  {
   "cell_type": "code",
   "execution_count": 13,
   "outputs": [
    {
     "data": {
      "text/plain": "   school_code class            name date_Of_Birth   age  height  weight  \\\nS1        s001     V  Alberto Franco     15/05/2002   12     173      35   \nS2        s002     V    Gino Mcneill     17/05/2002   12     192      32   \nS3        s003    VI     Ryan Parkes     16/02/1999   13     186      33   \nS4        s001    VI    Eesha Hinton     25/09/1998   13     167      30   \nS5        s002     V    Gino Mcneill     11/05/2002   14     151      31   \nS6        s004    VI    David Parkes     15/09/1997   12     159      32   \n\n    address  \nS1  street1  \nS2  street2  \nS3  street3  \nS4  street1  \nS5  street2  \nS6  street4  ",
      "text/html": "<div>\n<style scoped>\n    .dataframe tbody tr th:only-of-type {\n        vertical-align: middle;\n    }\n\n    .dataframe tbody tr th {\n        vertical-align: top;\n    }\n\n    .dataframe thead th {\n        text-align: right;\n    }\n</style>\n<table border=\"1\" class=\"dataframe\">\n  <thead>\n    <tr style=\"text-align: right;\">\n      <th></th>\n      <th>school_code</th>\n      <th>class</th>\n      <th>name</th>\n      <th>date_Of_Birth</th>\n      <th>age</th>\n      <th>height</th>\n      <th>weight</th>\n      <th>address</th>\n    </tr>\n  </thead>\n  <tbody>\n    <tr>\n      <th>S1</th>\n      <td>s001</td>\n      <td>V</td>\n      <td>Alberto Franco</td>\n      <td>15/05/2002</td>\n      <td>12</td>\n      <td>173</td>\n      <td>35</td>\n      <td>street1</td>\n    </tr>\n    <tr>\n      <th>S2</th>\n      <td>s002</td>\n      <td>V</td>\n      <td>Gino Mcneill</td>\n      <td>17/05/2002</td>\n      <td>12</td>\n      <td>192</td>\n      <td>32</td>\n      <td>street2</td>\n    </tr>\n    <tr>\n      <th>S3</th>\n      <td>s003</td>\n      <td>VI</td>\n      <td>Ryan Parkes</td>\n      <td>16/02/1999</td>\n      <td>13</td>\n      <td>186</td>\n      <td>33</td>\n      <td>street3</td>\n    </tr>\n    <tr>\n      <th>S4</th>\n      <td>s001</td>\n      <td>VI</td>\n      <td>Eesha Hinton</td>\n      <td>25/09/1998</td>\n      <td>13</td>\n      <td>167</td>\n      <td>30</td>\n      <td>street1</td>\n    </tr>\n    <tr>\n      <th>S5</th>\n      <td>s002</td>\n      <td>V</td>\n      <td>Gino Mcneill</td>\n      <td>11/05/2002</td>\n      <td>14</td>\n      <td>151</td>\n      <td>31</td>\n      <td>street2</td>\n    </tr>\n    <tr>\n      <th>S6</th>\n      <td>s004</td>\n      <td>VI</td>\n      <td>David Parkes</td>\n      <td>15/09/1997</td>\n      <td>12</td>\n      <td>159</td>\n      <td>32</td>\n      <td>street4</td>\n    </tr>\n  </tbody>\n</table>\n</div>"
     },
     "execution_count": 13,
     "metadata": {},
     "output_type": "execute_result"
    }
   ],
   "source": [
    "pd.set_option('display.max_rows', None)\n",
    "#pd.set_option('display.max_columns', None)\n",
    "student_data = pd.DataFrame({\n",
    "    'school_code': ['s001','s002','s003','s001','s002','s004'],\n",
    "    'class': ['V', 'V', 'VI', 'VI', 'V', 'VI'],\n",
    "    'name': ['Alberto Franco','Gino Mcneill','Ryan Parkes', 'Eesha Hinton', 'Gino Mcneill', 'David Parkes'],\n",
    "    'date_Of_Birth ': ['15/05/2002','17/05/2002','16/02/1999','25/09/1998','11/05/2002','15/09/1997'],\n",
    "    'age': [12, 12, 13, 13, 14, 12],\n",
    "    'height': [173, 192, 186, 167, 151, 159],\n",
    "    'weight': [35, 32, 33, 30, 31, 32],\n",
    "    'address': ['street1', 'street2', 'street3', 'street1', 'street2', 'street4']},\n",
    "    index=['S1', 'S2', 'S3', 'S4', 'S5', 'S6'])\n",
    "\n",
    "student_data"
   ],
   "metadata": {
    "collapsed": false,
    "ExecuteTime": {
     "end_time": "2023-11-04T13:47:31.238716Z",
     "start_time": "2023-11-04T13:47:31.229532Z"
    }
   },
   "id": "c294e25205a39e68"
  },
  {
   "cell_type": "markdown",
   "source": [
    "1. Write a Pandas program to split the following dataframe into groups based on school code. Also check the type of GroupBy object."
   ],
   "metadata": {
    "collapsed": false
   },
   "id": "62afa4eb7d2e2c38"
  },
  {
   "cell_type": "code",
   "execution_count": 23,
   "outputs": [
    {
     "name": "stdout",
     "output_type": "stream",
     "text": [
      "\n",
      "Group:\n",
      "('s001',)\n",
      "   school_code class            name date_Of_Birth   age  height  weight  \\\n",
      "S1        s001     V  Alberto Franco     15/05/2002   12     173      35   \n",
      "S4        s001    VI    Eesha Hinton     25/09/1998   13     167      30   \n",
      "\n",
      "    address  \n",
      "S1  street1  \n",
      "S4  street1  \n",
      "\n",
      "Group:\n",
      "('s002',)\n",
      "   school_code class          name date_Of_Birth   age  height  weight  \\\n",
      "S2        s002     V  Gino Mcneill     17/05/2002   12     192      32   \n",
      "S5        s002     V  Gino Mcneill     11/05/2002   14     151      31   \n",
      "\n",
      "    address  \n",
      "S2  street2  \n",
      "S5  street2  \n",
      "\n",
      "Group:\n",
      "('s003',)\n",
      "   school_code class         name date_Of_Birth   age  height  weight  address\n",
      "S3        s003    VI  Ryan Parkes     16/02/1999   13     186      33  street3\n",
      "\n",
      "Group:\n",
      "('s004',)\n",
      "   school_code class          name date_Of_Birth   age  height  weight  \\\n",
      "S6        s004    VI  David Parkes     15/09/1997   12     159      32   \n",
      "\n",
      "    address  \n",
      "S6  street4  \n"
     ]
    }
   ],
   "source": [
    "result = student_data.groupby(['school_code'])\n",
    "\n",
    "for name,group in result:\n",
    "    print(\"\\nGroup:\")\n",
    "    print(name)\n",
    "    print(group)\n"
   ],
   "metadata": {
    "collapsed": false,
    "ExecuteTime": {
     "end_time": "2023-11-04T13:49:51.457180Z",
     "start_time": "2023-11-04T13:49:51.455522Z"
    }
   },
   "id": "f1de2172d88e4c07"
  }
 ],
 "metadata": {
  "kernelspec": {
   "display_name": "Python 3",
   "language": "python",
   "name": "python3"
  },
  "language_info": {
   "codemirror_mode": {
    "name": "ipython",
    "version": 2
   },
   "file_extension": ".py",
   "mimetype": "text/x-python",
   "name": "python",
   "nbconvert_exporter": "python",
   "pygments_lexer": "ipython2",
   "version": "2.7.6"
  }
 },
 "nbformat": 4,
 "nbformat_minor": 5
}
