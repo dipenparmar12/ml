{
 "cells": [
  {
   "cell_type": "code",
   "execution_count": 1,
   "id": "9ac439348d02dc03",
   "metadata": {
    "collapsed": false,
    "ExecuteTime": {
     "end_time": "2023-11-11T07:25:23.549773Z",
     "start_time": "2023-11-11T07:25:23.251119Z"
    }
   },
   "outputs": [],
   "source": [
    "import pandas as pd\n",
    "import numpy as np"
   ]
  },
  {
   "cell_type": "code",
   "execution_count": 2,
   "id": "eb39031a25795c60",
   "metadata": {
    "collapsed": false,
    "ExecuteTime": {
     "end_time": "2023-11-11T07:25:23.563240Z",
     "start_time": "2023-11-11T07:25:23.557164Z"
    }
   },
   "outputs": [
    {
     "data": {
      "text/plain": "     first      last                      email      age         dob\n0     John       Doe       john.doe@example.com       25  1998-03-15\n1      Bob   Johnson                         NA      NaN  1980-05-10\n2      Eve  Anderson                       None     None  1975-09-07\n3  Charlie     Brown  charlie.brown@example.com       40  1995-08-18\n4     None    Miller   grace.miller@example.com       28  1995-08-18\n5      NaN    Wilson             will@gmail.com       45  1989-06-25\n6   Sophia     Davis                        NaN      NaN          NA\n7       NA  Martinez  liam.martinez@example.com       37          NA\n8  MISSING      OKAY                    MISSING  MISSING     MISSING",
      "text/html": "<div>\n<style scoped>\n    .dataframe tbody tr th:only-of-type {\n        vertical-align: middle;\n    }\n\n    .dataframe tbody tr th {\n        vertical-align: top;\n    }\n\n    .dataframe thead th {\n        text-align: right;\n    }\n</style>\n<table border=\"1\" class=\"dataframe\">\n  <thead>\n    <tr style=\"text-align: right;\">\n      <th></th>\n      <th>first</th>\n      <th>last</th>\n      <th>email</th>\n      <th>age</th>\n      <th>dob</th>\n    </tr>\n  </thead>\n  <tbody>\n    <tr>\n      <th>0</th>\n      <td>John</td>\n      <td>Doe</td>\n      <td>john.doe@example.com</td>\n      <td>25</td>\n      <td>1998-03-15</td>\n    </tr>\n    <tr>\n      <th>1</th>\n      <td>Bob</td>\n      <td>Johnson</td>\n      <td>NA</td>\n      <td>NaN</td>\n      <td>1980-05-10</td>\n    </tr>\n    <tr>\n      <th>2</th>\n      <td>Eve</td>\n      <td>Anderson</td>\n      <td>None</td>\n      <td>None</td>\n      <td>1975-09-07</td>\n    </tr>\n    <tr>\n      <th>3</th>\n      <td>Charlie</td>\n      <td>Brown</td>\n      <td>charlie.brown@example.com</td>\n      <td>40</td>\n      <td>1995-08-18</td>\n    </tr>\n    <tr>\n      <th>4</th>\n      <td>None</td>\n      <td>Miller</td>\n      <td>grace.miller@example.com</td>\n      <td>28</td>\n      <td>1995-08-18</td>\n    </tr>\n    <tr>\n      <th>5</th>\n      <td>NaN</td>\n      <td>Wilson</td>\n      <td>will@gmail.com</td>\n      <td>45</td>\n      <td>1989-06-25</td>\n    </tr>\n    <tr>\n      <th>6</th>\n      <td>Sophia</td>\n      <td>Davis</td>\n      <td>NaN</td>\n      <td>NaN</td>\n      <td>NA</td>\n    </tr>\n    <tr>\n      <th>7</th>\n      <td>NA</td>\n      <td>Martinez</td>\n      <td>liam.martinez@example.com</td>\n      <td>37</td>\n      <td>NA</td>\n    </tr>\n    <tr>\n      <th>8</th>\n      <td>MISSING</td>\n      <td>OKAY</td>\n      <td>MISSING</td>\n      <td>MISSING</td>\n      <td>MISSING</td>\n    </tr>\n  </tbody>\n</table>\n</div>"
     },
     "execution_count": 2,
     "metadata": {},
     "output_type": "execute_result"
    }
   ],
   "source": [
    "data = {\n",
    "    'first': ['John', 'Bob', 'Eve', 'Charlie', None, np.nan, 'Sophia', 'NA', 'MISSING'],\n",
    "    'last': ['Doe', 'Johnson', 'Anderson', 'Brown', 'Miller', 'Wilson', 'Davis', 'Martinez', 'OKAY'],\n",
    "    'email': ['john.doe@example.com', 'NA', None, 'charlie.brown@example.com',\n",
    "              'grace.miller@example.com', 'will@gmail.com', np.nan, 'liam.martinez@example.com', 'MISSING'],\n",
    "    'age': [25, np.nan, None, 40, 28, 45, np.nan, 37, 'MISSING'],\n",
    "    'dob': ['1998-03-15', '1980-05-10', '1975-09-07', '1995-08-18', '1995-08-18', '1989-06-25',\n",
    "            'NA', 'NA', 'MISSING']\n",
    "}\n",
    "\n",
    "df = pd.DataFrame(data)\n",
    "df"
   ]
  },
  {
   "cell_type": "code",
   "execution_count": 3,
   "id": "d8f53770f67ed7dc",
   "metadata": {
    "collapsed": false,
    "ExecuteTime": {
     "end_time": "2023-11-11T07:25:23.569532Z",
     "start_time": "2023-11-11T07:25:23.567498Z"
    }
   },
   "outputs": [
    {
     "data": {
      "text/plain": "     first      last                      email   age         dob\n0     John       Doe       john.doe@example.com  25.0  1998-03-15\n1      Bob   Johnson                        NaN   NaN  1980-05-10\n2      Eve  Anderson                       None   NaN  1975-09-07\n3  Charlie     Brown  charlie.brown@example.com  40.0  1995-08-18\n4     None    Miller   grace.miller@example.com  28.0  1995-08-18\n5      NaN    Wilson             will@gmail.com  45.0  1989-06-25\n6   Sophia     Davis                        NaN   NaN         NaN\n7      NaN  Martinez  liam.martinez@example.com  37.0         NaN\n8      NaN      OKAY                        NaN   NaN         NaN",
      "text/html": "<div>\n<style scoped>\n    .dataframe tbody tr th:only-of-type {\n        vertical-align: middle;\n    }\n\n    .dataframe tbody tr th {\n        vertical-align: top;\n    }\n\n    .dataframe thead th {\n        text-align: right;\n    }\n</style>\n<table border=\"1\" class=\"dataframe\">\n  <thead>\n    <tr style=\"text-align: right;\">\n      <th></th>\n      <th>first</th>\n      <th>last</th>\n      <th>email</th>\n      <th>age</th>\n      <th>dob</th>\n    </tr>\n  </thead>\n  <tbody>\n    <tr>\n      <th>0</th>\n      <td>John</td>\n      <td>Doe</td>\n      <td>john.doe@example.com</td>\n      <td>25.0</td>\n      <td>1998-03-15</td>\n    </tr>\n    <tr>\n      <th>1</th>\n      <td>Bob</td>\n      <td>Johnson</td>\n      <td>NaN</td>\n      <td>NaN</td>\n      <td>1980-05-10</td>\n    </tr>\n    <tr>\n      <th>2</th>\n      <td>Eve</td>\n      <td>Anderson</td>\n      <td>None</td>\n      <td>NaN</td>\n      <td>1975-09-07</td>\n    </tr>\n    <tr>\n      <th>3</th>\n      <td>Charlie</td>\n      <td>Brown</td>\n      <td>charlie.brown@example.com</td>\n      <td>40.0</td>\n      <td>1995-08-18</td>\n    </tr>\n    <tr>\n      <th>4</th>\n      <td>None</td>\n      <td>Miller</td>\n      <td>grace.miller@example.com</td>\n      <td>28.0</td>\n      <td>1995-08-18</td>\n    </tr>\n    <tr>\n      <th>5</th>\n      <td>NaN</td>\n      <td>Wilson</td>\n      <td>will@gmail.com</td>\n      <td>45.0</td>\n      <td>1989-06-25</td>\n    </tr>\n    <tr>\n      <th>6</th>\n      <td>Sophia</td>\n      <td>Davis</td>\n      <td>NaN</td>\n      <td>NaN</td>\n      <td>NaN</td>\n    </tr>\n    <tr>\n      <th>7</th>\n      <td>NaN</td>\n      <td>Martinez</td>\n      <td>liam.martinez@example.com</td>\n      <td>37.0</td>\n      <td>NaN</td>\n    </tr>\n    <tr>\n      <th>8</th>\n      <td>NaN</td>\n      <td>OKAY</td>\n      <td>NaN</td>\n      <td>NaN</td>\n      <td>NaN</td>\n    </tr>\n  </tbody>\n</table>\n</div>"
     },
     "execution_count": 3,
     "metadata": {},
     "output_type": "execute_result"
    }
   ],
   "source": [
    "# Convert 'NA' and 'MISSING' to actual NaN values\n",
    "df = df.replace(['NA', 'MISSING'], np.nan)\n",
    "df\n",
    "\n",
    "# df.replace('NA', np.nan, inplace=True)\n",
    "# df.replace('MISSING', np.nan, inplace=True)"
   ]
  },
  {
   "cell_type": "code",
   "execution_count": 4,
   "id": "7734a7c174582fc",
   "metadata": {
    "collapsed": false,
    "ExecuteTime": {
     "end_time": "2023-11-11T07:25:23.584963Z",
     "start_time": "2023-11-11T07:25:23.573111Z"
    }
   },
   "outputs": [
    {
     "data": {
      "text/plain": "   first   last  email    age    dob\n0  False  False  False  False  False\n1  False  False   True   True  False\n2  False  False   True   True  False\n3  False  False  False  False  False\n4   True  False  False  False  False\n5   True  False  False  False  False\n6  False  False   True   True   True\n7   True  False  False  False   True\n8   True  False   True   True   True",
      "text/html": "<div>\n<style scoped>\n    .dataframe tbody tr th:only-of-type {\n        vertical-align: middle;\n    }\n\n    .dataframe tbody tr th {\n        vertical-align: top;\n    }\n\n    .dataframe thead th {\n        text-align: right;\n    }\n</style>\n<table border=\"1\" class=\"dataframe\">\n  <thead>\n    <tr style=\"text-align: right;\">\n      <th></th>\n      <th>first</th>\n      <th>last</th>\n      <th>email</th>\n      <th>age</th>\n      <th>dob</th>\n    </tr>\n  </thead>\n  <tbody>\n    <tr>\n      <th>0</th>\n      <td>False</td>\n      <td>False</td>\n      <td>False</td>\n      <td>False</td>\n      <td>False</td>\n    </tr>\n    <tr>\n      <th>1</th>\n      <td>False</td>\n      <td>False</td>\n      <td>True</td>\n      <td>True</td>\n      <td>False</td>\n    </tr>\n    <tr>\n      <th>2</th>\n      <td>False</td>\n      <td>False</td>\n      <td>True</td>\n      <td>True</td>\n      <td>False</td>\n    </tr>\n    <tr>\n      <th>3</th>\n      <td>False</td>\n      <td>False</td>\n      <td>False</td>\n      <td>False</td>\n      <td>False</td>\n    </tr>\n    <tr>\n      <th>4</th>\n      <td>True</td>\n      <td>False</td>\n      <td>False</td>\n      <td>False</td>\n      <td>False</td>\n    </tr>\n    <tr>\n      <th>5</th>\n      <td>True</td>\n      <td>False</td>\n      <td>False</td>\n      <td>False</td>\n      <td>False</td>\n    </tr>\n    <tr>\n      <th>6</th>\n      <td>False</td>\n      <td>False</td>\n      <td>True</td>\n      <td>True</td>\n      <td>True</td>\n    </tr>\n    <tr>\n      <th>7</th>\n      <td>True</td>\n      <td>False</td>\n      <td>False</td>\n      <td>False</td>\n      <td>True</td>\n    </tr>\n    <tr>\n      <th>8</th>\n      <td>True</td>\n      <td>False</td>\n      <td>True</td>\n      <td>True</td>\n      <td>True</td>\n    </tr>\n  </tbody>\n</table>\n</div>"
     },
     "execution_count": 4,
     "metadata": {},
     "output_type": "execute_result"
    }
   ],
   "source": [
    "# Detect missing values.\n",
    "df.isna()"
   ]
  },
  {
   "cell_type": "code",
   "execution_count": 5,
   "id": "3fc6c4477cf1e1a3",
   "metadata": {
    "collapsed": false,
    "ExecuteTime": {
     "end_time": "2023-11-11T07:25:23.634082Z",
     "start_time": "2023-11-11T07:25:23.578689Z"
    }
   },
   "outputs": [
    {
     "data": {
      "text/plain": "       first      last                      email        age         dob\n0       John       Doe       john.doe@example.com       25.0  1998-03-15\n1        Bob   Johnson                  <MISSING>  <MISSING>  1980-05-10\n2        Eve  Anderson                  <MISSING>  <MISSING>  1975-09-07\n3    Charlie     Brown  charlie.brown@example.com       40.0  1995-08-18\n4  <MISSING>    Miller   grace.miller@example.com       28.0  1995-08-18\n5  <MISSING>    Wilson             will@gmail.com       45.0  1989-06-25\n6     Sophia     Davis                  <MISSING>  <MISSING>   <MISSING>\n7  <MISSING>  Martinez  liam.martinez@example.com       37.0   <MISSING>\n8  <MISSING>      OKAY                  <MISSING>  <MISSING>   <MISSING>",
      "text/html": "<div>\n<style scoped>\n    .dataframe tbody tr th:only-of-type {\n        vertical-align: middle;\n    }\n\n    .dataframe tbody tr th {\n        vertical-align: top;\n    }\n\n    .dataframe thead th {\n        text-align: right;\n    }\n</style>\n<table border=\"1\" class=\"dataframe\">\n  <thead>\n    <tr style=\"text-align: right;\">\n      <th></th>\n      <th>first</th>\n      <th>last</th>\n      <th>email</th>\n      <th>age</th>\n      <th>dob</th>\n    </tr>\n  </thead>\n  <tbody>\n    <tr>\n      <th>0</th>\n      <td>John</td>\n      <td>Doe</td>\n      <td>john.doe@example.com</td>\n      <td>25.0</td>\n      <td>1998-03-15</td>\n    </tr>\n    <tr>\n      <th>1</th>\n      <td>Bob</td>\n      <td>Johnson</td>\n      <td>&lt;MISSING&gt;</td>\n      <td>&lt;MISSING&gt;</td>\n      <td>1980-05-10</td>\n    </tr>\n    <tr>\n      <th>2</th>\n      <td>Eve</td>\n      <td>Anderson</td>\n      <td>&lt;MISSING&gt;</td>\n      <td>&lt;MISSING&gt;</td>\n      <td>1975-09-07</td>\n    </tr>\n    <tr>\n      <th>3</th>\n      <td>Charlie</td>\n      <td>Brown</td>\n      <td>charlie.brown@example.com</td>\n      <td>40.0</td>\n      <td>1995-08-18</td>\n    </tr>\n    <tr>\n      <th>4</th>\n      <td>&lt;MISSING&gt;</td>\n      <td>Miller</td>\n      <td>grace.miller@example.com</td>\n      <td>28.0</td>\n      <td>1995-08-18</td>\n    </tr>\n    <tr>\n      <th>5</th>\n      <td>&lt;MISSING&gt;</td>\n      <td>Wilson</td>\n      <td>will@gmail.com</td>\n      <td>45.0</td>\n      <td>1989-06-25</td>\n    </tr>\n    <tr>\n      <th>6</th>\n      <td>Sophia</td>\n      <td>Davis</td>\n      <td>&lt;MISSING&gt;</td>\n      <td>&lt;MISSING&gt;</td>\n      <td>&lt;MISSING&gt;</td>\n    </tr>\n    <tr>\n      <th>7</th>\n      <td>&lt;MISSING&gt;</td>\n      <td>Martinez</td>\n      <td>liam.martinez@example.com</td>\n      <td>37.0</td>\n      <td>&lt;MISSING&gt;</td>\n    </tr>\n    <tr>\n      <th>8</th>\n      <td>&lt;MISSING&gt;</td>\n      <td>OKAY</td>\n      <td>&lt;MISSING&gt;</td>\n      <td>&lt;MISSING&gt;</td>\n      <td>&lt;MISSING&gt;</td>\n    </tr>\n  </tbody>\n</table>\n</div>"
     },
     "execution_count": 5,
     "metadata": {},
     "output_type": "execute_result"
    }
   ],
   "source": [
    "# Fill NA/NaN values using the specified method.\n",
    "df.fillna(\"<MISSING>\")"
   ]
  },
  {
   "cell_type": "code",
   "execution_count": 6,
   "id": "f808435e4ca43e2b",
   "metadata": {
    "collapsed": false,
    "ExecuteTime": {
     "end_time": "2023-11-11T07:25:23.635134Z",
     "start_time": "2023-11-11T07:25:23.584688Z"
    }
   },
   "outputs": [
    {
     "data": {
      "text/plain": "     first   last                      email   age         dob\n0     John    Doe       john.doe@example.com  25.0  1998-03-15\n3  Charlie  Brown  charlie.brown@example.com  40.0  1995-08-18",
      "text/html": "<div>\n<style scoped>\n    .dataframe tbody tr th:only-of-type {\n        vertical-align: middle;\n    }\n\n    .dataframe tbody tr th {\n        vertical-align: top;\n    }\n\n    .dataframe thead th {\n        text-align: right;\n    }\n</style>\n<table border=\"1\" class=\"dataframe\">\n  <thead>\n    <tr style=\"text-align: right;\">\n      <th></th>\n      <th>first</th>\n      <th>last</th>\n      <th>email</th>\n      <th>age</th>\n      <th>dob</th>\n    </tr>\n  </thead>\n  <tbody>\n    <tr>\n      <th>0</th>\n      <td>John</td>\n      <td>Doe</td>\n      <td>john.doe@example.com</td>\n      <td>25.0</td>\n      <td>1998-03-15</td>\n    </tr>\n    <tr>\n      <th>3</th>\n      <td>Charlie</td>\n      <td>Brown</td>\n      <td>charlie.brown@example.com</td>\n      <td>40.0</td>\n      <td>1995-08-18</td>\n    </tr>\n  </tbody>\n</table>\n</div>"
     },
     "execution_count": 6,
     "metadata": {},
     "output_type": "execute_result"
    }
   ],
   "source": [
    "# Remove row's missing values \n",
    "df.dropna() # axis=0/index"
   ]
  },
  {
   "cell_type": "code",
   "execution_count": 7,
   "id": "d98cc98d57260674",
   "metadata": {
    "collapsed": false,
    "ExecuteTime": {
     "end_time": "2023-11-11T07:25:23.663266Z",
     "start_time": "2023-11-11T07:25:23.589441Z"
    }
   },
   "outputs": [
    {
     "data": {
      "text/plain": "       last\n0       Doe\n1   Johnson\n2  Anderson\n3     Brown\n4    Miller\n5    Wilson\n6     Davis\n7  Martinez\n8      OKAY",
      "text/html": "<div>\n<style scoped>\n    .dataframe tbody tr th:only-of-type {\n        vertical-align: middle;\n    }\n\n    .dataframe tbody tr th {\n        vertical-align: top;\n    }\n\n    .dataframe thead th {\n        text-align: right;\n    }\n</style>\n<table border=\"1\" class=\"dataframe\">\n  <thead>\n    <tr style=\"text-align: right;\">\n      <th></th>\n      <th>last</th>\n    </tr>\n  </thead>\n  <tbody>\n    <tr>\n      <th>0</th>\n      <td>Doe</td>\n    </tr>\n    <tr>\n      <th>1</th>\n      <td>Johnson</td>\n    </tr>\n    <tr>\n      <th>2</th>\n      <td>Anderson</td>\n    </tr>\n    <tr>\n      <th>3</th>\n      <td>Brown</td>\n    </tr>\n    <tr>\n      <th>4</th>\n      <td>Miller</td>\n    </tr>\n    <tr>\n      <th>5</th>\n      <td>Wilson</td>\n    </tr>\n    <tr>\n      <th>6</th>\n      <td>Davis</td>\n    </tr>\n    <tr>\n      <th>7</th>\n      <td>Martinez</td>\n    </tr>\n    <tr>\n      <th>8</th>\n      <td>OKAY</td>\n    </tr>\n  </tbody>\n</table>\n</div>"
     },
     "execution_count": 7,
     "metadata": {},
     "output_type": "execute_result"
    }
   ],
   "source": [
    "# Remove column if there is single missing value \n",
    "df.dropna(axis='columns')"
   ]
  },
  {
   "cell_type": "code",
   "execution_count": 8,
   "id": "1d3531786ead78ee",
   "metadata": {
    "collapsed": false,
    "ExecuteTime": {
     "end_time": "2023-11-11T07:25:23.676943Z",
     "start_time": "2023-11-11T07:25:23.595167Z"
    }
   },
   "outputs": [
    {
     "data": {
      "text/plain": "     first   last                      email   age         dob\n0     John    Doe       john.doe@example.com  25.0  1998-03-15\n3  Charlie  Brown  charlie.brown@example.com  40.0  1995-08-18",
      "text/html": "<div>\n<style scoped>\n    .dataframe tbody tr th:only-of-type {\n        vertical-align: middle;\n    }\n\n    .dataframe tbody tr th {\n        vertical-align: top;\n    }\n\n    .dataframe thead th {\n        text-align: right;\n    }\n</style>\n<table border=\"1\" class=\"dataframe\">\n  <thead>\n    <tr style=\"text-align: right;\">\n      <th></th>\n      <th>first</th>\n      <th>last</th>\n      <th>email</th>\n      <th>age</th>\n      <th>dob</th>\n    </tr>\n  </thead>\n  <tbody>\n    <tr>\n      <th>0</th>\n      <td>John</td>\n      <td>Doe</td>\n      <td>john.doe@example.com</td>\n      <td>25.0</td>\n      <td>1998-03-15</td>\n    </tr>\n    <tr>\n      <th>3</th>\n      <td>Charlie</td>\n      <td>Brown</td>\n      <td>charlie.brown@example.com</td>\n      <td>40.0</td>\n      <td>1995-08-18</td>\n    </tr>\n  </tbody>\n</table>\n</div>"
     },
     "execution_count": 8,
     "metadata": {},
     "output_type": "execute_result"
    }
   ],
   "source": [
    "# Exercise: Drop all rows that contain at least one missing value\n",
    "df.dropna(axis='index', how='any')"
   ]
  },
  {
   "cell_type": "code",
   "execution_count": 9,
   "id": "92bae0ba782845d2",
   "metadata": {
    "collapsed": false,
    "ExecuteTime": {
     "end_time": "2023-11-11T07:25:23.680978Z",
     "start_time": "2023-11-11T07:25:23.600864Z"
    }
   },
   "outputs": [
    {
     "data": {
      "text/plain": "     first      last                      email   age         dob\n0     John       Doe       john.doe@example.com  25.0  1998-03-15\n3  Charlie     Brown  charlie.brown@example.com  40.0  1995-08-18\n4     None    Miller   grace.miller@example.com  28.0  1995-08-18\n5      NaN    Wilson             will@gmail.com  45.0  1989-06-25\n7      NaN  Martinez  liam.martinez@example.com  37.0         NaN",
      "text/html": "<div>\n<style scoped>\n    .dataframe tbody tr th:only-of-type {\n        vertical-align: middle;\n    }\n\n    .dataframe tbody tr th {\n        vertical-align: top;\n    }\n\n    .dataframe thead th {\n        text-align: right;\n    }\n</style>\n<table border=\"1\" class=\"dataframe\">\n  <thead>\n    <tr style=\"text-align: right;\">\n      <th></th>\n      <th>first</th>\n      <th>last</th>\n      <th>email</th>\n      <th>age</th>\n      <th>dob</th>\n    </tr>\n  </thead>\n  <tbody>\n    <tr>\n      <th>0</th>\n      <td>John</td>\n      <td>Doe</td>\n      <td>john.doe@example.com</td>\n      <td>25.0</td>\n      <td>1998-03-15</td>\n    </tr>\n    <tr>\n      <th>3</th>\n      <td>Charlie</td>\n      <td>Brown</td>\n      <td>charlie.brown@example.com</td>\n      <td>40.0</td>\n      <td>1995-08-18</td>\n    </tr>\n    <tr>\n      <th>4</th>\n      <td>None</td>\n      <td>Miller</td>\n      <td>grace.miller@example.com</td>\n      <td>28.0</td>\n      <td>1995-08-18</td>\n    </tr>\n    <tr>\n      <th>5</th>\n      <td>NaN</td>\n      <td>Wilson</td>\n      <td>will@gmail.com</td>\n      <td>45.0</td>\n      <td>1989-06-25</td>\n    </tr>\n    <tr>\n      <th>7</th>\n      <td>NaN</td>\n      <td>Martinez</td>\n      <td>liam.martinez@example.com</td>\n      <td>37.0</td>\n      <td>NaN</td>\n    </tr>\n  </tbody>\n</table>\n</div>"
     },
     "execution_count": 9,
     "metadata": {},
     "output_type": "execute_result"
    }
   ],
   "source": [
    "# Exercise: Drop only the rows where column 'Age' has missing values\n",
    "df.dropna(subset=['email'])"
   ]
  },
  {
   "cell_type": "code",
   "execution_count": 10,
   "id": "87650d5aa31f6a62",
   "metadata": {
    "collapsed": false,
    "ExecuteTime": {
     "end_time": "2023-11-11T07:25:23.749011Z",
     "start_time": "2023-11-11T07:25:23.604533Z"
    }
   },
   "outputs": [
    {
     "data": {
      "text/plain": "     first      last                      email   age         dob\n0     John       Doe       john.doe@example.com  25.0  1998-03-15\n1      Bob   Johnson                        NaN   NaN  1980-05-10\n2      Eve  Anderson                       None   NaN  1975-09-07\n3  Charlie     Brown  charlie.brown@example.com  40.0  1995-08-18\n4     None    Miller   grace.miller@example.com  28.0  1995-08-18\n5      NaN    Wilson             will@gmail.com  45.0  1989-06-25\n6   Sophia     Davis                        NaN   NaN         NaN\n7      NaN  Martinez  liam.martinez@example.com  37.0         NaN\n8      NaN      OKAY                        NaN   NaN         NaN",
      "text/html": "<div>\n<style scoped>\n    .dataframe tbody tr th:only-of-type {\n        vertical-align: middle;\n    }\n\n    .dataframe tbody tr th {\n        vertical-align: top;\n    }\n\n    .dataframe thead th {\n        text-align: right;\n    }\n</style>\n<table border=\"1\" class=\"dataframe\">\n  <thead>\n    <tr style=\"text-align: right;\">\n      <th></th>\n      <th>first</th>\n      <th>last</th>\n      <th>email</th>\n      <th>age</th>\n      <th>dob</th>\n    </tr>\n  </thead>\n  <tbody>\n    <tr>\n      <th>0</th>\n      <td>John</td>\n      <td>Doe</td>\n      <td>john.doe@example.com</td>\n      <td>25.0</td>\n      <td>1998-03-15</td>\n    </tr>\n    <tr>\n      <th>1</th>\n      <td>Bob</td>\n      <td>Johnson</td>\n      <td>NaN</td>\n      <td>NaN</td>\n      <td>1980-05-10</td>\n    </tr>\n    <tr>\n      <th>2</th>\n      <td>Eve</td>\n      <td>Anderson</td>\n      <td>None</td>\n      <td>NaN</td>\n      <td>1975-09-07</td>\n    </tr>\n    <tr>\n      <th>3</th>\n      <td>Charlie</td>\n      <td>Brown</td>\n      <td>charlie.brown@example.com</td>\n      <td>40.0</td>\n      <td>1995-08-18</td>\n    </tr>\n    <tr>\n      <th>4</th>\n      <td>None</td>\n      <td>Miller</td>\n      <td>grace.miller@example.com</td>\n      <td>28.0</td>\n      <td>1995-08-18</td>\n    </tr>\n    <tr>\n      <th>5</th>\n      <td>NaN</td>\n      <td>Wilson</td>\n      <td>will@gmail.com</td>\n      <td>45.0</td>\n      <td>1989-06-25</td>\n    </tr>\n    <tr>\n      <th>6</th>\n      <td>Sophia</td>\n      <td>Davis</td>\n      <td>NaN</td>\n      <td>NaN</td>\n      <td>NaN</td>\n    </tr>\n    <tr>\n      <th>7</th>\n      <td>NaN</td>\n      <td>Martinez</td>\n      <td>liam.martinez@example.com</td>\n      <td>37.0</td>\n      <td>NaN</td>\n    </tr>\n    <tr>\n      <th>8</th>\n      <td>NaN</td>\n      <td>OKAY</td>\n      <td>NaN</td>\n      <td>NaN</td>\n      <td>NaN</td>\n    </tr>\n  </tbody>\n</table>\n</div>"
     },
     "execution_count": 10,
     "metadata": {},
     "output_type": "execute_result"
    }
   ],
   "source": [
    "df"
   ]
  },
  {
   "cell_type": "code",
   "execution_count": 11,
   "id": "1612bfcee4ce9dfb",
   "metadata": {
    "collapsed": false,
    "ExecuteTime": {
     "end_time": "2023-11-11T07:25:23.749467Z",
     "start_time": "2023-11-11T07:25:23.609704Z"
    }
   },
   "outputs": [
    {
     "data": {
      "text/plain": "     first    last                      email   age         dob\n0     John     Doe       john.doe@example.com  25.0  1998-03-15\n3  Charlie   Brown  charlie.brown@example.com  40.0  1995-08-18\n4     None  Miller   grace.miller@example.com  28.0  1995-08-18\n5      NaN  Wilson             will@gmail.com  45.0  1989-06-25",
      "text/html": "<div>\n<style scoped>\n    .dataframe tbody tr th:only-of-type {\n        vertical-align: middle;\n    }\n\n    .dataframe tbody tr th {\n        vertical-align: top;\n    }\n\n    .dataframe thead th {\n        text-align: right;\n    }\n</style>\n<table border=\"1\" class=\"dataframe\">\n  <thead>\n    <tr style=\"text-align: right;\">\n      <th></th>\n      <th>first</th>\n      <th>last</th>\n      <th>email</th>\n      <th>age</th>\n      <th>dob</th>\n    </tr>\n  </thead>\n  <tbody>\n    <tr>\n      <th>0</th>\n      <td>John</td>\n      <td>Doe</td>\n      <td>john.doe@example.com</td>\n      <td>25.0</td>\n      <td>1998-03-15</td>\n    </tr>\n    <tr>\n      <th>3</th>\n      <td>Charlie</td>\n      <td>Brown</td>\n      <td>charlie.brown@example.com</td>\n      <td>40.0</td>\n      <td>1995-08-18</td>\n    </tr>\n    <tr>\n      <th>4</th>\n      <td>None</td>\n      <td>Miller</td>\n      <td>grace.miller@example.com</td>\n      <td>28.0</td>\n      <td>1995-08-18</td>\n    </tr>\n    <tr>\n      <th>5</th>\n      <td>NaN</td>\n      <td>Wilson</td>\n      <td>will@gmail.com</td>\n      <td>45.0</td>\n      <td>1989-06-25</td>\n    </tr>\n  </tbody>\n</table>\n</div>"
     },
     "execution_count": 11,
     "metadata": {},
     "output_type": "execute_result"
    }
   ],
   "source": [
    "# Exercise:  Drop rows with more than Four missing values\n",
    "df.dropna(thresh=4)\n",
    "# non-missing values required to keep a row or column.\n",
    "# If the number of non-missing/valid values is below the specified threshold, the row or column is dropped."
   ]
  },
  {
   "cell_type": "code",
   "execution_count": 12,
   "id": "dcb86f80-e359-4167-885e-ae9f649b93b5",
   "metadata": {
    "ExecuteTime": {
     "end_time": "2023-11-11T07:25:23.750294Z",
     "start_time": "2023-11-11T07:25:23.619726Z"
    }
   },
   "outputs": [
    {
     "name": "stdout",
     "output_type": "stream",
     "text": [
      "     first      last                      email   age         dob\n",
      "0     John       Doe       john.doe@example.com  25.0  1998-03-15\n",
      "1      Bob   Johnson                        NaN   NaN  1980-05-10\n",
      "2      Eve  Anderson                       None   NaN  1975-09-07\n",
      "3  Charlie     Brown  charlie.brown@example.com  40.0  1995-08-18\n",
      "4     None    Miller   grace.miller@example.com  28.0  1995-08-18\n",
      "5      NaN    Wilson             will@gmail.com  45.0  1989-06-25\n",
      "6   Sophia     Davis                        NaN   NaN         NaN\n",
      "7      NaN  Martinez  liam.martinez@example.com  37.0         NaN\n",
      "8      NaN      OKAY                        NaN   NaN         NaN\n"
     ]
    },
    {
     "data": {
      "text/plain": "     first   last                      email   age         dob\n0     John    Doe       john.doe@example.com  25.0  1998-03-15\n3  Charlie  Brown  charlie.brown@example.com  40.0  1995-08-18",
      "text/html": "<div>\n<style scoped>\n    .dataframe tbody tr th:only-of-type {\n        vertical-align: middle;\n    }\n\n    .dataframe tbody tr th {\n        vertical-align: top;\n    }\n\n    .dataframe thead th {\n        text-align: right;\n    }\n</style>\n<table border=\"1\" class=\"dataframe\">\n  <thead>\n    <tr style=\"text-align: right;\">\n      <th></th>\n      <th>first</th>\n      <th>last</th>\n      <th>email</th>\n      <th>age</th>\n      <th>dob</th>\n    </tr>\n  </thead>\n  <tbody>\n    <tr>\n      <th>0</th>\n      <td>John</td>\n      <td>Doe</td>\n      <td>john.doe@example.com</td>\n      <td>25.0</td>\n      <td>1998-03-15</td>\n    </tr>\n    <tr>\n      <th>3</th>\n      <td>Charlie</td>\n      <td>Brown</td>\n      <td>charlie.brown@example.com</td>\n      <td>40.0</td>\n      <td>1995-08-18</td>\n    </tr>\n  </tbody>\n</table>\n</div>"
     },
     "execution_count": 12,
     "metadata": {},
     "output_type": "execute_result"
    }
   ],
   "source": [
    "print(df) \n",
    "df.dropna(how='any') # Drop the row if any of its elements are missing."
   ]
  },
  {
   "cell_type": "code",
   "execution_count": 13,
   "id": "6b3a854a1c0dde95",
   "metadata": {
    "collapsed": false,
    "ExecuteTime": {
     "end_time": "2023-11-11T07:25:23.751258Z",
     "start_time": "2023-11-11T07:25:23.626892Z"
    }
   },
   "outputs": [
    {
     "name": "stdout",
     "output_type": "stream",
     "text": [
      "     first      last                      email   age         dob\n",
      "0     John       Doe       john.doe@example.com  25.0  1998-03-15\n",
      "1      Bob   Johnson                        NaN   NaN  1980-05-10\n",
      "2      Eve  Anderson                       None   NaN  1975-09-07\n",
      "3  Charlie     Brown  charlie.brown@example.com  40.0  1995-08-18\n",
      "4     None    Miller   grace.miller@example.com  28.0  1995-08-18\n",
      "5      NaN    Wilson             will@gmail.com  45.0  1989-06-25\n",
      "6   Sophia     Davis                        NaN   NaN         NaN\n",
      "7      NaN  Martinez  liam.martinez@example.com  37.0         NaN\n",
      "8      NaN       NaN                        NaN   NaN         NaN\n"
     ]
    },
    {
     "data": {
      "text/plain": "     first      last                      email   age         dob\n0     John       Doe       john.doe@example.com  25.0  1998-03-15\n1      Bob   Johnson                        NaN   NaN  1980-05-10\n2      Eve  Anderson                       None   NaN  1975-09-07\n3  Charlie     Brown  charlie.brown@example.com  40.0  1995-08-18\n4     None    Miller   grace.miller@example.com  28.0  1995-08-18\n5      NaN    Wilson             will@gmail.com  45.0  1989-06-25\n6   Sophia     Davis                        NaN   NaN         NaN\n7      NaN  Martinez  liam.martinez@example.com  37.0         NaN",
      "text/html": "<div>\n<style scoped>\n    .dataframe tbody tr th:only-of-type {\n        vertical-align: middle;\n    }\n\n    .dataframe tbody tr th {\n        vertical-align: top;\n    }\n\n    .dataframe thead th {\n        text-align: right;\n    }\n</style>\n<table border=\"1\" class=\"dataframe\">\n  <thead>\n    <tr style=\"text-align: right;\">\n      <th></th>\n      <th>first</th>\n      <th>last</th>\n      <th>email</th>\n      <th>age</th>\n      <th>dob</th>\n    </tr>\n  </thead>\n  <tbody>\n    <tr>\n      <th>0</th>\n      <td>John</td>\n      <td>Doe</td>\n      <td>john.doe@example.com</td>\n      <td>25.0</td>\n      <td>1998-03-15</td>\n    </tr>\n    <tr>\n      <th>1</th>\n      <td>Bob</td>\n      <td>Johnson</td>\n      <td>NaN</td>\n      <td>NaN</td>\n      <td>1980-05-10</td>\n    </tr>\n    <tr>\n      <th>2</th>\n      <td>Eve</td>\n      <td>Anderson</td>\n      <td>None</td>\n      <td>NaN</td>\n      <td>1975-09-07</td>\n    </tr>\n    <tr>\n      <th>3</th>\n      <td>Charlie</td>\n      <td>Brown</td>\n      <td>charlie.brown@example.com</td>\n      <td>40.0</td>\n      <td>1995-08-18</td>\n    </tr>\n    <tr>\n      <th>4</th>\n      <td>None</td>\n      <td>Miller</td>\n      <td>grace.miller@example.com</td>\n      <td>28.0</td>\n      <td>1995-08-18</td>\n    </tr>\n    <tr>\n      <th>5</th>\n      <td>NaN</td>\n      <td>Wilson</td>\n      <td>will@gmail.com</td>\n      <td>45.0</td>\n      <td>1989-06-25</td>\n    </tr>\n    <tr>\n      <th>6</th>\n      <td>Sophia</td>\n      <td>Davis</td>\n      <td>NaN</td>\n      <td>NaN</td>\n      <td>NaN</td>\n    </tr>\n    <tr>\n      <th>7</th>\n      <td>NaN</td>\n      <td>Martinez</td>\n      <td>liam.martinez@example.com</td>\n      <td>37.0</td>\n      <td>NaN</td>\n    </tr>\n  </tbody>\n</table>\n</div>"
     },
     "execution_count": 13,
     "metadata": {},
     "output_type": "execute_result"
    }
   ],
   "source": [
    "df.replace('OKAY', np.nan, inplace=True)\n",
    "print(df)\n",
    "df.dropna(how='all') # Drop the row only if all of its elements are missing."
   ]
  },
  {
   "cell_type": "code",
   "execution_count": 14,
   "id": "439f7164bc4e7b5e",
   "metadata": {
    "collapsed": false,
    "ExecuteTime": {
     "end_time": "2023-11-11T07:25:23.752510Z",
     "start_time": "2023-11-11T07:25:23.632673Z"
    }
   },
   "outputs": [
    {
     "data": {
      "text/plain": "     first      last                      email   age         dob\n0     John       Doe       john.doe@example.com  25.0  1998-03-15\n3  Charlie     Brown  charlie.brown@example.com  40.0  1995-08-18\n4     None    Miller   grace.miller@example.com  28.0  1995-08-18\n5      NaN    Wilson             will@gmail.com  45.0  1989-06-25\n7      NaN  Martinez  liam.martinez@example.com  37.0         NaN",
      "text/html": "<div>\n<style scoped>\n    .dataframe tbody tr th:only-of-type {\n        vertical-align: middle;\n    }\n\n    .dataframe tbody tr th {\n        vertical-align: top;\n    }\n\n    .dataframe thead th {\n        text-align: right;\n    }\n</style>\n<table border=\"1\" class=\"dataframe\">\n  <thead>\n    <tr style=\"text-align: right;\">\n      <th></th>\n      <th>first</th>\n      <th>last</th>\n      <th>email</th>\n      <th>age</th>\n      <th>dob</th>\n    </tr>\n  </thead>\n  <tbody>\n    <tr>\n      <th>0</th>\n      <td>John</td>\n      <td>Doe</td>\n      <td>john.doe@example.com</td>\n      <td>25.0</td>\n      <td>1998-03-15</td>\n    </tr>\n    <tr>\n      <th>3</th>\n      <td>Charlie</td>\n      <td>Brown</td>\n      <td>charlie.brown@example.com</td>\n      <td>40.0</td>\n      <td>1995-08-18</td>\n    </tr>\n    <tr>\n      <th>4</th>\n      <td>None</td>\n      <td>Miller</td>\n      <td>grace.miller@example.com</td>\n      <td>28.0</td>\n      <td>1995-08-18</td>\n    </tr>\n    <tr>\n      <th>5</th>\n      <td>NaN</td>\n      <td>Wilson</td>\n      <td>will@gmail.com</td>\n      <td>45.0</td>\n      <td>1989-06-25</td>\n    </tr>\n    <tr>\n      <th>7</th>\n      <td>NaN</td>\n      <td>Martinez</td>\n      <td>liam.martinez@example.com</td>\n      <td>37.0</td>\n      <td>NaN</td>\n    </tr>\n  </tbody>\n</table>\n</div>"
     },
     "execution_count": 14,
     "metadata": {},
     "output_type": "execute_result"
    }
   ],
   "source": [
    "# Exercise: Drop rows where both 'email' and 'age' are missing with columns 'email' and 'age',\n",
    "df.dropna(axis='index', how='all', subset=['email', 'age'])"
   ]
  },
  {
   "cell_type": "code",
   "execution_count": 15,
   "id": "aba74fa9d155470",
   "metadata": {
    "collapsed": false,
    "ExecuteTime": {
     "end_time": "2023-11-11T07:25:23.757345Z",
     "start_time": "2023-11-11T07:25:23.636563Z"
    }
   },
   "outputs": [
    {
     "name": "stdout",
     "output_type": "stream",
     "text": [
      "\n",
      "Exercise 3: DataFrame after filling missing values in 'age' column with the mean age:\n"
     ]
    },
    {
     "data": {
      "text/plain": "     first      last                      email   age         dob\n0     John       Doe       john.doe@example.com  25.0  1998-03-15\n1      Bob   Johnson                        NaN  35.0  1980-05-10\n2      Eve  Anderson                       None  35.0  1975-09-07\n3  Charlie     Brown  charlie.brown@example.com  40.0  1995-08-18\n4     None    Miller   grace.miller@example.com  28.0  1995-08-18\n5      NaN    Wilson             will@gmail.com  45.0  1989-06-25\n6   Sophia     Davis                        NaN  35.0         NaN\n7      NaN  Martinez  liam.martinez@example.com  37.0         NaN\n8      NaN       NaN                        NaN  35.0         NaN",
      "text/html": "<div>\n<style scoped>\n    .dataframe tbody tr th:only-of-type {\n        vertical-align: middle;\n    }\n\n    .dataframe tbody tr th {\n        vertical-align: top;\n    }\n\n    .dataframe thead th {\n        text-align: right;\n    }\n</style>\n<table border=\"1\" class=\"dataframe\">\n  <thead>\n    <tr style=\"text-align: right;\">\n      <th></th>\n      <th>first</th>\n      <th>last</th>\n      <th>email</th>\n      <th>age</th>\n      <th>dob</th>\n    </tr>\n  </thead>\n  <tbody>\n    <tr>\n      <th>0</th>\n      <td>John</td>\n      <td>Doe</td>\n      <td>john.doe@example.com</td>\n      <td>25.0</td>\n      <td>1998-03-15</td>\n    </tr>\n    <tr>\n      <th>1</th>\n      <td>Bob</td>\n      <td>Johnson</td>\n      <td>NaN</td>\n      <td>35.0</td>\n      <td>1980-05-10</td>\n    </tr>\n    <tr>\n      <th>2</th>\n      <td>Eve</td>\n      <td>Anderson</td>\n      <td>None</td>\n      <td>35.0</td>\n      <td>1975-09-07</td>\n    </tr>\n    <tr>\n      <th>3</th>\n      <td>Charlie</td>\n      <td>Brown</td>\n      <td>charlie.brown@example.com</td>\n      <td>40.0</td>\n      <td>1995-08-18</td>\n    </tr>\n    <tr>\n      <th>4</th>\n      <td>None</td>\n      <td>Miller</td>\n      <td>grace.miller@example.com</td>\n      <td>28.0</td>\n      <td>1995-08-18</td>\n    </tr>\n    <tr>\n      <th>5</th>\n      <td>NaN</td>\n      <td>Wilson</td>\n      <td>will@gmail.com</td>\n      <td>45.0</td>\n      <td>1989-06-25</td>\n    </tr>\n    <tr>\n      <th>6</th>\n      <td>Sophia</td>\n      <td>Davis</td>\n      <td>NaN</td>\n      <td>35.0</td>\n      <td>NaN</td>\n    </tr>\n    <tr>\n      <th>7</th>\n      <td>NaN</td>\n      <td>Martinez</td>\n      <td>liam.martinez@example.com</td>\n      <td>37.0</td>\n      <td>NaN</td>\n    </tr>\n    <tr>\n      <th>8</th>\n      <td>NaN</td>\n      <td>NaN</td>\n      <td>NaN</td>\n      <td>35.0</td>\n      <td>NaN</td>\n    </tr>\n  </tbody>\n</table>\n</div>"
     },
     "execution_count": 15,
     "metadata": {},
     "output_type": "execute_result"
    }
   ],
   "source": [
    "# Exercise: Fill missing values in 'age' column with the mean age\n",
    "\n",
    "df_filled_age = df.copy()\n",
    "df_filled_age['age'] = pd.to_numeric(df_filled_age['age'], errors='coerce')  # Convert to numeric\n",
    "mean_age = df_filled_age['age'].mean()\n",
    "df_filled_age['age'].fillna(mean_age, inplace=True)\n",
    "\n",
    "print(\"\\nExercise 3: DataFrame after filling missing values in 'age' column with the mean age:\")\n",
    "df_filled_age\n"
   ]
  },
  {
   "cell_type": "code",
   "execution_count": 16,
   "id": "41f321caaafdf76d",
   "metadata": {
    "collapsed": false,
    "ExecuteTime": {
     "end_time": "2023-11-11T07:25:23.757736Z",
     "start_time": "2023-11-11T07:25:23.642930Z"
    }
   },
   "outputs": [
    {
     "data": {
      "text/plain": "first     object\nlast      object\nemail     object\nage      float64\ndob       object\ndtype: object"
     },
     "execution_count": 16,
     "metadata": {},
     "output_type": "execute_result"
    }
   ],
   "source": [
    "df.dtypes"
   ]
  },
  {
   "cell_type": "code",
   "execution_count": 17,
   "id": "2cdabfe388a20cc9",
   "metadata": {
    "collapsed": false,
    "ExecuteTime": {
     "end_time": "2023-11-11T07:25:23.758898Z",
     "start_time": "2023-11-11T07:25:23.648368Z"
    }
   },
   "outputs": [
    {
     "data": {
      "text/plain": "     first      last                      email   age         dob\n0     John       Doe       john.doe@example.com  25.0  1998-03-15\n1      Bob   Johnson                        NaN   NaN  1980-05-10\n2      Eve  Anderson                       None   NaN  1975-09-07\n3  Charlie     Brown  charlie.brown@example.com  40.0  1995-08-18\n4     None    Miller   grace.miller@example.com  28.0  1995-08-18\n5      NaN    Wilson             will@gmail.com  45.0  1989-06-25\n6   Sophia     Davis                        NaN   NaN         NaN\n7      NaN  Martinez  liam.martinez@example.com  37.0         NaN\n8      NaN       NaN                        NaN   NaN         NaN",
      "text/html": "<div>\n<style scoped>\n    .dataframe tbody tr th:only-of-type {\n        vertical-align: middle;\n    }\n\n    .dataframe tbody tr th {\n        vertical-align: top;\n    }\n\n    .dataframe thead th {\n        text-align: right;\n    }\n</style>\n<table border=\"1\" class=\"dataframe\">\n  <thead>\n    <tr style=\"text-align: right;\">\n      <th></th>\n      <th>first</th>\n      <th>last</th>\n      <th>email</th>\n      <th>age</th>\n      <th>dob</th>\n    </tr>\n  </thead>\n  <tbody>\n    <tr>\n      <th>0</th>\n      <td>John</td>\n      <td>Doe</td>\n      <td>john.doe@example.com</td>\n      <td>25.0</td>\n      <td>1998-03-15</td>\n    </tr>\n    <tr>\n      <th>1</th>\n      <td>Bob</td>\n      <td>Johnson</td>\n      <td>NaN</td>\n      <td>NaN</td>\n      <td>1980-05-10</td>\n    </tr>\n    <tr>\n      <th>2</th>\n      <td>Eve</td>\n      <td>Anderson</td>\n      <td>None</td>\n      <td>NaN</td>\n      <td>1975-09-07</td>\n    </tr>\n    <tr>\n      <th>3</th>\n      <td>Charlie</td>\n      <td>Brown</td>\n      <td>charlie.brown@example.com</td>\n      <td>40.0</td>\n      <td>1995-08-18</td>\n    </tr>\n    <tr>\n      <th>4</th>\n      <td>None</td>\n      <td>Miller</td>\n      <td>grace.miller@example.com</td>\n      <td>28.0</td>\n      <td>1995-08-18</td>\n    </tr>\n    <tr>\n      <th>5</th>\n      <td>NaN</td>\n      <td>Wilson</td>\n      <td>will@gmail.com</td>\n      <td>45.0</td>\n      <td>1989-06-25</td>\n    </tr>\n    <tr>\n      <th>6</th>\n      <td>Sophia</td>\n      <td>Davis</td>\n      <td>NaN</td>\n      <td>NaN</td>\n      <td>NaN</td>\n    </tr>\n    <tr>\n      <th>7</th>\n      <td>NaN</td>\n      <td>Martinez</td>\n      <td>liam.martinez@example.com</td>\n      <td>37.0</td>\n      <td>NaN</td>\n    </tr>\n    <tr>\n      <th>8</th>\n      <td>NaN</td>\n      <td>NaN</td>\n      <td>NaN</td>\n      <td>NaN</td>\n      <td>NaN</td>\n    </tr>\n  </tbody>\n</table>\n</div>"
     },
     "execution_count": 17,
     "metadata": {},
     "output_type": "execute_result"
    }
   ],
   "source": [
    "# Exercise: Cast age column as a float data type.\n",
    "df['age'] = df['age'].astype(float)\n",
    "df"
   ]
  }
 ],
 "metadata": {
  "kernelspec": {
   "display_name": "Python 3 (ipykernel)",
   "language": "python",
   "name": "python3"
  },
  "language_info": {
   "codemirror_mode": {
    "name": "ipython",
    "version": 3
   },
   "file_extension": ".py",
   "mimetype": "text/x-python",
   "name": "python",
   "nbconvert_exporter": "python",
   "pygments_lexer": "ipython3",
   "version": "3.11.6"
  }
 },
 "nbformat": 4,
 "nbformat_minor": 5
}
