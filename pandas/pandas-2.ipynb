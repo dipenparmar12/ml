{
 "cells": [
  {
   "cell_type": "code",
   "execution_count": 1,
   "metadata": {
    "ExecuteTime": {
     "end_time": "2023-11-05T06:48:13.973751Z",
     "start_time": "2023-11-05T06:48:13.745959Z"
    }
   },
   "outputs": [],
   "source": [
    "import pandas as pd"
   ]
  },
  {
   "cell_type": "code",
   "execution_count": 22,
   "metadata": {
    "ExecuteTime": {
     "end_time": "2023-11-05T06:55:23.182718Z",
     "start_time": "2023-11-05T06:55:21.691304Z"
    }
   },
   "outputs": [],
   "source": [
    "df = pd.read_csv('./stack-overflow-survey-2023/survey_results_public.csv')\n",
    "schema = pd.read_csv('./stack-overflow-survey-2023/survey_results_schema.csv')\n",
    "\n",
    "columns_visible = ['ConvertedCompYearly', 'Country', 'Currency', 'ConvertedCompYearly', 'LanguageHaveWorkedWith', 'RemoteWork', 'CompTotal', 'WorkExp' ,'SOAccount','Employment','YearsCode','YearsCodePro','DevType',]"
   ]
  },
  {
   "cell_type": "code",
   "execution_count": 18,
   "metadata": {
    "ExecuteTime": {
     "end_time": "2023-11-05T06:54:46.737573Z",
     "start_time": "2023-11-05T06:54:46.734514Z"
    }
   },
   "outputs": [
    {
     "data": {
      "text/plain": "      qid     qname                                           question  \\\n0   QID16        S0  <div><span style=\"font-size:19px;\"><strong>Hel...   \n1   QID12  MetaInfo                                  Browser Meta Info   \n2  QID310      Q310  <div><span style=\"font-size:19px;\"><strong>You...   \n3  QID312      Q120                                                      \n4    QID1        S1  <span style=\"font-size:22px; font-family: aria...   \n\n  force_resp  type selector  \n0      False    DB       TB  \n1      False  Meta  Browser  \n2      False    DB       TB  \n3       True    MC     SAVR  \n4      False    DB       TB  ",
      "text/html": "<div>\n<style scoped>\n    .dataframe tbody tr th:only-of-type {\n        vertical-align: middle;\n    }\n\n    .dataframe tbody tr th {\n        vertical-align: top;\n    }\n\n    .dataframe thead th {\n        text-align: right;\n    }\n</style>\n<table border=\"1\" class=\"dataframe\">\n  <thead>\n    <tr style=\"text-align: right;\">\n      <th></th>\n      <th>qid</th>\n      <th>qname</th>\n      <th>question</th>\n      <th>force_resp</th>\n      <th>type</th>\n      <th>selector</th>\n    </tr>\n  </thead>\n  <tbody>\n    <tr>\n      <th>0</th>\n      <td>QID16</td>\n      <td>S0</td>\n      <td>&lt;div&gt;&lt;span style=\"font-size:19px;\"&gt;&lt;strong&gt;Hel...</td>\n      <td>False</td>\n      <td>DB</td>\n      <td>TB</td>\n    </tr>\n    <tr>\n      <th>1</th>\n      <td>QID12</td>\n      <td>MetaInfo</td>\n      <td>Browser Meta Info</td>\n      <td>False</td>\n      <td>Meta</td>\n      <td>Browser</td>\n    </tr>\n    <tr>\n      <th>2</th>\n      <td>QID310</td>\n      <td>Q310</td>\n      <td>&lt;div&gt;&lt;span style=\"font-size:19px;\"&gt;&lt;strong&gt;You...</td>\n      <td>False</td>\n      <td>DB</td>\n      <td>TB</td>\n    </tr>\n    <tr>\n      <th>3</th>\n      <td>QID312</td>\n      <td>Q120</td>\n      <td></td>\n      <td>True</td>\n      <td>MC</td>\n      <td>SAVR</td>\n    </tr>\n    <tr>\n      <th>4</th>\n      <td>QID1</td>\n      <td>S1</td>\n      <td>&lt;span style=\"font-size:22px; font-family: aria...</td>\n      <td>False</td>\n      <td>DB</td>\n      <td>TB</td>\n    </tr>\n  </tbody>\n</table>\n</div>"
     },
     "execution_count": 18,
     "metadata": {},
     "output_type": "execute_result"
    }
   ],
   "source": [
    "schema.head()"
   ]
  },
  {
   "cell_type": "code",
   "execution_count": 24,
   "outputs": [
    {
     "name": "stdout",
     "output_type": "stream",
     "text": [
      "<class 'pandas.core.frame.DataFrame'>\n",
      "RangeIndex: 89184 entries, 0 to 89183\n",
      "Data columns (total 84 columns):\n",
      " #   Column                               Non-Null Count  Dtype  \n",
      "---  ------                               --------------  -----  \n",
      " 0   ResponseId                           89184 non-null  int64  \n",
      " 1   Q120                                 89184 non-null  object \n",
      " 2   MainBranch                           89184 non-null  object \n",
      " 3   Age                                  89184 non-null  object \n",
      " 4   Employment                           87898 non-null  object \n",
      " 5   RemoteWork                           73810 non-null  object \n",
      " 6   CodingActivities                     73764 non-null  object \n",
      " 7   EdLevel                              87973 non-null  object \n",
      " 8   LearnCode                            87663 non-null  object \n",
      " 9   LearnCodeOnline                      70084 non-null  object \n",
      " 10  LearnCodeCoursesCert                 37076 non-null  object \n",
      " 11  YearsCode                            87435 non-null  object \n",
      " 12  YearsCodePro                         66136 non-null  object \n",
      " 13  DevType                              76872 non-null  object \n",
      " 14  OrgSize                              65043 non-null  object \n",
      " 15  PurchaseInfluence                    64964 non-null  object \n",
      " 16  TechList                             60851 non-null  object \n",
      " 17  BuyNewTool                           83009 non-null  object \n",
      " 18  Country                              87973 non-null  object \n",
      " 19  Currency                             65334 non-null  object \n",
      " 20  CompTotal                            48225 non-null  float64\n",
      " 21  LanguageHaveWorkedWith               87140 non-null  object \n",
      " 22  LanguageWantToWorkWith               80709 non-null  object \n",
      " 23  DatabaseHaveWorkedWith               73435 non-null  object \n",
      " 24  DatabaseWantToWorkWith               60911 non-null  object \n",
      " 25  PlatformHaveWorkedWith               63628 non-null  object \n",
      " 26  PlatformWantToWorkWith               51308 non-null  object \n",
      " 27  WebframeHaveWorkedWith               66938 non-null  object \n",
      " 28  WebframeWantToWorkWith               56741 non-null  object \n",
      " 29  MiscTechHaveWorkedWith               57019 non-null  object \n",
      " 30  MiscTechWantToWorkWith               46848 non-null  object \n",
      " 31  ToolsTechHaveWorkedWith              77884 non-null  object \n",
      " 32  ToolsTechWantToWorkWith              68315 non-null  object \n",
      " 33  NEWCollabToolsHaveWorkedWith         85864 non-null  object \n",
      " 34  NEWCollabToolsWantToWorkWith         76649 non-null  object \n",
      " 35  OpSysPersonal use                    86557 non-null  object \n",
      " 36  OpSysProfessional use                78587 non-null  object \n",
      " 37  OfficeStackAsyncHaveWorkedWith       69090 non-null  object \n",
      " 38  OfficeStackAsyncWantToWorkWith       53743 non-null  object \n",
      " 39  OfficeStackSyncHaveWorkedWith        83439 non-null  object \n",
      " 40  OfficeStackSyncWantToWorkWith        69776 non-null  object \n",
      " 41  AISearchHaveWorkedWith               56328 non-null  object \n",
      " 42  AISearchWantToWorkWith               46150 non-null  object \n",
      " 43  AIDevHaveWorkedWith                  25904 non-null  object \n",
      " 44  AIDevWantToWorkWith                  19587 non-null  object \n",
      " 45  NEWSOSites                           87973 non-null  object \n",
      " 46  SOVisitFreq                          87140 non-null  object \n",
      " 47  SOAccount                            87852 non-null  object \n",
      " 48  SOPartFreq                           66061 non-null  object \n",
      " 49  SOComm                               87692 non-null  object \n",
      " 50  SOAI                                 47858 non-null  object \n",
      " 51  AISelect                             87973 non-null  object \n",
      " 52  AISent                               61501 non-null  object \n",
      " 53  AIAcc                                38594 non-null  object \n",
      " 54  AIBen                                61396 non-null  object \n",
      " 55  AIToolInterested in Using            32783 non-null  object \n",
      " 56  AIToolCurrently Using                36137 non-null  object \n",
      " 57  AIToolNot interested in Using        21069 non-null  object \n",
      " 58  AINextVery different                 12661 non-null  object \n",
      " 59  AINextNeither different nor similar  6599 non-null   object \n",
      " 60  AINextSomewhat similar               6238 non-null   object \n",
      " 61  AINextVery similar                   2621 non-null   object \n",
      " 62  AINextSomewhat different             23303 non-null  object \n",
      " 63  TBranch                              65768 non-null  object \n",
      " 64  ICorPM                               43668 non-null  object \n",
      " 65  WorkExp                              43579 non-null  float64\n",
      " 66  Knowledge_1                          42535 non-null  object \n",
      " 67  Knowledge_2                          41670 non-null  object \n",
      " 68  Knowledge_3                          41798 non-null  object \n",
      " 69  Knowledge_4                          41684 non-null  object \n",
      " 70  Knowledge_5                          41527 non-null  object \n",
      " 71  Knowledge_6                          41520 non-null  object \n",
      " 72  Knowledge_7                          41467 non-null  object \n",
      " 73  Knowledge_8                          41404 non-null  object \n",
      " 74  Frequency_1                          41916 non-null  object \n",
      " 75  Frequency_2                          41925 non-null  object \n",
      " 76  Frequency_3                          41054 non-null  object \n",
      " 77  TimeSearching                        42778 non-null  object \n",
      " 78  TimeAnswering                        42629 non-null  object \n",
      " 79  ProfessionalTech                     41783 non-null  object \n",
      " 80  Industry                             36774 non-null  object \n",
      " 81  SurveyLength                         86485 non-null  object \n",
      " 82  SurveyEase                           86554 non-null  object \n",
      " 83  ConvertedCompYearly                  48019 non-null  float64\n",
      "dtypes: float64(3), int64(1), object(80)\n",
      "memory usage: 57.2+ MB\n"
     ]
    }
   ],
   "source": [
    "df.info()"
   ],
   "metadata": {
    "collapsed": false,
    "ExecuteTime": {
     "end_time": "2023-11-05T06:55:39.815240Z",
     "start_time": "2023-11-05T06:55:39.805188Z"
    }
   }
  },
  {
   "cell_type": "code",
   "execution_count": 25,
   "outputs": [
    {
     "data": {
      "text/plain": "   ResponseId     Q120                      MainBranch              Age  \\\n0           1  I agree                   None of these  18-24 years old   \n1           2  I agree  I am a developer by profession  25-34 years old   \n2           3  I agree  I am a developer by profession  45-54 years old   \n3           4  I agree  I am a developer by profession  25-34 years old   \n4           5  I agree  I am a developer by profession  25-34 years old   \n\n                                          Employment  \\\n0                                                NaN   \n1                                Employed, full-time   \n2                                Employed, full-time   \n3                                Employed, full-time   \n4  Employed, full-time;Independent contractor, fr...   \n\n                             RemoteWork  \\\n0                                   NaN   \n1                                Remote   \n2  Hybrid (some remote, some in-person)   \n3  Hybrid (some remote, some in-person)   \n4                                Remote   \n\n                                    CodingActivities  \\\n0                                                NaN   \n1  Hobby;Contribute to open-source projects;Boots...   \n2  Hobby;Professional development or self-paced l...   \n3                                              Hobby   \n4  Hobby;Contribute to open-source projects;Profe...   \n\n                                        EdLevel  \\\n0                                           NaN   \n1  Bachelor’s degree (B.A., B.S., B.Eng., etc.)   \n2  Bachelor’s degree (B.A., B.S., B.Eng., etc.)   \n3  Bachelor’s degree (B.A., B.S., B.Eng., etc.)   \n4  Bachelor’s degree (B.A., B.S., B.Eng., etc.)   \n\n                                           LearnCode  \\\n0                                                NaN   \n1  Books / Physical media;Colleague;Friend or fam...   \n2  Books / Physical media;Colleague;On the job tr...   \n3  Colleague;Friend or family member;Other online...   \n4  Books / Physical media;Online Courses or Certi...   \n\n                                     LearnCodeOnline  ...        Frequency_1  \\\n0                                                NaN  ...                NaN   \n1  Formal documentation provided by the owner of ...  ...   1-2 times a week   \n2  Formal documentation provided by the owner of ...  ...  6-10 times a week   \n3  Formal documentation provided by the owner of ...  ...   1-2 times a week   \n4  Formal documentation provided by the owner of ...  ...   1-2 times a week   \n\n         Frequency_2       Frequency_3         TimeSearching  \\\n0                NaN               NaN                   NaN   \n1   10+ times a week             Never   15-30 minutes a day   \n2  6-10 times a week  3-5 times a week   30-60 minutes a day   \n3   10+ times a week  1-2 times a week   15-30 minutes a day   \n4   1-2 times a week  3-5 times a week  60-120 minutes a day   \n\n         TimeAnswering                                   ProfessionalTech  \\\n0                  NaN                                                NaN   \n1  15-30 minutes a day  DevOps function;Microservices;Automated testin...   \n2  30-60 minutes a day  DevOps function;Microservices;Automated testin...   \n3  30-60 minutes a day  Automated testing;Continuous integration (CI) ...   \n4  30-60 minutes a day  Microservices;Automated testing;Observability ...   \n\n                                            Industry           SurveyLength  \\\n0                                                NaN                    NaN   \n1  Information Services, IT, Software Development...  Appropriate in length   \n2  Information Services, IT, Software Development...  Appropriate in length   \n3                                                NaN  Appropriate in length   \n4                                              Other  Appropriate in length   \n\n                   SurveyEase ConvertedCompYearly  \n0                         NaN                 NaN  \n1                        Easy            285000.0  \n2                        Easy            250000.0  \n3                        Easy            156000.0  \n4  Neither easy nor difficult             23456.0  \n\n[5 rows x 84 columns]",
      "text/html": "<div>\n<style scoped>\n    .dataframe tbody tr th:only-of-type {\n        vertical-align: middle;\n    }\n\n    .dataframe tbody tr th {\n        vertical-align: top;\n    }\n\n    .dataframe thead th {\n        text-align: right;\n    }\n</style>\n<table border=\"1\" class=\"dataframe\">\n  <thead>\n    <tr style=\"text-align: right;\">\n      <th></th>\n      <th>ResponseId</th>\n      <th>Q120</th>\n      <th>MainBranch</th>\n      <th>Age</th>\n      <th>Employment</th>\n      <th>RemoteWork</th>\n      <th>CodingActivities</th>\n      <th>EdLevel</th>\n      <th>LearnCode</th>\n      <th>LearnCodeOnline</th>\n      <th>...</th>\n      <th>Frequency_1</th>\n      <th>Frequency_2</th>\n      <th>Frequency_3</th>\n      <th>TimeSearching</th>\n      <th>TimeAnswering</th>\n      <th>ProfessionalTech</th>\n      <th>Industry</th>\n      <th>SurveyLength</th>\n      <th>SurveyEase</th>\n      <th>ConvertedCompYearly</th>\n    </tr>\n  </thead>\n  <tbody>\n    <tr>\n      <th>0</th>\n      <td>1</td>\n      <td>I agree</td>\n      <td>None of these</td>\n      <td>18-24 years old</td>\n      <td>NaN</td>\n      <td>NaN</td>\n      <td>NaN</td>\n      <td>NaN</td>\n      <td>NaN</td>\n      <td>NaN</td>\n      <td>...</td>\n      <td>NaN</td>\n      <td>NaN</td>\n      <td>NaN</td>\n      <td>NaN</td>\n      <td>NaN</td>\n      <td>NaN</td>\n      <td>NaN</td>\n      <td>NaN</td>\n      <td>NaN</td>\n      <td>NaN</td>\n    </tr>\n    <tr>\n      <th>1</th>\n      <td>2</td>\n      <td>I agree</td>\n      <td>I am a developer by profession</td>\n      <td>25-34 years old</td>\n      <td>Employed, full-time</td>\n      <td>Remote</td>\n      <td>Hobby;Contribute to open-source projects;Boots...</td>\n      <td>Bachelor’s degree (B.A., B.S., B.Eng., etc.)</td>\n      <td>Books / Physical media;Colleague;Friend or fam...</td>\n      <td>Formal documentation provided by the owner of ...</td>\n      <td>...</td>\n      <td>1-2 times a week</td>\n      <td>10+ times a week</td>\n      <td>Never</td>\n      <td>15-30 minutes a day</td>\n      <td>15-30 minutes a day</td>\n      <td>DevOps function;Microservices;Automated testin...</td>\n      <td>Information Services, IT, Software Development...</td>\n      <td>Appropriate in length</td>\n      <td>Easy</td>\n      <td>285000.0</td>\n    </tr>\n    <tr>\n      <th>2</th>\n      <td>3</td>\n      <td>I agree</td>\n      <td>I am a developer by profession</td>\n      <td>45-54 years old</td>\n      <td>Employed, full-time</td>\n      <td>Hybrid (some remote, some in-person)</td>\n      <td>Hobby;Professional development or self-paced l...</td>\n      <td>Bachelor’s degree (B.A., B.S., B.Eng., etc.)</td>\n      <td>Books / Physical media;Colleague;On the job tr...</td>\n      <td>Formal documentation provided by the owner of ...</td>\n      <td>...</td>\n      <td>6-10 times a week</td>\n      <td>6-10 times a week</td>\n      <td>3-5 times a week</td>\n      <td>30-60 minutes a day</td>\n      <td>30-60 minutes a day</td>\n      <td>DevOps function;Microservices;Automated testin...</td>\n      <td>Information Services, IT, Software Development...</td>\n      <td>Appropriate in length</td>\n      <td>Easy</td>\n      <td>250000.0</td>\n    </tr>\n    <tr>\n      <th>3</th>\n      <td>4</td>\n      <td>I agree</td>\n      <td>I am a developer by profession</td>\n      <td>25-34 years old</td>\n      <td>Employed, full-time</td>\n      <td>Hybrid (some remote, some in-person)</td>\n      <td>Hobby</td>\n      <td>Bachelor’s degree (B.A., B.S., B.Eng., etc.)</td>\n      <td>Colleague;Friend or family member;Other online...</td>\n      <td>Formal documentation provided by the owner of ...</td>\n      <td>...</td>\n      <td>1-2 times a week</td>\n      <td>10+ times a week</td>\n      <td>1-2 times a week</td>\n      <td>15-30 minutes a day</td>\n      <td>30-60 minutes a day</td>\n      <td>Automated testing;Continuous integration (CI) ...</td>\n      <td>NaN</td>\n      <td>Appropriate in length</td>\n      <td>Easy</td>\n      <td>156000.0</td>\n    </tr>\n    <tr>\n      <th>4</th>\n      <td>5</td>\n      <td>I agree</td>\n      <td>I am a developer by profession</td>\n      <td>25-34 years old</td>\n      <td>Employed, full-time;Independent contractor, fr...</td>\n      <td>Remote</td>\n      <td>Hobby;Contribute to open-source projects;Profe...</td>\n      <td>Bachelor’s degree (B.A., B.S., B.Eng., etc.)</td>\n      <td>Books / Physical media;Online Courses or Certi...</td>\n      <td>Formal documentation provided by the owner of ...</td>\n      <td>...</td>\n      <td>1-2 times a week</td>\n      <td>1-2 times a week</td>\n      <td>3-5 times a week</td>\n      <td>60-120 minutes a day</td>\n      <td>30-60 minutes a day</td>\n      <td>Microservices;Automated testing;Observability ...</td>\n      <td>Other</td>\n      <td>Appropriate in length</td>\n      <td>Neither easy nor difficult</td>\n      <td>23456.0</td>\n    </tr>\n  </tbody>\n</table>\n<p>5 rows × 84 columns</p>\n</div>"
     },
     "execution_count": 25,
     "metadata": {},
     "output_type": "execute_result"
    }
   ],
   "source": [
    "df.head()"
   ],
   "metadata": {
    "collapsed": false,
    "ExecuteTime": {
     "end_time": "2023-11-05T06:55:57.799654Z",
     "start_time": "2023-11-05T06:55:57.794746Z"
    }
   }
  },
  {
   "cell_type": "code",
   "execution_count": 11,
   "outputs": [],
   "source": [
    "df.rename(columns={'ConvertedCompYearly': 'Salary'}, inplace=True)\n",
    "columns_visible = ['Salary' if item == 'ConvertedCompYearly' else item for item in columns_visible]\n"
   ],
   "metadata": {
    "collapsed": false,
    "ExecuteTime": {
     "end_time": "2023-11-05T06:49:25.536779Z",
     "start_time": "2023-11-05T06:49:25.530330Z"
    }
   }
  },
  {
   "cell_type": "code",
   "execution_count": 6,
   "outputs": [
    {
     "ename": "KeyError",
     "evalue": "\"[''] not in index\"",
     "output_type": "error",
     "traceback": [
      "\u001B[0;31m---------------------------------------------------------------------------\u001B[0m",
      "\u001B[0;31mKeyError\u001B[0m                                  Traceback (most recent call last)",
      "Cell \u001B[0;32mIn[6], line 1\u001B[0m\n\u001B[0;32m----> 1\u001B[0m \u001B[43mdf\u001B[49m\u001B[38;5;241;43m.\u001B[39;49m\u001B[43mloc\u001B[49m\u001B[43m[\u001B[49m\u001B[43m:\u001B[49m\u001B[43m,\u001B[49m\u001B[43m \u001B[49m\u001B[43m[\u001B[49m\u001B[38;5;124;43m'\u001B[39;49m\u001B[38;5;124;43mSalary\u001B[39;49m\u001B[38;5;124;43m'\u001B[39;49m\u001B[43m]\u001B[49m\u001B[43m \u001B[49m\u001B[38;5;241;43m+\u001B[39;49m\u001B[43m \u001B[49m\u001B[43mcolumns_visible\u001B[49m\u001B[43m]\u001B[49m\n",
      "File \u001B[0;32m~/projects/machine-learning/venv/lib/python3.11/site-packages/pandas/core/indexing.py:1147\u001B[0m, in \u001B[0;36m_LocationIndexer.__getitem__\u001B[0;34m(self, key)\u001B[0m\n\u001B[1;32m   1145\u001B[0m     \u001B[38;5;28;01mif\u001B[39;00m \u001B[38;5;28mself\u001B[39m\u001B[38;5;241m.\u001B[39m_is_scalar_access(key):\n\u001B[1;32m   1146\u001B[0m         \u001B[38;5;28;01mreturn\u001B[39;00m \u001B[38;5;28mself\u001B[39m\u001B[38;5;241m.\u001B[39mobj\u001B[38;5;241m.\u001B[39m_get_value(\u001B[38;5;241m*\u001B[39mkey, takeable\u001B[38;5;241m=\u001B[39m\u001B[38;5;28mself\u001B[39m\u001B[38;5;241m.\u001B[39m_takeable)\n\u001B[0;32m-> 1147\u001B[0m     \u001B[38;5;28;01mreturn\u001B[39;00m \u001B[38;5;28;43mself\u001B[39;49m\u001B[38;5;241;43m.\u001B[39;49m\u001B[43m_getitem_tuple\u001B[49m\u001B[43m(\u001B[49m\u001B[43mkey\u001B[49m\u001B[43m)\u001B[49m\n\u001B[1;32m   1148\u001B[0m \u001B[38;5;28;01melse\u001B[39;00m:\n\u001B[1;32m   1149\u001B[0m     \u001B[38;5;66;03m# we by definition only have the 0th axis\u001B[39;00m\n\u001B[1;32m   1150\u001B[0m     axis \u001B[38;5;241m=\u001B[39m \u001B[38;5;28mself\u001B[39m\u001B[38;5;241m.\u001B[39maxis \u001B[38;5;129;01mor\u001B[39;00m \u001B[38;5;241m0\u001B[39m\n",
      "File \u001B[0;32m~/projects/machine-learning/venv/lib/python3.11/site-packages/pandas/core/indexing.py:1339\u001B[0m, in \u001B[0;36m_LocIndexer._getitem_tuple\u001B[0;34m(self, tup)\u001B[0m\n\u001B[1;32m   1336\u001B[0m \u001B[38;5;28;01mif\u001B[39;00m \u001B[38;5;28mself\u001B[39m\u001B[38;5;241m.\u001B[39m_multi_take_opportunity(tup):\n\u001B[1;32m   1337\u001B[0m     \u001B[38;5;28;01mreturn\u001B[39;00m \u001B[38;5;28mself\u001B[39m\u001B[38;5;241m.\u001B[39m_multi_take(tup)\n\u001B[0;32m-> 1339\u001B[0m \u001B[38;5;28;01mreturn\u001B[39;00m \u001B[38;5;28;43mself\u001B[39;49m\u001B[38;5;241;43m.\u001B[39;49m\u001B[43m_getitem_tuple_same_dim\u001B[49m\u001B[43m(\u001B[49m\u001B[43mtup\u001B[49m\u001B[43m)\u001B[49m\n",
      "File \u001B[0;32m~/projects/machine-learning/venv/lib/python3.11/site-packages/pandas/core/indexing.py:994\u001B[0m, in \u001B[0;36m_LocationIndexer._getitem_tuple_same_dim\u001B[0;34m(self, tup)\u001B[0m\n\u001B[1;32m    991\u001B[0m \u001B[38;5;28;01mif\u001B[39;00m com\u001B[38;5;241m.\u001B[39mis_null_slice(key):\n\u001B[1;32m    992\u001B[0m     \u001B[38;5;28;01mcontinue\u001B[39;00m\n\u001B[0;32m--> 994\u001B[0m retval \u001B[38;5;241m=\u001B[39m \u001B[38;5;28;43mgetattr\u001B[39;49m\u001B[43m(\u001B[49m\u001B[43mretval\u001B[49m\u001B[43m,\u001B[49m\u001B[43m \u001B[49m\u001B[38;5;28;43mself\u001B[39;49m\u001B[38;5;241;43m.\u001B[39;49m\u001B[43mname\u001B[49m\u001B[43m)\u001B[49m\u001B[38;5;241;43m.\u001B[39;49m\u001B[43m_getitem_axis\u001B[49m\u001B[43m(\u001B[49m\u001B[43mkey\u001B[49m\u001B[43m,\u001B[49m\u001B[43m \u001B[49m\u001B[43maxis\u001B[49m\u001B[38;5;241;43m=\u001B[39;49m\u001B[43mi\u001B[49m\u001B[43m)\u001B[49m\n\u001B[1;32m    995\u001B[0m \u001B[38;5;66;03m# We should never have retval.ndim < self.ndim, as that should\u001B[39;00m\n\u001B[1;32m    996\u001B[0m \u001B[38;5;66;03m#  be handled by the _getitem_lowerdim call above.\u001B[39;00m\n\u001B[1;32m    997\u001B[0m \u001B[38;5;28;01massert\u001B[39;00m retval\u001B[38;5;241m.\u001B[39mndim \u001B[38;5;241m==\u001B[39m \u001B[38;5;28mself\u001B[39m\u001B[38;5;241m.\u001B[39mndim\n",
      "File \u001B[0;32m~/projects/machine-learning/venv/lib/python3.11/site-packages/pandas/core/indexing.py:1382\u001B[0m, in \u001B[0;36m_LocIndexer._getitem_axis\u001B[0;34m(self, key, axis)\u001B[0m\n\u001B[1;32m   1379\u001B[0m     \u001B[38;5;28;01mif\u001B[39;00m \u001B[38;5;28mhasattr\u001B[39m(key, \u001B[38;5;124m\"\u001B[39m\u001B[38;5;124mndim\u001B[39m\u001B[38;5;124m\"\u001B[39m) \u001B[38;5;129;01mand\u001B[39;00m key\u001B[38;5;241m.\u001B[39mndim \u001B[38;5;241m>\u001B[39m \u001B[38;5;241m1\u001B[39m:\n\u001B[1;32m   1380\u001B[0m         \u001B[38;5;28;01mraise\u001B[39;00m \u001B[38;5;167;01mValueError\u001B[39;00m(\u001B[38;5;124m\"\u001B[39m\u001B[38;5;124mCannot index with multidimensional key\u001B[39m\u001B[38;5;124m\"\u001B[39m)\n\u001B[0;32m-> 1382\u001B[0m     \u001B[38;5;28;01mreturn\u001B[39;00m \u001B[38;5;28;43mself\u001B[39;49m\u001B[38;5;241;43m.\u001B[39;49m\u001B[43m_getitem_iterable\u001B[49m\u001B[43m(\u001B[49m\u001B[43mkey\u001B[49m\u001B[43m,\u001B[49m\u001B[43m \u001B[49m\u001B[43maxis\u001B[49m\u001B[38;5;241;43m=\u001B[39;49m\u001B[43maxis\u001B[49m\u001B[43m)\u001B[49m\n\u001B[1;32m   1384\u001B[0m \u001B[38;5;66;03m# nested tuple slicing\u001B[39;00m\n\u001B[1;32m   1385\u001B[0m \u001B[38;5;28;01mif\u001B[39;00m is_nested_tuple(key, labels):\n",
      "File \u001B[0;32m~/projects/machine-learning/venv/lib/python3.11/site-packages/pandas/core/indexing.py:1322\u001B[0m, in \u001B[0;36m_LocIndexer._getitem_iterable\u001B[0;34m(self, key, axis)\u001B[0m\n\u001B[1;32m   1319\u001B[0m \u001B[38;5;28mself\u001B[39m\u001B[38;5;241m.\u001B[39m_validate_key(key, axis)\n\u001B[1;32m   1321\u001B[0m \u001B[38;5;66;03m# A collection of keys\u001B[39;00m\n\u001B[0;32m-> 1322\u001B[0m keyarr, indexer \u001B[38;5;241m=\u001B[39m \u001B[38;5;28;43mself\u001B[39;49m\u001B[38;5;241;43m.\u001B[39;49m\u001B[43m_get_listlike_indexer\u001B[49m\u001B[43m(\u001B[49m\u001B[43mkey\u001B[49m\u001B[43m,\u001B[49m\u001B[43m \u001B[49m\u001B[43maxis\u001B[49m\u001B[43m)\u001B[49m\n\u001B[1;32m   1323\u001B[0m \u001B[38;5;28;01mreturn\u001B[39;00m \u001B[38;5;28mself\u001B[39m\u001B[38;5;241m.\u001B[39mobj\u001B[38;5;241m.\u001B[39m_reindex_with_indexers(\n\u001B[1;32m   1324\u001B[0m     {axis: [keyarr, indexer]}, copy\u001B[38;5;241m=\u001B[39m\u001B[38;5;28;01mTrue\u001B[39;00m, allow_dups\u001B[38;5;241m=\u001B[39m\u001B[38;5;28;01mTrue\u001B[39;00m\n\u001B[1;32m   1325\u001B[0m )\n",
      "File \u001B[0;32m~/projects/machine-learning/venv/lib/python3.11/site-packages/pandas/core/indexing.py:1520\u001B[0m, in \u001B[0;36m_LocIndexer._get_listlike_indexer\u001B[0;34m(self, key, axis)\u001B[0m\n\u001B[1;32m   1517\u001B[0m ax \u001B[38;5;241m=\u001B[39m \u001B[38;5;28mself\u001B[39m\u001B[38;5;241m.\u001B[39mobj\u001B[38;5;241m.\u001B[39m_get_axis(axis)\n\u001B[1;32m   1518\u001B[0m axis_name \u001B[38;5;241m=\u001B[39m \u001B[38;5;28mself\u001B[39m\u001B[38;5;241m.\u001B[39mobj\u001B[38;5;241m.\u001B[39m_get_axis_name(axis)\n\u001B[0;32m-> 1520\u001B[0m keyarr, indexer \u001B[38;5;241m=\u001B[39m \u001B[43max\u001B[49m\u001B[38;5;241;43m.\u001B[39;49m\u001B[43m_get_indexer_strict\u001B[49m\u001B[43m(\u001B[49m\u001B[43mkey\u001B[49m\u001B[43m,\u001B[49m\u001B[43m \u001B[49m\u001B[43maxis_name\u001B[49m\u001B[43m)\u001B[49m\n\u001B[1;32m   1522\u001B[0m \u001B[38;5;28;01mreturn\u001B[39;00m keyarr, indexer\n",
      "File \u001B[0;32m~/projects/machine-learning/venv/lib/python3.11/site-packages/pandas/core/indexes/base.py:6114\u001B[0m, in \u001B[0;36mIndex._get_indexer_strict\u001B[0;34m(self, key, axis_name)\u001B[0m\n\u001B[1;32m   6111\u001B[0m \u001B[38;5;28;01melse\u001B[39;00m:\n\u001B[1;32m   6112\u001B[0m     keyarr, indexer, new_indexer \u001B[38;5;241m=\u001B[39m \u001B[38;5;28mself\u001B[39m\u001B[38;5;241m.\u001B[39m_reindex_non_unique(keyarr)\n\u001B[0;32m-> 6114\u001B[0m \u001B[38;5;28;43mself\u001B[39;49m\u001B[38;5;241;43m.\u001B[39;49m\u001B[43m_raise_if_missing\u001B[49m\u001B[43m(\u001B[49m\u001B[43mkeyarr\u001B[49m\u001B[43m,\u001B[49m\u001B[43m \u001B[49m\u001B[43mindexer\u001B[49m\u001B[43m,\u001B[49m\u001B[43m \u001B[49m\u001B[43maxis_name\u001B[49m\u001B[43m)\u001B[49m\n\u001B[1;32m   6116\u001B[0m keyarr \u001B[38;5;241m=\u001B[39m \u001B[38;5;28mself\u001B[39m\u001B[38;5;241m.\u001B[39mtake(indexer)\n\u001B[1;32m   6117\u001B[0m \u001B[38;5;28;01mif\u001B[39;00m \u001B[38;5;28misinstance\u001B[39m(key, Index):\n\u001B[1;32m   6118\u001B[0m     \u001B[38;5;66;03m# GH 42790 - Preserve name from an Index\u001B[39;00m\n",
      "File \u001B[0;32m~/projects/machine-learning/venv/lib/python3.11/site-packages/pandas/core/indexes/base.py:6178\u001B[0m, in \u001B[0;36mIndex._raise_if_missing\u001B[0;34m(self, key, indexer, axis_name)\u001B[0m\n\u001B[1;32m   6175\u001B[0m     \u001B[38;5;28;01mraise\u001B[39;00m \u001B[38;5;167;01mKeyError\u001B[39;00m(\u001B[38;5;124mf\u001B[39m\u001B[38;5;124m\"\u001B[39m\u001B[38;5;124mNone of [\u001B[39m\u001B[38;5;132;01m{\u001B[39;00mkey\u001B[38;5;132;01m}\u001B[39;00m\u001B[38;5;124m] are in the [\u001B[39m\u001B[38;5;132;01m{\u001B[39;00maxis_name\u001B[38;5;132;01m}\u001B[39;00m\u001B[38;5;124m]\u001B[39m\u001B[38;5;124m\"\u001B[39m)\n\u001B[1;32m   6177\u001B[0m not_found \u001B[38;5;241m=\u001B[39m \u001B[38;5;28mlist\u001B[39m(ensure_index(key)[missing_mask\u001B[38;5;241m.\u001B[39mnonzero()[\u001B[38;5;241m0\u001B[39m]]\u001B[38;5;241m.\u001B[39munique())\n\u001B[0;32m-> 6178\u001B[0m \u001B[38;5;28;01mraise\u001B[39;00m \u001B[38;5;167;01mKeyError\u001B[39;00m(\u001B[38;5;124mf\u001B[39m\u001B[38;5;124m\"\u001B[39m\u001B[38;5;132;01m{\u001B[39;00mnot_found\u001B[38;5;132;01m}\u001B[39;00m\u001B[38;5;124m not in index\u001B[39m\u001B[38;5;124m\"\u001B[39m)\n",
      "\u001B[0;31mKeyError\u001B[0m: \"[''] not in index\""
     ]
    }
   ],
   "source": [
    "df.loc[:, ['Salary'] + columns_visible]"
   ],
   "metadata": {
    "collapsed": false,
    "ExecuteTime": {
     "end_time": "2023-11-05T06:48:15.911278Z",
     "start_time": "2023-11-05T06:48:15.558942Z"
    }
   }
  },
  {
   "cell_type": "code",
   "execution_count": null,
   "outputs": [],
   "source": [
    "# df['SOAccount'].map({'Yes':True, 'No':False})\n",
    "df['SOAccount'] = df['SOAccount'].replace({'Yes':True, 'No':False})"
   ],
   "metadata": {
    "collapsed": false,
    "ExecuteTime": {
     "end_time": "2023-11-05T06:48:15.913126Z",
     "start_time": "2023-11-05T06:48:15.912345Z"
    }
   }
  },
  {
   "cell_type": "code",
   "execution_count": null,
   "outputs": [],
   "source": [
    "df.sort_values(by=['Country','Salary'], ascending=[True, False], inplace=True)\n"
   ],
   "metadata": {
    "collapsed": false,
    "ExecuteTime": {
     "end_time": "2023-11-05T06:48:15.914979Z",
     "start_time": "2023-11-05T06:48:15.914182Z"
    }
   }
  },
  {
   "cell_type": "code",
   "execution_count": 16,
   "outputs": [],
   "source": [
    "df = df[columns_visible]"
   ],
   "metadata": {
    "collapsed": false,
    "ExecuteTime": {
     "end_time": "2023-11-05T06:52:18.180394Z",
     "start_time": "2023-11-05T06:52:18.138905Z"
    }
   }
  },
  {
   "cell_type": "code",
   "execution_count": 13,
   "outputs": [
    {
     "data": {
      "text/plain": "         Salary                       Country                   Currency  \\\n0           NaN                           NaN                        NaN   \n1      285000.0      United States of America  USD\\tUnited States dollar   \n2      250000.0      United States of America  USD\\tUnited States dollar   \n3      156000.0      United States of America  USD\\tUnited States dollar   \n4       23456.0                   Philippines       PHP\\tPhilippine peso   \n...         ...                           ...                        ...   \n89179       NaN                        Brazil        BRL\\tBrazilian real   \n89180       NaN                       Romania                        NaN   \n89181       NaN                        Israel                        NaN   \n89182       NaN                   Switzerland                        NaN   \n89183       NaN  Iran, Islamic Republic of...          IRR\\tIranian rial   \n\n         Salary                             LanguageHaveWorkedWith  \\\n0           NaN                                                NaN   \n1      285000.0                         HTML/CSS;JavaScript;Python   \n2      250000.0                         Bash/Shell (all shells);Go   \n3      156000.0  Bash/Shell (all shells);HTML/CSS;JavaScript;PH...   \n4       23456.0                     HTML/CSS;JavaScript;TypeScript   \n...         ...                                                ...   \n89179       NaN            HTML/CSS;Java;JavaScript;SQL;TypeScript   \n89180       NaN                               Dart;Java;Python;SQL   \n89181       NaN  Assembly;Bash/Shell (all shells);C;C#;Python;R...   \n89182       NaN  Bash/Shell (all shells);C#;HTML/CSS;Java;JavaS...   \n89183       NaN                    C#;Go;JavaScript;SQL;TypeScript   \n\n                                 RemoteWork     CompTotal  WorkExp SOAccount  \\\n0                                       NaN           NaN      NaN       NaN   \n1                                    Remote  2.850000e+05     10.0       Yes   \n2      Hybrid (some remote, some in-person)  2.500000e+05     23.0       Yes   \n3      Hybrid (some remote, some in-person)  1.560000e+05      7.0       Yes   \n4                                    Remote  1.320000e+06      6.0        No   \n...                                     ...           ...      ...       ...   \n89179                                Remote  2.000000e+05      NaN       Yes   \n89180  Hybrid (some remote, some in-person)           NaN      NaN       Yes   \n89181                                   NaN           NaN      NaN       NaN   \n89182  Hybrid (some remote, some in-person)           NaN      NaN        No   \n89183  Hybrid (some remote, some in-person)  3.300000e+09     14.0       Yes   \n\n       WorkExp                                         Employment YearsCode  \\\n0          NaN                                                NaN       NaN   \n1         10.0                                Employed, full-time        18   \n2         23.0                                Employed, full-time        27   \n3          7.0                                Employed, full-time        12   \n4          6.0  Employed, full-time;Independent contractor, fr...         6   \n...        ...                                                ...       ...   \n89179      NaN  Employed, full-time;Independent contractor, fr...        20   \n89180      NaN             Student, full-time;Employed, part-time         5   \n89181      NaN                                I prefer not to say        10   \n89182      NaN             Employed, part-time;Student, part-time         3   \n89183     14.0                                Employed, full-time        17   \n\n      YearsCodePro                               DevType     CompTotal  \n0              NaN                                   NaN           NaN  \n1                9  Senior Executive (C-Suite, VP, etc.)  2.850000e+05  \n2               23                   Developer, back-end  2.500000e+05  \n3                7                  Developer, front-end  1.560000e+05  \n4                4                 Developer, full-stack  1.320000e+06  \n...            ...                                   ...           ...  \n89179            5                  Developer, front-end  2.000000e+05  \n89180          NaN                   Developer, back-end           NaN  \n89181          NaN                                   NaN           NaN  \n89182          NaN                  System administrator           NaN  \n89183           12                 Developer, full-stack  3.300000e+09  \n\n[89184 rows x 15 columns]",
      "text/html": "<div>\n<style scoped>\n    .dataframe tbody tr th:only-of-type {\n        vertical-align: middle;\n    }\n\n    .dataframe tbody tr th {\n        vertical-align: top;\n    }\n\n    .dataframe thead th {\n        text-align: right;\n    }\n</style>\n<table border=\"1\" class=\"dataframe\">\n  <thead>\n    <tr style=\"text-align: right;\">\n      <th></th>\n      <th>Salary</th>\n      <th>Country</th>\n      <th>Currency</th>\n      <th>Salary</th>\n      <th>LanguageHaveWorkedWith</th>\n      <th>RemoteWork</th>\n      <th>CompTotal</th>\n      <th>WorkExp</th>\n      <th>SOAccount</th>\n      <th>WorkExp</th>\n      <th>Employment</th>\n      <th>YearsCode</th>\n      <th>YearsCodePro</th>\n      <th>DevType</th>\n      <th>CompTotal</th>\n    </tr>\n  </thead>\n  <tbody>\n    <tr>\n      <th>0</th>\n      <td>NaN</td>\n      <td>NaN</td>\n      <td>NaN</td>\n      <td>NaN</td>\n      <td>NaN</td>\n      <td>NaN</td>\n      <td>NaN</td>\n      <td>NaN</td>\n      <td>NaN</td>\n      <td>NaN</td>\n      <td>NaN</td>\n      <td>NaN</td>\n      <td>NaN</td>\n      <td>NaN</td>\n      <td>NaN</td>\n    </tr>\n    <tr>\n      <th>1</th>\n      <td>285000.0</td>\n      <td>United States of America</td>\n      <td>USD\\tUnited States dollar</td>\n      <td>285000.0</td>\n      <td>HTML/CSS;JavaScript;Python</td>\n      <td>Remote</td>\n      <td>2.850000e+05</td>\n      <td>10.0</td>\n      <td>Yes</td>\n      <td>10.0</td>\n      <td>Employed, full-time</td>\n      <td>18</td>\n      <td>9</td>\n      <td>Senior Executive (C-Suite, VP, etc.)</td>\n      <td>2.850000e+05</td>\n    </tr>\n    <tr>\n      <th>2</th>\n      <td>250000.0</td>\n      <td>United States of America</td>\n      <td>USD\\tUnited States dollar</td>\n      <td>250000.0</td>\n      <td>Bash/Shell (all shells);Go</td>\n      <td>Hybrid (some remote, some in-person)</td>\n      <td>2.500000e+05</td>\n      <td>23.0</td>\n      <td>Yes</td>\n      <td>23.0</td>\n      <td>Employed, full-time</td>\n      <td>27</td>\n      <td>23</td>\n      <td>Developer, back-end</td>\n      <td>2.500000e+05</td>\n    </tr>\n    <tr>\n      <th>3</th>\n      <td>156000.0</td>\n      <td>United States of America</td>\n      <td>USD\\tUnited States dollar</td>\n      <td>156000.0</td>\n      <td>Bash/Shell (all shells);HTML/CSS;JavaScript;PH...</td>\n      <td>Hybrid (some remote, some in-person)</td>\n      <td>1.560000e+05</td>\n      <td>7.0</td>\n      <td>Yes</td>\n      <td>7.0</td>\n      <td>Employed, full-time</td>\n      <td>12</td>\n      <td>7</td>\n      <td>Developer, front-end</td>\n      <td>1.560000e+05</td>\n    </tr>\n    <tr>\n      <th>4</th>\n      <td>23456.0</td>\n      <td>Philippines</td>\n      <td>PHP\\tPhilippine peso</td>\n      <td>23456.0</td>\n      <td>HTML/CSS;JavaScript;TypeScript</td>\n      <td>Remote</td>\n      <td>1.320000e+06</td>\n      <td>6.0</td>\n      <td>No</td>\n      <td>6.0</td>\n      <td>Employed, full-time;Independent contractor, fr...</td>\n      <td>6</td>\n      <td>4</td>\n      <td>Developer, full-stack</td>\n      <td>1.320000e+06</td>\n    </tr>\n    <tr>\n      <th>...</th>\n      <td>...</td>\n      <td>...</td>\n      <td>...</td>\n      <td>...</td>\n      <td>...</td>\n      <td>...</td>\n      <td>...</td>\n      <td>...</td>\n      <td>...</td>\n      <td>...</td>\n      <td>...</td>\n      <td>...</td>\n      <td>...</td>\n      <td>...</td>\n      <td>...</td>\n    </tr>\n    <tr>\n      <th>89179</th>\n      <td>NaN</td>\n      <td>Brazil</td>\n      <td>BRL\\tBrazilian real</td>\n      <td>NaN</td>\n      <td>HTML/CSS;Java;JavaScript;SQL;TypeScript</td>\n      <td>Remote</td>\n      <td>2.000000e+05</td>\n      <td>NaN</td>\n      <td>Yes</td>\n      <td>NaN</td>\n      <td>Employed, full-time;Independent contractor, fr...</td>\n      <td>20</td>\n      <td>5</td>\n      <td>Developer, front-end</td>\n      <td>2.000000e+05</td>\n    </tr>\n    <tr>\n      <th>89180</th>\n      <td>NaN</td>\n      <td>Romania</td>\n      <td>NaN</td>\n      <td>NaN</td>\n      <td>Dart;Java;Python;SQL</td>\n      <td>Hybrid (some remote, some in-person)</td>\n      <td>NaN</td>\n      <td>NaN</td>\n      <td>Yes</td>\n      <td>NaN</td>\n      <td>Student, full-time;Employed, part-time</td>\n      <td>5</td>\n      <td>NaN</td>\n      <td>Developer, back-end</td>\n      <td>NaN</td>\n    </tr>\n    <tr>\n      <th>89181</th>\n      <td>NaN</td>\n      <td>Israel</td>\n      <td>NaN</td>\n      <td>NaN</td>\n      <td>Assembly;Bash/Shell (all shells);C;C#;Python;R...</td>\n      <td>NaN</td>\n      <td>NaN</td>\n      <td>NaN</td>\n      <td>NaN</td>\n      <td>NaN</td>\n      <td>I prefer not to say</td>\n      <td>10</td>\n      <td>NaN</td>\n      <td>NaN</td>\n      <td>NaN</td>\n    </tr>\n    <tr>\n      <th>89182</th>\n      <td>NaN</td>\n      <td>Switzerland</td>\n      <td>NaN</td>\n      <td>NaN</td>\n      <td>Bash/Shell (all shells);C#;HTML/CSS;Java;JavaS...</td>\n      <td>Hybrid (some remote, some in-person)</td>\n      <td>NaN</td>\n      <td>NaN</td>\n      <td>No</td>\n      <td>NaN</td>\n      <td>Employed, part-time;Student, part-time</td>\n      <td>3</td>\n      <td>NaN</td>\n      <td>System administrator</td>\n      <td>NaN</td>\n    </tr>\n    <tr>\n      <th>89183</th>\n      <td>NaN</td>\n      <td>Iran, Islamic Republic of...</td>\n      <td>IRR\\tIranian rial</td>\n      <td>NaN</td>\n      <td>C#;Go;JavaScript;SQL;TypeScript</td>\n      <td>Hybrid (some remote, some in-person)</td>\n      <td>3.300000e+09</td>\n      <td>14.0</td>\n      <td>Yes</td>\n      <td>14.0</td>\n      <td>Employed, full-time</td>\n      <td>17</td>\n      <td>12</td>\n      <td>Developer, full-stack</td>\n      <td>3.300000e+09</td>\n    </tr>\n  </tbody>\n</table>\n<p>89184 rows × 15 columns</p>\n</div>"
     },
     "execution_count": 13,
     "metadata": {},
     "output_type": "execute_result"
    }
   ],
   "source": [
    "df"
   ],
   "metadata": {
    "collapsed": false,
    "ExecuteTime": {
     "end_time": "2023-11-05T06:49:30.013612Z",
     "start_time": "2023-11-05T06:49:30.010147Z"
    }
   }
  },
  {
   "cell_type": "code",
   "execution_count": 17,
   "outputs": [],
   "source": [
    "df.to_csv(\"output_minified.csv\")"
   ],
   "metadata": {
    "collapsed": false,
    "ExecuteTime": {
     "end_time": "2023-11-05T06:52:33.019267Z",
     "start_time": "2023-11-05T06:52:32.598665Z"
    }
   }
  },
  {
   "cell_type": "code",
   "execution_count": null,
   "outputs": [],
   "source": [],
   "metadata": {
    "collapsed": false
   }
  }
 ],
 "metadata": {
  "kernelspec": {
   "display_name": "venv",
   "language": "python",
   "name": "python3"
  },
  "language_info": {
   "codemirror_mode": {
    "name": "ipython",
    "version": 3
   },
   "file_extension": ".py",
   "mimetype": "text/x-python",
   "name": "python",
   "nbconvert_exporter": "python",
   "pygments_lexer": "ipython3",
   "version": "3.11.6"
  }
 },
 "nbformat": 4,
 "nbformat_minor": 2
}
