{
 "cells": [
  {
   "cell_type": "code",
   "execution_count": 20,
   "metadata": {
    "ExecuteTime": {
     "end_time": "2023-11-03T11:22:33.546694Z",
     "start_time": "2023-11-03T11:22:33.539484Z"
    }
   },
   "outputs": [],
   "source": [
    "import pandas as pd"
   ]
  },
  {
   "cell_type": "code",
   "execution_count": 21,
   "metadata": {
    "ExecuteTime": {
     "end_time": "2023-11-03T11:22:36.006849Z",
     "start_time": "2023-11-03T11:22:33.545389Z"
    }
   },
   "outputs": [],
   "source": [
    "df = pd.read_csv('./stack-overflow-survey-2023/survey_results_public.csv')\n",
    "schema = pd.read_csv('./stack-overflow-survey-2023/survey_results_schema.csv')\n",
    "\n",
    "columns_visible = ['ConvertedCompYearly', 'Country', 'Currency', 'LanguageHaveWorkedWith', 'RemoteWork', 'CompTotal', 'WorkExp' ,'SOAccount']"
   ]
  },
  {
   "cell_type": "code",
   "execution_count": 22,
   "metadata": {
    "ExecuteTime": {
     "end_time": "2023-11-03T11:22:36.013967Z",
     "start_time": "2023-11-03T11:22:36.010941Z"
    }
   },
   "outputs": [
    {
     "data": {
      "text/plain": "      qid     qname                                           question  \\\n0   QID16        S0  <div><span style=\"font-size:19px;\"><strong>Hel...   \n1   QID12  MetaInfo                                  Browser Meta Info   \n2  QID310      Q310  <div><span style=\"font-size:19px;\"><strong>You...   \n3  QID312      Q120                                                      \n4    QID1        S1  <span style=\"font-size:22px; font-family: aria...   \n\n  force_resp  type selector  \n0      False    DB       TB  \n1      False  Meta  Browser  \n2      False    DB       TB  \n3       True    MC     SAVR  \n4      False    DB       TB  ",
      "text/html": "<div>\n<style scoped>\n    .dataframe tbody tr th:only-of-type {\n        vertical-align: middle;\n    }\n\n    .dataframe tbody tr th {\n        vertical-align: top;\n    }\n\n    .dataframe thead th {\n        text-align: right;\n    }\n</style>\n<table border=\"1\" class=\"dataframe\">\n  <thead>\n    <tr style=\"text-align: right;\">\n      <th></th>\n      <th>qid</th>\n      <th>qname</th>\n      <th>question</th>\n      <th>force_resp</th>\n      <th>type</th>\n      <th>selector</th>\n    </tr>\n  </thead>\n  <tbody>\n    <tr>\n      <th>0</th>\n      <td>QID16</td>\n      <td>S0</td>\n      <td>&lt;div&gt;&lt;span style=\"font-size:19px;\"&gt;&lt;strong&gt;Hel...</td>\n      <td>False</td>\n      <td>DB</td>\n      <td>TB</td>\n    </tr>\n    <tr>\n      <th>1</th>\n      <td>QID12</td>\n      <td>MetaInfo</td>\n      <td>Browser Meta Info</td>\n      <td>False</td>\n      <td>Meta</td>\n      <td>Browser</td>\n    </tr>\n    <tr>\n      <th>2</th>\n      <td>QID310</td>\n      <td>Q310</td>\n      <td>&lt;div&gt;&lt;span style=\"font-size:19px;\"&gt;&lt;strong&gt;You...</td>\n      <td>False</td>\n      <td>DB</td>\n      <td>TB</td>\n    </tr>\n    <tr>\n      <th>3</th>\n      <td>QID312</td>\n      <td>Q120</td>\n      <td></td>\n      <td>True</td>\n      <td>MC</td>\n      <td>SAVR</td>\n    </tr>\n    <tr>\n      <th>4</th>\n      <td>QID1</td>\n      <td>S1</td>\n      <td>&lt;span style=\"font-size:22px; font-family: aria...</td>\n      <td>False</td>\n      <td>DB</td>\n      <td>TB</td>\n    </tr>\n  </tbody>\n</table>\n</div>"
     },
     "execution_count": 22,
     "metadata": {},
     "output_type": "execute_result"
    }
   ],
   "source": [
    "schema.head()"
   ]
  },
  {
   "cell_type": "code",
   "execution_count": 23,
   "outputs": [
    {
     "data": {
      "text/plain": "   ResponseId     Q120                      MainBranch              Age  \\\n0           1  I agree                   None of these  18-24 years old   \n1           2  I agree  I am a developer by profession  25-34 years old   \n2           3  I agree  I am a developer by profession  45-54 years old   \n3           4  I agree  I am a developer by profession  25-34 years old   \n4           5  I agree  I am a developer by profession  25-34 years old   \n\n                                          Employment  \\\n0                                                NaN   \n1                                Employed, full-time   \n2                                Employed, full-time   \n3                                Employed, full-time   \n4  Employed, full-time;Independent contractor, fr...   \n\n                             RemoteWork  \\\n0                                   NaN   \n1                                Remote   \n2  Hybrid (some remote, some in-person)   \n3  Hybrid (some remote, some in-person)   \n4                                Remote   \n\n                                    CodingActivities  \\\n0                                                NaN   \n1  Hobby;Contribute to open-source projects;Boots...   \n2  Hobby;Professional development or self-paced l...   \n3                                              Hobby   \n4  Hobby;Contribute to open-source projects;Profe...   \n\n                                        EdLevel  \\\n0                                           NaN   \n1  Bachelor’s degree (B.A., B.S., B.Eng., etc.)   \n2  Bachelor’s degree (B.A., B.S., B.Eng., etc.)   \n3  Bachelor’s degree (B.A., B.S., B.Eng., etc.)   \n4  Bachelor’s degree (B.A., B.S., B.Eng., etc.)   \n\n                                           LearnCode  \\\n0                                                NaN   \n1  Books / Physical media;Colleague;Friend or fam...   \n2  Books / Physical media;Colleague;On the job tr...   \n3  Colleague;Friend or family member;Other online...   \n4  Books / Physical media;Online Courses or Certi...   \n\n                                     LearnCodeOnline  ...        Frequency_1  \\\n0                                                NaN  ...                NaN   \n1  Formal documentation provided by the owner of ...  ...   1-2 times a week   \n2  Formal documentation provided by the owner of ...  ...  6-10 times a week   \n3  Formal documentation provided by the owner of ...  ...   1-2 times a week   \n4  Formal documentation provided by the owner of ...  ...   1-2 times a week   \n\n         Frequency_2       Frequency_3         TimeSearching  \\\n0                NaN               NaN                   NaN   \n1   10+ times a week             Never   15-30 minutes a day   \n2  6-10 times a week  3-5 times a week   30-60 minutes a day   \n3   10+ times a week  1-2 times a week   15-30 minutes a day   \n4   1-2 times a week  3-5 times a week  60-120 minutes a day   \n\n         TimeAnswering                                   ProfessionalTech  \\\n0                  NaN                                                NaN   \n1  15-30 minutes a day  DevOps function;Microservices;Automated testin...   \n2  30-60 minutes a day  DevOps function;Microservices;Automated testin...   \n3  30-60 minutes a day  Automated testing;Continuous integration (CI) ...   \n4  30-60 minutes a day  Microservices;Automated testing;Observability ...   \n\n                                            Industry           SurveyLength  \\\n0                                                NaN                    NaN   \n1  Information Services, IT, Software Development...  Appropriate in length   \n2  Information Services, IT, Software Development...  Appropriate in length   \n3                                                NaN  Appropriate in length   \n4                                              Other  Appropriate in length   \n\n                   SurveyEase ConvertedCompYearly  \n0                         NaN                 NaN  \n1                        Easy            285000.0  \n2                        Easy            250000.0  \n3                        Easy            156000.0  \n4  Neither easy nor difficult             23456.0  \n\n[5 rows x 84 columns]",
      "text/html": "<div>\n<style scoped>\n    .dataframe tbody tr th:only-of-type {\n        vertical-align: middle;\n    }\n\n    .dataframe tbody tr th {\n        vertical-align: top;\n    }\n\n    .dataframe thead th {\n        text-align: right;\n    }\n</style>\n<table border=\"1\" class=\"dataframe\">\n  <thead>\n    <tr style=\"text-align: right;\">\n      <th></th>\n      <th>ResponseId</th>\n      <th>Q120</th>\n      <th>MainBranch</th>\n      <th>Age</th>\n      <th>Employment</th>\n      <th>RemoteWork</th>\n      <th>CodingActivities</th>\n      <th>EdLevel</th>\n      <th>LearnCode</th>\n      <th>LearnCodeOnline</th>\n      <th>...</th>\n      <th>Frequency_1</th>\n      <th>Frequency_2</th>\n      <th>Frequency_3</th>\n      <th>TimeSearching</th>\n      <th>TimeAnswering</th>\n      <th>ProfessionalTech</th>\n      <th>Industry</th>\n      <th>SurveyLength</th>\n      <th>SurveyEase</th>\n      <th>ConvertedCompYearly</th>\n    </tr>\n  </thead>\n  <tbody>\n    <tr>\n      <th>0</th>\n      <td>1</td>\n      <td>I agree</td>\n      <td>None of these</td>\n      <td>18-24 years old</td>\n      <td>NaN</td>\n      <td>NaN</td>\n      <td>NaN</td>\n      <td>NaN</td>\n      <td>NaN</td>\n      <td>NaN</td>\n      <td>...</td>\n      <td>NaN</td>\n      <td>NaN</td>\n      <td>NaN</td>\n      <td>NaN</td>\n      <td>NaN</td>\n      <td>NaN</td>\n      <td>NaN</td>\n      <td>NaN</td>\n      <td>NaN</td>\n      <td>NaN</td>\n    </tr>\n    <tr>\n      <th>1</th>\n      <td>2</td>\n      <td>I agree</td>\n      <td>I am a developer by profession</td>\n      <td>25-34 years old</td>\n      <td>Employed, full-time</td>\n      <td>Remote</td>\n      <td>Hobby;Contribute to open-source projects;Boots...</td>\n      <td>Bachelor’s degree (B.A., B.S., B.Eng., etc.)</td>\n      <td>Books / Physical media;Colleague;Friend or fam...</td>\n      <td>Formal documentation provided by the owner of ...</td>\n      <td>...</td>\n      <td>1-2 times a week</td>\n      <td>10+ times a week</td>\n      <td>Never</td>\n      <td>15-30 minutes a day</td>\n      <td>15-30 minutes a day</td>\n      <td>DevOps function;Microservices;Automated testin...</td>\n      <td>Information Services, IT, Software Development...</td>\n      <td>Appropriate in length</td>\n      <td>Easy</td>\n      <td>285000.0</td>\n    </tr>\n    <tr>\n      <th>2</th>\n      <td>3</td>\n      <td>I agree</td>\n      <td>I am a developer by profession</td>\n      <td>45-54 years old</td>\n      <td>Employed, full-time</td>\n      <td>Hybrid (some remote, some in-person)</td>\n      <td>Hobby;Professional development or self-paced l...</td>\n      <td>Bachelor’s degree (B.A., B.S., B.Eng., etc.)</td>\n      <td>Books / Physical media;Colleague;On the job tr...</td>\n      <td>Formal documentation provided by the owner of ...</td>\n      <td>...</td>\n      <td>6-10 times a week</td>\n      <td>6-10 times a week</td>\n      <td>3-5 times a week</td>\n      <td>30-60 minutes a day</td>\n      <td>30-60 minutes a day</td>\n      <td>DevOps function;Microservices;Automated testin...</td>\n      <td>Information Services, IT, Software Development...</td>\n      <td>Appropriate in length</td>\n      <td>Easy</td>\n      <td>250000.0</td>\n    </tr>\n    <tr>\n      <th>3</th>\n      <td>4</td>\n      <td>I agree</td>\n      <td>I am a developer by profession</td>\n      <td>25-34 years old</td>\n      <td>Employed, full-time</td>\n      <td>Hybrid (some remote, some in-person)</td>\n      <td>Hobby</td>\n      <td>Bachelor’s degree (B.A., B.S., B.Eng., etc.)</td>\n      <td>Colleague;Friend or family member;Other online...</td>\n      <td>Formal documentation provided by the owner of ...</td>\n      <td>...</td>\n      <td>1-2 times a week</td>\n      <td>10+ times a week</td>\n      <td>1-2 times a week</td>\n      <td>15-30 minutes a day</td>\n      <td>30-60 minutes a day</td>\n      <td>Automated testing;Continuous integration (CI) ...</td>\n      <td>NaN</td>\n      <td>Appropriate in length</td>\n      <td>Easy</td>\n      <td>156000.0</td>\n    </tr>\n    <tr>\n      <th>4</th>\n      <td>5</td>\n      <td>I agree</td>\n      <td>I am a developer by profession</td>\n      <td>25-34 years old</td>\n      <td>Employed, full-time;Independent contractor, fr...</td>\n      <td>Remote</td>\n      <td>Hobby;Contribute to open-source projects;Profe...</td>\n      <td>Bachelor’s degree (B.A., B.S., B.Eng., etc.)</td>\n      <td>Books / Physical media;Online Courses or Certi...</td>\n      <td>Formal documentation provided by the owner of ...</td>\n      <td>...</td>\n      <td>1-2 times a week</td>\n      <td>1-2 times a week</td>\n      <td>3-5 times a week</td>\n      <td>60-120 minutes a day</td>\n      <td>30-60 minutes a day</td>\n      <td>Microservices;Automated testing;Observability ...</td>\n      <td>Other</td>\n      <td>Appropriate in length</td>\n      <td>Neither easy nor difficult</td>\n      <td>23456.0</td>\n    </tr>\n  </tbody>\n</table>\n<p>5 rows × 84 columns</p>\n</div>"
     },
     "execution_count": 23,
     "metadata": {},
     "output_type": "execute_result"
    }
   ],
   "source": [
    "df.head()"
   ],
   "metadata": {
    "collapsed": false,
    "ExecuteTime": {
     "end_time": "2023-11-03T11:22:36.028752Z",
     "start_time": "2023-11-03T11:22:36.023388Z"
    }
   }
  },
  {
   "cell_type": "code",
   "execution_count": 24,
   "outputs": [],
   "source": [
    "df.rename(columns={'ConvertedCompYearly': 'Salary'}, inplace=True)\n",
    "columns_visible = ['Salary' if item == 'ConvertedCompYearly' else item for item in columns_visible]\n"
   ],
   "metadata": {
    "collapsed": false,
    "ExecuteTime": {
     "end_time": "2023-11-03T11:22:36.034853Z",
     "start_time": "2023-11-03T11:22:36.029089Z"
    }
   }
  },
  {
   "cell_type": "code",
   "execution_count": 25,
   "outputs": [
    {
     "data": {
      "text/plain": "         Salary    Salary                       Country  \\\n0           NaN       NaN                           NaN   \n1      285000.0  285000.0      United States of America   \n2      250000.0  250000.0      United States of America   \n3      156000.0  156000.0      United States of America   \n4       23456.0   23456.0                   Philippines   \n...         ...       ...                           ...   \n89179       NaN       NaN                        Brazil   \n89180       NaN       NaN                       Romania   \n89181       NaN       NaN                        Israel   \n89182       NaN       NaN                   Switzerland   \n89183       NaN       NaN  Iran, Islamic Republic of...   \n\n                        Currency  \\\n0                            NaN   \n1      USD\\tUnited States dollar   \n2      USD\\tUnited States dollar   \n3      USD\\tUnited States dollar   \n4           PHP\\tPhilippine peso   \n...                          ...   \n89179        BRL\\tBrazilian real   \n89180                        NaN   \n89181                        NaN   \n89182                        NaN   \n89183          IRR\\tIranian rial   \n\n                                  LanguageHaveWorkedWith  \\\n0                                                    NaN   \n1                             HTML/CSS;JavaScript;Python   \n2                             Bash/Shell (all shells);Go   \n3      Bash/Shell (all shells);HTML/CSS;JavaScript;PH...   \n4                         HTML/CSS;JavaScript;TypeScript   \n...                                                  ...   \n89179            HTML/CSS;Java;JavaScript;SQL;TypeScript   \n89180                               Dart;Java;Python;SQL   \n89181  Assembly;Bash/Shell (all shells);C;C#;Python;R...   \n89182  Bash/Shell (all shells);C#;HTML/CSS;Java;JavaS...   \n89183                    C#;Go;JavaScript;SQL;TypeScript   \n\n                                 RemoteWork     CompTotal  WorkExp SOAccount  \n0                                       NaN           NaN      NaN       NaN  \n1                                    Remote  2.850000e+05     10.0       Yes  \n2      Hybrid (some remote, some in-person)  2.500000e+05     23.0       Yes  \n3      Hybrid (some remote, some in-person)  1.560000e+05      7.0       Yes  \n4                                    Remote  1.320000e+06      6.0        No  \n...                                     ...           ...      ...       ...  \n89179                                Remote  2.000000e+05      NaN       Yes  \n89180  Hybrid (some remote, some in-person)           NaN      NaN       Yes  \n89181                                   NaN           NaN      NaN       NaN  \n89182  Hybrid (some remote, some in-person)           NaN      NaN        No  \n89183  Hybrid (some remote, some in-person)  3.300000e+09     14.0       Yes  \n\n[89184 rows x 9 columns]",
      "text/html": "<div>\n<style scoped>\n    .dataframe tbody tr th:only-of-type {\n        vertical-align: middle;\n    }\n\n    .dataframe tbody tr th {\n        vertical-align: top;\n    }\n\n    .dataframe thead th {\n        text-align: right;\n    }\n</style>\n<table border=\"1\" class=\"dataframe\">\n  <thead>\n    <tr style=\"text-align: right;\">\n      <th></th>\n      <th>Salary</th>\n      <th>Salary</th>\n      <th>Country</th>\n      <th>Currency</th>\n      <th>LanguageHaveWorkedWith</th>\n      <th>RemoteWork</th>\n      <th>CompTotal</th>\n      <th>WorkExp</th>\n      <th>SOAccount</th>\n    </tr>\n  </thead>\n  <tbody>\n    <tr>\n      <th>0</th>\n      <td>NaN</td>\n      <td>NaN</td>\n      <td>NaN</td>\n      <td>NaN</td>\n      <td>NaN</td>\n      <td>NaN</td>\n      <td>NaN</td>\n      <td>NaN</td>\n      <td>NaN</td>\n    </tr>\n    <tr>\n      <th>1</th>\n      <td>285000.0</td>\n      <td>285000.0</td>\n      <td>United States of America</td>\n      <td>USD\\tUnited States dollar</td>\n      <td>HTML/CSS;JavaScript;Python</td>\n      <td>Remote</td>\n      <td>2.850000e+05</td>\n      <td>10.0</td>\n      <td>Yes</td>\n    </tr>\n    <tr>\n      <th>2</th>\n      <td>250000.0</td>\n      <td>250000.0</td>\n      <td>United States of America</td>\n      <td>USD\\tUnited States dollar</td>\n      <td>Bash/Shell (all shells);Go</td>\n      <td>Hybrid (some remote, some in-person)</td>\n      <td>2.500000e+05</td>\n      <td>23.0</td>\n      <td>Yes</td>\n    </tr>\n    <tr>\n      <th>3</th>\n      <td>156000.0</td>\n      <td>156000.0</td>\n      <td>United States of America</td>\n      <td>USD\\tUnited States dollar</td>\n      <td>Bash/Shell (all shells);HTML/CSS;JavaScript;PH...</td>\n      <td>Hybrid (some remote, some in-person)</td>\n      <td>1.560000e+05</td>\n      <td>7.0</td>\n      <td>Yes</td>\n    </tr>\n    <tr>\n      <th>4</th>\n      <td>23456.0</td>\n      <td>23456.0</td>\n      <td>Philippines</td>\n      <td>PHP\\tPhilippine peso</td>\n      <td>HTML/CSS;JavaScript;TypeScript</td>\n      <td>Remote</td>\n      <td>1.320000e+06</td>\n      <td>6.0</td>\n      <td>No</td>\n    </tr>\n    <tr>\n      <th>...</th>\n      <td>...</td>\n      <td>...</td>\n      <td>...</td>\n      <td>...</td>\n      <td>...</td>\n      <td>...</td>\n      <td>...</td>\n      <td>...</td>\n      <td>...</td>\n    </tr>\n    <tr>\n      <th>89179</th>\n      <td>NaN</td>\n      <td>NaN</td>\n      <td>Brazil</td>\n      <td>BRL\\tBrazilian real</td>\n      <td>HTML/CSS;Java;JavaScript;SQL;TypeScript</td>\n      <td>Remote</td>\n      <td>2.000000e+05</td>\n      <td>NaN</td>\n      <td>Yes</td>\n    </tr>\n    <tr>\n      <th>89180</th>\n      <td>NaN</td>\n      <td>NaN</td>\n      <td>Romania</td>\n      <td>NaN</td>\n      <td>Dart;Java;Python;SQL</td>\n      <td>Hybrid (some remote, some in-person)</td>\n      <td>NaN</td>\n      <td>NaN</td>\n      <td>Yes</td>\n    </tr>\n    <tr>\n      <th>89181</th>\n      <td>NaN</td>\n      <td>NaN</td>\n      <td>Israel</td>\n      <td>NaN</td>\n      <td>Assembly;Bash/Shell (all shells);C;C#;Python;R...</td>\n      <td>NaN</td>\n      <td>NaN</td>\n      <td>NaN</td>\n      <td>NaN</td>\n    </tr>\n    <tr>\n      <th>89182</th>\n      <td>NaN</td>\n      <td>NaN</td>\n      <td>Switzerland</td>\n      <td>NaN</td>\n      <td>Bash/Shell (all shells);C#;HTML/CSS;Java;JavaS...</td>\n      <td>Hybrid (some remote, some in-person)</td>\n      <td>NaN</td>\n      <td>NaN</td>\n      <td>No</td>\n    </tr>\n    <tr>\n      <th>89183</th>\n      <td>NaN</td>\n      <td>NaN</td>\n      <td>Iran, Islamic Republic of...</td>\n      <td>IRR\\tIranian rial</td>\n      <td>C#;Go;JavaScript;SQL;TypeScript</td>\n      <td>Hybrid (some remote, some in-person)</td>\n      <td>3.300000e+09</td>\n      <td>14.0</td>\n      <td>Yes</td>\n    </tr>\n  </tbody>\n</table>\n<p>89184 rows × 9 columns</p>\n</div>"
     },
     "execution_count": 25,
     "metadata": {},
     "output_type": "execute_result"
    }
   ],
   "source": [
    "df.loc[:, ['Salary'] + columns_visible]"
   ],
   "metadata": {
    "collapsed": false,
    "ExecuteTime": {
     "end_time": "2023-11-03T11:22:36.083698Z",
     "start_time": "2023-11-03T11:22:36.037004Z"
    }
   }
  },
  {
   "cell_type": "code",
   "execution_count": 26,
   "outputs": [],
   "source": [
    "# df['SOAccount'].map({'Yes':True, 'No':False})\n",
    "df['SOAccount'] = df['SOAccount'].replace({'Yes':True, 'No':False})"
   ],
   "metadata": {
    "collapsed": false,
    "ExecuteTime": {
     "end_time": "2023-11-03T11:22:36.105624Z",
     "start_time": "2023-11-03T11:22:36.051079Z"
    }
   }
  },
  {
   "cell_type": "code",
   "execution_count": 27,
   "outputs": [],
   "source": [
    "df.sort_values(by=['Country','Salary'], ascending=[True, False], inplace=True)\n"
   ],
   "metadata": {
    "collapsed": false,
    "ExecuteTime": {
     "end_time": "2023-11-03T11:22:36.155028Z",
     "start_time": "2023-11-03T11:22:36.070706Z"
    }
   }
  },
  {
   "cell_type": "code",
   "execution_count": 28,
   "outputs": [],
   "source": [
    "df = df[columns_visible]"
   ],
   "metadata": {
    "collapsed": false,
    "ExecuteTime": {
     "end_time": "2023-11-03T11:22:36.205325Z",
     "start_time": "2023-11-03T11:22:36.155236Z"
    }
   }
  },
  {
   "cell_type": "code",
   "execution_count": 29,
   "outputs": [
    {
     "data": {
      "text/plain": "          Salary      Country                   Currency  \\\n88347  9203683.0  Afghanistan          ALL\\tAlbanian lek   \n86038    68000.0  Afghanistan  USD\\tUnited States dollar   \n1334      2403.0  Afghanistan        AFN\\tAfghan afghani   \n57361     2288.0  Afghanistan        AFN\\tAfghan afghani   \n17872     1144.0  Afghanistan        AFN\\tAfghan afghani   \n...          ...          ...                        ...   \n88820        NaN          NaN                        NaN   \n88828        NaN          NaN                        NaN   \n88830        NaN          NaN                        NaN   \n89028        NaN          NaN                        NaN   \n89159        NaN          NaN                        NaN   \n\n                                  LanguageHaveWorkedWith  \\\n88347                                              Cobol   \n86038                                                NaN   \n1334                                      C;C++;Java;PHP   \n57361  C++;HTML/CSS;JavaScript;PowerShell;Python;Type...   \n17872  C;C#;C++;Dart;HTML/CSS;Java;JavaScript;Kotlin;...   \n...                                                  ...   \n88820                                                NaN   \n88828                                                NaN   \n88830                                                NaN   \n89028                                                NaN   \n89159                                                NaN   \n\n                                 RemoteWork    CompTotal  WorkExp SOAccount  \n88347  Hybrid (some remote, some in-person)  932464379.0      NaN     False  \n86038                                Remote      68000.0      NaN      True  \n1334   Hybrid (some remote, some in-person)     210000.0      NaN      True  \n57361  Hybrid (some remote, some in-person)     200000.0      4.0      True  \n17872  Hybrid (some remote, some in-person)     100000.0      2.0      True  \n...                                     ...          ...      ...       ...  \n88820                                   NaN          NaN      NaN       NaN  \n88828                                   NaN          NaN      NaN       NaN  \n88830                                   NaN          NaN      NaN       NaN  \n89028                                   NaN          NaN      NaN       NaN  \n89159                                   NaN          NaN      NaN       NaN  \n\n[89184 rows x 8 columns]",
      "text/html": "<div>\n<style scoped>\n    .dataframe tbody tr th:only-of-type {\n        vertical-align: middle;\n    }\n\n    .dataframe tbody tr th {\n        vertical-align: top;\n    }\n\n    .dataframe thead th {\n        text-align: right;\n    }\n</style>\n<table border=\"1\" class=\"dataframe\">\n  <thead>\n    <tr style=\"text-align: right;\">\n      <th></th>\n      <th>Salary</th>\n      <th>Country</th>\n      <th>Currency</th>\n      <th>LanguageHaveWorkedWith</th>\n      <th>RemoteWork</th>\n      <th>CompTotal</th>\n      <th>WorkExp</th>\n      <th>SOAccount</th>\n    </tr>\n  </thead>\n  <tbody>\n    <tr>\n      <th>88347</th>\n      <td>9203683.0</td>\n      <td>Afghanistan</td>\n      <td>ALL\\tAlbanian lek</td>\n      <td>Cobol</td>\n      <td>Hybrid (some remote, some in-person)</td>\n      <td>932464379.0</td>\n      <td>NaN</td>\n      <td>False</td>\n    </tr>\n    <tr>\n      <th>86038</th>\n      <td>68000.0</td>\n      <td>Afghanistan</td>\n      <td>USD\\tUnited States dollar</td>\n      <td>NaN</td>\n      <td>Remote</td>\n      <td>68000.0</td>\n      <td>NaN</td>\n      <td>True</td>\n    </tr>\n    <tr>\n      <th>1334</th>\n      <td>2403.0</td>\n      <td>Afghanistan</td>\n      <td>AFN\\tAfghan afghani</td>\n      <td>C;C++;Java;PHP</td>\n      <td>Hybrid (some remote, some in-person)</td>\n      <td>210000.0</td>\n      <td>NaN</td>\n      <td>True</td>\n    </tr>\n    <tr>\n      <th>57361</th>\n      <td>2288.0</td>\n      <td>Afghanistan</td>\n      <td>AFN\\tAfghan afghani</td>\n      <td>C++;HTML/CSS;JavaScript;PowerShell;Python;Type...</td>\n      <td>Hybrid (some remote, some in-person)</td>\n      <td>200000.0</td>\n      <td>4.0</td>\n      <td>True</td>\n    </tr>\n    <tr>\n      <th>17872</th>\n      <td>1144.0</td>\n      <td>Afghanistan</td>\n      <td>AFN\\tAfghan afghani</td>\n      <td>C;C#;C++;Dart;HTML/CSS;Java;JavaScript;Kotlin;...</td>\n      <td>Hybrid (some remote, some in-person)</td>\n      <td>100000.0</td>\n      <td>2.0</td>\n      <td>True</td>\n    </tr>\n    <tr>\n      <th>...</th>\n      <td>...</td>\n      <td>...</td>\n      <td>...</td>\n      <td>...</td>\n      <td>...</td>\n      <td>...</td>\n      <td>...</td>\n      <td>...</td>\n    </tr>\n    <tr>\n      <th>88820</th>\n      <td>NaN</td>\n      <td>NaN</td>\n      <td>NaN</td>\n      <td>NaN</td>\n      <td>NaN</td>\n      <td>NaN</td>\n      <td>NaN</td>\n      <td>NaN</td>\n    </tr>\n    <tr>\n      <th>88828</th>\n      <td>NaN</td>\n      <td>NaN</td>\n      <td>NaN</td>\n      <td>NaN</td>\n      <td>NaN</td>\n      <td>NaN</td>\n      <td>NaN</td>\n      <td>NaN</td>\n    </tr>\n    <tr>\n      <th>88830</th>\n      <td>NaN</td>\n      <td>NaN</td>\n      <td>NaN</td>\n      <td>NaN</td>\n      <td>NaN</td>\n      <td>NaN</td>\n      <td>NaN</td>\n      <td>NaN</td>\n    </tr>\n    <tr>\n      <th>89028</th>\n      <td>NaN</td>\n      <td>NaN</td>\n      <td>NaN</td>\n      <td>NaN</td>\n      <td>NaN</td>\n      <td>NaN</td>\n      <td>NaN</td>\n      <td>NaN</td>\n    </tr>\n    <tr>\n      <th>89159</th>\n      <td>NaN</td>\n      <td>NaN</td>\n      <td>NaN</td>\n      <td>NaN</td>\n      <td>NaN</td>\n      <td>NaN</td>\n      <td>NaN</td>\n      <td>NaN</td>\n    </tr>\n  </tbody>\n</table>\n<p>89184 rows × 8 columns</p>\n</div>"
     },
     "execution_count": 29,
     "metadata": {},
     "output_type": "execute_result"
    }
   ],
   "source": [
    "df"
   ],
   "metadata": {
    "collapsed": false,
    "ExecuteTime": {
     "end_time": "2023-11-03T11:22:36.206033Z",
     "start_time": "2023-11-03T11:22:36.187994Z"
    }
   }
  },
  {
   "cell_type": "code",
   "execution_count": 30,
   "outputs": [],
   "source": [
    "df.to_csv(\"output_minified.csv\")"
   ],
   "metadata": {
    "collapsed": false,
    "ExecuteTime": {
     "end_time": "2023-11-03T11:22:36.596608Z",
     "start_time": "2023-11-03T11:22:36.192003Z"
    }
   }
  }
 ],
 "metadata": {
  "kernelspec": {
   "display_name": "venv",
   "language": "python",
   "name": "python3"
  },
  "language_info": {
   "codemirror_mode": {
    "name": "ipython",
    "version": 3
   },
   "file_extension": ".py",
   "mimetype": "text/x-python",
   "name": "python",
   "nbconvert_exporter": "python",
   "pygments_lexer": "ipython3",
   "version": "3.11.6"
  }
 },
 "nbformat": 4,
 "nbformat_minor": 2
}
