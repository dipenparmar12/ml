{
 "cells": [
  {
   "cell_type": "markdown",
   "source": [
    "### GroupBy Tutorial\n",
    "https://sparkbyexamples.com/pandas/pandas-groupby-explained-with-examples\n",
    " "
   ],
   "metadata": {
    "collapsed": false
   }
  },
  {
   "cell_type": "code",
   "execution_count": 20,
   "metadata": {
    "ExecuteTime": {
     "end_time": "2023-11-04T10:20:58.202860Z",
     "start_time": "2023-11-04T10:20:58.195152Z"
    }
   },
   "outputs": [],
   "source": [
    "import pandas as pd\n",
    "import numpy as np"
   ]
  },
  {
   "cell_type": "code",
   "execution_count": 21,
   "outputs": [
    {
     "data": {
      "text/plain": "    Courses  Fee Duration  Discount\n0    Hadoop   30   55days    1000.0\n1    Hadoop   60   35days       NaN\n2    Hadoop   10    5days       NaN\n3        NA   90   40days       NaN\n4    Pandas   50   60days    2500.0\n5    Python   40   40days       0.0\n6    Python   80   50days      10.0\n7    Python    0   40days       NaN\n8   PySpark   20   50days    2300.0\n9     Spark   10   30days    1000.0\n10    Spark   70   30days    1400.0",
      "text/html": "<div>\n<style scoped>\n    .dataframe tbody tr th:only-of-type {\n        vertical-align: middle;\n    }\n\n    .dataframe tbody tr th {\n        vertical-align: top;\n    }\n\n    .dataframe thead th {\n        text-align: right;\n    }\n</style>\n<table border=\"1\" class=\"dataframe\">\n  <thead>\n    <tr style=\"text-align: right;\">\n      <th></th>\n      <th>Courses</th>\n      <th>Fee</th>\n      <th>Duration</th>\n      <th>Discount</th>\n    </tr>\n  </thead>\n  <tbody>\n    <tr>\n      <th>0</th>\n      <td>Hadoop</td>\n      <td>30</td>\n      <td>55days</td>\n      <td>1000.0</td>\n    </tr>\n    <tr>\n      <th>1</th>\n      <td>Hadoop</td>\n      <td>60</td>\n      <td>35days</td>\n      <td>NaN</td>\n    </tr>\n    <tr>\n      <th>2</th>\n      <td>Hadoop</td>\n      <td>10</td>\n      <td>5days</td>\n      <td>NaN</td>\n    </tr>\n    <tr>\n      <th>3</th>\n      <td>NA</td>\n      <td>90</td>\n      <td>40days</td>\n      <td>NaN</td>\n    </tr>\n    <tr>\n      <th>4</th>\n      <td>Pandas</td>\n      <td>50</td>\n      <td>60days</td>\n      <td>2500.0</td>\n    </tr>\n    <tr>\n      <th>5</th>\n      <td>Python</td>\n      <td>40</td>\n      <td>40days</td>\n      <td>0.0</td>\n    </tr>\n    <tr>\n      <th>6</th>\n      <td>Python</td>\n      <td>80</td>\n      <td>50days</td>\n      <td>10.0</td>\n    </tr>\n    <tr>\n      <th>7</th>\n      <td>Python</td>\n      <td>0</td>\n      <td>40days</td>\n      <td>NaN</td>\n    </tr>\n    <tr>\n      <th>8</th>\n      <td>PySpark</td>\n      <td>20</td>\n      <td>50days</td>\n      <td>2300.0</td>\n    </tr>\n    <tr>\n      <th>9</th>\n      <td>Spark</td>\n      <td>10</td>\n      <td>30days</td>\n      <td>1000.0</td>\n    </tr>\n    <tr>\n      <th>10</th>\n      <td>Spark</td>\n      <td>70</td>\n      <td>30days</td>\n      <td>1400.0</td>\n    </tr>\n  </tbody>\n</table>\n</div>"
     },
     "execution_count": 21,
     "metadata": {},
     "output_type": "execute_result"
    }
   ],
   "source": [
    "technologies = ({\n",
    "    'Courses': ['Hadoop', 'Hadoop', 'Hadoop', 'NA', 'Pandas', 'Python', 'Python', 'Python', 'PySpark', 'Spark', 'Spark'],\n",
    "    'Fee': [30, 60, 10,90, 50, 40, 80, 0, 20, 10, 70],\n",
    "    'Duration': ['55days', '35days', '5days', '40days', '60days', '40days', '50days', '40days', '50days', '30days', '30days'],\n",
    "    'Discount': [1000, None, None,None, 2500, 0, 10, None, 2300, 1000, 1400]\n",
    "})\n",
    "df = pd.DataFrame(technologies)\n",
    "df"
   ],
   "metadata": {
    "collapsed": false,
    "ExecuteTime": {
     "end_time": "2023-11-04T10:20:58.220849Z",
     "start_time": "2023-11-04T10:20:58.206111Z"
    }
   }
  },
  {
   "cell_type": "code",
   "execution_count": 22,
   "outputs": [
    {
     "data": {
      "text/plain": "         Fee            Duration  Discount\nCourses                                   \nHadoop   100   55days35days5days    1000.0\nNA        90              40days       0.0\nPandas    50              60days    2500.0\nPySpark   20              50days    2300.0\nPython   120  40days50days40days      10.0\nSpark     80        30days30days    2400.0",
      "text/html": "<div>\n<style scoped>\n    .dataframe tbody tr th:only-of-type {\n        vertical-align: middle;\n    }\n\n    .dataframe tbody tr th {\n        vertical-align: top;\n    }\n\n    .dataframe thead th {\n        text-align: right;\n    }\n</style>\n<table border=\"1\" class=\"dataframe\">\n  <thead>\n    <tr style=\"text-align: right;\">\n      <th></th>\n      <th>Fee</th>\n      <th>Duration</th>\n      <th>Discount</th>\n    </tr>\n    <tr>\n      <th>Courses</th>\n      <th></th>\n      <th></th>\n      <th></th>\n    </tr>\n  </thead>\n  <tbody>\n    <tr>\n      <th>Hadoop</th>\n      <td>100</td>\n      <td>55days35days5days</td>\n      <td>1000.0</td>\n    </tr>\n    <tr>\n      <th>NA</th>\n      <td>90</td>\n      <td>40days</td>\n      <td>0.0</td>\n    </tr>\n    <tr>\n      <th>Pandas</th>\n      <td>50</td>\n      <td>60days</td>\n      <td>2500.0</td>\n    </tr>\n    <tr>\n      <th>PySpark</th>\n      <td>20</td>\n      <td>50days</td>\n      <td>2300.0</td>\n    </tr>\n    <tr>\n      <th>Python</th>\n      <td>120</td>\n      <td>40days50days40days</td>\n      <td>10.0</td>\n    </tr>\n    <tr>\n      <th>Spark</th>\n      <td>80</td>\n      <td>30days30days</td>\n      <td>2400.0</td>\n    </tr>\n  </tbody>\n</table>\n</div>"
     },
     "execution_count": 22,
     "metadata": {},
     "output_type": "execute_result"
    }
   ],
   "source": [
    "grouped = df.groupby(['Courses']).sum()\n",
    "\n",
    "grouped"
   ],
   "metadata": {
    "collapsed": false,
    "ExecuteTime": {
     "end_time": "2023-11-04T10:20:58.221163Z",
     "start_time": "2023-11-04T10:20:58.209612Z"
    }
   }
  },
  {
   "cell_type": "code",
   "execution_count": 23,
   "outputs": [
    {
     "data": {
      "text/plain": "                  Fee  Discount\nCourses Duration               \nHadoop  35days     60       0.0\n        55days     30    1000.0\n        5days      10       0.0\nNA      40days     90       0.0\nPandas  60days     50    2500.0\nPySpark 50days     20    2300.0\nPython  40days     40       0.0\n        50days     80      10.0\nSpark   30days     80    2400.0",
      "text/html": "<div>\n<style scoped>\n    .dataframe tbody tr th:only-of-type {\n        vertical-align: middle;\n    }\n\n    .dataframe tbody tr th {\n        vertical-align: top;\n    }\n\n    .dataframe thead th {\n        text-align: right;\n    }\n</style>\n<table border=\"1\" class=\"dataframe\">\n  <thead>\n    <tr style=\"text-align: right;\">\n      <th></th>\n      <th></th>\n      <th>Fee</th>\n      <th>Discount</th>\n    </tr>\n    <tr>\n      <th>Courses</th>\n      <th>Duration</th>\n      <th></th>\n      <th></th>\n    </tr>\n  </thead>\n  <tbody>\n    <tr>\n      <th rowspan=\"3\" valign=\"top\">Hadoop</th>\n      <th>35days</th>\n      <td>60</td>\n      <td>0.0</td>\n    </tr>\n    <tr>\n      <th>55days</th>\n      <td>30</td>\n      <td>1000.0</td>\n    </tr>\n    <tr>\n      <th>5days</th>\n      <td>10</td>\n      <td>0.0</td>\n    </tr>\n    <tr>\n      <th>NA</th>\n      <th>40days</th>\n      <td>90</td>\n      <td>0.0</td>\n    </tr>\n    <tr>\n      <th>Pandas</th>\n      <th>60days</th>\n      <td>50</td>\n      <td>2500.0</td>\n    </tr>\n    <tr>\n      <th>PySpark</th>\n      <th>50days</th>\n      <td>20</td>\n      <td>2300.0</td>\n    </tr>\n    <tr>\n      <th rowspan=\"2\" valign=\"top\">Python</th>\n      <th>40days</th>\n      <td>40</td>\n      <td>0.0</td>\n    </tr>\n    <tr>\n      <th>50days</th>\n      <td>80</td>\n      <td>10.0</td>\n    </tr>\n    <tr>\n      <th>Spark</th>\n      <th>30days</th>\n      <td>80</td>\n      <td>2400.0</td>\n    </tr>\n  </tbody>\n</table>\n</div>"
     },
     "execution_count": 23,
     "metadata": {},
     "output_type": "execute_result"
    }
   ],
   "source": [
    "grouped_multi_col = df.groupby(['Courses', 'Duration']).sum()\n",
    "\n",
    "grouped_multi_col"
   ],
   "metadata": {
    "collapsed": false,
    "ExecuteTime": {
     "end_time": "2023-11-04T10:20:58.227410Z",
     "start_time": "2023-11-04T10:20:58.218015Z"
    }
   }
  },
  {
   "cell_type": "code",
   "execution_count": 24,
   "outputs": [
    {
     "data": {
      "text/plain": "         Fee            Duration  Discount\nCourses                                   \nHadoop   100   55days35days5days    1000.0\nNA        90              40days       0.0\nPandas    50              60days    2500.0\nPySpark   20              50days    2300.0\nPython   120  40days50days40days      10.0\nSpark     80        30days30days    2400.0",
      "text/html": "<div>\n<style scoped>\n    .dataframe tbody tr th:only-of-type {\n        vertical-align: middle;\n    }\n\n    .dataframe tbody tr th {\n        vertical-align: top;\n    }\n\n    .dataframe thead th {\n        text-align: right;\n    }\n</style>\n<table border=\"1\" class=\"dataframe\">\n  <thead>\n    <tr style=\"text-align: right;\">\n      <th></th>\n      <th>Fee</th>\n      <th>Duration</th>\n      <th>Discount</th>\n    </tr>\n    <tr>\n      <th>Courses</th>\n      <th></th>\n      <th></th>\n      <th></th>\n    </tr>\n  </thead>\n  <tbody>\n    <tr>\n      <th>Hadoop</th>\n      <td>100</td>\n      <td>55days35days5days</td>\n      <td>1000.0</td>\n    </tr>\n    <tr>\n      <th>NA</th>\n      <td>90</td>\n      <td>40days</td>\n      <td>0.0</td>\n    </tr>\n    <tr>\n      <th>Pandas</th>\n      <td>50</td>\n      <td>60days</td>\n      <td>2500.0</td>\n    </tr>\n    <tr>\n      <th>PySpark</th>\n      <td>20</td>\n      <td>50days</td>\n      <td>2300.0</td>\n    </tr>\n    <tr>\n      <th>Python</th>\n      <td>120</td>\n      <td>40days50days40days</td>\n      <td>10.0</td>\n    </tr>\n    <tr>\n      <th>Spark</th>\n      <td>80</td>\n      <td>30days30days</td>\n      <td>2400.0</td>\n    </tr>\n  </tbody>\n</table>\n</div>"
     },
     "execution_count": 24,
     "metadata": {},
     "output_type": "execute_result"
    }
   ],
   "source": [
    "df.groupby(by=['Courses'], dropna=False).sum()"
   ],
   "metadata": {
    "collapsed": false,
    "ExecuteTime": {
     "end_time": "2023-11-04T10:20:58.234605Z",
     "start_time": "2023-11-04T10:20:58.229184Z"
    }
   }
  },
  {
   "cell_type": "code",
   "execution_count": 25,
   "outputs": [
    {
     "data": {
      "text/plain": "            Courses  Fee Duration  Discount\nCourses                                    \nHadoop  2    Hadoop   10    5days       NaN\n        0    Hadoop   30   55days    1000.0\n        1    Hadoop   60   35days       NaN\nNA      3        NA   90   40days       NaN\nPandas  4    Pandas   50   60days    2500.0\nPySpark 8   PySpark   20   50days    2300.0\nPython  7    Python    0   40days       NaN\n        5    Python   40   40days       0.0\n        6    Python   80   50days      10.0\nSpark   9     Spark   10   30days    1000.0\n        10    Spark   70   30days    1400.0",
      "text/html": "<div>\n<style scoped>\n    .dataframe tbody tr th:only-of-type {\n        vertical-align: middle;\n    }\n\n    .dataframe tbody tr th {\n        vertical-align: top;\n    }\n\n    .dataframe thead th {\n        text-align: right;\n    }\n</style>\n<table border=\"1\" class=\"dataframe\">\n  <thead>\n    <tr style=\"text-align: right;\">\n      <th></th>\n      <th></th>\n      <th>Courses</th>\n      <th>Fee</th>\n      <th>Duration</th>\n      <th>Discount</th>\n    </tr>\n    <tr>\n      <th>Courses</th>\n      <th></th>\n      <th></th>\n      <th></th>\n      <th></th>\n      <th></th>\n    </tr>\n  </thead>\n  <tbody>\n    <tr>\n      <th rowspan=\"3\" valign=\"top\">Hadoop</th>\n      <th>2</th>\n      <td>Hadoop</td>\n      <td>10</td>\n      <td>5days</td>\n      <td>NaN</td>\n    </tr>\n    <tr>\n      <th>0</th>\n      <td>Hadoop</td>\n      <td>30</td>\n      <td>55days</td>\n      <td>1000.0</td>\n    </tr>\n    <tr>\n      <th>1</th>\n      <td>Hadoop</td>\n      <td>60</td>\n      <td>35days</td>\n      <td>NaN</td>\n    </tr>\n    <tr>\n      <th>NA</th>\n      <th>3</th>\n      <td>NA</td>\n      <td>90</td>\n      <td>40days</td>\n      <td>NaN</td>\n    </tr>\n    <tr>\n      <th>Pandas</th>\n      <th>4</th>\n      <td>Pandas</td>\n      <td>50</td>\n      <td>60days</td>\n      <td>2500.0</td>\n    </tr>\n    <tr>\n      <th>PySpark</th>\n      <th>8</th>\n      <td>PySpark</td>\n      <td>20</td>\n      <td>50days</td>\n      <td>2300.0</td>\n    </tr>\n    <tr>\n      <th rowspan=\"3\" valign=\"top\">Python</th>\n      <th>7</th>\n      <td>Python</td>\n      <td>0</td>\n      <td>40days</td>\n      <td>NaN</td>\n    </tr>\n    <tr>\n      <th>5</th>\n      <td>Python</td>\n      <td>40</td>\n      <td>40days</td>\n      <td>0.0</td>\n    </tr>\n    <tr>\n      <th>6</th>\n      <td>Python</td>\n      <td>80</td>\n      <td>50days</td>\n      <td>10.0</td>\n    </tr>\n    <tr>\n      <th rowspan=\"2\" valign=\"top\">Spark</th>\n      <th>9</th>\n      <td>Spark</td>\n      <td>10</td>\n      <td>30days</td>\n      <td>1000.0</td>\n    </tr>\n    <tr>\n      <th>10</th>\n      <td>Spark</td>\n      <td>70</td>\n      <td>30days</td>\n      <td>1400.0</td>\n    </tr>\n  </tbody>\n</table>\n</div>"
     },
     "execution_count": 25,
     "metadata": {},
     "output_type": "execute_result"
    }
   ],
   "source": [
    "# Using apply() & lambda\n",
    "df.groupby(by='Courses').apply(lambda x: x.sort_values('Fee'))"
   ],
   "metadata": {
    "collapsed": false,
    "ExecuteTime": {
     "end_time": "2023-11-04T10:20:58.247735Z",
     "start_time": "2023-11-04T10:20:58.233913Z"
    }
   }
  },
  {
   "cell_type": "code",
   "execution_count": 26,
   "outputs": [
    {
     "data": {
      "text/plain": "         min  max\nCourses          \nHadoop    10   60\nNA        90   90\nPandas    50   50\nPySpark   20   20\nPython     0   80\nSpark     10   70",
      "text/html": "<div>\n<style scoped>\n    .dataframe tbody tr th:only-of-type {\n        vertical-align: middle;\n    }\n\n    .dataframe tbody tr th {\n        vertical-align: top;\n    }\n\n    .dataframe thead th {\n        text-align: right;\n    }\n</style>\n<table border=\"1\" class=\"dataframe\">\n  <thead>\n    <tr style=\"text-align: right;\">\n      <th></th>\n      <th>min</th>\n      <th>max</th>\n    </tr>\n    <tr>\n      <th>Courses</th>\n      <th></th>\n      <th></th>\n    </tr>\n  </thead>\n  <tbody>\n    <tr>\n      <th>Hadoop</th>\n      <td>10</td>\n      <td>60</td>\n    </tr>\n    <tr>\n      <th>NA</th>\n      <td>90</td>\n      <td>90</td>\n    </tr>\n    <tr>\n      <th>Pandas</th>\n      <td>50</td>\n      <td>50</td>\n    </tr>\n    <tr>\n      <th>PySpark</th>\n      <td>20</td>\n      <td>20</td>\n    </tr>\n    <tr>\n      <th>Python</th>\n      <td>0</td>\n      <td>80</td>\n    </tr>\n    <tr>\n      <th>Spark</th>\n      <td>10</td>\n      <td>70</td>\n    </tr>\n  </tbody>\n</table>\n</div>"
     },
     "execution_count": 26,
     "metadata": {},
     "output_type": "execute_result"
    }
   ],
   "source": [
    "df.groupby('Courses')['Fee'].aggregate(['min','max'])"
   ],
   "metadata": {
    "collapsed": false,
    "ExecuteTime": {
     "end_time": "2023-11-04T10:20:58.282866Z",
     "start_time": "2023-11-04T10:20:58.245155Z"
    }
   }
  },
  {
   "cell_type": "code",
   "execution_count": 26,
   "outputs": [],
   "source": [],
   "metadata": {
    "collapsed": false,
    "ExecuteTime": {
     "end_time": "2023-11-04T10:20:58.286197Z",
     "start_time": "2023-11-04T10:20:58.248442Z"
    }
   }
  }
 ],
 "metadata": {
  "kernelspec": {
   "display_name": "venv",
   "language": "python",
   "name": "python3"
  },
  "language_info": {
   "codemirror_mode": {
    "name": "ipython",
    "version": 3
   },
   "file_extension": ".py",
   "mimetype": "text/x-python",
   "name": "python",
   "nbconvert_exporter": "python",
   "pygments_lexer": "ipython3",
   "version": "3.11.6"
  }
 },
 "nbformat": 4,
 "nbformat_minor": 2
}
