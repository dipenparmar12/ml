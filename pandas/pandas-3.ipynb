{
 "cells": [
  {
   "cell_type": "code",
   "execution_count": 146,
   "metadata": {
    "ExecuteTime": {
     "end_time": "2023-11-04T10:00:38.560190Z",
     "start_time": "2023-11-04T10:00:38.547939Z"
    }
   },
   "outputs": [],
   "source": [
    "import pandas as pd\n",
    "import numpy as np"
   ]
  },
  {
   "cell_type": "code",
   "execution_count": 147,
   "metadata": {
    "ExecuteTime": {
     "end_time": "2023-11-04T10:00:38.611983Z",
     "start_time": "2023-11-04T10:00:38.552681Z"
    }
   },
   "outputs": [],
   "source": [
    "df = pd.read_csv('./output_salary_filtered.csv')\n",
    "schema = pd.read_csv('./stack-overflow-survey-2023/survey_results_schema.csv')\n"
   ]
  },
  {
   "cell_type": "code",
   "execution_count": 148,
   "outputs": [
    {
     "data": {
      "text/plain": "                                                 Country  ConvertedCompYearly  \\\n0                               United States of America               285000   \n1                               United States of America               250000   \n2                               United States of America               156000   \n3                                            Philippines                23456   \n4      United Kingdom of Great Britain and Northern I...                96828   \n...                                                  ...                  ...   \n47322                                             Brazil                50719   \n47323                                            Armenia                16917   \n47324                                              India                15752   \n47325                                             France                64254   \n47326                                             Greece                61041   \n\n                                  LanguageHaveWorkedWith  \\\n0                             HTML/CSS;JavaScript;Python   \n1                             Bash/Shell (all shells);Go   \n2      Bash/Shell (all shells);HTML/CSS;JavaScript;PH...   \n3                         HTML/CSS;JavaScript;TypeScript   \n4      Bash/Shell (all shells);HTML/CSS;JavaScript;Ru...   \n...                                                  ...   \n47322                                              C;C++   \n47323  Assembly;Bash/Shell (all shells);C;C#;C++;Java...   \n47324                Dart;HTML/CSS;JavaScript;TypeScript   \n47325           C#;F#;HTML/CSS;JavaScript;SQL;TypeScript   \n47326                         Java;JavaScript;TypeScript   \n\n                                 RemoteWork  \n0                                    Remote  \n1      Hybrid (some remote, some in-person)  \n2      Hybrid (some remote, some in-person)  \n3                                    Remote  \n4                                    Remote  \n...                                     ...  \n47322                                Remote  \n47323                             In-person  \n47324                                Remote  \n47325  Hybrid (some remote, some in-person)  \n47326                             In-person  \n\n[47327 rows x 4 columns]",
      "text/html": "<div>\n<style scoped>\n    .dataframe tbody tr th:only-of-type {\n        vertical-align: middle;\n    }\n\n    .dataframe tbody tr th {\n        vertical-align: top;\n    }\n\n    .dataframe thead th {\n        text-align: right;\n    }\n</style>\n<table border=\"1\" class=\"dataframe\">\n  <thead>\n    <tr style=\"text-align: right;\">\n      <th></th>\n      <th>Country</th>\n      <th>ConvertedCompYearly</th>\n      <th>LanguageHaveWorkedWith</th>\n      <th>RemoteWork</th>\n    </tr>\n  </thead>\n  <tbody>\n    <tr>\n      <th>0</th>\n      <td>United States of America</td>\n      <td>285000</td>\n      <td>HTML/CSS;JavaScript;Python</td>\n      <td>Remote</td>\n    </tr>\n    <tr>\n      <th>1</th>\n      <td>United States of America</td>\n      <td>250000</td>\n      <td>Bash/Shell (all shells);Go</td>\n      <td>Hybrid (some remote, some in-person)</td>\n    </tr>\n    <tr>\n      <th>2</th>\n      <td>United States of America</td>\n      <td>156000</td>\n      <td>Bash/Shell (all shells);HTML/CSS;JavaScript;PH...</td>\n      <td>Hybrid (some remote, some in-person)</td>\n    </tr>\n    <tr>\n      <th>3</th>\n      <td>Philippines</td>\n      <td>23456</td>\n      <td>HTML/CSS;JavaScript;TypeScript</td>\n      <td>Remote</td>\n    </tr>\n    <tr>\n      <th>4</th>\n      <td>United Kingdom of Great Britain and Northern I...</td>\n      <td>96828</td>\n      <td>Bash/Shell (all shells);HTML/CSS;JavaScript;Ru...</td>\n      <td>Remote</td>\n    </tr>\n    <tr>\n      <th>...</th>\n      <td>...</td>\n      <td>...</td>\n      <td>...</td>\n      <td>...</td>\n    </tr>\n    <tr>\n      <th>47322</th>\n      <td>Brazil</td>\n      <td>50719</td>\n      <td>C;C++</td>\n      <td>Remote</td>\n    </tr>\n    <tr>\n      <th>47323</th>\n      <td>Armenia</td>\n      <td>16917</td>\n      <td>Assembly;Bash/Shell (all shells);C;C#;C++;Java...</td>\n      <td>In-person</td>\n    </tr>\n    <tr>\n      <th>47324</th>\n      <td>India</td>\n      <td>15752</td>\n      <td>Dart;HTML/CSS;JavaScript;TypeScript</td>\n      <td>Remote</td>\n    </tr>\n    <tr>\n      <th>47325</th>\n      <td>France</td>\n      <td>64254</td>\n      <td>C#;F#;HTML/CSS;JavaScript;SQL;TypeScript</td>\n      <td>Hybrid (some remote, some in-person)</td>\n    </tr>\n    <tr>\n      <th>47326</th>\n      <td>Greece</td>\n      <td>61041</td>\n      <td>Java;JavaScript;TypeScript</td>\n      <td>In-person</td>\n    </tr>\n  </tbody>\n</table>\n<p>47327 rows × 4 columns</p>\n</div>"
     },
     "execution_count": 148,
     "metadata": {},
     "output_type": "execute_result"
    }
   ],
   "source": [
    "# df.set_index('id')\n",
    "df"
   ],
   "metadata": {
    "collapsed": false,
    "ExecuteTime": {
     "end_time": "2023-11-04T10:00:38.621556Z",
     "start_time": "2023-11-04T10:00:38.616580Z"
    }
   }
  },
  {
   "cell_type": "code",
   "execution_count": 149,
   "outputs": [
    {
     "data": {
      "text/plain": "                                      ConvertedCompYearly  \\\nCountry                                                     \nAfghanistan                                             5   \nAlbania                                                17   \nAlgeria                                                18   \nAndorra                                                 5   \nAngola                                                  1   \n...                                                   ...   \nVenezuela, Bolivarian Republic of...                   51   \nViet Nam                                              103   \nYemen                                                   6   \nZambia                                                  9   \nZimbabwe                                               10   \n\n                                      LanguageHaveWorkedWith  RemoteWork  \nCountry                                                                   \nAfghanistan                                                4           5  \nAlbania                                                   17          17  \nAlgeria                                                   18          18  \nAndorra                                                    5           5  \nAngola                                                     1           1  \n...                                                      ...         ...  \nVenezuela, Bolivarian Republic of...                      51          51  \nViet Nam                                                 102         103  \nYemen                                                      6           6  \nZambia                                                     9           9  \nZimbabwe                                                  10          10  \n\n[169 rows x 3 columns]",
      "text/html": "<div>\n<style scoped>\n    .dataframe tbody tr th:only-of-type {\n        vertical-align: middle;\n    }\n\n    .dataframe tbody tr th {\n        vertical-align: top;\n    }\n\n    .dataframe thead th {\n        text-align: right;\n    }\n</style>\n<table border=\"1\" class=\"dataframe\">\n  <thead>\n    <tr style=\"text-align: right;\">\n      <th></th>\n      <th>ConvertedCompYearly</th>\n      <th>LanguageHaveWorkedWith</th>\n      <th>RemoteWork</th>\n    </tr>\n    <tr>\n      <th>Country</th>\n      <th></th>\n      <th></th>\n      <th></th>\n    </tr>\n  </thead>\n  <tbody>\n    <tr>\n      <th>Afghanistan</th>\n      <td>5</td>\n      <td>4</td>\n      <td>5</td>\n    </tr>\n    <tr>\n      <th>Albania</th>\n      <td>17</td>\n      <td>17</td>\n      <td>17</td>\n    </tr>\n    <tr>\n      <th>Algeria</th>\n      <td>18</td>\n      <td>18</td>\n      <td>18</td>\n    </tr>\n    <tr>\n      <th>Andorra</th>\n      <td>5</td>\n      <td>5</td>\n      <td>5</td>\n    </tr>\n    <tr>\n      <th>Angola</th>\n      <td>1</td>\n      <td>1</td>\n      <td>1</td>\n    </tr>\n    <tr>\n      <th>...</th>\n      <td>...</td>\n      <td>...</td>\n      <td>...</td>\n    </tr>\n    <tr>\n      <th>Venezuela, Bolivarian Republic of...</th>\n      <td>51</td>\n      <td>51</td>\n      <td>51</td>\n    </tr>\n    <tr>\n      <th>Viet Nam</th>\n      <td>103</td>\n      <td>102</td>\n      <td>103</td>\n    </tr>\n    <tr>\n      <th>Yemen</th>\n      <td>6</td>\n      <td>6</td>\n      <td>6</td>\n    </tr>\n    <tr>\n      <th>Zambia</th>\n      <td>9</td>\n      <td>9</td>\n      <td>9</td>\n    </tr>\n    <tr>\n      <th>Zimbabwe</th>\n      <td>10</td>\n      <td>10</td>\n      <td>10</td>\n    </tr>\n  </tbody>\n</table>\n<p>169 rows × 3 columns</p>\n</div>"
     },
     "execution_count": 149,
     "metadata": {},
     "output_type": "execute_result"
    }
   ],
   "source": [
    "df.groupby(['Country']).count()"
   ],
   "metadata": {
    "collapsed": false,
    "ExecuteTime": {
     "end_time": "2023-11-04T10:00:38.634223Z",
     "start_time": "2023-11-04T10:00:38.621081Z"
    }
   }
  },
  {
   "cell_type": "code",
   "execution_count": 150,
   "outputs": [],
   "source": [
    "grouped = df.groupby(['Country'])"
   ],
   "metadata": {
    "collapsed": false,
    "ExecuteTime": {
     "end_time": "2023-11-04T10:00:38.639729Z",
     "start_time": "2023-11-04T10:00:38.635454Z"
    }
   }
  },
  {
   "cell_type": "markdown",
   "source": [
    "### GroupBy Tutorial\n",
    "https://sparkbyexamples.com/pandas/pandas-groupby-explained-with-examples\n",
    " "
   ],
   "metadata": {
    "collapsed": false
   }
  },
  {
   "cell_type": "code",
   "execution_count": 151,
   "outputs": [
    {
     "data": {
      "text/plain": "   Courses    Fee Duration  Discount\n0    Spark  22000   30days    1000.0\n1  PySpark  25000   50days    2300.0\n2   Hadoop  23000   55days    1000.0\n3   Python     10   40days       0.0\n4   Pandas  26000   60days    2500.0\n5   Hadoop  25000   35days       NaN\n6    Spark  25000   30days    1400.0\n7   Python     20   50days      10.0\n8       NA   1500   40days       0.0\n9   Python     30   40days       NaN",
      "text/html": "<div>\n<style scoped>\n    .dataframe tbody tr th:only-of-type {\n        vertical-align: middle;\n    }\n\n    .dataframe tbody tr th {\n        vertical-align: top;\n    }\n\n    .dataframe thead th {\n        text-align: right;\n    }\n</style>\n<table border=\"1\" class=\"dataframe\">\n  <thead>\n    <tr style=\"text-align: right;\">\n      <th></th>\n      <th>Courses</th>\n      <th>Fee</th>\n      <th>Duration</th>\n      <th>Discount</th>\n    </tr>\n  </thead>\n  <tbody>\n    <tr>\n      <th>0</th>\n      <td>Spark</td>\n      <td>22000</td>\n      <td>30days</td>\n      <td>1000.0</td>\n    </tr>\n    <tr>\n      <th>1</th>\n      <td>PySpark</td>\n      <td>25000</td>\n      <td>50days</td>\n      <td>2300.0</td>\n    </tr>\n    <tr>\n      <th>2</th>\n      <td>Hadoop</td>\n      <td>23000</td>\n      <td>55days</td>\n      <td>1000.0</td>\n    </tr>\n    <tr>\n      <th>3</th>\n      <td>Python</td>\n      <td>10</td>\n      <td>40days</td>\n      <td>0.0</td>\n    </tr>\n    <tr>\n      <th>4</th>\n      <td>Pandas</td>\n      <td>26000</td>\n      <td>60days</td>\n      <td>2500.0</td>\n    </tr>\n    <tr>\n      <th>5</th>\n      <td>Hadoop</td>\n      <td>25000</td>\n      <td>35days</td>\n      <td>NaN</td>\n    </tr>\n    <tr>\n      <th>6</th>\n      <td>Spark</td>\n      <td>25000</td>\n      <td>30days</td>\n      <td>1400.0</td>\n    </tr>\n    <tr>\n      <th>7</th>\n      <td>Python</td>\n      <td>20</td>\n      <td>50days</td>\n      <td>10.0</td>\n    </tr>\n    <tr>\n      <th>8</th>\n      <td>NA</td>\n      <td>1500</td>\n      <td>40days</td>\n      <td>0.0</td>\n    </tr>\n    <tr>\n      <th>9</th>\n      <td>Python</td>\n      <td>30</td>\n      <td>40days</td>\n      <td>NaN</td>\n    </tr>\n  </tbody>\n</table>\n</div>"
     },
     "execution_count": 151,
     "metadata": {},
     "output_type": "execute_result"
    }
   ],
   "source": [
    "technologies = ({\n",
    "    'Courses': [\"Spark\", \"PySpark\", \"Hadoop\", \"Python\", \"Pandas\", \"Hadoop\", \"Spark\", \"Python\", \"NA\", \"Python\"],\n",
    "    'Fee': [22000, 25000, 23000, 10, 26000, 25000, 25000, 20, 1500, 30],\n",
    "    'Duration': ['30days', '50days', '55days', '40days', '60days', '35days', '30days', '50days', '40days', '40days'],\n",
    "    'Discount': [1000, 2300, 1000, 0, 2500, None, 1400, 10, 0, None]\n",
    "})\n",
    "df = pd.DataFrame(technologies)\n",
    "df"
   ],
   "metadata": {
    "collapsed": false,
    "ExecuteTime": {
     "end_time": "2023-11-04T10:00:38.678280Z",
     "start_time": "2023-11-04T10:00:38.643222Z"
    }
   }
  },
  {
   "cell_type": "code",
   "execution_count": 182,
   "outputs": [
    {
     "data": {
      "text/plain": "           Fee            Duration  Discount\nCourses                                     \nHadoop   48000        55days35days    1000.0\nNA        1500              40days       0.0\nPandas   26000              60days    2500.0\nPySpark  25000              50days    2300.0\nPython      60  40days50days40days      10.0\nSpark    47000        30days30days    2400.0",
      "text/html": "<div>\n<style scoped>\n    .dataframe tbody tr th:only-of-type {\n        vertical-align: middle;\n    }\n\n    .dataframe tbody tr th {\n        vertical-align: top;\n    }\n\n    .dataframe thead th {\n        text-align: right;\n    }\n</style>\n<table border=\"1\" class=\"dataframe\">\n  <thead>\n    <tr style=\"text-align: right;\">\n      <th></th>\n      <th>Fee</th>\n      <th>Duration</th>\n      <th>Discount</th>\n    </tr>\n    <tr>\n      <th>Courses</th>\n      <th></th>\n      <th></th>\n      <th></th>\n    </tr>\n  </thead>\n  <tbody>\n    <tr>\n      <th>Hadoop</th>\n      <td>48000</td>\n      <td>55days35days</td>\n      <td>1000.0</td>\n    </tr>\n    <tr>\n      <th>NA</th>\n      <td>1500</td>\n      <td>40days</td>\n      <td>0.0</td>\n    </tr>\n    <tr>\n      <th>Pandas</th>\n      <td>26000</td>\n      <td>60days</td>\n      <td>2500.0</td>\n    </tr>\n    <tr>\n      <th>PySpark</th>\n      <td>25000</td>\n      <td>50days</td>\n      <td>2300.0</td>\n    </tr>\n    <tr>\n      <th>Python</th>\n      <td>60</td>\n      <td>40days50days40days</td>\n      <td>10.0</td>\n    </tr>\n    <tr>\n      <th>Spark</th>\n      <td>47000</td>\n      <td>30days30days</td>\n      <td>2400.0</td>\n    </tr>\n  </tbody>\n</table>\n</div>"
     },
     "execution_count": 182,
     "metadata": {},
     "output_type": "execute_result"
    }
   ],
   "source": [
    "grouped = df.groupby(['Courses']).sum()\n",
    "\n",
    "grouped"
   ],
   "metadata": {
    "collapsed": false,
    "ExecuteTime": {
     "end_time": "2023-11-04T10:07:31.624448Z",
     "start_time": "2023-11-04T10:07:31.614152Z"
    }
   }
  },
  {
   "cell_type": "code",
   "execution_count": null,
   "outputs": [],
   "source": [],
   "metadata": {
    "collapsed": false
   }
  },
  {
   "cell_type": "code",
   "execution_count": 183,
   "outputs": [
    {
     "data": {
      "text/plain": "                    Fee  Discount\nCourses Duration                 \nHadoop  35days    25000       0.0\n        55days    23000    1000.0\nNA      40days     1500       0.0\nPandas  60days    26000    2500.0\nPySpark 50days    25000    2300.0\nPython  40days       40       0.0\n        50days       20      10.0\nSpark   30days    47000    2400.0",
      "text/html": "<div>\n<style scoped>\n    .dataframe tbody tr th:only-of-type {\n        vertical-align: middle;\n    }\n\n    .dataframe tbody tr th {\n        vertical-align: top;\n    }\n\n    .dataframe thead th {\n        text-align: right;\n    }\n</style>\n<table border=\"1\" class=\"dataframe\">\n  <thead>\n    <tr style=\"text-align: right;\">\n      <th></th>\n      <th></th>\n      <th>Fee</th>\n      <th>Discount</th>\n    </tr>\n    <tr>\n      <th>Courses</th>\n      <th>Duration</th>\n      <th></th>\n      <th></th>\n    </tr>\n  </thead>\n  <tbody>\n    <tr>\n      <th rowspan=\"2\" valign=\"top\">Hadoop</th>\n      <th>35days</th>\n      <td>25000</td>\n      <td>0.0</td>\n    </tr>\n    <tr>\n      <th>55days</th>\n      <td>23000</td>\n      <td>1000.0</td>\n    </tr>\n    <tr>\n      <th>NA</th>\n      <th>40days</th>\n      <td>1500</td>\n      <td>0.0</td>\n    </tr>\n    <tr>\n      <th>Pandas</th>\n      <th>60days</th>\n      <td>26000</td>\n      <td>2500.0</td>\n    </tr>\n    <tr>\n      <th>PySpark</th>\n      <th>50days</th>\n      <td>25000</td>\n      <td>2300.0</td>\n    </tr>\n    <tr>\n      <th rowspan=\"2\" valign=\"top\">Python</th>\n      <th>40days</th>\n      <td>40</td>\n      <td>0.0</td>\n    </tr>\n    <tr>\n      <th>50days</th>\n      <td>20</td>\n      <td>10.0</td>\n    </tr>\n    <tr>\n      <th>Spark</th>\n      <th>30days</th>\n      <td>47000</td>\n      <td>2400.0</td>\n    </tr>\n  </tbody>\n</table>\n</div>"
     },
     "execution_count": 183,
     "metadata": {},
     "output_type": "execute_result"
    }
   ],
   "source": [
    "grouped_multi_col = df.groupby(['Courses', 'Duration']).sum()\n",
    "\n",
    "grouped_multi_col"
   ],
   "metadata": {
    "collapsed": false,
    "ExecuteTime": {
     "end_time": "2023-11-04T10:08:36.927116Z",
     "start_time": "2023-11-04T10:08:36.923706Z"
    }
   }
  },
  {
   "cell_type": "code",
   "execution_count": 185,
   "outputs": [
    {
     "data": {
      "text/plain": "           Fee            Duration  Discount\nCourses                                     \nHadoop   48000        55days35days    1000.0\nNA        1500              40days       0.0\nPandas   26000              60days    2500.0\nPySpark  25000              50days    2300.0\nPython      60  40days50days40days      10.0\nSpark    47000        30days30days    2400.0",
      "text/html": "<div>\n<style scoped>\n    .dataframe tbody tr th:only-of-type {\n        vertical-align: middle;\n    }\n\n    .dataframe tbody tr th {\n        vertical-align: top;\n    }\n\n    .dataframe thead th {\n        text-align: right;\n    }\n</style>\n<table border=\"1\" class=\"dataframe\">\n  <thead>\n    <tr style=\"text-align: right;\">\n      <th></th>\n      <th>Fee</th>\n      <th>Duration</th>\n      <th>Discount</th>\n    </tr>\n    <tr>\n      <th>Courses</th>\n      <th></th>\n      <th></th>\n      <th></th>\n    </tr>\n  </thead>\n  <tbody>\n    <tr>\n      <th>Hadoop</th>\n      <td>48000</td>\n      <td>55days35days</td>\n      <td>1000.0</td>\n    </tr>\n    <tr>\n      <th>NA</th>\n      <td>1500</td>\n      <td>40days</td>\n      <td>0.0</td>\n    </tr>\n    <tr>\n      <th>Pandas</th>\n      <td>26000</td>\n      <td>60days</td>\n      <td>2500.0</td>\n    </tr>\n    <tr>\n      <th>PySpark</th>\n      <td>25000</td>\n      <td>50days</td>\n      <td>2300.0</td>\n    </tr>\n    <tr>\n      <th>Python</th>\n      <td>60</td>\n      <td>40days50days40days</td>\n      <td>10.0</td>\n    </tr>\n    <tr>\n      <th>Spark</th>\n      <td>47000</td>\n      <td>30days30days</td>\n      <td>2400.0</td>\n    </tr>\n  </tbody>\n</table>\n</div>"
     },
     "execution_count": 185,
     "metadata": {},
     "output_type": "execute_result"
    }
   ],
   "source": [
    "df.groupby(by=['Courses'], dropna=False).sum()"
   ],
   "metadata": {
    "collapsed": false,
    "ExecuteTime": {
     "end_time": "2023-11-04T10:09:27.017762Z",
     "start_time": "2023-11-04T10:09:27.008900Z"
    }
   }
  },
  {
   "cell_type": "code",
   "execution_count": 205,
   "outputs": [
    {
     "data": {
      "text/plain": "           Courses    Fee Duration  Discount\nCourses                                     \nHadoop  2   Hadoop  23000   55days    1000.0\n        5   Hadoop  25000   35days       NaN\nNA      8       NA   1500   40days       0.0\nPandas  4   Pandas  26000   60days    2500.0\nPySpark 1  PySpark  25000   50days    2300.0\nPython  3   Python     10   40days       0.0\n        7   Python     20   50days      10.0\n        9   Python     30   40days       NaN\nSpark   0    Spark  22000   30days    1000.0\n        6    Spark  25000   30days    1400.0",
      "text/html": "<div>\n<style scoped>\n    .dataframe tbody tr th:only-of-type {\n        vertical-align: middle;\n    }\n\n    .dataframe tbody tr th {\n        vertical-align: top;\n    }\n\n    .dataframe thead th {\n        text-align: right;\n    }\n</style>\n<table border=\"1\" class=\"dataframe\">\n  <thead>\n    <tr style=\"text-align: right;\">\n      <th></th>\n      <th></th>\n      <th>Courses</th>\n      <th>Fee</th>\n      <th>Duration</th>\n      <th>Discount</th>\n    </tr>\n    <tr>\n      <th>Courses</th>\n      <th></th>\n      <th></th>\n      <th></th>\n      <th></th>\n      <th></th>\n    </tr>\n  </thead>\n  <tbody>\n    <tr>\n      <th rowspan=\"2\" valign=\"top\">Hadoop</th>\n      <th>2</th>\n      <td>Hadoop</td>\n      <td>23000</td>\n      <td>55days</td>\n      <td>1000.0</td>\n    </tr>\n    <tr>\n      <th>5</th>\n      <td>Hadoop</td>\n      <td>25000</td>\n      <td>35days</td>\n      <td>NaN</td>\n    </tr>\n    <tr>\n      <th>NA</th>\n      <th>8</th>\n      <td>NA</td>\n      <td>1500</td>\n      <td>40days</td>\n      <td>0.0</td>\n    </tr>\n    <tr>\n      <th>Pandas</th>\n      <th>4</th>\n      <td>Pandas</td>\n      <td>26000</td>\n      <td>60days</td>\n      <td>2500.0</td>\n    </tr>\n    <tr>\n      <th>PySpark</th>\n      <th>1</th>\n      <td>PySpark</td>\n      <td>25000</td>\n      <td>50days</td>\n      <td>2300.0</td>\n    </tr>\n    <tr>\n      <th rowspan=\"3\" valign=\"top\">Python</th>\n      <th>3</th>\n      <td>Python</td>\n      <td>10</td>\n      <td>40days</td>\n      <td>0.0</td>\n    </tr>\n    <tr>\n      <th>7</th>\n      <td>Python</td>\n      <td>20</td>\n      <td>50days</td>\n      <td>10.0</td>\n    </tr>\n    <tr>\n      <th>9</th>\n      <td>Python</td>\n      <td>30</td>\n      <td>40days</td>\n      <td>NaN</td>\n    </tr>\n    <tr>\n      <th rowspan=\"2\" valign=\"top\">Spark</th>\n      <th>0</th>\n      <td>Spark</td>\n      <td>22000</td>\n      <td>30days</td>\n      <td>1000.0</td>\n    </tr>\n    <tr>\n      <th>6</th>\n      <td>Spark</td>\n      <td>25000</td>\n      <td>30days</td>\n      <td>1400.0</td>\n    </tr>\n  </tbody>\n</table>\n</div>"
     },
     "execution_count": 205,
     "metadata": {},
     "output_type": "execute_result"
    }
   ],
   "source": [
    "# Using apply() & lambda\n",
    "df.groupby(by='Courses').apply(lambda x: x.sort_values('Fee'))"
   ],
   "metadata": {
    "collapsed": false,
    "ExecuteTime": {
     "end_time": "2023-11-04T10:12:20.551881Z",
     "start_time": "2023-11-04T10:12:20.546817Z"
    }
   }
  },
  {
   "cell_type": "code",
   "execution_count": 217,
   "outputs": [
    {
     "data": {
      "text/plain": "           min    max\nCourses              \nHadoop   23000  25000\nNA        1500   1500\nPandas   26000  26000\nPySpark  25000  25000\nPython      10     30\nSpark    22000  25000",
      "text/html": "<div>\n<style scoped>\n    .dataframe tbody tr th:only-of-type {\n        vertical-align: middle;\n    }\n\n    .dataframe tbody tr th {\n        vertical-align: top;\n    }\n\n    .dataframe thead th {\n        text-align: right;\n    }\n</style>\n<table border=\"1\" class=\"dataframe\">\n  <thead>\n    <tr style=\"text-align: right;\">\n      <th></th>\n      <th>min</th>\n      <th>max</th>\n    </tr>\n    <tr>\n      <th>Courses</th>\n      <th></th>\n      <th></th>\n    </tr>\n  </thead>\n  <tbody>\n    <tr>\n      <th>Hadoop</th>\n      <td>23000</td>\n      <td>25000</td>\n    </tr>\n    <tr>\n      <th>NA</th>\n      <td>1500</td>\n      <td>1500</td>\n    </tr>\n    <tr>\n      <th>Pandas</th>\n      <td>26000</td>\n      <td>26000</td>\n    </tr>\n    <tr>\n      <th>PySpark</th>\n      <td>25000</td>\n      <td>25000</td>\n    </tr>\n    <tr>\n      <th>Python</th>\n      <td>10</td>\n      <td>30</td>\n    </tr>\n    <tr>\n      <th>Spark</th>\n      <td>22000</td>\n      <td>25000</td>\n    </tr>\n  </tbody>\n</table>\n</div>"
     },
     "execution_count": 217,
     "metadata": {},
     "output_type": "execute_result"
    }
   ],
   "source": [
    "df.groupby('Courses')['Fee'].aggregate(['min','max'])"
   ],
   "metadata": {
    "collapsed": false,
    "ExecuteTime": {
     "end_time": "2023-11-04T10:13:45.202204Z",
     "start_time": "2023-11-04T10:13:45.195585Z"
    }
   }
  },
  {
   "cell_type": "code",
   "execution_count": null,
   "outputs": [],
   "source": [],
   "metadata": {
    "collapsed": false
   }
  }
 ],
 "metadata": {
  "kernelspec": {
   "display_name": "venv",
   "language": "python",
   "name": "python3"
  },
  "language_info": {
   "codemirror_mode": {
    "name": "ipython",
    "version": 3
   },
   "file_extension": ".py",
   "mimetype": "text/x-python",
   "name": "python",
   "nbconvert_exporter": "python",
   "pygments_lexer": "ipython3",
   "version": "3.11.6"
  }
 },
 "nbformat": 4,
 "nbformat_minor": 2
}
