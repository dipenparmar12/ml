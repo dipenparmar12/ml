{
 "cells": [
  {
   "cell_type": "code",
   "execution_count": 3,
   "id": "initial_id",
   "metadata": {
    "collapsed": true,
    "ExecuteTime": {
     "end_time": "2023-11-04T10:22:29.650037Z",
     "start_time": "2023-11-04T10:22:29.648188Z"
    }
   },
   "outputs": [],
   "source": [
    "import pandas as pd"
   ]
  },
  {
   "cell_type": "code",
   "execution_count": 4,
   "outputs": [],
   "source": [
    "technologies   = ({\n",
    "    'Courses':[\"Spark\",\"PySpark\",\"Hadoop\",\"Python\",\"Pandas\",\"Hadoop\",\"Spark\",\"Python\",\"NA\"],\n",
    "    'Fee' :[22000,25000,23000,24000,26000,25000,25000,22000,1500],\n",
    "    'Duration':['30days','50days','55days','40days','60days','35days','30days','50days','40days'],\n",
    "    'Discount':[1000,2300,1000,1200,2500,None,1400,1600,0]\n",
    "})\n",
    "df = pd.DataFrame(technologies)\n",
    "df"
   ],
   "metadata": {
    "collapsed": false,
    "ExecuteTime": {
     "end_time": "2023-11-04T10:22:29.656007Z",
     "start_time": "2023-11-04T10:22:29.654870Z"
    }
   },
   "id": "734ac3f5dc72564"
  },
  {
   "cell_type": "code",
   "execution_count": 5,
   "outputs": [
    {
     "name": "stdout",
     "output_type": "stream",
     "text": [
      "   Courses    Fee Duration  Discount\n",
      "0    Spark  22000   30days    1000.0\n",
      "1  PySpark  25000   50days    2300.0\n",
      "2   Hadoop  23000   55days    1000.0\n",
      "3   Python  24000   40days    1200.0\n",
      "4   Pandas  26000   60days    2500.0\n",
      "5   Hadoop  25000   35days       NaN\n",
      "6    Spark  25000   30days    1400.0\n",
      "7   Python  22000   50days    1600.0\n",
      "8       NA   1500   40days       0.0\n",
      "           Fee      Duration  Discount\n",
      "Courses                               \n",
      "Hadoop   48000  55days35days    1000.0\n",
      "NA        1500        40days       0.0\n",
      "Pandas   26000        60days    2500.0\n",
      "PySpark  25000        50days    2300.0\n",
      "Python   46000  40days50days    2800.0\n",
      "Spark    47000  30days30days    2400.0\n",
      "                    Fee  Discount\n",
      "Courses Duration                 \n",
      "Hadoop  35days    25000       0.0\n",
      "        55days    23000    1000.0\n",
      "NA      40days     1500       0.0\n",
      "Pandas  60days    26000    2500.0\n",
      "PySpark 50days    25000    2300.0\n",
      "Python  40days    24000    1200.0\n",
      "        50days    22000    1600.0\n",
      "Spark   30days    47000    2400.0\n",
      "   Courses Duration    Fee  Discount\n",
      "0   Hadoop   35days  25000       0.0\n",
      "1   Hadoop   55days  23000    1000.0\n",
      "2       NA   40days   1500       0.0\n",
      "3   Pandas   60days  26000    2500.0\n",
      "4  PySpark   50days  25000    2300.0\n",
      "5   Python   40days  24000    1200.0\n",
      "6   Python   50days  22000    1600.0\n",
      "7    Spark   30days  47000    2400.0\n",
      "   Courses    Fee\n",
      "0   Hadoop  48000\n",
      "1       NA   1500\n",
      "2   Pandas  26000\n",
      "3  PySpark  25000\n",
      "4   Python  46000\n",
      "5    Spark  47000\n",
      "           Fee      Duration  Discount\n",
      "Courses                               \n",
      "Spark    47000  30days30days    2400.0\n",
      "PySpark  25000        50days    2300.0\n",
      "Hadoop   48000  55days35days    1000.0\n",
      "Python   46000  40days50days    2800.0\n",
      "Pandas   26000        60days    2500.0\n",
      "NA        1500        40days       0.0\n",
      "           Fee      Duration  Discount\n",
      "Courses                               \n",
      "Spark    47000  30days30days    2400.0\n",
      "Python   46000  40days50days    2800.0\n",
      "PySpark  25000        50days    2300.0\n",
      "Pandas   26000        60days    2500.0\n",
      "NA        1500        40days       0.0\n",
      "Hadoop   48000  55days35days    1000.0\n",
      "           min    max\n",
      "Courses              \n",
      "Hadoop   23000  25000\n",
      "NA        1500   1500\n",
      "Pandas   26000  26000\n",
      "PySpark  25000  25000\n",
      "Python   22000  24000\n",
      "Spark    22000  25000\n",
      "        Duration    Fee       \n",
      "           count    min    max\n",
      "Courses                       \n",
      "Hadoop         2  23000  25000\n",
      "NA             1   1500   1500\n",
      "Pandas         1  26000  26000\n",
      "PySpark        1  25000  25000\n",
      "Python         2  22000  24000\n",
      "Spark          2  22000  25000\n"
     ]
    }
   ],
   "source": [
    "\n",
    "# Use groupby() to compute the sum\n",
    "df2 =df.groupby(['Courses']).sum()\n",
    "print(df2)\n",
    "\n",
    "# Group by on multiple columns\n",
    "df2 =df.groupby(['Courses', 'Duration']).sum()\n",
    "print(df2)\n",
    "\n",
    "# Set Index on group by results\n",
    "df2 = df.groupby(['Courses','Duration']).sum().reset_index()\n",
    "print(df2)\n",
    "\n",
    "# Using groupby on single column in pandas \n",
    "df2 = df.groupby(['Courses'])['Fee'].sum().reset_index()\n",
    "print(df2)\n",
    "\n",
    "# Ignore sorting on group by key\n",
    "df2=df.groupby(by=['Courses'], sort=False).sum()\n",
    "print(df2)\n",
    "\n",
    "# Sort group key on descending order\n",
    "groupedDF = df.groupby('Courses',sort=False).sum()\n",
    "sortedDF=groupedDF.sort_values('Courses', ascending=False)\n",
    "print(sortedDF)\n",
    "\n",
    "# Groupby & multiple aggregations\n",
    "result = df.groupby('Courses')['Fee'].aggregate(['min','max'])\n",
    "print(result)\n",
    "\n",
    "# Groupby multiple columns & multiple aggregations\n",
    "result = df.groupby('Courses').aggregate({'Duration':'count','Fee':['min','max']})\n",
    "print(result)"
   ],
   "metadata": {
    "collapsed": false,
    "ExecuteTime": {
     "end_time": "2023-11-04T10:22:29.683078Z",
     "start_time": "2023-11-04T10:22:29.667974Z"
    }
   },
   "id": "eaaa6625481efe07"
  }
 ],
 "metadata": {
  "kernelspec": {
   "display_name": "Python 3",
   "language": "python",
   "name": "python3"
  },
  "language_info": {
   "codemirror_mode": {
    "name": "ipython",
    "version": 2
   },
   "file_extension": ".py",
   "mimetype": "text/x-python",
   "name": "python",
   "nbconvert_exporter": "python",
   "pygments_lexer": "ipython2",
   "version": "2.7.6"
  }
 },
 "nbformat": 4,
 "nbformat_minor": 5
}
