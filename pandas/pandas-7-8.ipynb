{
 "cells": [
  {
   "cell_type": "code",
   "execution_count": 29,
   "outputs": [],
   "source": [
    "import pandas as pd\n",
    "import numpy as np"
   ],
   "metadata": {
    "collapsed": false,
    "ExecuteTime": {
     "end_time": "2023-11-08T03:05:30.242864Z",
     "start_time": "2023-11-08T03:05:30.241676Z"
    }
   },
   "id": "9ac439348d02dc03"
  },
  {
   "cell_type": "code",
   "execution_count": 30,
   "outputs": [
    {
     "data": {
      "text/plain": "     first      last                      email   age         dob\n0     John       Doe       john.doe@example.com  25.0  1998-03-15\n1    Alice     Smith    alice.smith@example.com  30.0  1993-11-21\n2      Bob   Johnson                         NA   NaN  1980-05-10\n3      Eve  Anderson                       None   NaN  1975-09-07\n4  Charlie     Brown  charlie.brown@example.com  40.0          NA\n5     None    Miller   grace.miller@example.com  28.0  1995-08-18\n6      NaN    Wilson                       None  45.0  1978-12-03\n7   Olivia     Moore   olivia.moore@example.com  32.0  1989-06-25\n8   Sophia     Davis                        NaN   NaN  1987-04-14\n9       NA  Martinez  liam.martinez@example.com  37.0          NA",
      "text/html": "<div>\n<style scoped>\n    .dataframe tbody tr th:only-of-type {\n        vertical-align: middle;\n    }\n\n    .dataframe tbody tr th {\n        vertical-align: top;\n    }\n\n    .dataframe thead th {\n        text-align: right;\n    }\n</style>\n<table border=\"1\" class=\"dataframe\">\n  <thead>\n    <tr style=\"text-align: right;\">\n      <th></th>\n      <th>first</th>\n      <th>last</th>\n      <th>email</th>\n      <th>age</th>\n      <th>dob</th>\n    </tr>\n  </thead>\n  <tbody>\n    <tr>\n      <th>0</th>\n      <td>John</td>\n      <td>Doe</td>\n      <td>john.doe@example.com</td>\n      <td>25.0</td>\n      <td>1998-03-15</td>\n    </tr>\n    <tr>\n      <th>1</th>\n      <td>Alice</td>\n      <td>Smith</td>\n      <td>alice.smith@example.com</td>\n      <td>30.0</td>\n      <td>1993-11-21</td>\n    </tr>\n    <tr>\n      <th>2</th>\n      <td>Bob</td>\n      <td>Johnson</td>\n      <td>NA</td>\n      <td>NaN</td>\n      <td>1980-05-10</td>\n    </tr>\n    <tr>\n      <th>3</th>\n      <td>Eve</td>\n      <td>Anderson</td>\n      <td>None</td>\n      <td>NaN</td>\n      <td>1975-09-07</td>\n    </tr>\n    <tr>\n      <th>4</th>\n      <td>Charlie</td>\n      <td>Brown</td>\n      <td>charlie.brown@example.com</td>\n      <td>40.0</td>\n      <td>NA</td>\n    </tr>\n    <tr>\n      <th>5</th>\n      <td>None</td>\n      <td>Miller</td>\n      <td>grace.miller@example.com</td>\n      <td>28.0</td>\n      <td>1995-08-18</td>\n    </tr>\n    <tr>\n      <th>6</th>\n      <td>NaN</td>\n      <td>Wilson</td>\n      <td>None</td>\n      <td>45.0</td>\n      <td>1978-12-03</td>\n    </tr>\n    <tr>\n      <th>7</th>\n      <td>Olivia</td>\n      <td>Moore</td>\n      <td>olivia.moore@example.com</td>\n      <td>32.0</td>\n      <td>1989-06-25</td>\n    </tr>\n    <tr>\n      <th>8</th>\n      <td>Sophia</td>\n      <td>Davis</td>\n      <td>NaN</td>\n      <td>NaN</td>\n      <td>1987-04-14</td>\n    </tr>\n    <tr>\n      <th>9</th>\n      <td>NA</td>\n      <td>Martinez</td>\n      <td>liam.martinez@example.com</td>\n      <td>37.0</td>\n      <td>NA</td>\n    </tr>\n  </tbody>\n</table>\n</div>"
     },
     "execution_count": 30,
     "metadata": {},
     "output_type": "execute_result"
    }
   ],
   "source": [
    "data = {\n",
    "    'first': ['John', 'Alice', 'Bob', 'Eve', 'Charlie', None, np.nan, 'Olivia', 'Sophia', 'NA'],\n",
    "    'last': ['Doe', 'Smith', 'Johnson', 'Anderson', 'Brown', 'Miller', 'Wilson', 'Moore', 'Davis', 'Martinez'],\n",
    "    'email': ['john.doe@example.com', 'alice.smith@example.com', 'NA', None, 'charlie.brown@example.com',\n",
    "              'grace.miller@example.com', None, 'olivia.moore@example.com', np.nan, 'liam.martinez@example.com'],\n",
    "    'age': [25, 30, np.nan, None, 40, 28, 45, 32, np.nan, 37],\n",
    "    'dob': ['1998-03-15', '1993-11-21', '1980-05-10', '1975-09-07', 'NA', '1995-08-18', '1978-12-03', '1989-06-25', '1987-04-14', 'NA']\n",
    "}\n",
    "\n",
    "df = pd.DataFrame(data)\n",
    "df"
   ],
   "metadata": {
    "collapsed": false,
    "ExecuteTime": {
     "end_time": "2023-11-08T03:05:30.251845Z",
     "start_time": "2023-11-08T03:05:30.248348Z"
    }
   },
   "id": "47c9c78b63425e8b"
  },
  {
   "cell_type": "code",
   "execution_count": 31,
   "outputs": [
    {
     "data": {
      "text/plain": "     first      last                      email   age         dob\n0     John       Doe       john.doe@example.com  25.0  1998-03-15\n1    Alice     Smith    alice.smith@example.com  30.0  1993-11-21\n4  Charlie     Brown  charlie.brown@example.com  40.0          NA\n7   Olivia     Moore   olivia.moore@example.com  32.0  1989-06-25\n9       NA  Martinez  liam.martinez@example.com  37.0          NA",
      "text/html": "<div>\n<style scoped>\n    .dataframe tbody tr th:only-of-type {\n        vertical-align: middle;\n    }\n\n    .dataframe tbody tr th {\n        vertical-align: top;\n    }\n\n    .dataframe thead th {\n        text-align: right;\n    }\n</style>\n<table border=\"1\" class=\"dataframe\">\n  <thead>\n    <tr style=\"text-align: right;\">\n      <th></th>\n      <th>first</th>\n      <th>last</th>\n      <th>email</th>\n      <th>age</th>\n      <th>dob</th>\n    </tr>\n  </thead>\n  <tbody>\n    <tr>\n      <th>0</th>\n      <td>John</td>\n      <td>Doe</td>\n      <td>john.doe@example.com</td>\n      <td>25.0</td>\n      <td>1998-03-15</td>\n    </tr>\n    <tr>\n      <th>1</th>\n      <td>Alice</td>\n      <td>Smith</td>\n      <td>alice.smith@example.com</td>\n      <td>30.0</td>\n      <td>1993-11-21</td>\n    </tr>\n    <tr>\n      <th>4</th>\n      <td>Charlie</td>\n      <td>Brown</td>\n      <td>charlie.brown@example.com</td>\n      <td>40.0</td>\n      <td>NA</td>\n    </tr>\n    <tr>\n      <th>7</th>\n      <td>Olivia</td>\n      <td>Moore</td>\n      <td>olivia.moore@example.com</td>\n      <td>32.0</td>\n      <td>1989-06-25</td>\n    </tr>\n    <tr>\n      <th>9</th>\n      <td>NA</td>\n      <td>Martinez</td>\n      <td>liam.martinez@example.com</td>\n      <td>37.0</td>\n      <td>NA</td>\n    </tr>\n  </tbody>\n</table>\n</div>"
     },
     "execution_count": 31,
     "metadata": {},
     "output_type": "execute_result"
    }
   ],
   "source": [
    "df.dropna()\n"
   ],
   "metadata": {
    "collapsed": false,
    "ExecuteTime": {
     "end_time": "2023-11-08T03:05:30.257176Z",
     "start_time": "2023-11-08T03:05:30.253916Z"
    }
   },
   "id": "7a4d4718e3290d96"
  }
 ],
 "metadata": {
  "kernelspec": {
   "display_name": "Python 3",
   "language": "python",
   "name": "python3"
  },
  "language_info": {
   "codemirror_mode": {
    "name": "ipython",
    "version": 2
   },
   "file_extension": ".py",
   "mimetype": "text/x-python",
   "name": "python",
   "nbconvert_exporter": "python",
   "pygments_lexer": "ipython2",
   "version": "2.7.6"
  }
 },
 "nbformat": 4,
 "nbformat_minor": 5
}
