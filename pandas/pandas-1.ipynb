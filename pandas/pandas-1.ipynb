{
 "cells": [
  {
   "cell_type": "code",
   "execution_count": 17,
   "metadata": {
    "ExecuteTime": {
     "end_time": "2023-11-01T09:13:06.435280Z",
     "start_time": "2023-11-01T09:13:06.432388Z"
    }
   },
   "outputs": [],
   "source": [
    "import pandas as pd "
   ]
  },
  {
   "cell_type": "code",
   "execution_count": 18,
   "metadata": {
    "ExecuteTime": {
     "end_time": "2023-11-01T09:13:09.375602Z",
     "start_time": "2023-11-01T09:13:06.436781Z"
    }
   },
   "outputs": [],
   "source": [
    "df = pd.read_csv('./stack-overflow-survey-2023/survey_results_public.csv')"
   ]
  },
  {
   "cell_type": "code",
   "execution_count": 33,
   "metadata": {
    "ExecuteTime": {
     "end_time": "2023-11-01T09:19:01.264877Z",
     "start_time": "2023-11-01T09:19:01.037747Z"
    }
   },
   "outputs": [
    {
     "name": "stdout",
     "output_type": "stream",
     "text": [
      "shape =>  (89184, 84)\n",
      "<class 'pandas.core.frame.DataFrame'>\n",
      "RangeIndex: 89184 entries, 0 to 89183\n",
      "Data columns (total 84 columns):\n",
      " #   Column                               Non-Null Count  Dtype  \n",
      "---  ------                               --------------  -----  \n",
      " 0   ResponseId                           89184 non-null  int64  \n",
      " 1   Q120                                 89184 non-null  object \n",
      " 2   MainBranch                           89184 non-null  object \n",
      " 3   Age                                  89184 non-null  object \n",
      " 4   Employment                           87898 non-null  object \n",
      " 5   RemoteWork                           73810 non-null  object \n",
      " 6   CodingActivities                     73764 non-null  object \n",
      " 7   EdLevel                              87973 non-null  object \n",
      " 8   LearnCode                            87663 non-null  object \n",
      " 9   LearnCodeOnline                      70084 non-null  object \n",
      " 10  LearnCodeCoursesCert                 37076 non-null  object \n",
      " 11  YearsCode                            87435 non-null  object \n",
      " 12  YearsCodePro                         66136 non-null  object \n",
      " 13  DevType                              76872 non-null  object \n",
      " 14  OrgSize                              65043 non-null  object \n",
      " 15  PurchaseInfluence                    64964 non-null  object \n",
      " 16  TechList                             60851 non-null  object \n",
      " 17  BuyNewTool                           83009 non-null  object \n",
      " 18  Country                              87973 non-null  object \n",
      " 19  Currency                             65334 non-null  object \n",
      " 20  CompTotal                            48225 non-null  float64\n",
      " 21  LanguageHaveWorkedWith               87140 non-null  object \n",
      " 22  LanguageWantToWorkWith               80709 non-null  object \n",
      " 23  DatabaseHaveWorkedWith               73435 non-null  object \n",
      " 24  DatabaseWantToWorkWith               60911 non-null  object \n",
      " 25  PlatformHaveWorkedWith               63628 non-null  object \n",
      " 26  PlatformWantToWorkWith               51308 non-null  object \n",
      " 27  WebframeHaveWorkedWith               66938 non-null  object \n",
      " 28  WebframeWantToWorkWith               56741 non-null  object \n",
      " 29  MiscTechHaveWorkedWith               57019 non-null  object \n",
      " 30  MiscTechWantToWorkWith               46848 non-null  object \n",
      " 31  ToolsTechHaveWorkedWith              77884 non-null  object \n",
      " 32  ToolsTechWantToWorkWith              68315 non-null  object \n",
      " 33  NEWCollabToolsHaveWorkedWith         85864 non-null  object \n",
      " 34  NEWCollabToolsWantToWorkWith         76649 non-null  object \n",
      " 35  OpSysPersonal use                    86557 non-null  object \n",
      " 36  OpSysProfessional use                78587 non-null  object \n",
      " 37  OfficeStackAsyncHaveWorkedWith       69090 non-null  object \n",
      " 38  OfficeStackAsyncWantToWorkWith       53743 non-null  object \n",
      " 39  OfficeStackSyncHaveWorkedWith        83439 non-null  object \n",
      " 40  OfficeStackSyncWantToWorkWith        69776 non-null  object \n",
      " 41  AISearchHaveWorkedWith               56328 non-null  object \n",
      " 42  AISearchWantToWorkWith               46150 non-null  object \n",
      " 43  AIDevHaveWorkedWith                  25904 non-null  object \n",
      " 44  AIDevWantToWorkWith                  19587 non-null  object \n",
      " 45  NEWSOSites                           87973 non-null  object \n",
      " 46  SOVisitFreq                          87140 non-null  object \n",
      " 47  SOAccount                            87852 non-null  object \n",
      " 48  SOPartFreq                           66061 non-null  object \n",
      " 49  SOComm                               87692 non-null  object \n",
      " 50  SOAI                                 47858 non-null  object \n",
      " 51  AISelect                             87973 non-null  object \n",
      " 52  AISent                               61501 non-null  object \n",
      " 53  AIAcc                                38594 non-null  object \n",
      " 54  AIBen                                61396 non-null  object \n",
      " 55  AIToolInterested in Using            32783 non-null  object \n",
      " 56  AIToolCurrently Using                36137 non-null  object \n",
      " 57  AIToolNot interested in Using        21069 non-null  object \n",
      " 58  AINextVery different                 12661 non-null  object \n",
      " 59  AINextNeither different nor similar  6599 non-null   object \n",
      " 60  AINextSomewhat similar               6238 non-null   object \n",
      " 61  AINextVery similar                   2621 non-null   object \n",
      " 62  AINextSomewhat different             23303 non-null  object \n",
      " 63  TBranch                              65768 non-null  object \n",
      " 64  ICorPM                               43668 non-null  object \n",
      " 65  WorkExp                              43579 non-null  float64\n",
      " 66  Knowledge_1                          42535 non-null  object \n",
      " 67  Knowledge_2                          41670 non-null  object \n",
      " 68  Knowledge_3                          41798 non-null  object \n",
      " 69  Knowledge_4                          41684 non-null  object \n",
      " 70  Knowledge_5                          41527 non-null  object \n",
      " 71  Knowledge_6                          41520 non-null  object \n",
      " 72  Knowledge_7                          41467 non-null  object \n",
      " 73  Knowledge_8                          41404 non-null  object \n",
      " 74  Frequency_1                          41916 non-null  object \n",
      " 75  Frequency_2                          41925 non-null  object \n",
      " 76  Frequency_3                          41054 non-null  object \n",
      " 77  TimeSearching                        42778 non-null  object \n",
      " 78  TimeAnswering                        42629 non-null  object \n",
      " 79  ProfessionalTech                     41783 non-null  object \n",
      " 80  Industry                             36774 non-null  object \n",
      " 81  SurveyLength                         86485 non-null  object \n",
      " 82  SurveyEase                           86554 non-null  object \n",
      " 83  ConvertedCompYearly                  48019 non-null  float64\n",
      "dtypes: float64(3), int64(1), object(80)\n",
      "memory usage: 57.2+ MB\n",
      "info => None\n"
     ]
    }
   ],
   "source": [
    "print('shape => ',df.shape)\n",
    "# print('columns =>', df.columns) ## Cols array\n",
    "print('info =>', df.info())\n"
   ]
  },
  {
   "cell_type": "code",
   "execution_count": 34,
   "metadata": {
    "ExecuteTime": {
     "end_time": "2023-11-01T09:19:02.994287Z",
     "start_time": "2023-11-01T09:19:02.989702Z"
    }
   },
   "outputs": [
    {
     "data": {
      "text/plain": "RemoteWork\nHybrid (some remote, some in-person)    31131\nRemote                                  30566\nIn-person                               12113\nName: count, dtype: int64"
     },
     "execution_count": 34,
     "metadata": {},
     "output_type": "execute_result"
    }
   ],
   "source": [
    "df['RemoteWork'].value_counts()\n",
    "## ColumnValues  CountInt"
   ]
  },
  {
   "cell_type": "code",
   "execution_count": 35,
   "metadata": {
    "ExecuteTime": {
     "end_time": "2023-11-01T09:19:04.701248Z",
     "start_time": "2023-11-01T09:19:04.686129Z"
    }
   },
   "outputs": [
    {
     "data": {
      "text/plain": "       ConvertedCompYearly                                            Country  \\\n1                 285000.0                           United States of America   \n2                 250000.0                           United States of America   \n3                 156000.0                           United States of America   \n4                  23456.0                                        Philippines   \n5                  96828.0  United Kingdom of Great Britain and Northern I...   \n...                    ...                                                ...   \n89162              50719.0                                             Brazil   \n89166              16917.0                                            Armenia   \n89167              15752.0                                              India   \n89170              64254.0                                             France   \n89171              61041.0                                             Greece   \n\n                                  LanguageHaveWorkedWith  \\\n1                             HTML/CSS;JavaScript;Python   \n2                             Bash/Shell (all shells);Go   \n3      Bash/Shell (all shells);HTML/CSS;JavaScript;PH...   \n4                         HTML/CSS;JavaScript;TypeScript   \n5      Bash/Shell (all shells);HTML/CSS;JavaScript;Ru...   \n...                                                  ...   \n89162                                              C;C++   \n89166  Assembly;Bash/Shell (all shells);C;C#;C++;Java...   \n89167                Dart;HTML/CSS;JavaScript;TypeScript   \n89170           C#;F#;HTML/CSS;JavaScript;SQL;TypeScript   \n89171                         Java;JavaScript;TypeScript   \n\n                                 RemoteWork  \n1                                    Remote  \n2      Hybrid (some remote, some in-person)  \n3      Hybrid (some remote, some in-person)  \n4                                    Remote  \n5                                    Remote  \n...                                     ...  \n89162                                Remote  \n89166                             In-person  \n89167                                Remote  \n89170  Hybrid (some remote, some in-person)  \n89171                             In-person  \n\n[47327 rows x 4 columns]",
      "text/html": "<div>\n<style scoped>\n    .dataframe tbody tr th:only-of-type {\n        vertical-align: middle;\n    }\n\n    .dataframe tbody tr th {\n        vertical-align: top;\n    }\n\n    .dataframe thead th {\n        text-align: right;\n    }\n</style>\n<table border=\"1\" class=\"dataframe\">\n  <thead>\n    <tr style=\"text-align: right;\">\n      <th></th>\n      <th>ConvertedCompYearly</th>\n      <th>Country</th>\n      <th>LanguageHaveWorkedWith</th>\n      <th>RemoteWork</th>\n    </tr>\n  </thead>\n  <tbody>\n    <tr>\n      <th>1</th>\n      <td>285000.0</td>\n      <td>United States of America</td>\n      <td>HTML/CSS;JavaScript;Python</td>\n      <td>Remote</td>\n    </tr>\n    <tr>\n      <th>2</th>\n      <td>250000.0</td>\n      <td>United States of America</td>\n      <td>Bash/Shell (all shells);Go</td>\n      <td>Hybrid (some remote, some in-person)</td>\n    </tr>\n    <tr>\n      <th>3</th>\n      <td>156000.0</td>\n      <td>United States of America</td>\n      <td>Bash/Shell (all shells);HTML/CSS;JavaScript;PH...</td>\n      <td>Hybrid (some remote, some in-person)</td>\n    </tr>\n    <tr>\n      <th>4</th>\n      <td>23456.0</td>\n      <td>Philippines</td>\n      <td>HTML/CSS;JavaScript;TypeScript</td>\n      <td>Remote</td>\n    </tr>\n    <tr>\n      <th>5</th>\n      <td>96828.0</td>\n      <td>United Kingdom of Great Britain and Northern I...</td>\n      <td>Bash/Shell (all shells);HTML/CSS;JavaScript;Ru...</td>\n      <td>Remote</td>\n    </tr>\n    <tr>\n      <th>...</th>\n      <td>...</td>\n      <td>...</td>\n      <td>...</td>\n      <td>...</td>\n    </tr>\n    <tr>\n      <th>89162</th>\n      <td>50719.0</td>\n      <td>Brazil</td>\n      <td>C;C++</td>\n      <td>Remote</td>\n    </tr>\n    <tr>\n      <th>89166</th>\n      <td>16917.0</td>\n      <td>Armenia</td>\n      <td>Assembly;Bash/Shell (all shells);C;C#;C++;Java...</td>\n      <td>In-person</td>\n    </tr>\n    <tr>\n      <th>89167</th>\n      <td>15752.0</td>\n      <td>India</td>\n      <td>Dart;HTML/CSS;JavaScript;TypeScript</td>\n      <td>Remote</td>\n    </tr>\n    <tr>\n      <th>89170</th>\n      <td>64254.0</td>\n      <td>France</td>\n      <td>C#;F#;HTML/CSS;JavaScript;SQL;TypeScript</td>\n      <td>Hybrid (some remote, some in-person)</td>\n    </tr>\n    <tr>\n      <th>89171</th>\n      <td>61041.0</td>\n      <td>Greece</td>\n      <td>Java;JavaScript;TypeScript</td>\n      <td>In-person</td>\n    </tr>\n  </tbody>\n</table>\n<p>47327 rows × 4 columns</p>\n</div>"
     },
     "execution_count": 35,
     "metadata": {},
     "output_type": "execute_result"
    }
   ],
   "source": [
    "filter_high_salary = (df['ConvertedCompYearly'] > 1000)\n",
    "columns =  ['ConvertedCompYearly', 'Country', 'LanguageHaveWorkedWith', 'RemoteWork']\n",
    "high_salary = df.loc[filter_high_salary, columns]\n",
    "# high_salary.to_csv('output_high_salary_filtered.csv')\n",
    "high_salary"
   ]
  },
  {
   "cell_type": "code",
   "execution_count": 36,
   "metadata": {
    "ExecuteTime": {
     "end_time": "2023-11-01T09:19:05.995999Z",
     "start_time": "2023-11-01T09:19:05.986086Z"
    }
   },
   "outputs": [
    {
     "data": {
      "text/plain": "       ConvertedCompYearly                   Country  \\\n1                 285000.0  United States of America   \n2                 250000.0  United States of America   \n3                 156000.0  United States of America   \n6                 135000.0  United States of America   \n7                  80000.0  United States of America   \n...                    ...                       ...   \n89165                  NaN                     India   \n89167              15752.0                     India   \n89175                  NaN  United States of America   \n89178                  NaN  United States of America   \n89182                  NaN               Switzerland   \n\n                                  LanguageHaveWorkedWith  \\\n1                             HTML/CSS;JavaScript;Python   \n2                             Bash/Shell (all shells);Go   \n3      Bash/Shell (all shells);HTML/CSS;JavaScript;PH...   \n6      Ada;Clojure;Elixir;Go;HTML/CSS;Java;JavaScript...   \n7      Go;HTML/CSS;JavaScript;Python;Rust;SQL;TypeScript   \n...                                                  ...   \n89165                C;C#;C++;Java;JavaScript;TypeScript   \n89167                Dart;HTML/CSS;JavaScript;TypeScript   \n89175                                        Java;Kotlin   \n89178                              JavaScript;TypeScript   \n89182  Bash/Shell (all shells);C#;HTML/CSS;Java;JavaS...   \n\n                                 RemoteWork  \n1                                    Remote  \n2      Hybrid (some remote, some in-person)  \n3      Hybrid (some remote, some in-person)  \n6                                    Remote  \n7                                    Remote  \n...                                     ...  \n89165                             In-person  \n89167                                Remote  \n89175                                Remote  \n89178                                Remote  \n89182  Hybrid (some remote, some in-person)  \n\n[26997 rows x 4 columns]",
      "text/html": "<div>\n<style scoped>\n    .dataframe tbody tr th:only-of-type {\n        vertical-align: middle;\n    }\n\n    .dataframe tbody tr th {\n        vertical-align: top;\n    }\n\n    .dataframe thead th {\n        text-align: right;\n    }\n</style>\n<table border=\"1\" class=\"dataframe\">\n  <thead>\n    <tr style=\"text-align: right;\">\n      <th></th>\n      <th>ConvertedCompYearly</th>\n      <th>Country</th>\n      <th>LanguageHaveWorkedWith</th>\n      <th>RemoteWork</th>\n    </tr>\n  </thead>\n  <tbody>\n    <tr>\n      <th>1</th>\n      <td>285000.0</td>\n      <td>United States of America</td>\n      <td>HTML/CSS;JavaScript;Python</td>\n      <td>Remote</td>\n    </tr>\n    <tr>\n      <th>2</th>\n      <td>250000.0</td>\n      <td>United States of America</td>\n      <td>Bash/Shell (all shells);Go</td>\n      <td>Hybrid (some remote, some in-person)</td>\n    </tr>\n    <tr>\n      <th>3</th>\n      <td>156000.0</td>\n      <td>United States of America</td>\n      <td>Bash/Shell (all shells);HTML/CSS;JavaScript;PH...</td>\n      <td>Hybrid (some remote, some in-person)</td>\n    </tr>\n    <tr>\n      <th>6</th>\n      <td>135000.0</td>\n      <td>United States of America</td>\n      <td>Ada;Clojure;Elixir;Go;HTML/CSS;Java;JavaScript...</td>\n      <td>Remote</td>\n    </tr>\n    <tr>\n      <th>7</th>\n      <td>80000.0</td>\n      <td>United States of America</td>\n      <td>Go;HTML/CSS;JavaScript;Python;Rust;SQL;TypeScript</td>\n      <td>Remote</td>\n    </tr>\n    <tr>\n      <th>...</th>\n      <td>...</td>\n      <td>...</td>\n      <td>...</td>\n      <td>...</td>\n    </tr>\n    <tr>\n      <th>89165</th>\n      <td>NaN</td>\n      <td>India</td>\n      <td>C;C#;C++;Java;JavaScript;TypeScript</td>\n      <td>In-person</td>\n    </tr>\n    <tr>\n      <th>89167</th>\n      <td>15752.0</td>\n      <td>India</td>\n      <td>Dart;HTML/CSS;JavaScript;TypeScript</td>\n      <td>Remote</td>\n    </tr>\n    <tr>\n      <th>89175</th>\n      <td>NaN</td>\n      <td>United States of America</td>\n      <td>Java;Kotlin</td>\n      <td>Remote</td>\n    </tr>\n    <tr>\n      <th>89178</th>\n      <td>NaN</td>\n      <td>United States of America</td>\n      <td>JavaScript;TypeScript</td>\n      <td>Remote</td>\n    </tr>\n    <tr>\n      <th>89182</th>\n      <td>NaN</td>\n      <td>Switzerland</td>\n      <td>Bash/Shell (all shells);C#;HTML/CSS;Java;JavaS...</td>\n      <td>Hybrid (some remote, some in-person)</td>\n    </tr>\n  </tbody>\n</table>\n<p>26997 rows × 4 columns</p>\n</div>"
     },
     "execution_count": 36,
     "metadata": {},
     "output_type": "execute_result"
    }
   ],
   "source": [
    "contries = ['India', 'Denmark', 'Finland', 'Switzerland','United States of America']\n",
    "filter_contry_df = df['Country'].isin(contries)\n",
    "df_contry = df.loc[filter_contry_df,columns]\n",
    "df_contry"
   ]
  },
  {
   "cell_type": "code",
   "execution_count": 41,
   "metadata": {
    "ExecuteTime": {
     "end_time": "2023-11-01T09:20:28.079287Z",
     "start_time": "2023-11-01T09:20:28.067774Z"
    }
   },
   "outputs": [
    {
     "data": {
      "text/plain": "       ConvertedCompYearly                                            Country  \\\n1                 285000.0                           United States of America   \n3                 156000.0                           United States of America   \n4                  23456.0                                        Philippines   \n5                  96828.0  United Kingdom of Great Britain and Northern I...   \n6                 135000.0                           United States of America   \n...                    ...                                                ...   \n89176                  NaN                                             Greece   \n89178                  NaN                           United States of America   \n89179                  NaN                                             Brazil   \n89182                  NaN                                        Switzerland   \n89183                  NaN                       Iran, Islamic Republic of...   \n\n                                  LanguageHaveWorkedWith  \\\n1                             HTML/CSS;JavaScript;Python   \n3      Bash/Shell (all shells);HTML/CSS;JavaScript;PH...   \n4                         HTML/CSS;JavaScript;TypeScript   \n5      Bash/Shell (all shells);HTML/CSS;JavaScript;Ru...   \n6      Ada;Clojure;Elixir;Go;HTML/CSS;Java;JavaScript...   \n...                                                  ...   \n89176  HTML/CSS;Java;JavaScript;PHP;Python;SQL;TypeSc...   \n89178                              JavaScript;TypeScript   \n89179            HTML/CSS;Java;JavaScript;SQL;TypeScript   \n89182  Bash/Shell (all shells);C#;HTML/CSS;Java;JavaS...   \n89183                    C#;Go;JavaScript;SQL;TypeScript   \n\n                                 RemoteWork  \n1                                    Remote  \n3      Hybrid (some remote, some in-person)  \n4                                    Remote  \n5                                    Remote  \n6                                    Remote  \n...                                     ...  \n89176                                   NaN  \n89178                                Remote  \n89179                                Remote  \n89182  Hybrid (some remote, some in-person)  \n89183  Hybrid (some remote, some in-person)  \n\n[55711 rows x 4 columns]",
      "text/html": "<div>\n<style scoped>\n    .dataframe tbody tr th:only-of-type {\n        vertical-align: middle;\n    }\n\n    .dataframe tbody tr th {\n        vertical-align: top;\n    }\n\n    .dataframe thead th {\n        text-align: right;\n    }\n</style>\n<table border=\"1\" class=\"dataframe\">\n  <thead>\n    <tr style=\"text-align: right;\">\n      <th></th>\n      <th>ConvertedCompYearly</th>\n      <th>Country</th>\n      <th>LanguageHaveWorkedWith</th>\n      <th>RemoteWork</th>\n    </tr>\n  </thead>\n  <tbody>\n    <tr>\n      <th>1</th>\n      <td>285000.0</td>\n      <td>United States of America</td>\n      <td>HTML/CSS;JavaScript;Python</td>\n      <td>Remote</td>\n    </tr>\n    <tr>\n      <th>3</th>\n      <td>156000.0</td>\n      <td>United States of America</td>\n      <td>Bash/Shell (all shells);HTML/CSS;JavaScript;PH...</td>\n      <td>Hybrid (some remote, some in-person)</td>\n    </tr>\n    <tr>\n      <th>4</th>\n      <td>23456.0</td>\n      <td>Philippines</td>\n      <td>HTML/CSS;JavaScript;TypeScript</td>\n      <td>Remote</td>\n    </tr>\n    <tr>\n      <th>5</th>\n      <td>96828.0</td>\n      <td>United Kingdom of Great Britain and Northern I...</td>\n      <td>Bash/Shell (all shells);HTML/CSS;JavaScript;Ru...</td>\n      <td>Remote</td>\n    </tr>\n    <tr>\n      <th>6</th>\n      <td>135000.0</td>\n      <td>United States of America</td>\n      <td>Ada;Clojure;Elixir;Go;HTML/CSS;Java;JavaScript...</td>\n      <td>Remote</td>\n    </tr>\n    <tr>\n      <th>...</th>\n      <td>...</td>\n      <td>...</td>\n      <td>...</td>\n      <td>...</td>\n    </tr>\n    <tr>\n      <th>89176</th>\n      <td>NaN</td>\n      <td>Greece</td>\n      <td>HTML/CSS;Java;JavaScript;PHP;Python;SQL;TypeSc...</td>\n      <td>NaN</td>\n    </tr>\n    <tr>\n      <th>89178</th>\n      <td>NaN</td>\n      <td>United States of America</td>\n      <td>JavaScript;TypeScript</td>\n      <td>Remote</td>\n    </tr>\n    <tr>\n      <th>89179</th>\n      <td>NaN</td>\n      <td>Brazil</td>\n      <td>HTML/CSS;Java;JavaScript;SQL;TypeScript</td>\n      <td>Remote</td>\n    </tr>\n    <tr>\n      <th>89182</th>\n      <td>NaN</td>\n      <td>Switzerland</td>\n      <td>Bash/Shell (all shells);C#;HTML/CSS;Java;JavaS...</td>\n      <td>Hybrid (some remote, some in-person)</td>\n    </tr>\n    <tr>\n      <th>89183</th>\n      <td>NaN</td>\n      <td>Iran, Islamic Republic of...</td>\n      <td>C#;Go;JavaScript;SQL;TypeScript</td>\n      <td>Hybrid (some remote, some in-person)</td>\n    </tr>\n  </tbody>\n</table>\n<p>55711 rows × 4 columns</p>\n</div>"
     },
     "execution_count": 41,
     "metadata": {},
     "output_type": "execute_result"
    }
   ],
   "source": [
    "filter_python_devs = df['LanguageHaveWorkedWith'].str.contains('JavaScript', na=False)\n",
    "df_python_devs = df.loc[filter_python_devs, columns]\n",
    "df_python_devs"
   ]
  },
  {
   "cell_type": "code",
   "execution_count": 23,
   "metadata": {
    "ExecuteTime": {
     "end_time": "2023-11-01T09:13:09.715882Z",
     "start_time": "2023-11-01T09:13:09.697982Z"
    }
   },
   "outputs": [],
   "source": []
  }
 ],
 "metadata": {
  "kernelspec": {
   "display_name": "venv",
   "language": "python",
   "name": "python3"
  },
  "language_info": {
   "codemirror_mode": {
    "name": "ipython",
    "version": 3
   },
   "file_extension": ".py",
   "mimetype": "text/x-python",
   "name": "python",
   "nbconvert_exporter": "python",
   "pygments_lexer": "ipython3",
   "version": "3.11.6"
  }
 },
 "nbformat": 4,
 "nbformat_minor": 2
}
