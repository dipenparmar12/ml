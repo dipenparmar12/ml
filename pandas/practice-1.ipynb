{
 "cells": [
  {
   "cell_type": "code",
   "execution_count": 2,
   "id": "initial_id",
   "metadata": {
    "collapsed": true,
    "ExecuteTime": {
     "end_time": "2024-02-23T05:18:24.251303Z",
     "start_time": "2024-02-23T05:18:24.248941Z"
    }
   },
   "outputs": [],
   "source": [
    "import pandas as pd\n",
    "import numpy as np"
   ]
  },
  {
   "cell_type": "code",
   "outputs": [
    {
     "ename": "NameError",
     "evalue": "name 'pd' is not defined",
     "output_type": "error",
     "traceback": [
      "\u001B[0;31m---------------------------------------------------------------------------\u001B[0m",
      "\u001B[0;31mNameError\u001B[0m                                 Traceback (most recent call last)",
      "Cell \u001B[0;32mIn[1], line 1\u001B[0m\n\u001B[0;32m----> 1\u001B[0m \u001B[43mpd\u001B[49m\u001B[38;5;241m.\u001B[39m__version__\n",
      "\u001B[0;31mNameError\u001B[0m: name 'pd' is not defined"
     ]
    }
   ],
   "source": [
    "pd.__version__"
   ],
   "metadata": {
    "collapsed": false,
    "ExecuteTime": {
     "end_time": "2024-02-23T09:04:03.240464Z",
     "start_time": "2024-02-23T09:04:03.086547Z"
    }
   },
   "id": "ed9e53b5b93fc8cb",
   "execution_count": 1
  },
  {
   "cell_type": "code",
   "outputs": [
    {
     "name": "stdout",
     "output_type": "stream",
     "text": [
      "(8370, 13)\n"
     ]
    },
    {
     "data": {
      "text/plain": "array(['Course Title', 'Rating', 'Level', 'Schedule',\n       'What you will learn', 'Skill gain', 'Modules', 'Instructor',\n       'Offered By', 'Keyword', 'Course Url',\n       'Duration to complete (Approx.)', 'Number of Review'], dtype=object)"
     },
     "execution_count": 4,
     "metadata": {},
     "output_type": "execute_result"
    }
   ],
   "source": [
    "df = pd.read_csv('../data/CourseraDataset-Clean.csv')\n",
    "print(df.shape)\n",
    "df.columns.values"
   ],
   "metadata": {
    "collapsed": false,
    "ExecuteTime": {
     "end_time": "2024-02-23T08:56:12.805045Z",
     "start_time": "2024-02-23T08:56:12.690083Z"
    }
   },
   "id": "3710789cfc137c92",
   "execution_count": 4
  },
  {
   "cell_type": "code",
   "outputs": [
    {
     "data": {
      "text/plain": "                                           Course Title  Rating  \\\n0                                     Fashion as Design     4.8   \n1                                Modern American Poetry     4.4   \n2                             Pixel Art for Video Games     4.5   \n3       Distribución digital de la música independiente     0.0   \n4     The Blues: Understanding and Performing an Ame...     4.8   \n...                                                 ...     ...   \n8365  Architecting with Google Kubernetes Engine: Pr...     4.9   \n8366  Computational Thinking for K-12 Educators: Nes...     0.0   \n8367           Cómo combinar y analizar datos complejos     0.0   \n8368  Architecting with Google Kubernetes Engine: Wo...     0.0   \n8369                 Visualizing static networks with R     0.0   \n\n                   Level           Schedule  \\\n0         Beginner level  Flexible schedule   \n1         Beginner level  Flexible schedule   \n2         Beginner level  Flexible schedule   \n3         Beginner level  Flexible schedule   \n4         Beginner level  Flexible schedule   \n...                  ...                ...   \n8365  Intermediate level  Flexible schedule   \n8366      Beginner level  Flexible schedule   \n8367       Not specified  Flexible schedule   \n8368  Intermediate level  Flexible schedule   \n8369  Intermediate level  Hands-on learning   \n\n                                    What you will learn  \\\n0                                         Not specified   \n1                                         Not specified   \n2                                         Not specified   \n3                                         Not specified   \n4     Students will be able to describe the blues as...   \n...                                                 ...   \n8365                                      Not specified   \n8366                                      Not specified   \n8367                                      Not specified   \n8368                                      Not specified   \n8369  Learn to preprocess raw data to create nodes a...   \n\n                                             Skill gain  \\\n0                 Art History, Art, History, Creativity   \n1                                         Not specified   \n2                                         Not specified   \n3                                         Not specified   \n4                Music, Chord, Jazz, Jazz Improvisation   \n...                                                 ...   \n8365                                      Not specified   \n8366               Education, want, Resource, Causality   \n8367                                      Not specified   \n8368                                      Not specified   \n8369  Network Analysis, igraph, R Programming, Graph...   \n\n                                                Modules  \\\n0     Introduction, Heroes, Silhouettes, Coutures, L...   \n1     Orientation, Module 1, Module 2, Module 3, Mod...   \n2     Week 1: Introduction to Pixel Art, Week 2: Pix...   \n3                Semana 1, Semana 2, Semana 3, Semana 4   \n4     Blues Progressions – Theory and Practice , Blu...   \n...                                                 ...   \n8365  Introducción al curso, Control de acceso y seg...   \n8366  Course Orientation, Nested If/Else Part 1, Nes...   \n8367  Estimación básica, Modelos, Vinculación de reg...   \n8368  Introdução ao curso, Operações do Kubernetes, ...   \n8369                                 Learn step-by-step   \n\n                     Instructor                                  Offered By  \\\n0               Anna Burckhardt                    The Museum of Modern Art   \n1                   Cary Nelson  University of Illinois at Urbana-Champaign   \n2                 Andrew Dennis                   Michigan State University   \n3     Eduardo de la Vara Brown.                        SAE Institute México   \n4             Dariusz Terefenko                     University of Rochester   \n...                         ...                                         ...   \n8365      Google Cloud Training                                Google Cloud   \n8366                 Beth Simon          University of California San Diego   \n8367           Richard Valliant        University of Maryland, College Park   \n8368      Google Cloud Training                                Google Cloud   \n8369         You (Lilian) Cheng                    Coursera Project Network   \n\n                  Keyword                                         Course Url  \\\n0     Arts and Humanities      https://www.coursera.org/learn/fashion-design   \n1     Arts and Humanities  https://www.coursera.org/learn/modern-american...   \n2     Arts and Humanities  https://www.coursera.org/learn/pixel-art-video...   \n3     Arts and Humanities  https://www.coursera.org/learn/distribucion-di...   \n4     Arts and Humanities           https://www.coursera.org/learn/the-blues   \n...                   ...                                                ...   \n8365      Social Sciences  https://www.coursera.org/learn/deploying-secur...   \n8366      Social Sciences  https://www.coursera.org/learn/block-programmi...   \n8367      Social Sciences  https://www.coursera.org/learn/data-collection...   \n8368      Social Sciences  https://www.coursera.org/learn/deploying-workl...   \n8369      Social Sciences  https://www.coursera.org/projects/visualizing-...   \n\n      Duration to complete (Approx.)  Number of Review  \n0                               20.0              2813  \n1                               34.0               100  \n2                                9.0               227  \n3                                8.0                 0  \n4                               11.0               582  \n...                              ...               ...  \n8365                            14.0                30  \n8366                            11.0                 0  \n8367                             9.0                 0  \n8368                            19.0                 0  \n8369                             2.0                 0  \n\n[8370 rows x 13 columns]",
      "text/html": "<div>\n<style scoped>\n    .dataframe tbody tr th:only-of-type {\n        vertical-align: middle;\n    }\n\n    .dataframe tbody tr th {\n        vertical-align: top;\n    }\n\n    .dataframe thead th {\n        text-align: right;\n    }\n</style>\n<table border=\"1\" class=\"dataframe\">\n  <thead>\n    <tr style=\"text-align: right;\">\n      <th></th>\n      <th>Course Title</th>\n      <th>Rating</th>\n      <th>Level</th>\n      <th>Schedule</th>\n      <th>What you will learn</th>\n      <th>Skill gain</th>\n      <th>Modules</th>\n      <th>Instructor</th>\n      <th>Offered By</th>\n      <th>Keyword</th>\n      <th>Course Url</th>\n      <th>Duration to complete (Approx.)</th>\n      <th>Number of Review</th>\n    </tr>\n  </thead>\n  <tbody>\n    <tr>\n      <th>0</th>\n      <td>Fashion as Design</td>\n      <td>4.8</td>\n      <td>Beginner level</td>\n      <td>Flexible schedule</td>\n      <td>Not specified</td>\n      <td>Art History, Art, History, Creativity</td>\n      <td>Introduction, Heroes, Silhouettes, Coutures, L...</td>\n      <td>Anna Burckhardt</td>\n      <td>The Museum of Modern Art</td>\n      <td>Arts and Humanities</td>\n      <td>https://www.coursera.org/learn/fashion-design</td>\n      <td>20.0</td>\n      <td>2813</td>\n    </tr>\n    <tr>\n      <th>1</th>\n      <td>Modern American Poetry</td>\n      <td>4.4</td>\n      <td>Beginner level</td>\n      <td>Flexible schedule</td>\n      <td>Not specified</td>\n      <td>Not specified</td>\n      <td>Orientation, Module 1, Module 2, Module 3, Mod...</td>\n      <td>Cary Nelson</td>\n      <td>University of Illinois at Urbana-Champaign</td>\n      <td>Arts and Humanities</td>\n      <td>https://www.coursera.org/learn/modern-american...</td>\n      <td>34.0</td>\n      <td>100</td>\n    </tr>\n    <tr>\n      <th>2</th>\n      <td>Pixel Art for Video Games</td>\n      <td>4.5</td>\n      <td>Beginner level</td>\n      <td>Flexible schedule</td>\n      <td>Not specified</td>\n      <td>Not specified</td>\n      <td>Week 1: Introduction to Pixel Art, Week 2: Pix...</td>\n      <td>Andrew Dennis</td>\n      <td>Michigan State University</td>\n      <td>Arts and Humanities</td>\n      <td>https://www.coursera.org/learn/pixel-art-video...</td>\n      <td>9.0</td>\n      <td>227</td>\n    </tr>\n    <tr>\n      <th>3</th>\n      <td>Distribución digital de la música independiente</td>\n      <td>0.0</td>\n      <td>Beginner level</td>\n      <td>Flexible schedule</td>\n      <td>Not specified</td>\n      <td>Not specified</td>\n      <td>Semana 1, Semana 2, Semana 3, Semana 4</td>\n      <td>Eduardo de la Vara Brown.</td>\n      <td>SAE Institute México</td>\n      <td>Arts and Humanities</td>\n      <td>https://www.coursera.org/learn/distribucion-di...</td>\n      <td>8.0</td>\n      <td>0</td>\n    </tr>\n    <tr>\n      <th>4</th>\n      <td>The Blues: Understanding and Performing an Ame...</td>\n      <td>4.8</td>\n      <td>Beginner level</td>\n      <td>Flexible schedule</td>\n      <td>Students will be able to describe the blues as...</td>\n      <td>Music, Chord, Jazz, Jazz Improvisation</td>\n      <td>Blues Progressions – Theory and Practice , Blu...</td>\n      <td>Dariusz Terefenko</td>\n      <td>University of Rochester</td>\n      <td>Arts and Humanities</td>\n      <td>https://www.coursera.org/learn/the-blues</td>\n      <td>11.0</td>\n      <td>582</td>\n    </tr>\n    <tr>\n      <th>...</th>\n      <td>...</td>\n      <td>...</td>\n      <td>...</td>\n      <td>...</td>\n      <td>...</td>\n      <td>...</td>\n      <td>...</td>\n      <td>...</td>\n      <td>...</td>\n      <td>...</td>\n      <td>...</td>\n      <td>...</td>\n      <td>...</td>\n    </tr>\n    <tr>\n      <th>8365</th>\n      <td>Architecting with Google Kubernetes Engine: Pr...</td>\n      <td>4.9</td>\n      <td>Intermediate level</td>\n      <td>Flexible schedule</td>\n      <td>Not specified</td>\n      <td>Not specified</td>\n      <td>Introducción al curso, Control de acceso y seg...</td>\n      <td>Google Cloud Training</td>\n      <td>Google Cloud</td>\n      <td>Social Sciences</td>\n      <td>https://www.coursera.org/learn/deploying-secur...</td>\n      <td>14.0</td>\n      <td>30</td>\n    </tr>\n    <tr>\n      <th>8366</th>\n      <td>Computational Thinking for K-12 Educators: Nes...</td>\n      <td>0.0</td>\n      <td>Beginner level</td>\n      <td>Flexible schedule</td>\n      <td>Not specified</td>\n      <td>Education, want, Resource, Causality</td>\n      <td>Course Orientation, Nested If/Else Part 1, Nes...</td>\n      <td>Beth Simon</td>\n      <td>University of California San Diego</td>\n      <td>Social Sciences</td>\n      <td>https://www.coursera.org/learn/block-programmi...</td>\n      <td>11.0</td>\n      <td>0</td>\n    </tr>\n    <tr>\n      <th>8367</th>\n      <td>Cómo combinar y analizar datos complejos</td>\n      <td>0.0</td>\n      <td>Not specified</td>\n      <td>Flexible schedule</td>\n      <td>Not specified</td>\n      <td>Not specified</td>\n      <td>Estimación básica, Modelos, Vinculación de reg...</td>\n      <td>Richard Valliant</td>\n      <td>University of Maryland, College Park</td>\n      <td>Social Sciences</td>\n      <td>https://www.coursera.org/learn/data-collection...</td>\n      <td>9.0</td>\n      <td>0</td>\n    </tr>\n    <tr>\n      <th>8368</th>\n      <td>Architecting with Google Kubernetes Engine: Wo...</td>\n      <td>0.0</td>\n      <td>Intermediate level</td>\n      <td>Flexible schedule</td>\n      <td>Not specified</td>\n      <td>Not specified</td>\n      <td>Introdução ao curso, Operações do Kubernetes, ...</td>\n      <td>Google Cloud Training</td>\n      <td>Google Cloud</td>\n      <td>Social Sciences</td>\n      <td>https://www.coursera.org/learn/deploying-workl...</td>\n      <td>19.0</td>\n      <td>0</td>\n    </tr>\n    <tr>\n      <th>8369</th>\n      <td>Visualizing static networks with R</td>\n      <td>0.0</td>\n      <td>Intermediate level</td>\n      <td>Hands-on learning</td>\n      <td>Learn to preprocess raw data to create nodes a...</td>\n      <td>Network Analysis, igraph, R Programming, Graph...</td>\n      <td>Learn step-by-step</td>\n      <td>You (Lilian) Cheng</td>\n      <td>Coursera Project Network</td>\n      <td>Social Sciences</td>\n      <td>https://www.coursera.org/projects/visualizing-...</td>\n      <td>2.0</td>\n      <td>0</td>\n    </tr>\n  </tbody>\n</table>\n<p>8370 rows × 13 columns</p>\n</div>"
     },
     "execution_count": 97,
     "metadata": {},
     "output_type": "execute_result"
    }
   ],
   "source": [
    "df['Instructor'] = df.Instructor.str.split(', ', expand=True)[0]\n",
    "\n",
    "df"
   ],
   "metadata": {
    "collapsed": false,
    "ExecuteTime": {
     "end_time": "2024-02-22T13:22:30.185287Z",
     "start_time": "2024-02-22T13:22:30.159725Z"
    }
   },
   "id": "a32374e93b14e9e1",
   "execution_count": 97
  },
  {
   "cell_type": "code",
   "outputs": [
    {
     "data": {
      "text/plain": "                                           Course Title  Rating  \\\n0                                     Fashion as Design     4.8   \n1                                Modern American Poetry     4.4   \n2                             Pixel Art for Video Games     4.5   \n3       Distribución digital de la música independiente     0.0   \n4     The Blues: Understanding and Performing an Ame...     4.8   \n...                                                 ...     ...   \n8365  Architecting with Google Kubernetes Engine: Pr...     4.9   \n8366  Computational Thinking for K-12 Educators: Nes...     0.0   \n8367           Cómo combinar y analizar datos complejos     0.0   \n8368  Architecting with Google Kubernetes Engine: Wo...     0.0   \n8369                 Visualizing static networks with R     0.0   \n\n                   Level                                What you will learn  \\\n0         Beginner level                                      Not specified   \n1         Beginner level                                      Not specified   \n2         Beginner level                                      Not specified   \n3         Beginner level                                      Not specified   \n4         Beginner level  Students will be able to describe the blues as...   \n...                  ...                                                ...   \n8365  Intermediate level                                      Not specified   \n8366      Beginner level                                      Not specified   \n8367       Not specified                                      Not specified   \n8368  Intermediate level                                      Not specified   \n8369  Intermediate level  Learn to preprocess raw data to create nodes a...   \n\n                                             Skill gain  \\\n0                 Art History, Art, History, Creativity   \n1                                         Not specified   \n2                                         Not specified   \n3                                         Not specified   \n4                Music, Chord, Jazz, Jazz Improvisation   \n...                                                 ...   \n8365                                      Not specified   \n8366               Education, want, Resource, Causality   \n8367                                      Not specified   \n8368                                      Not specified   \n8369  Network Analysis, igraph, R Programming, Graph...   \n\n                                                Modules  \\\n0     Introduction, Heroes, Silhouettes, Coutures, L...   \n1     Orientation, Module 1, Module 2, Module 3, Mod...   \n2     Week 1: Introduction to Pixel Art, Week 2: Pix...   \n3                Semana 1, Semana 2, Semana 3, Semana 4   \n4     Blues Progressions – Theory and Practice , Blu...   \n...                                                 ...   \n8365  Introducción al curso, Control de acceso y seg...   \n8366  Course Orientation, Nested If/Else Part 1, Nes...   \n8367  Estimación básica, Modelos, Vinculación de reg...   \n8368  Introdução ao curso, Operações do Kubernetes, ...   \n8369                                 Learn step-by-step   \n\n                     Instructor                                  Offered By  \\\n0               Anna Burckhardt                    The Museum of Modern Art   \n1                   Cary Nelson  University of Illinois at Urbana-Champaign   \n2                 Andrew Dennis                   Michigan State University   \n3     Eduardo de la Vara Brown.                        SAE Institute México   \n4             Dariusz Terefenko                     University of Rochester   \n...                         ...                                         ...   \n8365      Google Cloud Training                                Google Cloud   \n8366                 Beth Simon          University of California San Diego   \n8367           Richard Valliant        University of Maryland, College Park   \n8368      Google Cloud Training                                Google Cloud   \n8369         You (Lilian) Cheng                    Coursera Project Network   \n\n                  Keyword                                         Course Url  \\\n0     Arts and Humanities      https://www.coursera.org/learn/fashion-design   \n1     Arts and Humanities  https://www.coursera.org/learn/modern-american...   \n2     Arts and Humanities  https://www.coursera.org/learn/pixel-art-video...   \n3     Arts and Humanities  https://www.coursera.org/learn/distribucion-di...   \n4     Arts and Humanities           https://www.coursera.org/learn/the-blues   \n...                   ...                                                ...   \n8365      Social Sciences  https://www.coursera.org/learn/deploying-secur...   \n8366      Social Sciences  https://www.coursera.org/learn/block-programmi...   \n8367      Social Sciences  https://www.coursera.org/learn/data-collection...   \n8368      Social Sciences  https://www.coursera.org/learn/deploying-workl...   \n8369      Social Sciences  https://www.coursera.org/projects/visualizing-...   \n\n      Duration to complete (Approx.)  Number of Review  \n0                               20.0              2813  \n1                               34.0               100  \n2                                9.0               227  \n3                                8.0                 0  \n4                               11.0               582  \n...                              ...               ...  \n8365                            14.0                30  \n8366                            11.0                 0  \n8367                             9.0                 0  \n8368                            19.0                 0  \n8369                             2.0                 0  \n\n[8249 rows x 12 columns]",
      "text/html": "<div>\n<style scoped>\n    .dataframe tbody tr th:only-of-type {\n        vertical-align: middle;\n    }\n\n    .dataframe tbody tr th {\n        vertical-align: top;\n    }\n\n    .dataframe thead th {\n        text-align: right;\n    }\n</style>\n<table border=\"1\" class=\"dataframe\">\n  <thead>\n    <tr style=\"text-align: right;\">\n      <th></th>\n      <th>Course Title</th>\n      <th>Rating</th>\n      <th>Level</th>\n      <th>What you will learn</th>\n      <th>Skill gain</th>\n      <th>Modules</th>\n      <th>Instructor</th>\n      <th>Offered By</th>\n      <th>Keyword</th>\n      <th>Course Url</th>\n      <th>Duration to complete (Approx.)</th>\n      <th>Number of Review</th>\n    </tr>\n  </thead>\n  <tbody>\n    <tr>\n      <th>0</th>\n      <td>Fashion as Design</td>\n      <td>4.8</td>\n      <td>Beginner level</td>\n      <td>Not specified</td>\n      <td>Art History, Art, History, Creativity</td>\n      <td>Introduction, Heroes, Silhouettes, Coutures, L...</td>\n      <td>Anna Burckhardt</td>\n      <td>The Museum of Modern Art</td>\n      <td>Arts and Humanities</td>\n      <td>https://www.coursera.org/learn/fashion-design</td>\n      <td>20.0</td>\n      <td>2813</td>\n    </tr>\n    <tr>\n      <th>1</th>\n      <td>Modern American Poetry</td>\n      <td>4.4</td>\n      <td>Beginner level</td>\n      <td>Not specified</td>\n      <td>Not specified</td>\n      <td>Orientation, Module 1, Module 2, Module 3, Mod...</td>\n      <td>Cary Nelson</td>\n      <td>University of Illinois at Urbana-Champaign</td>\n      <td>Arts and Humanities</td>\n      <td>https://www.coursera.org/learn/modern-american...</td>\n      <td>34.0</td>\n      <td>100</td>\n    </tr>\n    <tr>\n      <th>2</th>\n      <td>Pixel Art for Video Games</td>\n      <td>4.5</td>\n      <td>Beginner level</td>\n      <td>Not specified</td>\n      <td>Not specified</td>\n      <td>Week 1: Introduction to Pixel Art, Week 2: Pix...</td>\n      <td>Andrew Dennis</td>\n      <td>Michigan State University</td>\n      <td>Arts and Humanities</td>\n      <td>https://www.coursera.org/learn/pixel-art-video...</td>\n      <td>9.0</td>\n      <td>227</td>\n    </tr>\n    <tr>\n      <th>3</th>\n      <td>Distribución digital de la música independiente</td>\n      <td>0.0</td>\n      <td>Beginner level</td>\n      <td>Not specified</td>\n      <td>Not specified</td>\n      <td>Semana 1, Semana 2, Semana 3, Semana 4</td>\n      <td>Eduardo de la Vara Brown.</td>\n      <td>SAE Institute México</td>\n      <td>Arts and Humanities</td>\n      <td>https://www.coursera.org/learn/distribucion-di...</td>\n      <td>8.0</td>\n      <td>0</td>\n    </tr>\n    <tr>\n      <th>4</th>\n      <td>The Blues: Understanding and Performing an Ame...</td>\n      <td>4.8</td>\n      <td>Beginner level</td>\n      <td>Students will be able to describe the blues as...</td>\n      <td>Music, Chord, Jazz, Jazz Improvisation</td>\n      <td>Blues Progressions – Theory and Practice , Blu...</td>\n      <td>Dariusz Terefenko</td>\n      <td>University of Rochester</td>\n      <td>Arts and Humanities</td>\n      <td>https://www.coursera.org/learn/the-blues</td>\n      <td>11.0</td>\n      <td>582</td>\n    </tr>\n    <tr>\n      <th>...</th>\n      <td>...</td>\n      <td>...</td>\n      <td>...</td>\n      <td>...</td>\n      <td>...</td>\n      <td>...</td>\n      <td>...</td>\n      <td>...</td>\n      <td>...</td>\n      <td>...</td>\n      <td>...</td>\n      <td>...</td>\n    </tr>\n    <tr>\n      <th>8365</th>\n      <td>Architecting with Google Kubernetes Engine: Pr...</td>\n      <td>4.9</td>\n      <td>Intermediate level</td>\n      <td>Not specified</td>\n      <td>Not specified</td>\n      <td>Introducción al curso, Control de acceso y seg...</td>\n      <td>Google Cloud Training</td>\n      <td>Google Cloud</td>\n      <td>Social Sciences</td>\n      <td>https://www.coursera.org/learn/deploying-secur...</td>\n      <td>14.0</td>\n      <td>30</td>\n    </tr>\n    <tr>\n      <th>8366</th>\n      <td>Computational Thinking for K-12 Educators: Nes...</td>\n      <td>0.0</td>\n      <td>Beginner level</td>\n      <td>Not specified</td>\n      <td>Education, want, Resource, Causality</td>\n      <td>Course Orientation, Nested If/Else Part 1, Nes...</td>\n      <td>Beth Simon</td>\n      <td>University of California San Diego</td>\n      <td>Social Sciences</td>\n      <td>https://www.coursera.org/learn/block-programmi...</td>\n      <td>11.0</td>\n      <td>0</td>\n    </tr>\n    <tr>\n      <th>8367</th>\n      <td>Cómo combinar y analizar datos complejos</td>\n      <td>0.0</td>\n      <td>Not specified</td>\n      <td>Not specified</td>\n      <td>Not specified</td>\n      <td>Estimación básica, Modelos, Vinculación de reg...</td>\n      <td>Richard Valliant</td>\n      <td>University of Maryland, College Park</td>\n      <td>Social Sciences</td>\n      <td>https://www.coursera.org/learn/data-collection...</td>\n      <td>9.0</td>\n      <td>0</td>\n    </tr>\n    <tr>\n      <th>8368</th>\n      <td>Architecting with Google Kubernetes Engine: Wo...</td>\n      <td>0.0</td>\n      <td>Intermediate level</td>\n      <td>Not specified</td>\n      <td>Not specified</td>\n      <td>Introdução ao curso, Operações do Kubernetes, ...</td>\n      <td>Google Cloud Training</td>\n      <td>Google Cloud</td>\n      <td>Social Sciences</td>\n      <td>https://www.coursera.org/learn/deploying-workl...</td>\n      <td>19.0</td>\n      <td>0</td>\n    </tr>\n    <tr>\n      <th>8369</th>\n      <td>Visualizing static networks with R</td>\n      <td>0.0</td>\n      <td>Intermediate level</td>\n      <td>Learn to preprocess raw data to create nodes a...</td>\n      <td>Network Analysis, igraph, R Programming, Graph...</td>\n      <td>Learn step-by-step</td>\n      <td>You (Lilian) Cheng</td>\n      <td>Coursera Project Network</td>\n      <td>Social Sciences</td>\n      <td>https://www.coursera.org/projects/visualizing-...</td>\n      <td>2.0</td>\n      <td>0</td>\n    </tr>\n  </tbody>\n</table>\n<p>8249 rows × 12 columns</p>\n</div>"
     },
     "execution_count": 98,
     "metadata": {},
     "output_type": "execute_result"
    }
   ],
   "source": [
    "df.dropna(axis='rows', how='any', inplace=True)\n",
    "\n",
    "if 'Schedule' in df.columns:\n",
    "    df.drop(columns=['Schedule'], inplace=True)\n",
    "\n",
    "df"
   ],
   "metadata": {
    "collapsed": false,
    "ExecuteTime": {
     "end_time": "2024-02-22T13:22:40.242523Z",
     "start_time": "2024-02-22T13:22:40.219626Z"
    }
   },
   "id": "928ae2f482249594",
   "execution_count": 98
  },
  {
   "cell_type": "code",
   "outputs": [
    {
     "data": {
      "text/plain": "                            Rating                                            \\\n                             count      mean           std  min    25%   50%   \nInstructor                                                                     \n  Dave Nagy                    3.0  4.733333  5.773503e-02  4.7  4.700  4.70   \n Alisa Acosta                  6.0  4.600000  9.729507e-16  4.6  4.600  4.60   \n Luis Antonio Marquez Heine    3.0  1.533333  2.655811e+00  0.0  0.000  0.00   \n Marek Czernek                 4.0  4.700000  8.164966e-02  4.6  4.675  4.70   \n Microsoft                    79.0  4.193671  1.234477e+00  0.0  4.400  4.60   \n...                            ...       ...           ...  ...    ...   ...   \n饶毅                             1.0  5.000000           NaN  5.0  5.000  5.00   \n馮勃翰                            1.0  5.000000           NaN  5.0  5.000  5.00   \n黃俊傑                            6.0  2.383333  2.611832e+00  0.0  0.000  2.35   \n黃尹男                            1.0  4.900000           NaN  4.9  4.900  4.90   \n龚 建平                           1.0  4.500000           NaN  4.5  4.500  4.50   \n\n                                        Duration to complete (Approx.)  \\\n                               75%  max                          count   \nInstructor                                                               \n  Dave Nagy                  4.750  4.8                            3.0   \n Alisa Acosta                4.600  4.6                            6.0   \n Luis Antonio Marquez Heine  2.300  4.6                            3.0   \n Marek Czernek               4.725  4.8                            4.0   \n Microsoft                   4.700  4.9                           79.0   \n...                            ...  ...                            ...   \n饶毅                           5.000  5.0                            1.0   \n馮勃翰                          5.000  5.0                            1.0   \n黃俊傑                          4.700  4.9                            6.0   \n黃尹男                          4.900  4.9                            1.0   \n龚 建平                         4.500  4.5                            1.0   \n\n                                        ...               Number of Review  \\\n                                  mean  ...    75%    max            count   \nInstructor                              ...                                  \n  Dave Nagy                  28.333333  ...  40.00   40.0              3.0   \n Alisa Acosta                20.666667  ...  20.25   80.0              6.0   \n Luis Antonio Marquez Heine  56.666667  ...  73.50  120.0              3.0   \n Marek Czernek               16.750000  ...  20.50   40.0              4.0   \n Microsoft                   35.037975  ...  38.00  240.0             79.0   \n...                                ...  ...    ...    ...              ...   \n饶毅                           39.000000  ...  39.00   39.0              1.0   \n馮勃翰                          10.000000  ...  10.00   10.0              1.0   \n黃俊傑                          15.666667  ...  17.25   21.0              6.0   \n黃尹男                          18.000000  ...  18.00   18.0              1.0   \n龚 建平                         17.000000  ...  17.00   17.0              1.0   \n\n                                                                              \\\n                                    mean         std    min      25%     50%   \nInstructor                                                                     \n  Dave Nagy                  1124.000000  361.998619  706.0  1019.50  1333.0   \n Alisa Acosta                  33.333333   12.769756   11.0    28.75    40.0   \n Luis Antonio Marquez Heine    18.000000   31.176915    0.0     0.00     0.0   \n Marek Czernek                 63.000000   38.875871   25.0    32.50    61.5   \n Microsoft                    477.430380  650.037152    0.0    40.00   184.0   \n...                                  ...         ...    ...      ...     ...   \n饶毅                             14.000000         NaN   14.0    14.00    14.0   \n馮勃翰                            30.000000         NaN   30.0    30.00    30.0   \n黃俊傑                            13.833333   18.872378    0.0     0.00     6.0   \n黃尹男                            32.000000         NaN   32.0    32.00    32.0   \n龚 建平                          267.000000         NaN  267.0   267.00   267.0   \n\n                                             \n                                75%     max  \nInstructor                                   \n  Dave Nagy                  1333.0  1333.0  \n Alisa Acosta                  40.0    44.0  \n Luis Antonio Marquez Heine    27.0    54.0  \n Marek Czernek                 92.0   104.0  \n Microsoft                    509.0  2124.0  \n...                             ...     ...  \n饶毅                             14.0    14.0  \n馮勃翰                            30.0    30.0  \n黃俊傑                            21.0    47.0  \n黃尹男                            32.0    32.0  \n龚 建平                          267.0   267.0  \n\n[2916 rows x 24 columns]",
      "text/html": "<div>\n<style scoped>\n    .dataframe tbody tr th:only-of-type {\n        vertical-align: middle;\n    }\n\n    .dataframe tbody tr th {\n        vertical-align: top;\n    }\n\n    .dataframe thead tr th {\n        text-align: left;\n    }\n\n    .dataframe thead tr:last-of-type th {\n        text-align: right;\n    }\n</style>\n<table border=\"1\" class=\"dataframe\">\n  <thead>\n    <tr>\n      <th></th>\n      <th colspan=\"8\" halign=\"left\">Rating</th>\n      <th colspan=\"5\" halign=\"left\">Duration to complete (Approx.)</th>\n      <th colspan=\"8\" halign=\"left\">Number of Review</th>\n    </tr>\n    <tr>\n      <th></th>\n      <th>count</th>\n      <th>mean</th>\n      <th>std</th>\n      <th>min</th>\n      <th>25%</th>\n      <th>50%</th>\n      <th>75%</th>\n      <th>max</th>\n      <th>count</th>\n      <th>mean</th>\n      <th>...</th>\n      <th>75%</th>\n      <th>max</th>\n      <th>count</th>\n      <th>mean</th>\n      <th>std</th>\n      <th>min</th>\n      <th>25%</th>\n      <th>50%</th>\n      <th>75%</th>\n      <th>max</th>\n    </tr>\n    <tr>\n      <th>Instructor</th>\n      <th></th>\n      <th></th>\n      <th></th>\n      <th></th>\n      <th></th>\n      <th></th>\n      <th></th>\n      <th></th>\n      <th></th>\n      <th></th>\n      <th></th>\n      <th></th>\n      <th></th>\n      <th></th>\n      <th></th>\n      <th></th>\n      <th></th>\n      <th></th>\n      <th></th>\n      <th></th>\n      <th></th>\n    </tr>\n  </thead>\n  <tbody>\n    <tr>\n      <th>Dave Nagy</th>\n      <td>3.0</td>\n      <td>4.733333</td>\n      <td>5.773503e-02</td>\n      <td>4.7</td>\n      <td>4.700</td>\n      <td>4.70</td>\n      <td>4.750</td>\n      <td>4.8</td>\n      <td>3.0</td>\n      <td>28.333333</td>\n      <td>...</td>\n      <td>40.00</td>\n      <td>40.0</td>\n      <td>3.0</td>\n      <td>1124.000000</td>\n      <td>361.998619</td>\n      <td>706.0</td>\n      <td>1019.50</td>\n      <td>1333.0</td>\n      <td>1333.0</td>\n      <td>1333.0</td>\n    </tr>\n    <tr>\n      <th>Alisa Acosta</th>\n      <td>6.0</td>\n      <td>4.600000</td>\n      <td>9.729507e-16</td>\n      <td>4.6</td>\n      <td>4.600</td>\n      <td>4.60</td>\n      <td>4.600</td>\n      <td>4.6</td>\n      <td>6.0</td>\n      <td>20.666667</td>\n      <td>...</td>\n      <td>20.25</td>\n      <td>80.0</td>\n      <td>6.0</td>\n      <td>33.333333</td>\n      <td>12.769756</td>\n      <td>11.0</td>\n      <td>28.75</td>\n      <td>40.0</td>\n      <td>40.0</td>\n      <td>44.0</td>\n    </tr>\n    <tr>\n      <th>Luis Antonio Marquez Heine</th>\n      <td>3.0</td>\n      <td>1.533333</td>\n      <td>2.655811e+00</td>\n      <td>0.0</td>\n      <td>0.000</td>\n      <td>0.00</td>\n      <td>2.300</td>\n      <td>4.6</td>\n      <td>3.0</td>\n      <td>56.666667</td>\n      <td>...</td>\n      <td>73.50</td>\n      <td>120.0</td>\n      <td>3.0</td>\n      <td>18.000000</td>\n      <td>31.176915</td>\n      <td>0.0</td>\n      <td>0.00</td>\n      <td>0.0</td>\n      <td>27.0</td>\n      <td>54.0</td>\n    </tr>\n    <tr>\n      <th>Marek Czernek</th>\n      <td>4.0</td>\n      <td>4.700000</td>\n      <td>8.164966e-02</td>\n      <td>4.6</td>\n      <td>4.675</td>\n      <td>4.70</td>\n      <td>4.725</td>\n      <td>4.8</td>\n      <td>4.0</td>\n      <td>16.750000</td>\n      <td>...</td>\n      <td>20.50</td>\n      <td>40.0</td>\n      <td>4.0</td>\n      <td>63.000000</td>\n      <td>38.875871</td>\n      <td>25.0</td>\n      <td>32.50</td>\n      <td>61.5</td>\n      <td>92.0</td>\n      <td>104.0</td>\n    </tr>\n    <tr>\n      <th>Microsoft</th>\n      <td>79.0</td>\n      <td>4.193671</td>\n      <td>1.234477e+00</td>\n      <td>0.0</td>\n      <td>4.400</td>\n      <td>4.60</td>\n      <td>4.700</td>\n      <td>4.9</td>\n      <td>79.0</td>\n      <td>35.037975</td>\n      <td>...</td>\n      <td>38.00</td>\n      <td>240.0</td>\n      <td>79.0</td>\n      <td>477.430380</td>\n      <td>650.037152</td>\n      <td>0.0</td>\n      <td>40.00</td>\n      <td>184.0</td>\n      <td>509.0</td>\n      <td>2124.0</td>\n    </tr>\n    <tr>\n      <th>...</th>\n      <td>...</td>\n      <td>...</td>\n      <td>...</td>\n      <td>...</td>\n      <td>...</td>\n      <td>...</td>\n      <td>...</td>\n      <td>...</td>\n      <td>...</td>\n      <td>...</td>\n      <td>...</td>\n      <td>...</td>\n      <td>...</td>\n      <td>...</td>\n      <td>...</td>\n      <td>...</td>\n      <td>...</td>\n      <td>...</td>\n      <td>...</td>\n      <td>...</td>\n      <td>...</td>\n    </tr>\n    <tr>\n      <th>饶毅</th>\n      <td>1.0</td>\n      <td>5.000000</td>\n      <td>NaN</td>\n      <td>5.0</td>\n      <td>5.000</td>\n      <td>5.00</td>\n      <td>5.000</td>\n      <td>5.0</td>\n      <td>1.0</td>\n      <td>39.000000</td>\n      <td>...</td>\n      <td>39.00</td>\n      <td>39.0</td>\n      <td>1.0</td>\n      <td>14.000000</td>\n      <td>NaN</td>\n      <td>14.0</td>\n      <td>14.00</td>\n      <td>14.0</td>\n      <td>14.0</td>\n      <td>14.0</td>\n    </tr>\n    <tr>\n      <th>馮勃翰</th>\n      <td>1.0</td>\n      <td>5.000000</td>\n      <td>NaN</td>\n      <td>5.0</td>\n      <td>5.000</td>\n      <td>5.00</td>\n      <td>5.000</td>\n      <td>5.0</td>\n      <td>1.0</td>\n      <td>10.000000</td>\n      <td>...</td>\n      <td>10.00</td>\n      <td>10.0</td>\n      <td>1.0</td>\n      <td>30.000000</td>\n      <td>NaN</td>\n      <td>30.0</td>\n      <td>30.00</td>\n      <td>30.0</td>\n      <td>30.0</td>\n      <td>30.0</td>\n    </tr>\n    <tr>\n      <th>黃俊傑</th>\n      <td>6.0</td>\n      <td>2.383333</td>\n      <td>2.611832e+00</td>\n      <td>0.0</td>\n      <td>0.000</td>\n      <td>2.35</td>\n      <td>4.700</td>\n      <td>4.9</td>\n      <td>6.0</td>\n      <td>15.666667</td>\n      <td>...</td>\n      <td>17.25</td>\n      <td>21.0</td>\n      <td>6.0</td>\n      <td>13.833333</td>\n      <td>18.872378</td>\n      <td>0.0</td>\n      <td>0.00</td>\n      <td>6.0</td>\n      <td>21.0</td>\n      <td>47.0</td>\n    </tr>\n    <tr>\n      <th>黃尹男</th>\n      <td>1.0</td>\n      <td>4.900000</td>\n      <td>NaN</td>\n      <td>4.9</td>\n      <td>4.900</td>\n      <td>4.90</td>\n      <td>4.900</td>\n      <td>4.9</td>\n      <td>1.0</td>\n      <td>18.000000</td>\n      <td>...</td>\n      <td>18.00</td>\n      <td>18.0</td>\n      <td>1.0</td>\n      <td>32.000000</td>\n      <td>NaN</td>\n      <td>32.0</td>\n      <td>32.00</td>\n      <td>32.0</td>\n      <td>32.0</td>\n      <td>32.0</td>\n    </tr>\n    <tr>\n      <th>龚 建平</th>\n      <td>1.0</td>\n      <td>4.500000</td>\n      <td>NaN</td>\n      <td>4.5</td>\n      <td>4.500</td>\n      <td>4.50</td>\n      <td>4.500</td>\n      <td>4.5</td>\n      <td>1.0</td>\n      <td>17.000000</td>\n      <td>...</td>\n      <td>17.00</td>\n      <td>17.0</td>\n      <td>1.0</td>\n      <td>267.000000</td>\n      <td>NaN</td>\n      <td>267.0</td>\n      <td>267.00</td>\n      <td>267.0</td>\n      <td>267.0</td>\n      <td>267.0</td>\n    </tr>\n  </tbody>\n</table>\n<p>2916 rows × 24 columns</p>\n</div>"
     },
     "execution_count": 99,
     "metadata": {},
     "output_type": "execute_result"
    }
   ],
   "source": [
    "dfg = df.groupby('Instructor')\n",
    "dfg.describe()"
   ],
   "metadata": {
    "collapsed": false,
    "ExecuteTime": {
     "end_time": "2024-02-22T13:22:46.505186Z",
     "start_time": "2024-02-22T13:22:41.702360Z"
    }
   },
   "id": "489d63f48d108b84",
   "execution_count": 99
  },
  {
   "cell_type": "code",
   "outputs": [
    {
     "data": {
      "text/plain": "Course Title                      0\nRating                            0\nLevel                             0\nWhat you will learn               0\nSkill gain                        0\nModules                           0\nInstructor                        0\nOffered By                        0\nKeyword                           0\nCourse Url                        0\nDuration to complete (Approx.)    0\nNumber of Review                  0\ndtype: int64"
     },
     "execution_count": 101,
     "metadata": {},
     "output_type": "execute_result"
    }
   ],
   "source": [
    "df.isnull().sum()"
   ],
   "metadata": {
    "collapsed": false,
    "ExecuteTime": {
     "end_time": "2024-02-22T13:25:40.433986Z",
     "start_time": "2024-02-22T13:25:40.423332Z"
    }
   },
   "id": "26589c2fe146537",
   "execution_count": 101
  },
  {
   "cell_type": "code",
   "outputs": [
    {
     "name": "stderr",
     "output_type": "stream",
     "text": [
      "/var/folders/c8/wy8zqpfn5z3_zvhncw54tmr80000gn/T/ipykernel_9137/2351626787.py:10: FutureWarning: The provided callable <built-in function sum> is currently using SeriesGroupBy.sum. In a future version of pandas, the provided callable will be used directly. To keep current behavior pass the string \"sum\" instead.\n",
      "  dft['C_sum'] = dft.groupby('A')['C'].transform(sum)\n"
     ]
    },
    {
     "data": {
      "text/plain": "     A      B  C   D  C_sum\n0  foo    one  1  10     24\n1  bar    one  2  20     12\n2  foo    two  3  30     24\n3  bar  three  4  40     12\n4  foo    two  5  50     24\n5  bar    two  6  60     12\n6  foo    one  7  70     24\n7  foo  three  8  80     24",
      "text/html": "<div>\n<style scoped>\n    .dataframe tbody tr th:only-of-type {\n        vertical-align: middle;\n    }\n\n    .dataframe tbody tr th {\n        vertical-align: top;\n    }\n\n    .dataframe thead th {\n        text-align: right;\n    }\n</style>\n<table border=\"1\" class=\"dataframe\">\n  <thead>\n    <tr style=\"text-align: right;\">\n      <th></th>\n      <th>A</th>\n      <th>B</th>\n      <th>C</th>\n      <th>D</th>\n      <th>C_sum</th>\n    </tr>\n  </thead>\n  <tbody>\n    <tr>\n      <th>0</th>\n      <td>foo</td>\n      <td>one</td>\n      <td>1</td>\n      <td>10</td>\n      <td>24</td>\n    </tr>\n    <tr>\n      <th>1</th>\n      <td>bar</td>\n      <td>one</td>\n      <td>2</td>\n      <td>20</td>\n      <td>12</td>\n    </tr>\n    <tr>\n      <th>2</th>\n      <td>foo</td>\n      <td>two</td>\n      <td>3</td>\n      <td>30</td>\n      <td>24</td>\n    </tr>\n    <tr>\n      <th>3</th>\n      <td>bar</td>\n      <td>three</td>\n      <td>4</td>\n      <td>40</td>\n      <td>12</td>\n    </tr>\n    <tr>\n      <th>4</th>\n      <td>foo</td>\n      <td>two</td>\n      <td>5</td>\n      <td>50</td>\n      <td>24</td>\n    </tr>\n    <tr>\n      <th>5</th>\n      <td>bar</td>\n      <td>two</td>\n      <td>6</td>\n      <td>60</td>\n      <td>12</td>\n    </tr>\n    <tr>\n      <th>6</th>\n      <td>foo</td>\n      <td>one</td>\n      <td>7</td>\n      <td>70</td>\n      <td>24</td>\n    </tr>\n    <tr>\n      <th>7</th>\n      <td>foo</td>\n      <td>three</td>\n      <td>8</td>\n      <td>80</td>\n      <td>24</td>\n    </tr>\n  </tbody>\n</table>\n</div>"
     },
     "execution_count": 103,
     "metadata": {},
     "output_type": "execute_result"
    }
   ],
   "source": [
    "\n",
    "# Create a DataFrame\n",
    "dft = pd.DataFrame({\n",
    "    'A': ['foo', 'bar', 'foo', 'bar', 'foo', 'bar', 'foo', 'foo'],\n",
    "    'B': ['one', 'one', 'two', 'three', 'two', 'two', 'one', 'three'],\n",
    "    'C': [1,  2,  3,  4,  5,  6,  7,  8],\n",
    "    'D': [10,  20,  30,  40,  50,  60,  70,  80]\n",
    "})\n",
    "\n",
    "# Use transform to apply a function to each group\n",
    "dft['C_sum'] = dft.groupby('A')['C'].transform(sum)\n",
    "dft"
   ],
   "metadata": {
    "collapsed": false,
    "ExecuteTime": {
     "end_time": "2024-02-22T13:25:56.258811Z",
     "start_time": "2024-02-22T13:25:56.248870Z"
    }
   },
   "id": "41006177c237e8b9",
   "execution_count": 103
  }
 ],
 "metadata": {
  "kernelspec": {
   "display_name": "Python 3",
   "language": "python",
   "name": "python3"
  },
  "language_info": {
   "codemirror_mode": {
    "name": "ipython",
    "version": 2
   },
   "file_extension": ".py",
   "mimetype": "text/x-python",
   "name": "python",
   "nbconvert_exporter": "python",
   "pygments_lexer": "ipython2",
   "version": "2.7.6"
  }
 },
 "nbformat": 4,
 "nbformat_minor": 5
}
