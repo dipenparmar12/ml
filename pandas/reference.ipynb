{
 "cells": [
  {
   "cell_type": "code",
   "execution_count": 3,
   "metadata": {
    "ExecuteTime": {
     "end_time": "2023-11-02T04:17:13.198089Z",
     "start_time": "2023-11-02T04:17:12.841131Z"
    }
   },
   "outputs": [],
   "source": [
    "import pandas as pd "
   ]
  },
  {
   "cell_type": "code",
   "execution_count": 4,
   "metadata": {
    "ExecuteTime": {
     "end_time": "2023-11-02T04:17:13.214630Z",
     "start_time": "2023-11-02T04:17:13.204408Z"
    }
   },
   "outputs": [
    {
     "data": {
      "text/plain": "    name  age  gender  graduate                             hobbies\n0  Dipen   29    male     False  [cricket, football, chess, suduko]\n1  Hites   10    male      True          [swiming, travel, reading]\n2  mally   40  female      True                       [chess, walk]",
      "text/html": "<div>\n<style scoped>\n    .dataframe tbody tr th:only-of-type {\n        vertical-align: middle;\n    }\n\n    .dataframe tbody tr th {\n        vertical-align: top;\n    }\n\n    .dataframe thead th {\n        text-align: right;\n    }\n</style>\n<table border=\"1\" class=\"dataframe\">\n  <thead>\n    <tr style=\"text-align: right;\">\n      <th></th>\n      <th>name</th>\n      <th>age</th>\n      <th>gender</th>\n      <th>graduate</th>\n      <th>hobbies</th>\n    </tr>\n  </thead>\n  <tbody>\n    <tr>\n      <th>0</th>\n      <td>Dipen</td>\n      <td>29</td>\n      <td>male</td>\n      <td>False</td>\n      <td>[cricket, football, chess, suduko]</td>\n    </tr>\n    <tr>\n      <th>1</th>\n      <td>Hites</td>\n      <td>10</td>\n      <td>male</td>\n      <td>True</td>\n      <td>[swiming, travel, reading]</td>\n    </tr>\n    <tr>\n      <th>2</th>\n      <td>mally</td>\n      <td>40</td>\n      <td>female</td>\n      <td>True</td>\n      <td>[chess, walk]</td>\n    </tr>\n  </tbody>\n</table>\n</div>"
     },
     "execution_count": 4,
     "metadata": {},
     "output_type": "execute_result"
    }
   ],
   "source": [
    "people = {\n",
    "    'name': ['Dipen', 'Hites', 'mally'],\n",
    "    'age':[29,10,40],\n",
    "    'gender':['male','male','female'],\n",
    "    'graduate':[False, True, True],\n",
    "    'hobbies': [['cricket','football','chess','suduko'], ['swiming','travel','reading'],['chess','walk']]\n",
    "}\n",
    "df_people = pd.DataFrame(people)\n",
    "df_people"
   ]
  },
  {
   "cell_type": "code",
   "execution_count": 5,
   "metadata": {
    "ExecuteTime": {
     "end_time": "2023-11-02T04:17:13.219721Z",
     "start_time": "2023-11-02T04:17:13.215024Z"
    }
   },
   "outputs": [
    {
     "data": {
      "text/plain": "    name  age\n0  Dipen   29\n2  mally   40",
      "text/html": "<div>\n<style scoped>\n    .dataframe tbody tr th:only-of-type {\n        vertical-align: middle;\n    }\n\n    .dataframe tbody tr th {\n        vertical-align: top;\n    }\n\n    .dataframe thead th {\n        text-align: right;\n    }\n</style>\n<table border=\"1\" class=\"dataframe\">\n  <thead>\n    <tr style=\"text-align: right;\">\n      <th></th>\n      <th>name</th>\n      <th>age</th>\n    </tr>\n  </thead>\n  <tbody>\n    <tr>\n      <th>0</th>\n      <td>Dipen</td>\n      <td>29</td>\n    </tr>\n    <tr>\n      <th>2</th>\n      <td>mally</td>\n      <td>40</td>\n    </tr>\n  </tbody>\n</table>\n</div>"
     },
     "execution_count": 5,
     "metadata": {},
     "output_type": "execute_result"
    }
   ],
   "source": [
    "filter = (df_people['age'] > 25) \n",
    "\n",
    "# var = df_people[filter]  # OR \n",
    "df_people.loc[filter][['name','age']]"
   ]
  },
  {
   "cell_type": "code",
   "execution_count": 6,
   "metadata": {
    "ExecuteTime": {
     "end_time": "2023-11-02T04:17:13.246614Z",
     "start_time": "2023-11-02T04:17:13.221937Z"
    }
   },
   "outputs": [
    {
     "data": {
      "text/plain": "    NAME  AGE  GENDER  GRADUATE                             HOBBIES\n0  Dipen   29    male     False  [cricket, football, chess, suduko]\n1  Hites   10    male      True          [swiming, travel, reading]\n2  mally   40  female      True                       [chess, walk]",
      "text/html": "<div>\n<style scoped>\n    .dataframe tbody tr th:only-of-type {\n        vertical-align: middle;\n    }\n\n    .dataframe tbody tr th {\n        vertical-align: top;\n    }\n\n    .dataframe thead th {\n        text-align: right;\n    }\n</style>\n<table border=\"1\" class=\"dataframe\">\n  <thead>\n    <tr style=\"text-align: right;\">\n      <th></th>\n      <th>NAME</th>\n      <th>AGE</th>\n      <th>GENDER</th>\n      <th>GRADUATE</th>\n      <th>HOBBIES</th>\n    </tr>\n  </thead>\n  <tbody>\n    <tr>\n      <th>0</th>\n      <td>Dipen</td>\n      <td>29</td>\n      <td>male</td>\n      <td>False</td>\n      <td>[cricket, football, chess, suduko]</td>\n    </tr>\n    <tr>\n      <th>1</th>\n      <td>Hites</td>\n      <td>10</td>\n      <td>male</td>\n      <td>True</td>\n      <td>[swiming, travel, reading]</td>\n    </tr>\n    <tr>\n      <th>2</th>\n      <td>mally</td>\n      <td>40</td>\n      <td>female</td>\n      <td>True</td>\n      <td>[chess, walk]</td>\n    </tr>\n  </tbody>\n</table>\n</div>"
     },
     "execution_count": 6,
     "metadata": {},
     "output_type": "execute_result"
    }
   ],
   "source": [
    "df_people.columns = [x.upper() for x in df_people.columns]\n",
    "df_people"
   ]
  },
  {
   "cell_type": "code",
   "execution_count": 7,
   "metadata": {
    "ExecuteTime": {
     "end_time": "2023-11-02T04:17:13.287049Z",
     "start_time": "2023-11-02T04:17:13.229911Z"
    }
   },
   "outputs": [
    {
     "data": {
      "text/plain": "    name  age  gender  is_cool                             hobbies\n0  Dipen   29    male    False  [cricket, football, chess, suduko]\n1  Hites   10    male     True          [swiming, travel, reading]\n2  mally   40  female     True                       [chess, walk]",
      "text/html": "<div>\n<style scoped>\n    .dataframe tbody tr th:only-of-type {\n        vertical-align: middle;\n    }\n\n    .dataframe tbody tr th {\n        vertical-align: top;\n    }\n\n    .dataframe thead th {\n        text-align: right;\n    }\n</style>\n<table border=\"1\" class=\"dataframe\">\n  <thead>\n    <tr style=\"text-align: right;\">\n      <th></th>\n      <th>name</th>\n      <th>age</th>\n      <th>gender</th>\n      <th>is_cool</th>\n      <th>hobbies</th>\n    </tr>\n  </thead>\n  <tbody>\n    <tr>\n      <th>0</th>\n      <td>Dipen</td>\n      <td>29</td>\n      <td>male</td>\n      <td>False</td>\n      <td>[cricket, football, chess, suduko]</td>\n    </tr>\n    <tr>\n      <th>1</th>\n      <td>Hites</td>\n      <td>10</td>\n      <td>male</td>\n      <td>True</td>\n      <td>[swiming, travel, reading]</td>\n    </tr>\n    <tr>\n      <th>2</th>\n      <td>mally</td>\n      <td>40</td>\n      <td>female</td>\n      <td>True</td>\n      <td>[chess, walk]</td>\n    </tr>\n  </tbody>\n</table>\n</div>"
     },
     "execution_count": 7,
     "metadata": {},
     "output_type": "execute_result"
    }
   ],
   "source": [
    "new_columns = {'NAME':'name', 'AGE':'age', 'GRADUATE':'is_cool', 'GENDER': 'gender', 'HOBBIES':'hobbies'}\n",
    "df_people.rename(columns=new_columns, inplace=True)\n",
    "df_people"
   ]
  },
  {
   "cell_type": "code",
   "execution_count": 8,
   "metadata": {
    "ExecuteTime": {
     "end_time": "2023-11-02T04:17:13.298326Z",
     "start_time": "2023-11-02T04:17:13.238327Z"
    }
   },
   "outputs": [
    {
     "name": "stderr",
     "output_type": "stream",
     "text": [
      "/var/folders/c8/wy8zqpfn5z3_zvhncw54tmr80000gn/T/ipykernel_76527/3205960325.py:2: FutureWarning: Setting an item of incompatible dtype is deprecated and will raise in a future error of pandas. Value 'male' has dtype incompatible with bool, please explicitly cast to a compatible dtype first.\n",
      "  df_people.loc[2, ['name','is_cool']] = ['Miles Moris', 'male']\n"
     ]
    },
    {
     "data": {
      "text/plain": "          name  age  gender is_cool                             hobbies\n0        Dipen   29    male   False  [cricket, football, chess, suduko]\n1        Hites   10    male    True          [swiming, travel, reading]\n2  Miles Moris   40  female    male                       [chess, walk]\n3        Sunny   50     gay   False                                  []",
      "text/html": "<div>\n<style scoped>\n    .dataframe tbody tr th:only-of-type {\n        vertical-align: middle;\n    }\n\n    .dataframe tbody tr th {\n        vertical-align: top;\n    }\n\n    .dataframe thead th {\n        text-align: right;\n    }\n</style>\n<table border=\"1\" class=\"dataframe\">\n  <thead>\n    <tr style=\"text-align: right;\">\n      <th></th>\n      <th>name</th>\n      <th>age</th>\n      <th>gender</th>\n      <th>is_cool</th>\n      <th>hobbies</th>\n    </tr>\n  </thead>\n  <tbody>\n    <tr>\n      <th>0</th>\n      <td>Dipen</td>\n      <td>29</td>\n      <td>male</td>\n      <td>False</td>\n      <td>[cricket, football, chess, suduko]</td>\n    </tr>\n    <tr>\n      <th>1</th>\n      <td>Hites</td>\n      <td>10</td>\n      <td>male</td>\n      <td>True</td>\n      <td>[swiming, travel, reading]</td>\n    </tr>\n    <tr>\n      <th>2</th>\n      <td>Miles Moris</td>\n      <td>40</td>\n      <td>female</td>\n      <td>male</td>\n      <td>[chess, walk]</td>\n    </tr>\n    <tr>\n      <th>3</th>\n      <td>Sunny</td>\n      <td>50</td>\n      <td>gay</td>\n      <td>False</td>\n      <td>[]</td>\n    </tr>\n  </tbody>\n</table>\n</div>"
     },
     "execution_count": 8,
     "metadata": {},
     "output_type": "execute_result"
    }
   ],
   "source": [
    "df_people.loc[3] = ['Sunny', 50, 'gay', False, []]\n",
    "df_people.loc[2, ['name','is_cool']] = ['Miles Moris', 'male']\n",
    "df_people"
   ]
  },
  {
   "cell_type": "code",
   "execution_count": 9,
   "metadata": {
    "ExecuteTime": {
     "end_time": "2023-11-02T04:17:13.312495Z",
     "start_time": "2023-11-02T04:17:13.246281Z"
    }
   },
   "outputs": [
    {
     "data": {
      "text/plain": "          name  age  gender is_cool                             hobbies  \\\n0        dipen   29    male   False  [cricket, football, chess, suduko]   \n1        hites   10    male    True          [swiming, travel, reading]   \n2  miles moris   40  female    male                       [chess, walk]   \n3        sunny   50     gay   False                                  []   \n\n   double_age  \n0          58  \n1          20  \n2          80  \n3         100  ",
      "text/html": "<div>\n<style scoped>\n    .dataframe tbody tr th:only-of-type {\n        vertical-align: middle;\n    }\n\n    .dataframe tbody tr th {\n        vertical-align: top;\n    }\n\n    .dataframe thead th {\n        text-align: right;\n    }\n</style>\n<table border=\"1\" class=\"dataframe\">\n  <thead>\n    <tr style=\"text-align: right;\">\n      <th></th>\n      <th>name</th>\n      <th>age</th>\n      <th>gender</th>\n      <th>is_cool</th>\n      <th>hobbies</th>\n      <th>double_age</th>\n    </tr>\n  </thead>\n  <tbody>\n    <tr>\n      <th>0</th>\n      <td>dipen</td>\n      <td>29</td>\n      <td>male</td>\n      <td>False</td>\n      <td>[cricket, football, chess, suduko]</td>\n      <td>58</td>\n    </tr>\n    <tr>\n      <th>1</th>\n      <td>hites</td>\n      <td>10</td>\n      <td>male</td>\n      <td>True</td>\n      <td>[swiming, travel, reading]</td>\n      <td>20</td>\n    </tr>\n    <tr>\n      <th>2</th>\n      <td>miles moris</td>\n      <td>40</td>\n      <td>female</td>\n      <td>male</td>\n      <td>[chess, walk]</td>\n      <td>80</td>\n    </tr>\n    <tr>\n      <th>3</th>\n      <td>sunny</td>\n      <td>50</td>\n      <td>gay</td>\n      <td>False</td>\n      <td>[]</td>\n      <td>100</td>\n    </tr>\n  </tbody>\n</table>\n</div>"
     },
     "execution_count": 9,
     "metadata": {},
     "output_type": "execute_result"
    }
   ],
   "source": [
    "def double_age(item):\n",
    "    return item * 2\n",
    "\n",
    "df_people['double_age'] = df_people['age'].apply(double_age)\n",
    "df_people['name'] = df_people['name'].apply(lambda x: x.lower())\n",
    "\n",
    "df_people"
   ]
  },
  {
   "cell_type": "markdown",
   "source": [
    "## CRUD Operations"
   ],
   "metadata": {
    "collapsed": false
   }
  },
  {
   "cell_type": "markdown",
   "source": [
    "#### Combine columns "
   ],
   "metadata": {
    "collapsed": false
   }
  },
  {
   "cell_type": "code",
   "execution_count": 10,
   "outputs": [
    {
     "data": {
      "text/plain": "          name  age  gender is_cool                             hobbies  \\\n0        dipen   29    male   False  [cricket, football, chess, suduko]   \n1        hites   10    male    True          [swiming, travel, reading]   \n2  miles moris   40  female    male                       [chess, walk]   \n3        sunny   50     gay   False                                  []   \n\n   double_age gender_and_age  \n0          58        male 29  \n1          20        male 10  \n2          80      female 40  \n3         100         gay 50  ",
      "text/html": "<div>\n<style scoped>\n    .dataframe tbody tr th:only-of-type {\n        vertical-align: middle;\n    }\n\n    .dataframe tbody tr th {\n        vertical-align: top;\n    }\n\n    .dataframe thead th {\n        text-align: right;\n    }\n</style>\n<table border=\"1\" class=\"dataframe\">\n  <thead>\n    <tr style=\"text-align: right;\">\n      <th></th>\n      <th>name</th>\n      <th>age</th>\n      <th>gender</th>\n      <th>is_cool</th>\n      <th>hobbies</th>\n      <th>double_age</th>\n      <th>gender_and_age</th>\n    </tr>\n  </thead>\n  <tbody>\n    <tr>\n      <th>0</th>\n      <td>dipen</td>\n      <td>29</td>\n      <td>male</td>\n      <td>False</td>\n      <td>[cricket, football, chess, suduko]</td>\n      <td>58</td>\n      <td>male 29</td>\n    </tr>\n    <tr>\n      <th>1</th>\n      <td>hites</td>\n      <td>10</td>\n      <td>male</td>\n      <td>True</td>\n      <td>[swiming, travel, reading]</td>\n      <td>20</td>\n      <td>male 10</td>\n    </tr>\n    <tr>\n      <th>2</th>\n      <td>miles moris</td>\n      <td>40</td>\n      <td>female</td>\n      <td>male</td>\n      <td>[chess, walk]</td>\n      <td>80</td>\n      <td>female 40</td>\n    </tr>\n    <tr>\n      <th>3</th>\n      <td>sunny</td>\n      <td>50</td>\n      <td>gay</td>\n      <td>False</td>\n      <td>[]</td>\n      <td>100</td>\n      <td>gay 50</td>\n    </tr>\n  </tbody>\n</table>\n</div>"
     },
     "execution_count": 10,
     "metadata": {},
     "output_type": "execute_result"
    }
   ],
   "source": [
    "df_people['gender_and_age'] = df_people['gender'] + ' ' + df_people['age'].astype(str)\n",
    "df_people"
   ],
   "metadata": {
    "collapsed": false,
    "ExecuteTime": {
     "end_time": "2023-11-02T04:17:13.332473Z",
     "start_time": "2023-11-02T04:17:13.253961Z"
    }
   }
  },
  {
   "cell_type": "code",
   "execution_count": 11,
   "outputs": [],
   "source": [
    "df_people.drop(columns=['gender','age'], inplace=True)"
   ],
   "metadata": {
    "collapsed": false,
    "ExecuteTime": {
     "end_time": "2023-11-02T04:17:13.332669Z",
     "start_time": "2023-11-02T04:17:13.258293Z"
    }
   }
  },
  {
   "cell_type": "code",
   "execution_count": 12,
   "outputs": [],
   "source": [
    "split_columns = df_people['gender_and_age'].str.split(' ', expand=True)\n",
    "df_people[['gender','age']] = split_columns\n",
    "\n",
    "df_people.drop(columns='gender_and_age',inplace=True)"
   ],
   "metadata": {
    "collapsed": false,
    "ExecuteTime": {
     "end_time": "2023-11-02T04:17:13.332866Z",
     "start_time": "2023-11-02T04:17:13.262995Z"
    }
   }
  },
  {
   "cell_type": "code",
   "execution_count": 13,
   "outputs": [
    {
     "data": {
      "text/plain": "          name is_cool                             hobbies  double_age  \\\n0        dipen   False  [cricket, football, chess, suduko]          58   \n1        hites    True          [swiming, travel, reading]          20   \n2  miles moris    male                       [chess, walk]          80   \n\n   gender age  \n0    male  29  \n1    male  10  \n2  female  40  ",
      "text/html": "<div>\n<style scoped>\n    .dataframe tbody tr th:only-of-type {\n        vertical-align: middle;\n    }\n\n    .dataframe tbody tr th {\n        vertical-align: top;\n    }\n\n    .dataframe thead th {\n        text-align: right;\n    }\n</style>\n<table border=\"1\" class=\"dataframe\">\n  <thead>\n    <tr style=\"text-align: right;\">\n      <th></th>\n      <th>name</th>\n      <th>is_cool</th>\n      <th>hobbies</th>\n      <th>double_age</th>\n      <th>gender</th>\n      <th>age</th>\n    </tr>\n  </thead>\n  <tbody>\n    <tr>\n      <th>0</th>\n      <td>dipen</td>\n      <td>False</td>\n      <td>[cricket, football, chess, suduko]</td>\n      <td>58</td>\n      <td>male</td>\n      <td>29</td>\n    </tr>\n    <tr>\n      <th>1</th>\n      <td>hites</td>\n      <td>True</td>\n      <td>[swiming, travel, reading]</td>\n      <td>20</td>\n      <td>male</td>\n      <td>10</td>\n    </tr>\n    <tr>\n      <th>2</th>\n      <td>miles moris</td>\n      <td>male</td>\n      <td>[chess, walk]</td>\n      <td>80</td>\n      <td>female</td>\n      <td>40</td>\n    </tr>\n  </tbody>\n</table>\n</div>"
     },
     "execution_count": 13,
     "metadata": {},
     "output_type": "execute_result"
    }
   ],
   "source": [
    "# df_people.drop(index=2)\n",
    "\n",
    "row = df_people[df_people['name']=='sunny']\n",
    "\n",
    "df_people.drop(index=row.index)\n"
   ],
   "metadata": {
    "collapsed": false,
    "ExecuteTime": {
     "end_time": "2023-11-02T04:17:13.333284Z",
     "start_time": "2023-11-02T04:17:13.270529Z"
    }
   }
  },
  {
   "cell_type": "code",
   "execution_count": 25,
   "outputs": [],
   "source": [
    "df_people.sort_values(by=['age','name'], ascending=[True, False], inplace=True)"
   ],
   "metadata": {
    "collapsed": false,
    "ExecuteTime": {
     "end_time": "2023-11-02T04:18:10.541291Z",
     "start_time": "2023-11-02T04:18:10.538487Z"
    }
   }
  },
  {
   "cell_type": "code",
   "execution_count": null,
   "outputs": [],
   "source": [],
   "metadata": {
    "collapsed": false
   }
  }
 ],
 "metadata": {
  "kernelspec": {
   "display_name": "venv",
   "language": "python",
   "name": "python3"
  },
  "language_info": {
   "codemirror_mode": {
    "name": "ipython",
    "version": 3
   },
   "file_extension": ".py",
   "mimetype": "text/x-python",
   "name": "python",
   "nbconvert_exporter": "python",
   "pygments_lexer": "ipython3",
   "version": "3.11.6"
  }
 },
 "nbformat": 4,
 "nbformat_minor": 2
}
