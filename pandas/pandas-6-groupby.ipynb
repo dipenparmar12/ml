{
 "cells": [
  {
   "cell_type": "markdown",
   "source": [
    "Source: \n",
    "- https://www.w3resource.com/python-exercises/pandas/groupby/index.php"
   ],
   "metadata": {
    "collapsed": false
   },
   "id": "abd841b8623ec792"
  },
  {
   "cell_type": "code",
   "execution_count": 2,
   "id": "initial_id",
   "metadata": {
    "collapsed": true,
    "ExecuteTime": {
     "end_time": "2023-11-05T06:24:05.392026Z",
     "start_time": "2023-11-05T06:24:00.133165Z"
    }
   },
   "outputs": [],
   "source": [
    "import pandas as pd\n",
    "import numpy as np"
   ]
  },
  {
   "cell_type": "code",
   "execution_count": 4,
   "outputs": [
    {
     "data": {
      "text/plain": "   school_code class            name date_Of_Birth   age  height  weight  \\\nS1        s001     V  Alberto Franco     15/05/2002   12     173      35   \nS2        s002     V    Gino Mcneill     17/05/2002   12     192      32   \nS3        s003    VI     Ryan Parkes     16/02/1999   13     186      33   \nS4        s001    VI    Eesha Hinton     25/09/1998   13     167      30   \nS5        s002     V    Gino Mcneill     11/05/2002   14     151      31   \nS6        s004    VI    David Parkes     15/09/1997   12     159      32   \n\n    address  \nS1  street1  \nS2  street2  \nS3  street3  \nS4  street1  \nS5  street2  \nS6  street4  ",
      "text/html": "<div>\n<style scoped>\n    .dataframe tbody tr th:only-of-type {\n        vertical-align: middle;\n    }\n\n    .dataframe tbody tr th {\n        vertical-align: top;\n    }\n\n    .dataframe thead th {\n        text-align: right;\n    }\n</style>\n<table border=\"1\" class=\"dataframe\">\n  <thead>\n    <tr style=\"text-align: right;\">\n      <th></th>\n      <th>school_code</th>\n      <th>class</th>\n      <th>name</th>\n      <th>date_Of_Birth</th>\n      <th>age</th>\n      <th>height</th>\n      <th>weight</th>\n      <th>address</th>\n    </tr>\n  </thead>\n  <tbody>\n    <tr>\n      <th>S1</th>\n      <td>s001</td>\n      <td>V</td>\n      <td>Alberto Franco</td>\n      <td>15/05/2002</td>\n      <td>12</td>\n      <td>173</td>\n      <td>35</td>\n      <td>street1</td>\n    </tr>\n    <tr>\n      <th>S2</th>\n      <td>s002</td>\n      <td>V</td>\n      <td>Gino Mcneill</td>\n      <td>17/05/2002</td>\n      <td>12</td>\n      <td>192</td>\n      <td>32</td>\n      <td>street2</td>\n    </tr>\n    <tr>\n      <th>S3</th>\n      <td>s003</td>\n      <td>VI</td>\n      <td>Ryan Parkes</td>\n      <td>16/02/1999</td>\n      <td>13</td>\n      <td>186</td>\n      <td>33</td>\n      <td>street3</td>\n    </tr>\n    <tr>\n      <th>S4</th>\n      <td>s001</td>\n      <td>VI</td>\n      <td>Eesha Hinton</td>\n      <td>25/09/1998</td>\n      <td>13</td>\n      <td>167</td>\n      <td>30</td>\n      <td>street1</td>\n    </tr>\n    <tr>\n      <th>S5</th>\n      <td>s002</td>\n      <td>V</td>\n      <td>Gino Mcneill</td>\n      <td>11/05/2002</td>\n      <td>14</td>\n      <td>151</td>\n      <td>31</td>\n      <td>street2</td>\n    </tr>\n    <tr>\n      <th>S6</th>\n      <td>s004</td>\n      <td>VI</td>\n      <td>David Parkes</td>\n      <td>15/09/1997</td>\n      <td>12</td>\n      <td>159</td>\n      <td>32</td>\n      <td>street4</td>\n    </tr>\n  </tbody>\n</table>\n</div>"
     },
     "execution_count": 4,
     "metadata": {},
     "output_type": "execute_result"
    }
   ],
   "source": [
    "student_data = pd.DataFrame({\n",
    "    'school_code': ['s001', 's002', 's003', 's001', 's002', 's004'],\n",
    "    'class': ['V', 'V', 'VI', 'VI', 'V', 'VI'],\n",
    "    'name': ['Alberto Franco', 'Gino Mcneill', 'Ryan Parkes', 'Eesha Hinton', 'Gino Mcneill', 'David Parkes'],\n",
    "    'date_Of_Birth ': ['15/05/2002', '17/05/2002', '16/02/1999', '25/09/1998', '11/05/2002', '15/09/1997'],\n",
    "    'age': [12, 12, 13, 13, 14, 12],\n",
    "    'height': [173, 192, 186, 167, 151, 159],\n",
    "    'weight': [35, 32, 33, 30, 31, 32],\n",
    "    'address': ['street1', 'street2', 'street3', 'street1', 'street2', 'street4']},\n",
    "    index=['S1', 'S2', 'S3', 'S4', 'S5', 'S6'])\n",
    "\n",
    "student_data"
   ],
   "metadata": {
    "collapsed": false,
    "ExecuteTime": {
     "end_time": "2023-11-05T06:24:09.328203Z",
     "start_time": "2023-11-05T06:24:09.322907Z"
    }
   },
   "id": "c294e25205a39e68"
  },
  {
   "cell_type": "markdown",
   "source": [
    "2. Write a Pandas program to split the following dataframe by school code and get mean, min, and max value of age for each school."
   ],
   "metadata": {
    "collapsed": false
   },
   "id": "e0b37501541508c"
  },
  {
   "cell_type": "code",
   "execution_count": 18,
   "outputs": [
    {
     "data": {
      "text/plain": "              age        \n             mean min max\nschool_code              \ns001         12.5  12  13\ns002         13.0  12  14\ns003         13.0  13  13\ns004         12.0  12  12",
      "text/html": "<div>\n<style scoped>\n    .dataframe tbody tr th:only-of-type {\n        vertical-align: middle;\n    }\n\n    .dataframe tbody tr th {\n        vertical-align: top;\n    }\n\n    .dataframe thead tr th {\n        text-align: left;\n    }\n\n    .dataframe thead tr:last-of-type th {\n        text-align: right;\n    }\n</style>\n<table border=\"1\" class=\"dataframe\">\n  <thead>\n    <tr>\n      <th></th>\n      <th colspan=\"3\" halign=\"left\">age</th>\n    </tr>\n    <tr>\n      <th></th>\n      <th>mean</th>\n      <th>min</th>\n      <th>max</th>\n    </tr>\n    <tr>\n      <th>school_code</th>\n      <th></th>\n      <th></th>\n      <th></th>\n    </tr>\n  </thead>\n  <tbody>\n    <tr>\n      <th>s001</th>\n      <td>12.5</td>\n      <td>12</td>\n      <td>13</td>\n    </tr>\n    <tr>\n      <th>s002</th>\n      <td>13.0</td>\n      <td>12</td>\n      <td>14</td>\n    </tr>\n    <tr>\n      <th>s003</th>\n      <td>13.0</td>\n      <td>13</td>\n      <td>13</td>\n    </tr>\n    <tr>\n      <th>s004</th>\n      <td>12.0</td>\n      <td>12</td>\n      <td>12</td>\n    </tr>\n  </tbody>\n</table>\n</div>"
     },
     "execution_count": 18,
     "metadata": {},
     "output_type": "execute_result"
    }
   ],
   "source": [
    "student_data.groupby('school_code').agg({'age': ['mean', 'min', 'max']})\n",
    "# student_data.groupby('school_code')['age'].agg(['min','max','mean'])"
   ],
   "metadata": {
    "collapsed": false,
    "ExecuteTime": {
     "end_time": "2023-11-05T06:27:30.953210Z",
     "start_time": "2023-11-05T06:27:30.947625Z"
    }
   },
   "id": "41b294502a059d57"
  },
  {
   "cell_type": "markdown",
   "source": [
    "3. Write a Pandas program to split the following given dataframe into groups based on school code and class."
   ],
   "metadata": {
    "collapsed": false
   },
   "id": "a58a133fe33094e"
  },
  {
   "cell_type": "code",
   "execution_count": 29,
   "outputs": [
    {
     "name": "stdout",
     "output_type": "stream",
     "text": [
      "\n",
      "Group: ('s001', 'V')\n",
      "   school_code class            name date_Of_Birth   age  height  weight  \\\n",
      "S1        s001     V  Alberto Franco     15/05/2002   12     173      35   \n",
      "\n",
      "    address  \n",
      "S1  street1  \n",
      "\n",
      "Group: ('s001', 'VI')\n",
      "   school_code class          name date_Of_Birth   age  height  weight  \\\n",
      "S4        s001    VI  Eesha Hinton     25/09/1998   13     167      30   \n",
      "\n",
      "    address  \n",
      "S4  street1  \n",
      "\n",
      "Group: ('s002', 'V')\n",
      "   school_code class          name date_Of_Birth   age  height  weight  \\\n",
      "S2        s002     V  Gino Mcneill     17/05/2002   12     192      32   \n",
      "S5        s002     V  Gino Mcneill     11/05/2002   14     151      31   \n",
      "\n",
      "    address  \n",
      "S2  street2  \n",
      "S5  street2  \n",
      "\n",
      "Group: ('s003', 'VI')\n",
      "   school_code class         name date_Of_Birth   age  height  weight  address\n",
      "S3        s003    VI  Ryan Parkes     16/02/1999   13     186      33  street3\n",
      "\n",
      "Group: ('s004', 'VI')\n",
      "   school_code class          name date_Of_Birth   age  height  weight  \\\n",
      "S6        s004    VI  David Parkes     15/09/1997   12     159      32   \n",
      "\n",
      "    address  \n",
      "S6  street4  \n"
     ]
    }
   ],
   "source": [
    "result = student_data.groupby(['school_code', 'class'])\n",
    "for name,group in result:\n",
    "    print(\"\\nGroup: \", end='')\n",
    "    print(name)\n",
    "    print(group)"
   ],
   "metadata": {
    "collapsed": false,
    "ExecuteTime": {
     "end_time": "2023-11-05T06:30:38.853352Z",
     "start_time": "2023-11-05T06:30:38.838083Z"
    }
   },
   "id": "21df1a78aa88ccf9"
  },
  {
   "cell_type": "markdown",
   "source": [],
   "metadata": {
    "collapsed": false
   },
   "id": "30f720ce2ebb907a"
  }
 ],
 "metadata": {
  "kernelspec": {
   "display_name": "Python 3",
   "language": "python",
   "name": "python3"
  },
  "language_info": {
   "codemirror_mode": {
    "name": "ipython",
    "version": 2
   },
   "file_extension": ".py",
   "mimetype": "text/x-python",
   "name": "python",
   "nbconvert_exporter": "python",
   "pygments_lexer": "ipython2",
   "version": "2.7.6"
  }
 },
 "nbformat": 4,
 "nbformat_minor": 5
}
