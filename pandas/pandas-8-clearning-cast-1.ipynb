{
 "cells": [
  {
   "cell_type": "code",
   "execution_count": 1,
   "id": "9ac439348d02dc03",
   "metadata": {
    "ExecuteTime": {
     "end_time": "2023-11-11T07:28:14.882601Z",
     "start_time": "2023-11-11T07:28:14.881106Z"
    },
    "collapsed": false,
    "jupyter": {
     "outputs_hidden": false
    }
   },
   "outputs": [],
   "source": [
    "import pandas as pd\n",
    "import numpy as np"
   ]
  },
  {
   "cell_type": "code",
   "execution_count": 2,
   "id": "5d74afe782ab3460",
   "metadata": {
    "ExecuteTime": {
     "end_time": "2023-11-11T07:29:08.647499Z",
     "start_time": "2023-11-11T07:29:08.466237Z"
    },
    "collapsed": false,
    "jupyter": {
     "outputs_hidden": false
    }
   },
   "outputs": [
    {
     "data": {
      "text/html": [
       "<div>\n",
       "<style scoped>\n",
       "    .dataframe tbody tr th:only-of-type {\n",
       "        vertical-align: middle;\n",
       "    }\n",
       "\n",
       "    .dataframe tbody tr th {\n",
       "        vertical-align: top;\n",
       "    }\n",
       "\n",
       "    .dataframe thead th {\n",
       "        text-align: right;\n",
       "    }\n",
       "</style>\n",
       "<table border=\"1\" class=\"dataframe\">\n",
       "  <thead>\n",
       "    <tr style=\"text-align: right;\">\n",
       "      <th></th>\n",
       "      <th>id</th>\n",
       "      <th>ConvertedCompYearly</th>\n",
       "      <th>Country</th>\n",
       "      <th>Currency</th>\n",
       "      <th>ConvertedCompYearly.1</th>\n",
       "      <th>LanguageHaveWorkedWith</th>\n",
       "      <th>RemoteWork</th>\n",
       "      <th>CompTotal</th>\n",
       "      <th>WorkExp</th>\n",
       "      <th>SOAccount</th>\n",
       "      <th>Employment</th>\n",
       "      <th>YearsCode</th>\n",
       "      <th>YearsCodePro</th>\n",
       "      <th>DevType</th>\n",
       "    </tr>\n",
       "  </thead>\n",
       "  <tbody>\n",
       "    <tr>\n",
       "      <th>0</th>\n",
       "      <td>0</td>\n",
       "      <td>NaN</td>\n",
       "      <td>NaN</td>\n",
       "      <td>NaN</td>\n",
       "      <td>NaN</td>\n",
       "      <td>NaN</td>\n",
       "      <td>NaN</td>\n",
       "      <td>NaN</td>\n",
       "      <td>NaN</td>\n",
       "      <td>NaN</td>\n",
       "      <td>NaN</td>\n",
       "      <td>NaN</td>\n",
       "      <td>NaN</td>\n",
       "      <td>NaN</td>\n",
       "    </tr>\n",
       "    <tr>\n",
       "      <th>1</th>\n",
       "      <td>1</td>\n",
       "      <td>285000.0</td>\n",
       "      <td>United States of America</td>\n",
       "      <td>USD\\tUnited States dollar</td>\n",
       "      <td>285000.0</td>\n",
       "      <td>HTML/CSS;JavaScript;Python</td>\n",
       "      <td>Remote</td>\n",
       "      <td>2.850000e+05</td>\n",
       "      <td>10.0</td>\n",
       "      <td>Yes</td>\n",
       "      <td>Employed, full-time</td>\n",
       "      <td>18</td>\n",
       "      <td>9</td>\n",
       "      <td>Senior Executive (C-Suite, VP, etc.)</td>\n",
       "    </tr>\n",
       "    <tr>\n",
       "      <th>2</th>\n",
       "      <td>2</td>\n",
       "      <td>250000.0</td>\n",
       "      <td>United States of America</td>\n",
       "      <td>USD\\tUnited States dollar</td>\n",
       "      <td>250000.0</td>\n",
       "      <td>Bash/Shell (all shells);Go</td>\n",
       "      <td>Hybrid (some remote, some in-person)</td>\n",
       "      <td>2.500000e+05</td>\n",
       "      <td>23.0</td>\n",
       "      <td>Yes</td>\n",
       "      <td>Employed, full-time</td>\n",
       "      <td>27</td>\n",
       "      <td>23</td>\n",
       "      <td>Developer, back-end</td>\n",
       "    </tr>\n",
       "    <tr>\n",
       "      <th>3</th>\n",
       "      <td>3</td>\n",
       "      <td>156000.0</td>\n",
       "      <td>United States of America</td>\n",
       "      <td>USD\\tUnited States dollar</td>\n",
       "      <td>156000.0</td>\n",
       "      <td>Bash/Shell (all shells);HTML/CSS;JavaScript;PH...</td>\n",
       "      <td>Hybrid (some remote, some in-person)</td>\n",
       "      <td>1.560000e+05</td>\n",
       "      <td>7.0</td>\n",
       "      <td>Yes</td>\n",
       "      <td>Employed, full-time</td>\n",
       "      <td>12</td>\n",
       "      <td>7</td>\n",
       "      <td>Developer, front-end</td>\n",
       "    </tr>\n",
       "    <tr>\n",
       "      <th>4</th>\n",
       "      <td>4</td>\n",
       "      <td>23456.0</td>\n",
       "      <td>Philippines</td>\n",
       "      <td>PHP\\tPhilippine peso</td>\n",
       "      <td>23456.0</td>\n",
       "      <td>HTML/CSS;JavaScript;TypeScript</td>\n",
       "      <td>Remote</td>\n",
       "      <td>1.320000e+06</td>\n",
       "      <td>6.0</td>\n",
       "      <td>No</td>\n",
       "      <td>Employed, full-time;Independent contractor, fr...</td>\n",
       "      <td>6</td>\n",
       "      <td>4</td>\n",
       "      <td>Developer, full-stack</td>\n",
       "    </tr>\n",
       "    <tr>\n",
       "      <th>...</th>\n",
       "      <td>...</td>\n",
       "      <td>...</td>\n",
       "      <td>...</td>\n",
       "      <td>...</td>\n",
       "      <td>...</td>\n",
       "      <td>...</td>\n",
       "      <td>...</td>\n",
       "      <td>...</td>\n",
       "      <td>...</td>\n",
       "      <td>...</td>\n",
       "      <td>...</td>\n",
       "      <td>...</td>\n",
       "      <td>...</td>\n",
       "      <td>...</td>\n",
       "    </tr>\n",
       "    <tr>\n",
       "      <th>89179</th>\n",
       "      <td>89179</td>\n",
       "      <td>NaN</td>\n",
       "      <td>Brazil</td>\n",
       "      <td>BRL\\tBrazilian real</td>\n",
       "      <td>NaN</td>\n",
       "      <td>HTML/CSS;Java;JavaScript;SQL;TypeScript</td>\n",
       "      <td>Remote</td>\n",
       "      <td>2.000000e+05</td>\n",
       "      <td>NaN</td>\n",
       "      <td>Yes</td>\n",
       "      <td>Employed, full-time;Independent contractor, fr...</td>\n",
       "      <td>20</td>\n",
       "      <td>5</td>\n",
       "      <td>Developer, front-end</td>\n",
       "    </tr>\n",
       "    <tr>\n",
       "      <th>89180</th>\n",
       "      <td>89180</td>\n",
       "      <td>NaN</td>\n",
       "      <td>Romania</td>\n",
       "      <td>NaN</td>\n",
       "      <td>NaN</td>\n",
       "      <td>Dart;Java;Python;SQL</td>\n",
       "      <td>Hybrid (some remote, some in-person)</td>\n",
       "      <td>NaN</td>\n",
       "      <td>NaN</td>\n",
       "      <td>Yes</td>\n",
       "      <td>Student, full-time;Employed, part-time</td>\n",
       "      <td>5</td>\n",
       "      <td>NaN</td>\n",
       "      <td>Developer, back-end</td>\n",
       "    </tr>\n",
       "    <tr>\n",
       "      <th>89181</th>\n",
       "      <td>89181</td>\n",
       "      <td>NaN</td>\n",
       "      <td>Israel</td>\n",
       "      <td>NaN</td>\n",
       "      <td>NaN</td>\n",
       "      <td>Assembly;Bash/Shell (all shells);C;C#;Python;R...</td>\n",
       "      <td>NaN</td>\n",
       "      <td>NaN</td>\n",
       "      <td>NaN</td>\n",
       "      <td>NaN</td>\n",
       "      <td>I prefer not to say</td>\n",
       "      <td>10</td>\n",
       "      <td>NaN</td>\n",
       "      <td>NaN</td>\n",
       "    </tr>\n",
       "    <tr>\n",
       "      <th>89182</th>\n",
       "      <td>89182</td>\n",
       "      <td>NaN</td>\n",
       "      <td>Switzerland</td>\n",
       "      <td>NaN</td>\n",
       "      <td>NaN</td>\n",
       "      <td>Bash/Shell (all shells);C#;HTML/CSS;Java;JavaS...</td>\n",
       "      <td>Hybrid (some remote, some in-person)</td>\n",
       "      <td>NaN</td>\n",
       "      <td>NaN</td>\n",
       "      <td>No</td>\n",
       "      <td>Employed, part-time;Student, part-time</td>\n",
       "      <td>3</td>\n",
       "      <td>NaN</td>\n",
       "      <td>System administrator</td>\n",
       "    </tr>\n",
       "    <tr>\n",
       "      <th>89183</th>\n",
       "      <td>89183</td>\n",
       "      <td>NaN</td>\n",
       "      <td>Iran, Islamic Republic of...</td>\n",
       "      <td>IRR\\tIranian rial</td>\n",
       "      <td>NaN</td>\n",
       "      <td>C#;Go;JavaScript;SQL;TypeScript</td>\n",
       "      <td>Hybrid (some remote, some in-person)</td>\n",
       "      <td>3.300000e+09</td>\n",
       "      <td>14.0</td>\n",
       "      <td>Yes</td>\n",
       "      <td>Employed, full-time</td>\n",
       "      <td>17</td>\n",
       "      <td>12</td>\n",
       "      <td>Developer, full-stack</td>\n",
       "    </tr>\n",
       "  </tbody>\n",
       "</table>\n",
       "<p>89184 rows × 14 columns</p>\n",
       "</div>"
      ],
      "text/plain": [
       "          id  ConvertedCompYearly                       Country  \\\n",
       "0          0                  NaN                           NaN   \n",
       "1          1             285000.0      United States of America   \n",
       "2          2             250000.0      United States of America   \n",
       "3          3             156000.0      United States of America   \n",
       "4          4              23456.0                   Philippines   \n",
       "...      ...                  ...                           ...   \n",
       "89179  89179                  NaN                        Brazil   \n",
       "89180  89180                  NaN                       Romania   \n",
       "89181  89181                  NaN                        Israel   \n",
       "89182  89182                  NaN                   Switzerland   \n",
       "89183  89183                  NaN  Iran, Islamic Republic of...   \n",
       "\n",
       "                        Currency  ConvertedCompYearly.1  \\\n",
       "0                            NaN                    NaN   \n",
       "1      USD\\tUnited States dollar               285000.0   \n",
       "2      USD\\tUnited States dollar               250000.0   \n",
       "3      USD\\tUnited States dollar               156000.0   \n",
       "4           PHP\\tPhilippine peso                23456.0   \n",
       "...                          ...                    ...   \n",
       "89179        BRL\\tBrazilian real                    NaN   \n",
       "89180                        NaN                    NaN   \n",
       "89181                        NaN                    NaN   \n",
       "89182                        NaN                    NaN   \n",
       "89183          IRR\\tIranian rial                    NaN   \n",
       "\n",
       "                                  LanguageHaveWorkedWith  \\\n",
       "0                                                    NaN   \n",
       "1                             HTML/CSS;JavaScript;Python   \n",
       "2                             Bash/Shell (all shells);Go   \n",
       "3      Bash/Shell (all shells);HTML/CSS;JavaScript;PH...   \n",
       "4                         HTML/CSS;JavaScript;TypeScript   \n",
       "...                                                  ...   \n",
       "89179            HTML/CSS;Java;JavaScript;SQL;TypeScript   \n",
       "89180                               Dart;Java;Python;SQL   \n",
       "89181  Assembly;Bash/Shell (all shells);C;C#;Python;R...   \n",
       "89182  Bash/Shell (all shells);C#;HTML/CSS;Java;JavaS...   \n",
       "89183                    C#;Go;JavaScript;SQL;TypeScript   \n",
       "\n",
       "                                 RemoteWork     CompTotal  WorkExp SOAccount  \\\n",
       "0                                       NaN           NaN      NaN       NaN   \n",
       "1                                    Remote  2.850000e+05     10.0       Yes   \n",
       "2      Hybrid (some remote, some in-person)  2.500000e+05     23.0       Yes   \n",
       "3      Hybrid (some remote, some in-person)  1.560000e+05      7.0       Yes   \n",
       "4                                    Remote  1.320000e+06      6.0        No   \n",
       "...                                     ...           ...      ...       ...   \n",
       "89179                                Remote  2.000000e+05      NaN       Yes   \n",
       "89180  Hybrid (some remote, some in-person)           NaN      NaN       Yes   \n",
       "89181                                   NaN           NaN      NaN       NaN   \n",
       "89182  Hybrid (some remote, some in-person)           NaN      NaN        No   \n",
       "89183  Hybrid (some remote, some in-person)  3.300000e+09     14.0       Yes   \n",
       "\n",
       "                                              Employment YearsCode  \\\n",
       "0                                                    NaN       NaN   \n",
       "1                                    Employed, full-time        18   \n",
       "2                                    Employed, full-time        27   \n",
       "3                                    Employed, full-time        12   \n",
       "4      Employed, full-time;Independent contractor, fr...         6   \n",
       "...                                                  ...       ...   \n",
       "89179  Employed, full-time;Independent contractor, fr...        20   \n",
       "89180             Student, full-time;Employed, part-time         5   \n",
       "89181                                I prefer not to say        10   \n",
       "89182             Employed, part-time;Student, part-time         3   \n",
       "89183                                Employed, full-time        17   \n",
       "\n",
       "      YearsCodePro                               DevType  \n",
       "0              NaN                                   NaN  \n",
       "1                9  Senior Executive (C-Suite, VP, etc.)  \n",
       "2               23                   Developer, back-end  \n",
       "3                7                  Developer, front-end  \n",
       "4                4                 Developer, full-stack  \n",
       "...            ...                                   ...  \n",
       "89179            5                  Developer, front-end  \n",
       "89180          NaN                   Developer, back-end  \n",
       "89181          NaN                                   NaN  \n",
       "89182          NaN                  System administrator  \n",
       "89183           12                 Developer, full-stack  \n",
       "\n",
       "[89184 rows x 14 columns]"
      ]
     },
     "execution_count": 2,
     "metadata": {},
     "output_type": "execute_result"
    }
   ],
   "source": [
    "df = pd.read_csv('./output_minified.csv')\n",
    "schema = pd.read_csv('./stack-overflow-survey-2023/survey_results_schema.csv')\n",
    "\n",
    "df"
   ]
  },
  {
   "cell_type": "markdown",
   "id": "fa3e3b5540c7f019",
   "metadata": {
    "collapsed": false,
    "jupyter": {
     "outputs_hidden": false
    }
   },
   "source": [
    "**FIX**:  `df['YearsCode'].mean()` TypeError: unsupported operand type(s) for +: 'int' and 'str'"
   ]
  },
  {
   "cell_type": "code",
   "execution_count": 3,
   "id": "2e42b1ba2379f391",
   "metadata": {
    "collapsed": false,
    "jupyter": {
     "outputs_hidden": false
    }
   },
   "outputs": [
    {
     "data": {
      "text/plain": [
       "array([nan, '18', '27', '12', '6', '21', '4', '5', '20', '14', '10', '15',\n",
       "       '11', '3', '24', '8', '13', 'Less than 1 year', '16', '33', '22',\n",
       "       '30', '32', '7', '35', '28', '40', '17', '29', '19',\n",
       "       'More than 50 years', '9', '38', '26', '34', '25', '2', '45', '23',\n",
       "       '31', '43', '1', '48', '41', '50', '39', '42', '37', '36', '44',\n",
       "       '46', '49', '47'], dtype=object)"
      ]
     },
     "execution_count": 3,
     "metadata": {},
     "output_type": "execute_result"
    }
   ],
   "source": [
    "df['YearsCode'].unique()"
   ]
  },
  {
   "cell_type": "code",
   "execution_count": 4,
   "id": "ed21c2ad-fc8c-4766-9aa4-79b9707a1b8a",
   "metadata": {
    "ExecuteTime": {
     "end_time": "2023-11-11T07:46:24.408006Z",
     "start_time": "2023-11-11T07:46:24.404310Z"
    }
   },
   "outputs": [
    {
     "data": {
      "text/plain": [
       "array([nan, 18., 27., 12.,  6., 21.,  4.,  5., 20., 14., 10., 15., 11.,\n",
       "        3., 24.,  8., 13.,  1., 16., 33., 22., 30., 32.,  7., 35., 28.,\n",
       "       40., 17., 29., 19., 51.,  9., 38., 26., 34., 25.,  2., 45., 23.,\n",
       "       31., 43., 48., 41., 50., 39., 42., 37., 36., 44., 46., 49., 47.])"
      ]
     },
     "execution_count": 4,
     "metadata": {},
     "output_type": "execute_result"
    }
   ],
   "source": [
    "df['YearsCode'].replace(['Less than 1 year', 'More than 50 years'], [1, 51], inplace=True)\n",
    "df['YearsCode'] = df['YearsCode'].astype(float)\n",
    "\n",
    "df['YearsCode'].unique()"
   ]
  },
  {
   "cell_type": "code",
   "execution_count": 5,
   "id": "afcd06dbb1b61ce3",
   "metadata": {
    "ExecuteTime": {
     "end_time": "2023-11-11T07:45:08.001855Z",
     "start_time": "2023-11-11T07:45:07.998982Z"
    },
    "collapsed": false,
    "jupyter": {
     "outputs_hidden": false
    }
   },
   "outputs": [
    {
     "data": {
      "text/plain": [
       "13.977926459655745"
      ]
     },
     "execution_count": 5,
     "metadata": {},
     "output_type": "execute_result"
    }
   ],
   "source": [
    "df['YearsCode'].mean()"
   ]
  }
 ],
 "metadata": {
  "kernelspec": {
   "display_name": "Python 3 (ipykernel)",
   "language": "python",
   "name": "python3"
  },
  "language_info": {
   "codemirror_mode": {
    "name": "ipython",
    "version": 3
   },
   "file_extension": ".py",
   "mimetype": "text/x-python",
   "name": "python",
   "nbconvert_exporter": "python",
   "pygments_lexer": "ipython3",
   "version": "3.11.6"
  }
 },
 "nbformat": 4,
 "nbformat_minor": 5
}
