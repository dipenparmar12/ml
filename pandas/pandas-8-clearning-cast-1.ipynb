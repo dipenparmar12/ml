{
 "cells": [
  {
   "cell_type": "code",
   "execution_count": 1,
   "id": "9ac439348d02dc03",
   "metadata": {
    "collapsed": false,
    "ExecuteTime": {
     "end_time": "2023-11-18T05:41:43.921921Z",
     "start_time": "2023-11-18T05:41:41.518540Z"
    }
   },
   "outputs": [],
   "source": [
    "import pandas as pd\n",
    "import numpy as np"
   ]
  },
  {
   "cell_type": "code",
   "execution_count": 2,
   "outputs": [
    {
     "data": {
      "text/plain": "                   Date  Symbol    Open    High     Low   Close      Volume\n0      2020-03-13 08-PM  ETHUSD  129.94  131.82  126.87  128.71  1940673.93\n1      2020-03-13 07-PM  ETHUSD  119.51  132.02  117.10  129.94  7579741.09\n2      2020-03-13 06-PM  ETHUSD  124.47  124.85  115.50  119.51  4898735.81\n3      2020-03-13 05-PM  ETHUSD  124.08  127.42  121.63  124.47  2753450.92\n4      2020-03-13 04-PM  ETHUSD  124.85  129.51  120.17  124.08  4461424.71\n...                 ...     ...     ...     ...     ...     ...         ...\n23669  2017-07-01 03-PM  ETHUSD  265.74  272.74  265.00  272.57  1500282.55\n23670  2017-07-01 02-PM  ETHUSD  268.79  269.90  265.00  265.74  1702536.85\n23671  2017-07-01 01-PM  ETHUSD  274.83  274.93  265.00  268.79  3010787.99\n23672  2017-07-01 12-PM  ETHUSD  275.01  275.01  271.00  274.83   824362.87\n23673  2017-07-01 11-AM  ETHUSD  279.98  279.99  272.10  275.01   679358.87\n\n[23674 rows x 7 columns]",
      "text/html": "<div>\n<style scoped>\n    .dataframe tbody tr th:only-of-type {\n        vertical-align: middle;\n    }\n\n    .dataframe tbody tr th {\n        vertical-align: top;\n    }\n\n    .dataframe thead th {\n        text-align: right;\n    }\n</style>\n<table border=\"1\" class=\"dataframe\">\n  <thead>\n    <tr style=\"text-align: right;\">\n      <th></th>\n      <th>Date</th>\n      <th>Symbol</th>\n      <th>Open</th>\n      <th>High</th>\n      <th>Low</th>\n      <th>Close</th>\n      <th>Volume</th>\n    </tr>\n  </thead>\n  <tbody>\n    <tr>\n      <th>0</th>\n      <td>2020-03-13 08-PM</td>\n      <td>ETHUSD</td>\n      <td>129.94</td>\n      <td>131.82</td>\n      <td>126.87</td>\n      <td>128.71</td>\n      <td>1940673.93</td>\n    </tr>\n    <tr>\n      <th>1</th>\n      <td>2020-03-13 07-PM</td>\n      <td>ETHUSD</td>\n      <td>119.51</td>\n      <td>132.02</td>\n      <td>117.10</td>\n      <td>129.94</td>\n      <td>7579741.09</td>\n    </tr>\n    <tr>\n      <th>2</th>\n      <td>2020-03-13 06-PM</td>\n      <td>ETHUSD</td>\n      <td>124.47</td>\n      <td>124.85</td>\n      <td>115.50</td>\n      <td>119.51</td>\n      <td>4898735.81</td>\n    </tr>\n    <tr>\n      <th>3</th>\n      <td>2020-03-13 05-PM</td>\n      <td>ETHUSD</td>\n      <td>124.08</td>\n      <td>127.42</td>\n      <td>121.63</td>\n      <td>124.47</td>\n      <td>2753450.92</td>\n    </tr>\n    <tr>\n      <th>4</th>\n      <td>2020-03-13 04-PM</td>\n      <td>ETHUSD</td>\n      <td>124.85</td>\n      <td>129.51</td>\n      <td>120.17</td>\n      <td>124.08</td>\n      <td>4461424.71</td>\n    </tr>\n    <tr>\n      <th>...</th>\n      <td>...</td>\n      <td>...</td>\n      <td>...</td>\n      <td>...</td>\n      <td>...</td>\n      <td>...</td>\n      <td>...</td>\n    </tr>\n    <tr>\n      <th>23669</th>\n      <td>2017-07-01 03-PM</td>\n      <td>ETHUSD</td>\n      <td>265.74</td>\n      <td>272.74</td>\n      <td>265.00</td>\n      <td>272.57</td>\n      <td>1500282.55</td>\n    </tr>\n    <tr>\n      <th>23670</th>\n      <td>2017-07-01 02-PM</td>\n      <td>ETHUSD</td>\n      <td>268.79</td>\n      <td>269.90</td>\n      <td>265.00</td>\n      <td>265.74</td>\n      <td>1702536.85</td>\n    </tr>\n    <tr>\n      <th>23671</th>\n      <td>2017-07-01 01-PM</td>\n      <td>ETHUSD</td>\n      <td>274.83</td>\n      <td>274.93</td>\n      <td>265.00</td>\n      <td>268.79</td>\n      <td>3010787.99</td>\n    </tr>\n    <tr>\n      <th>23672</th>\n      <td>2017-07-01 12-PM</td>\n      <td>ETHUSD</td>\n      <td>275.01</td>\n      <td>275.01</td>\n      <td>271.00</td>\n      <td>274.83</td>\n      <td>824362.87</td>\n    </tr>\n    <tr>\n      <th>23673</th>\n      <td>2017-07-01 11-AM</td>\n      <td>ETHUSD</td>\n      <td>279.98</td>\n      <td>279.99</td>\n      <td>272.10</td>\n      <td>275.01</td>\n      <td>679358.87</td>\n    </tr>\n  </tbody>\n</table>\n<p>23674 rows × 7 columns</p>\n</div>"
     },
     "execution_count": 2,
     "metadata": {},
     "output_type": "execute_result"
    }
   ],
   "source": [
    "df = pd.read_csv('./ETH_1h-datetime.csv')\n",
    "df"
   ],
   "metadata": {
    "collapsed": false,
    "ExecuteTime": {
     "end_time": "2023-11-18T05:41:44.358924Z",
     "start_time": "2023-11-18T05:41:43.915121Z"
    }
   },
   "id": "5d74afe782ab3460"
  },
  {
   "cell_type": "code",
   "execution_count": 3,
   "outputs": [
    {
     "ename": "AttributeError",
     "evalue": "'Series' object has no attribute 'day_name'",
     "output_type": "error",
     "traceback": [
      "\u001B[0;31m---------------------------------------------------------------------------\u001B[0m",
      "\u001B[0;31mAttributeError\u001B[0m                            Traceback (most recent call last)",
      "\u001B[0;32m/var/folders/c8/wy8zqpfn5z3_zvhncw54tmr80000gn/T/ipykernel_77291/3241356120.py\u001B[0m in \u001B[0;36m?\u001B[0;34m()\u001B[0m\n\u001B[0;32m----> 1\u001B[0;31m \u001B[0mdf\u001B[0m\u001B[0;34m[\u001B[0m\u001B[0;34m'Date'\u001B[0m\u001B[0;34m]\u001B[0m\u001B[0;34m.\u001B[0m\u001B[0mday_name\u001B[0m\u001B[0;34m(\u001B[0m\u001B[0;34m)\u001B[0m\u001B[0;34m\u001B[0m\u001B[0;34m\u001B[0m\u001B[0m\n\u001B[0m",
      "\u001B[0;32m~/projects/machine-learning/venv/lib/python3.11/site-packages/pandas/core/generic.py\u001B[0m in \u001B[0;36m?\u001B[0;34m(self, name)\u001B[0m\n\u001B[1;32m   6200\u001B[0m             \u001B[0;32mand\u001B[0m \u001B[0mname\u001B[0m \u001B[0;32mnot\u001B[0m \u001B[0;32min\u001B[0m \u001B[0mself\u001B[0m\u001B[0;34m.\u001B[0m\u001B[0m_accessors\u001B[0m\u001B[0;34m\u001B[0m\u001B[0;34m\u001B[0m\u001B[0m\n\u001B[1;32m   6201\u001B[0m             \u001B[0;32mand\u001B[0m \u001B[0mself\u001B[0m\u001B[0;34m.\u001B[0m\u001B[0m_info_axis\u001B[0m\u001B[0;34m.\u001B[0m\u001B[0m_can_hold_identifiers_and_holds_name\u001B[0m\u001B[0;34m(\u001B[0m\u001B[0mname\u001B[0m\u001B[0;34m)\u001B[0m\u001B[0;34m\u001B[0m\u001B[0;34m\u001B[0m\u001B[0m\n\u001B[1;32m   6202\u001B[0m         ):\n\u001B[1;32m   6203\u001B[0m             \u001B[0;32mreturn\u001B[0m \u001B[0mself\u001B[0m\u001B[0;34m[\u001B[0m\u001B[0mname\u001B[0m\u001B[0;34m]\u001B[0m\u001B[0;34m\u001B[0m\u001B[0;34m\u001B[0m\u001B[0m\n\u001B[0;32m-> 6204\u001B[0;31m         \u001B[0;32mreturn\u001B[0m \u001B[0mobject\u001B[0m\u001B[0;34m.\u001B[0m\u001B[0m__getattribute__\u001B[0m\u001B[0;34m(\u001B[0m\u001B[0mself\u001B[0m\u001B[0;34m,\u001B[0m \u001B[0mname\u001B[0m\u001B[0;34m)\u001B[0m\u001B[0;34m\u001B[0m\u001B[0;34m\u001B[0m\u001B[0m\n\u001B[0m",
      "\u001B[0;31mAttributeError\u001B[0m: 'Series' object has no attribute 'day_name'"
     ]
    }
   ],
   "source": [
    "df['Date'].day_name()"
   ],
   "metadata": {
    "collapsed": false,
    "ExecuteTime": {
     "end_time": "2023-11-18T05:41:44.431238Z",
     "start_time": "2023-11-18T05:41:44.351310Z"
    }
   },
   "id": "f0d818612c02ad10"
  },
  {
   "cell_type": "code",
   "execution_count": null,
   "outputs": [],
   "source": [
    "## Somehow not working as expected\n",
    "date_parser = lambda x: pd.datetime.strptime(x, '%Y-%m-%d %I-%p')\n",
    "df_datetime = pd.read_csv('./ETH_1h-datetime.csv', parse_dates=['Date'], date_parser=date_parser)\n",
    "df_datetime\n"
   ],
   "metadata": {
    "collapsed": false,
    "ExecuteTime": {
     "start_time": "2023-11-18T05:41:44.387894Z"
    }
   },
   "id": "4328ee2bd2c0b6bc"
  },
  {
   "cell_type": "code",
   "execution_count": null,
   "outputs": [],
   "source": [
    "df = pd.read_csv('./ETH-USD-2year-datetime.csv')\n",
    "df"
   ],
   "metadata": {
    "collapsed": false,
    "ExecuteTime": {
     "start_time": "2023-11-18T05:41:44.406496Z"
    }
   },
   "id": "4f09d11b6243b1c2"
  },
  {
   "cell_type": "code",
   "execution_count": null,
   "outputs": [],
   "source": [
    "df['Date']"
   ],
   "metadata": {
    "collapsed": false,
    "ExecuteTime": {
     "start_time": "2023-11-18T05:41:44.418053Z"
    }
   },
   "id": "bbb8ff834603f3c0"
  },
  {
   "cell_type": "code",
   "execution_count": null,
   "outputs": [],
   "source": [
    "df['Date'] = pd.to_datetime(df['Date'], format='%Y-%m-%d')\n",
    "df['Date']"
   ],
   "metadata": {
    "collapsed": false,
    "ExecuteTime": {
     "start_time": "2023-11-18T05:41:44.424271Z"
    }
   },
   "id": "97ce0570f035270"
  },
  {
   "cell_type": "code",
   "execution_count": null,
   "outputs": [],
   "source": [
    "df.loc[0, 'Date'].day_name()"
   ],
   "metadata": {
    "collapsed": false,
    "ExecuteTime": {
     "end_time": "2023-11-18T05:41:44.528749Z",
     "start_time": "2023-11-18T05:41:44.438734Z"
    }
   },
   "id": "e6819535301ed41b"
  },
  {
   "cell_type": "code",
   "execution_count": null,
   "outputs": [],
   "source": [
    "df['DayName'] = df['Date'].dt.day_name()\n",
    "df"
   ],
   "metadata": {
    "collapsed": false,
    "ExecuteTime": {
     "start_time": "2023-11-18T05:41:44.456559Z"
    }
   },
   "id": "f9cd8a9188f7466c"
  },
  {
   "cell_type": "code",
   "execution_count": null,
   "outputs": [],
   "source": [
    "df['Date'].min()"
   ],
   "metadata": {
    "collapsed": false,
    "ExecuteTime": {
     "start_time": "2023-11-18T05:41:44.466172Z"
    }
   },
   "id": "1d06e5fde130a4de"
  },
  {
   "cell_type": "code",
   "execution_count": null,
   "outputs": [],
   "source": [
    "df['Date'].max()"
   ],
   "metadata": {
    "collapsed": false,
    "ExecuteTime": {
     "start_time": "2023-11-18T05:41:44.484048Z"
    }
   },
   "id": "cbc5f663f3bc47a8"
  },
  {
   "cell_type": "code",
   "execution_count": null,
   "outputs": [],
   "source": [
    "# date_delta\n",
    "df['Date'].max() - df['Date'].min()"
   ],
   "metadata": {
    "collapsed": false,
    "ExecuteTime": {
     "start_time": "2023-11-18T05:41:44.493950Z"
    }
   },
   "id": "71fafaa2bddfcfe4"
  },
  {
   "cell_type": "code",
   "execution_count": null,
   "outputs": [],
   "source": [
    "date_filter = (df['Date'] > pd.to_datetime('2022-12-31'))\n",
    "\n",
    "df.loc[date_filter]"
   ],
   "metadata": {
    "collapsed": false,
    "ExecuteTime": {
     "start_time": "2023-11-18T05:41:44.509830Z"
    }
   },
   "id": "f7f0dfdab96bbc6a"
  },
  {
   "cell_type": "code",
   "execution_count": null,
   "outputs": [],
   "source": [
    "df.set_index('Date', inplace=True)"
   ],
   "metadata": {
    "collapsed": false,
    "ExecuteTime": {
     "start_time": "2023-11-18T05:41:44.519931Z"
    }
   },
   "id": "7d1a7ebfd9353813"
  },
  {
   "cell_type": "code",
   "execution_count": null,
   "outputs": [],
   "source": [
    "df.loc['2022']"
   ],
   "metadata": {
    "collapsed": false,
    "ExecuteTime": {
     "start_time": "2023-11-18T05:41:44.527972Z"
    }
   },
   "id": "3f7e0e83b3349fc"
  },
  {
   "cell_type": "code",
   "execution_count": null,
   "outputs": [],
   "source": [
    "df.loc['2023-01':'2023-01']"
   ],
   "metadata": {
    "collapsed": false,
    "ExecuteTime": {
     "end_time": "2023-11-18T05:41:44.718368Z",
     "start_time": "2023-11-18T05:41:44.534749Z"
    }
   },
   "id": "9b4b9734019d52fc"
  },
  {
   "cell_type": "code",
   "execution_count": null,
   "outputs": [],
   "source": [
    "df.loc['2023-01':'2023-02']['Close'].mean()"
   ],
   "metadata": {
    "collapsed": false,
    "ExecuteTime": {
     "start_time": "2023-11-18T05:41:44.541840Z"
    }
   },
   "id": "97a909909c1eaed0"
  },
  {
   "cell_type": "code",
   "execution_count": null,
   "outputs": [],
   "source": [
    "df.loc['2023-01-01']['High'].max()"
   ],
   "metadata": {
    "collapsed": false,
    "ExecuteTime": {
     "start_time": "2023-11-18T05:41:44.549922Z"
    }
   },
   "id": "8916ae2abc2ea137"
  },
  {
   "cell_type": "code",
   "execution_count": null,
   "outputs": [],
   "source": [
    "df.loc['2023-01-01']['Low'].max()"
   ],
   "metadata": {
    "collapsed": false,
    "ExecuteTime": {
     "start_time": "2023-11-18T05:41:44.553790Z"
    }
   },
   "id": "71bfb16ec8ab12a6"
  },
  {
   "cell_type": "code",
   "execution_count": null,
   "outputs": [],
   "source": [
    "# GET High values of each day \n",
    "each_day_highs = df['High'].resample(rule='D').max()\n",
    "\n",
    "# - df['High']: This selects the 'High' column from the DataFrame df.\n",
    "# - resample(): This is a method applied to a time series, typically a column with a datetime index. It allows you to change the frequency of the data.\n",
    "\n",
    "# - 'D' is the resampling rule, indicating daily frequency. \n",
    "# You can use various frequency strings like 'D' for day, 'H' for hour, 'W' for week, etc.\n",
    "# Ref: https://pandas.pydata.org/pandas-docs/stable/user_guide/timeseries.html#dateoffset-objects\n",
    "\n",
    "\n",
    "# - mean() is an aggregation function that specifies how to handle the values in each new time bucket. \n",
    "# In this case, it calculates the mean of the values in each daily bucket.\n",
    "\n",
    "each_day_highs"
   ],
   "metadata": {
    "collapsed": false,
    "ExecuteTime": {
     "start_time": "2023-11-18T05:41:44.559347Z"
    }
   },
   "id": "cb093f6a61bdd161"
  },
  {
   "cell_type": "code",
   "execution_count": null,
   "outputs": [],
   "source": [
    "%matplotlib inline"
   ],
   "metadata": {
    "collapsed": false,
    "ExecuteTime": {
     "start_time": "2023-11-18T05:41:44.564471Z"
    }
   },
   "id": "a27c24f1a98ef3bc"
  },
  {
   "cell_type": "code",
   "execution_count": null,
   "outputs": [],
   "source": [
    "each_day_highs.plot()"
   ],
   "metadata": {
    "collapsed": false,
    "ExecuteTime": {
     "start_time": "2023-11-18T05:41:44.567972Z"
    }
   },
   "id": "96f26fe2f8d86dbb"
  },
  {
   "cell_type": "code",
   "execution_count": null,
   "outputs": [],
   "source": [
    "df.resample(rule='W').agg({'High': 'max', 'Low': 'min', 'Close': 'mean', 'Volume': 'sum'})\n",
    "\n",
    "# - resample(rule='W'): This part is resampling the DataFrame based on a weekly frequency ('W' stands for weekly). \n",
    "# It groups the data into weekly bins.\n",
    "\n",
    "# - agg({'High': 'max', 'Low': 'min', 'Close': 'mean', 'Volume': 'sum'}): \n",
    "# This is using the .agg method to specify different aggregation functions for each column.\n",
    "\n",
    "# - 'High': 'max': For the 'High' column, it calculates the maximum value within each weekly bin.\n",
    "# - 'Low': 'min': For the 'Low' column, it calculates the minimum value within each weekly bin.\n",
    "# - 'Close': 'mean': For the 'Close' column, it calculates the mean (average) value within each weekly bin.\n",
    "# - 'Volume': 'sum': For the 'Volume' column, it calculates the sum of values within each weekly bin."
   ],
   "metadata": {
    "collapsed": false,
    "ExecuteTime": {
     "start_time": "2023-11-18T05:41:44.572825Z"
    }
   },
   "id": "264a78389a938252"
  },
  {
   "cell_type": "code",
   "execution_count": null,
   "outputs": [],
   "source": [
    "import matplotlib.pyplot as plt\n",
    "resampled_data = df.resample(rule='M').agg({'High': 'max', 'Low': 'min', 'Close': 'mean', 'Volume': 'sum'})\n",
    "\n",
    "# Plotting\n",
    "plt.figure(figsize=(10, 6))\n",
    "\n",
    "# High values\n",
    "plt.plot(resampled_data.index, resampled_data['High'], label='High', marker='')\n",
    "\n",
    "# Low values\n",
    "plt.plot(resampled_data.index, resampled_data['Low'], label='Low', marker='')\n",
    "\n",
    "# Close values\n",
    "plt.plot(resampled_data.index, resampled_data['Close'], label='Close', marker='')\n",
    "\n",
    "# Adding labels and title\n",
    "plt.xlabel('Month')\n",
    "plt.ylabel('Values')\n",
    "plt.title('Monthly Resampled Data')\n",
    "plt.legend()\n",
    "plt.grid(True)\n",
    "plt.show()"
   ],
   "metadata": {
    "collapsed": false,
    "ExecuteTime": {
     "start_time": "2023-11-18T05:41:44.578167Z"
    }
   },
   "id": "58c5d32ed17a00b6"
  },
  {
   "cell_type": "code",
   "execution_count": null,
   "outputs": [],
   "source": [],
   "metadata": {
    "collapsed": false,
    "ExecuteTime": {
     "start_time": "2023-11-18T05:41:44.584227Z"
    }
   },
   "id": "7c90b0f916dfc86b"
  }
 ],
 "metadata": {
  "kernelspec": {
   "display_name": "Python 3 (ipykernel)",
   "language": "python",
   "name": "python3"
  },
  "language_info": {
   "codemirror_mode": {
    "name": "ipython",
    "version": 3
   },
   "file_extension": ".py",
   "mimetype": "text/x-python",
   "name": "python",
   "nbconvert_exporter": "python",
   "pygments_lexer": "ipython3",
   "version": "3.11.6"
  }
 },
 "nbformat": 4,
 "nbformat_minor": 5
}
