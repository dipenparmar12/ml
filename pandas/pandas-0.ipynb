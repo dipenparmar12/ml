{
 "cells": [
  {
   "cell_type": "markdown",
   "metadata": {},
   "source": [
    "### Tutorial reference \n",
    "https://youtu.be/tRKeLrwfUgU?si=5VMUyl1QB9XU1kcn"
   ]
  },
  {
   "cell_type": "code",
   "execution_count": 1,
   "metadata": {
    "ExecuteTime": {
     "end_time": "2024-02-21T06:30:39.978589Z",
     "start_time": "2024-02-21T06:30:39.677860Z"
    }
   },
   "outputs": [],
   "source": [
    "import pandas as pd"
   ]
  },
  {
   "cell_type": "code",
   "execution_count": 2,
   "metadata": {
    "ExecuteTime": {
     "end_time": "2024-02-21T06:30:39.998322Z",
     "start_time": "2024-02-21T06:30:39.980081Z"
    }
   },
   "outputs": [
    {
     "data": {
      "text/plain": "     State  Account length  Area code International plan Voice mail plan  \\\n3328    AZ             192        415                 No             Yes   \n3329    WV              68        415                 No              No   \n3330    RI              28        510                 No              No   \n3331    CT             184        510                Yes              No   \n3332    TN              74        415                 No             Yes   \n\n      Number vmail messages  Total day minutes  Total day calls  \\\n3328                     36              156.2             77.0   \n3329                      0              231.1             57.0   \n3330                      0              180.8            109.0   \n3331                      0              213.8            105.0   \n3332                     25              234.4            113.0   \n\n      Total day charge  Total eve minutes  Total eve calls  Total eve charge  \\\n3328             26.55              215.5            126.0             18.32   \n3329             39.29              153.4             55.0             13.04   \n3330             30.74              288.8             58.0             24.55   \n3331             36.35              159.6             84.0             13.57   \n3332             39.85              265.9             82.0             22.60   \n\n      Total night minutes  Total night calls  Total night charge  \\\n3328                279.1               83.0               12.56   \n3329                191.3              123.0                8.61   \n3330                191.9               91.0                8.64   \n3331                139.2              137.0                6.26   \n3332                241.4               77.0               10.86   \n\n      Total intl minutes  Total intl calls  Total intl charge  \\\n3328                 9.9                 6               2.67   \n3329                 9.6                 4               2.59   \n3330                14.1                 6               3.81   \n3331                 5.0                10               1.35   \n3332                13.7                 4               3.70   \n\n      Customer service calls  Churn  \n3328                     2.0  False  \n3329                     3.0  False  \n3330                     2.0  False  \n3331                     2.0  False  \n3332                     0.0  False  ",
      "text/html": "<div>\n<style scoped>\n    .dataframe tbody tr th:only-of-type {\n        vertical-align: middle;\n    }\n\n    .dataframe tbody tr th {\n        vertical-align: top;\n    }\n\n    .dataframe thead th {\n        text-align: right;\n    }\n</style>\n<table border=\"1\" class=\"dataframe\">\n  <thead>\n    <tr style=\"text-align: right;\">\n      <th></th>\n      <th>State</th>\n      <th>Account length</th>\n      <th>Area code</th>\n      <th>International plan</th>\n      <th>Voice mail plan</th>\n      <th>Number vmail messages</th>\n      <th>Total day minutes</th>\n      <th>Total day calls</th>\n      <th>Total day charge</th>\n      <th>Total eve minutes</th>\n      <th>Total eve calls</th>\n      <th>Total eve charge</th>\n      <th>Total night minutes</th>\n      <th>Total night calls</th>\n      <th>Total night charge</th>\n      <th>Total intl minutes</th>\n      <th>Total intl calls</th>\n      <th>Total intl charge</th>\n      <th>Customer service calls</th>\n      <th>Churn</th>\n    </tr>\n  </thead>\n  <tbody>\n    <tr>\n      <th>3328</th>\n      <td>AZ</td>\n      <td>192</td>\n      <td>415</td>\n      <td>No</td>\n      <td>Yes</td>\n      <td>36</td>\n      <td>156.2</td>\n      <td>77.0</td>\n      <td>26.55</td>\n      <td>215.5</td>\n      <td>126.0</td>\n      <td>18.32</td>\n      <td>279.1</td>\n      <td>83.0</td>\n      <td>12.56</td>\n      <td>9.9</td>\n      <td>6</td>\n      <td>2.67</td>\n      <td>2.0</td>\n      <td>False</td>\n    </tr>\n    <tr>\n      <th>3329</th>\n      <td>WV</td>\n      <td>68</td>\n      <td>415</td>\n      <td>No</td>\n      <td>No</td>\n      <td>0</td>\n      <td>231.1</td>\n      <td>57.0</td>\n      <td>39.29</td>\n      <td>153.4</td>\n      <td>55.0</td>\n      <td>13.04</td>\n      <td>191.3</td>\n      <td>123.0</td>\n      <td>8.61</td>\n      <td>9.6</td>\n      <td>4</td>\n      <td>2.59</td>\n      <td>3.0</td>\n      <td>False</td>\n    </tr>\n    <tr>\n      <th>3330</th>\n      <td>RI</td>\n      <td>28</td>\n      <td>510</td>\n      <td>No</td>\n      <td>No</td>\n      <td>0</td>\n      <td>180.8</td>\n      <td>109.0</td>\n      <td>30.74</td>\n      <td>288.8</td>\n      <td>58.0</td>\n      <td>24.55</td>\n      <td>191.9</td>\n      <td>91.0</td>\n      <td>8.64</td>\n      <td>14.1</td>\n      <td>6</td>\n      <td>3.81</td>\n      <td>2.0</td>\n      <td>False</td>\n    </tr>\n    <tr>\n      <th>3331</th>\n      <td>CT</td>\n      <td>184</td>\n      <td>510</td>\n      <td>Yes</td>\n      <td>No</td>\n      <td>0</td>\n      <td>213.8</td>\n      <td>105.0</td>\n      <td>36.35</td>\n      <td>159.6</td>\n      <td>84.0</td>\n      <td>13.57</td>\n      <td>139.2</td>\n      <td>137.0</td>\n      <td>6.26</td>\n      <td>5.0</td>\n      <td>10</td>\n      <td>1.35</td>\n      <td>2.0</td>\n      <td>False</td>\n    </tr>\n    <tr>\n      <th>3332</th>\n      <td>TN</td>\n      <td>74</td>\n      <td>415</td>\n      <td>No</td>\n      <td>Yes</td>\n      <td>25</td>\n      <td>234.4</td>\n      <td>113.0</td>\n      <td>39.85</td>\n      <td>265.9</td>\n      <td>82.0</td>\n      <td>22.60</td>\n      <td>241.4</td>\n      <td>77.0</td>\n      <td>10.86</td>\n      <td>13.7</td>\n      <td>4</td>\n      <td>3.70</td>\n      <td>0.0</td>\n      <td>False</td>\n    </tr>\n  </tbody>\n</table>\n</div>"
     },
     "execution_count": 2,
     "metadata": {},
     "output_type": "execute_result"
    }
   ],
   "source": [
    "df = pd.read_csv('teclo_churn.csv')\n",
    "\n",
    "## read starting,ending rows, \n",
    "df.head()\n",
    "df.tail()"
   ]
  },
  {
   "cell_type": "code",
   "execution_count": 3,
   "metadata": {
    "ExecuteTime": {
     "end_time": "2024-02-21T06:30:40.006377Z",
     "start_time": "2024-02-21T06:30:39.997965Z"
    }
   },
   "outputs": [
    {
     "data": {
      "text/plain": "Index(['State', 'Account length', 'Area code', 'International plan',\n       'Voice mail plan', 'Number vmail messages', 'Total day minutes',\n       'Total day calls', 'Total day charge', 'Total eve minutes',\n       'Total eve calls', 'Total eve charge', 'Total night minutes',\n       'Total night calls', 'Total night charge', 'Total intl minutes',\n       'Total intl calls', 'Total intl charge', 'Customer service calls',\n       'Churn'],\n      dtype='object')"
     },
     "execution_count": 3,
     "metadata": {},
     "output_type": "execute_result"
    }
   ],
   "source": [
    "df.columns"
   ]
  },
  {
   "cell_type": "code",
   "execution_count": 4,
   "metadata": {
    "ExecuteTime": {
     "end_time": "2024-02-21T06:30:40.011599Z",
     "start_time": "2024-02-21T06:30:40.002005Z"
    }
   },
   "outputs": [
    {
     "data": {
      "text/plain": "State                      object\nAccount length              int64\nArea code                   int64\nInternational plan         object\nVoice mail plan            object\nNumber vmail messages       int64\nTotal day minutes         float64\nTotal day calls           float64\nTotal day charge          float64\nTotal eve minutes         float64\nTotal eve calls           float64\nTotal eve charge          float64\nTotal night minutes       float64\nTotal night calls         float64\nTotal night charge        float64\nTotal intl minutes        float64\nTotal intl calls            int64\nTotal intl charge         float64\nCustomer service calls    float64\nChurn                      object\ndtype: object"
     },
     "execution_count": 4,
     "metadata": {},
     "output_type": "execute_result"
    }
   ],
   "source": [
    "df.dtypes"
   ]
  },
  {
   "cell_type": "code",
   "execution_count": 5,
   "metadata": {
    "ExecuteTime": {
     "end_time": "2024-02-21T06:30:40.044920Z",
     "start_time": "2024-02-21T06:30:40.006951Z"
    }
   },
   "outputs": [
    {
     "data": {
      "text/plain": "       Account length    Area code  Number vmail messages  Total day minutes  \\\ncount     3333.000000  3333.000000            3333.000000        3323.000000   \nmean       101.064806   437.182418               8.099010         179.787150   \nstd         39.822106    42.371290              13.688365          54.419625   \nmin          1.000000   408.000000               0.000000           0.000000   \n25%         74.000000   408.000000               0.000000         143.700000   \n50%        101.000000   415.000000               0.000000         179.400000   \n75%        127.000000   510.000000              20.000000         216.500000   \nmax        243.000000   510.000000              51.000000         350.800000   \n\n       Total day calls  Total day charge  Total eve minutes  Total eve calls  \\\ncount      3323.000000       3315.000000        3324.000000      3325.000000   \nmean        100.456214         30.557831         201.033935       100.110677   \nstd          20.057356          9.255987          50.676652        19.932115   \nmin           0.000000          0.000000           0.000000         0.000000   \n25%          87.000000         24.420000         166.600000        87.000000   \n50%         101.000000         30.500000         201.400000       100.000000   \n75%         114.000000         36.780000         235.325000       114.000000   \nmax         165.000000         59.640000         363.700000       170.000000   \n\n       Total eve charge  Total night minutes  Total night calls  \\\ncount       3333.000000          3333.000000        3332.000000   \nmean          17.083540           200.872037         100.115246   \nstd            4.310668            50.573847          19.566710   \nmin            0.000000            23.200000          33.000000   \n25%           14.160000           167.000000          87.000000   \n50%           17.120000           201.200000         100.000000   \n75%           20.000000           235.300000         113.000000   \nmax           30.910000           395.000000         175.000000   \n\n       Total night charge  Total intl minutes  Total intl calls  \\\ncount         3333.000000         3333.000000       3333.000000   \nmean             9.039325           10.237294          4.479448   \nstd              2.275873            2.791840          2.461214   \nmin              1.040000            0.000000          0.000000   \n25%              7.520000            8.500000          3.000000   \n50%              9.050000           10.300000          4.000000   \n75%             10.590000           12.100000          6.000000   \nmax             17.770000           20.000000         20.000000   \n\n       Total intl charge  Customer service calls  \ncount        3328.000000             3328.000000  \nmean            2.764588                1.563101  \nstd             0.754086                1.315870  \nmin             0.000000                0.000000  \n25%             2.300000                1.000000  \n50%             2.780000                1.000000  \n75%             3.270000                2.000000  \nmax             5.400000                9.000000  ",
      "text/html": "<div>\n<style scoped>\n    .dataframe tbody tr th:only-of-type {\n        vertical-align: middle;\n    }\n\n    .dataframe tbody tr th {\n        vertical-align: top;\n    }\n\n    .dataframe thead th {\n        text-align: right;\n    }\n</style>\n<table border=\"1\" class=\"dataframe\">\n  <thead>\n    <tr style=\"text-align: right;\">\n      <th></th>\n      <th>Account length</th>\n      <th>Area code</th>\n      <th>Number vmail messages</th>\n      <th>Total day minutes</th>\n      <th>Total day calls</th>\n      <th>Total day charge</th>\n      <th>Total eve minutes</th>\n      <th>Total eve calls</th>\n      <th>Total eve charge</th>\n      <th>Total night minutes</th>\n      <th>Total night calls</th>\n      <th>Total night charge</th>\n      <th>Total intl minutes</th>\n      <th>Total intl calls</th>\n      <th>Total intl charge</th>\n      <th>Customer service calls</th>\n    </tr>\n  </thead>\n  <tbody>\n    <tr>\n      <th>count</th>\n      <td>3333.000000</td>\n      <td>3333.000000</td>\n      <td>3333.000000</td>\n      <td>3323.000000</td>\n      <td>3323.000000</td>\n      <td>3315.000000</td>\n      <td>3324.000000</td>\n      <td>3325.000000</td>\n      <td>3333.000000</td>\n      <td>3333.000000</td>\n      <td>3332.000000</td>\n      <td>3333.000000</td>\n      <td>3333.000000</td>\n      <td>3333.000000</td>\n      <td>3328.000000</td>\n      <td>3328.000000</td>\n    </tr>\n    <tr>\n      <th>mean</th>\n      <td>101.064806</td>\n      <td>437.182418</td>\n      <td>8.099010</td>\n      <td>179.787150</td>\n      <td>100.456214</td>\n      <td>30.557831</td>\n      <td>201.033935</td>\n      <td>100.110677</td>\n      <td>17.083540</td>\n      <td>200.872037</td>\n      <td>100.115246</td>\n      <td>9.039325</td>\n      <td>10.237294</td>\n      <td>4.479448</td>\n      <td>2.764588</td>\n      <td>1.563101</td>\n    </tr>\n    <tr>\n      <th>std</th>\n      <td>39.822106</td>\n      <td>42.371290</td>\n      <td>13.688365</td>\n      <td>54.419625</td>\n      <td>20.057356</td>\n      <td>9.255987</td>\n      <td>50.676652</td>\n      <td>19.932115</td>\n      <td>4.310668</td>\n      <td>50.573847</td>\n      <td>19.566710</td>\n      <td>2.275873</td>\n      <td>2.791840</td>\n      <td>2.461214</td>\n      <td>0.754086</td>\n      <td>1.315870</td>\n    </tr>\n    <tr>\n      <th>min</th>\n      <td>1.000000</td>\n      <td>408.000000</td>\n      <td>0.000000</td>\n      <td>0.000000</td>\n      <td>0.000000</td>\n      <td>0.000000</td>\n      <td>0.000000</td>\n      <td>0.000000</td>\n      <td>0.000000</td>\n      <td>23.200000</td>\n      <td>33.000000</td>\n      <td>1.040000</td>\n      <td>0.000000</td>\n      <td>0.000000</td>\n      <td>0.000000</td>\n      <td>0.000000</td>\n    </tr>\n    <tr>\n      <th>25%</th>\n      <td>74.000000</td>\n      <td>408.000000</td>\n      <td>0.000000</td>\n      <td>143.700000</td>\n      <td>87.000000</td>\n      <td>24.420000</td>\n      <td>166.600000</td>\n      <td>87.000000</td>\n      <td>14.160000</td>\n      <td>167.000000</td>\n      <td>87.000000</td>\n      <td>7.520000</td>\n      <td>8.500000</td>\n      <td>3.000000</td>\n      <td>2.300000</td>\n      <td>1.000000</td>\n    </tr>\n    <tr>\n      <th>50%</th>\n      <td>101.000000</td>\n      <td>415.000000</td>\n      <td>0.000000</td>\n      <td>179.400000</td>\n      <td>101.000000</td>\n      <td>30.500000</td>\n      <td>201.400000</td>\n      <td>100.000000</td>\n      <td>17.120000</td>\n      <td>201.200000</td>\n      <td>100.000000</td>\n      <td>9.050000</td>\n      <td>10.300000</td>\n      <td>4.000000</td>\n      <td>2.780000</td>\n      <td>1.000000</td>\n    </tr>\n    <tr>\n      <th>75%</th>\n      <td>127.000000</td>\n      <td>510.000000</td>\n      <td>20.000000</td>\n      <td>216.500000</td>\n      <td>114.000000</td>\n      <td>36.780000</td>\n      <td>235.325000</td>\n      <td>114.000000</td>\n      <td>20.000000</td>\n      <td>235.300000</td>\n      <td>113.000000</td>\n      <td>10.590000</td>\n      <td>12.100000</td>\n      <td>6.000000</td>\n      <td>3.270000</td>\n      <td>2.000000</td>\n    </tr>\n    <tr>\n      <th>max</th>\n      <td>243.000000</td>\n      <td>510.000000</td>\n      <td>51.000000</td>\n      <td>350.800000</td>\n      <td>165.000000</td>\n      <td>59.640000</td>\n      <td>363.700000</td>\n      <td>170.000000</td>\n      <td>30.910000</td>\n      <td>395.000000</td>\n      <td>175.000000</td>\n      <td>17.770000</td>\n      <td>20.000000</td>\n      <td>20.000000</td>\n      <td>5.400000</td>\n      <td>9.000000</td>\n    </tr>\n  </tbody>\n</table>\n</div>"
     },
     "execution_count": 5,
     "metadata": {},
     "output_type": "execute_result"
    }
   ],
   "source": [
    "df.describe()\n",
    "## GET details like\n",
    "# count, mean, std, min, max etc."
   ]
  },
  {
   "cell_type": "code",
   "execution_count": 6,
   "metadata": {
    "ExecuteTime": {
     "end_time": "2024-02-21T06:30:40.045598Z",
     "start_time": "2024-02-21T06:30:40.032893Z"
    }
   },
   "outputs": [
    {
     "data": {
      "text/plain": "  State  Account length  Area code International plan Voice mail plan  \\\n0    KS             128        415                 No             Yes   \n1    OH             107        415                 No             Yes   \n2    NJ             137        415                 No              No   \n3    OH              84        408                Yes              No   \n4    OK              75        415                Yes              No   \n\n   Number vmail messages  Total day minutes  Total day calls  \\\n0                     25              265.1            110.0   \n1                     26              161.6            123.0   \n2                      0              243.4            114.0   \n3                      0              299.4             71.0   \n4                      0              166.7            113.0   \n\n   Total day charge  Total eve minutes  Total eve calls  Total eve charge  \\\n0             45.07              197.4             99.0             16.78   \n1             27.47              195.5            103.0             16.62   \n2             41.38              121.2            110.0             10.30   \n3             50.90               61.9             88.0              5.26   \n4             28.34              148.3            122.0             12.61   \n\n   Total night minutes  Total night calls  Total night charge  \\\n0                244.7               91.0               11.01   \n1                254.4              103.0               11.45   \n2                162.6              104.0                7.32   \n3                196.9               89.0                8.86   \n4                186.9              121.0                8.41   \n\n   Total intl minutes  Total intl calls  Total intl charge  \\\n0                10.0                 3               2.70   \n1                13.7                 3               3.70   \n2                12.2                 5               3.29   \n3                 6.6                 7               1.78   \n4                10.1                 3               2.73   \n\n   Customer service calls  Churn  \n0                     1.0  False  \n1                     1.0  False  \n2                     0.0  False  \n3                     2.0  False  \n4                     3.0  False  ",
      "text/html": "<div>\n<style scoped>\n    .dataframe tbody tr th:only-of-type {\n        vertical-align: middle;\n    }\n\n    .dataframe tbody tr th {\n        vertical-align: top;\n    }\n\n    .dataframe thead th {\n        text-align: right;\n    }\n</style>\n<table border=\"1\" class=\"dataframe\">\n  <thead>\n    <tr style=\"text-align: right;\">\n      <th></th>\n      <th>State</th>\n      <th>Account length</th>\n      <th>Area code</th>\n      <th>International plan</th>\n      <th>Voice mail plan</th>\n      <th>Number vmail messages</th>\n      <th>Total day minutes</th>\n      <th>Total day calls</th>\n      <th>Total day charge</th>\n      <th>Total eve minutes</th>\n      <th>Total eve calls</th>\n      <th>Total eve charge</th>\n      <th>Total night minutes</th>\n      <th>Total night calls</th>\n      <th>Total night charge</th>\n      <th>Total intl minutes</th>\n      <th>Total intl calls</th>\n      <th>Total intl charge</th>\n      <th>Customer service calls</th>\n      <th>Churn</th>\n    </tr>\n  </thead>\n  <tbody>\n    <tr>\n      <th>0</th>\n      <td>KS</td>\n      <td>128</td>\n      <td>415</td>\n      <td>No</td>\n      <td>Yes</td>\n      <td>25</td>\n      <td>265.1</td>\n      <td>110.0</td>\n      <td>45.07</td>\n      <td>197.4</td>\n      <td>99.0</td>\n      <td>16.78</td>\n      <td>244.7</td>\n      <td>91.0</td>\n      <td>11.01</td>\n      <td>10.0</td>\n      <td>3</td>\n      <td>2.70</td>\n      <td>1.0</td>\n      <td>False</td>\n    </tr>\n    <tr>\n      <th>1</th>\n      <td>OH</td>\n      <td>107</td>\n      <td>415</td>\n      <td>No</td>\n      <td>Yes</td>\n      <td>26</td>\n      <td>161.6</td>\n      <td>123.0</td>\n      <td>27.47</td>\n      <td>195.5</td>\n      <td>103.0</td>\n      <td>16.62</td>\n      <td>254.4</td>\n      <td>103.0</td>\n      <td>11.45</td>\n      <td>13.7</td>\n      <td>3</td>\n      <td>3.70</td>\n      <td>1.0</td>\n      <td>False</td>\n    </tr>\n    <tr>\n      <th>2</th>\n      <td>NJ</td>\n      <td>137</td>\n      <td>415</td>\n      <td>No</td>\n      <td>No</td>\n      <td>0</td>\n      <td>243.4</td>\n      <td>114.0</td>\n      <td>41.38</td>\n      <td>121.2</td>\n      <td>110.0</td>\n      <td>10.30</td>\n      <td>162.6</td>\n      <td>104.0</td>\n      <td>7.32</td>\n      <td>12.2</td>\n      <td>5</td>\n      <td>3.29</td>\n      <td>0.0</td>\n      <td>False</td>\n    </tr>\n    <tr>\n      <th>3</th>\n      <td>OH</td>\n      <td>84</td>\n      <td>408</td>\n      <td>Yes</td>\n      <td>No</td>\n      <td>0</td>\n      <td>299.4</td>\n      <td>71.0</td>\n      <td>50.90</td>\n      <td>61.9</td>\n      <td>88.0</td>\n      <td>5.26</td>\n      <td>196.9</td>\n      <td>89.0</td>\n      <td>8.86</td>\n      <td>6.6</td>\n      <td>7</td>\n      <td>1.78</td>\n      <td>2.0</td>\n      <td>False</td>\n    </tr>\n    <tr>\n      <th>4</th>\n      <td>OK</td>\n      <td>75</td>\n      <td>415</td>\n      <td>Yes</td>\n      <td>No</td>\n      <td>0</td>\n      <td>166.7</td>\n      <td>113.0</td>\n      <td>28.34</td>\n      <td>148.3</td>\n      <td>122.0</td>\n      <td>12.61</td>\n      <td>186.9</td>\n      <td>121.0</td>\n      <td>8.41</td>\n      <td>10.1</td>\n      <td>3</td>\n      <td>2.73</td>\n      <td>3.0</td>\n      <td>False</td>\n    </tr>\n  </tbody>\n</table>\n</div>"
     },
     "execution_count": 6,
     "metadata": {},
     "output_type": "execute_result"
    }
   ],
   "source": [
    "df.head()"
   ]
  },
  {
   "cell_type": "code",
   "execution_count": 7,
   "metadata": {
    "ExecuteTime": {
     "end_time": "2024-02-21T06:30:40.046233Z",
     "start_time": "2024-02-21T06:30:40.037171Z"
    }
   },
   "outputs": [
    {
     "data": {
      "text/plain": "0       KS\n1       OH\n2       NJ\n3       OH\n4       OK\n        ..\n3328    AZ\n3329    WV\n3330    RI\n3331    CT\n3332    TN\nName: State, Length: 3333, dtype: object"
     },
     "execution_count": 7,
     "metadata": {},
     "output_type": "execute_result"
    }
   ],
   "source": [
    "df['State']\n",
    "# df['column_name']\n"
   ]
  },
  {
   "cell_type": "code",
   "execution_count": 8,
   "metadata": {
    "ExecuteTime": {
     "end_time": "2024-02-21T06:30:40.046757Z",
     "start_time": "2024-02-21T06:30:40.041025Z"
    }
   },
   "outputs": [
    {
     "data": {
      "text/plain": "array(['KS', 'OH', 'NJ', 'OK', 'AL', 'MA', 'MO', 'LA', 'WV', 'IN', 'RI',\n       'IA', 'MT', 'NY', 'ID', 'VT', 'VA', 'TX', 'FL', 'CO', 'AZ', 'SC',\n       'NE', 'WY', 'HI', 'IL', 'NH', 'GA', 'AK', 'MD', 'AR', 'WI', 'OR',\n       'MI', 'DE', 'UT', 'CA', 'MN', 'SD', 'NC', 'WA', 'NM', 'NV', 'DC',\n       'KY', 'ME', 'MS', 'TN', 'PA', 'CT', 'ND'], dtype=object)"
     },
     "execution_count": 8,
     "metadata": {},
     "output_type": "execute_result"
    }
   ],
   "source": [
    "df.State.unique()"
   ]
  },
  {
   "cell_type": "code",
   "execution_count": 9,
   "metadata": {
    "ExecuteTime": {
     "end_time": "2024-02-21T06:30:40.060468Z",
     "start_time": "2024-02-21T06:30:40.044219Z"
    }
   },
   "outputs": [
    {
     "data": {
      "text/plain": "     State Voice mail plan  Customer service calls\n0       KS             Yes                     1.0\n1       OH             Yes                     1.0\n2       NJ              No                     0.0\n3       OH              No                     2.0\n4       OK              No                     3.0\n...    ...             ...                     ...\n3328    AZ             Yes                     2.0\n3329    WV              No                     3.0\n3330    RI              No                     2.0\n3331    CT              No                     2.0\n3332    TN             Yes                     0.0\n\n[3333 rows x 3 columns]",
      "text/html": "<div>\n<style scoped>\n    .dataframe tbody tr th:only-of-type {\n        vertical-align: middle;\n    }\n\n    .dataframe tbody tr th {\n        vertical-align: top;\n    }\n\n    .dataframe thead th {\n        text-align: right;\n    }\n</style>\n<table border=\"1\" class=\"dataframe\">\n  <thead>\n    <tr style=\"text-align: right;\">\n      <th></th>\n      <th>State</th>\n      <th>Voice mail plan</th>\n      <th>Customer service calls</th>\n    </tr>\n  </thead>\n  <tbody>\n    <tr>\n      <th>0</th>\n      <td>KS</td>\n      <td>Yes</td>\n      <td>1.0</td>\n    </tr>\n    <tr>\n      <th>1</th>\n      <td>OH</td>\n      <td>Yes</td>\n      <td>1.0</td>\n    </tr>\n    <tr>\n      <th>2</th>\n      <td>NJ</td>\n      <td>No</td>\n      <td>0.0</td>\n    </tr>\n    <tr>\n      <th>3</th>\n      <td>OH</td>\n      <td>No</td>\n      <td>2.0</td>\n    </tr>\n    <tr>\n      <th>4</th>\n      <td>OK</td>\n      <td>No</td>\n      <td>3.0</td>\n    </tr>\n    <tr>\n      <th>...</th>\n      <td>...</td>\n      <td>...</td>\n      <td>...</td>\n    </tr>\n    <tr>\n      <th>3328</th>\n      <td>AZ</td>\n      <td>Yes</td>\n      <td>2.0</td>\n    </tr>\n    <tr>\n      <th>3329</th>\n      <td>WV</td>\n      <td>No</td>\n      <td>3.0</td>\n    </tr>\n    <tr>\n      <th>3330</th>\n      <td>RI</td>\n      <td>No</td>\n      <td>2.0</td>\n    </tr>\n    <tr>\n      <th>3331</th>\n      <td>CT</td>\n      <td>No</td>\n      <td>2.0</td>\n    </tr>\n    <tr>\n      <th>3332</th>\n      <td>TN</td>\n      <td>Yes</td>\n      <td>0.0</td>\n    </tr>\n  </tbody>\n</table>\n<p>3333 rows × 3 columns</p>\n</div>"
     },
     "execution_count": 9,
     "metadata": {},
     "output_type": "execute_result"
    }
   ],
   "source": [
    "df[['State','Voice mail plan','Customer service calls']]"
   ]
  },
  {
   "cell_type": "code",
   "execution_count": 10,
   "metadata": {
    "ExecuteTime": {
     "end_time": "2024-02-21T06:30:40.085669Z",
     "start_time": "2024-02-21T06:30:40.051954Z"
    }
   },
   "outputs": [
    {
     "data": {
      "text/plain": "     State  Account length  Area code International plan Voice mail plan  \\\n2       NJ             137        415                 No              No   \n3       OH              84        408                Yes              No   \n4       OK              75        415                Yes              No   \n5       AL             118        510                Yes              No   \n7       MO             147        415                Yes              No   \n...    ...             ...        ...                ...             ...   \n3326    OH              96        415                 No              No   \n3327    SC              79        415                 No              No   \n3329    WV              68        415                 No              No   \n3330    RI              28        510                 No              No   \n3331    CT             184        510                Yes              No   \n\n      Number vmail messages  Total day minutes  Total day calls  \\\n2                         0              243.4            114.0   \n3                         0              299.4             71.0   \n4                         0              166.7            113.0   \n5                         0              223.4             98.0   \n7                         0              157.0             79.0   \n...                     ...                ...              ...   \n3326                      0              106.6            128.0   \n3327                      0              134.7             98.0   \n3329                      0              231.1             57.0   \n3330                      0              180.8            109.0   \n3331                      0              213.8            105.0   \n\n      Total day charge  Total eve minutes  Total eve calls  Total eve charge  \\\n2                41.38              121.2            110.0             10.30   \n3                50.90               61.9             88.0              5.26   \n4                28.34              148.3            122.0             12.61   \n5                37.98              220.6            101.0             18.75   \n7                26.69              103.1             94.0              8.76   \n...                ...                ...              ...               ...   \n3326             18.12              284.8             87.0             24.21   \n3327             22.90              189.7             68.0             16.12   \n3329             39.29              153.4             55.0             13.04   \n3330             30.74              288.8             58.0             24.55   \n3331             36.35              159.6             84.0             13.57   \n\n      Total night minutes  Total night calls  Total night charge  \\\n2                   162.6              104.0                7.32   \n3                   196.9               89.0                8.86   \n4                   186.9              121.0                8.41   \n5                   203.9              118.0                9.18   \n7                   211.8               96.0                9.53   \n...                   ...                ...                 ...   \n3326                178.9               92.0                8.05   \n3327                221.4              128.0                9.96   \n3329                191.3              123.0                8.61   \n3330                191.9               91.0                8.64   \n3331                139.2              137.0                6.26   \n\n      Total intl minutes  Total intl calls  Total intl charge  \\\n2                   12.2                 5               3.29   \n3                    6.6                 7               1.78   \n4                   10.1                 3               2.73   \n5                    6.3                 6               1.70   \n7                    7.1                 6               1.92   \n...                  ...               ...                ...   \n3326                14.9                 7               4.02   \n3327                11.8                 5               3.19   \n3329                 9.6                 4               2.59   \n3330                14.1                 6               3.81   \n3331                 5.0                10               1.35   \n\n      Customer service calls  Churn  \n2                        0.0  False  \n3                        2.0  False  \n4                        3.0  False  \n5                        0.0  False  \n7                        0.0  False  \n...                      ...    ...  \n3326                     1.0  False  \n3327                     2.0  False  \n3329                     3.0  False  \n3330                     2.0  False  \n3331                     2.0  False  \n\n[2411 rows x 20 columns]",
      "text/html": "<div>\n<style scoped>\n    .dataframe tbody tr th:only-of-type {\n        vertical-align: middle;\n    }\n\n    .dataframe tbody tr th {\n        vertical-align: top;\n    }\n\n    .dataframe thead th {\n        text-align: right;\n    }\n</style>\n<table border=\"1\" class=\"dataframe\">\n  <thead>\n    <tr style=\"text-align: right;\">\n      <th></th>\n      <th>State</th>\n      <th>Account length</th>\n      <th>Area code</th>\n      <th>International plan</th>\n      <th>Voice mail plan</th>\n      <th>Number vmail messages</th>\n      <th>Total day minutes</th>\n      <th>Total day calls</th>\n      <th>Total day charge</th>\n      <th>Total eve minutes</th>\n      <th>Total eve calls</th>\n      <th>Total eve charge</th>\n      <th>Total night minutes</th>\n      <th>Total night calls</th>\n      <th>Total night charge</th>\n      <th>Total intl minutes</th>\n      <th>Total intl calls</th>\n      <th>Total intl charge</th>\n      <th>Customer service calls</th>\n      <th>Churn</th>\n    </tr>\n  </thead>\n  <tbody>\n    <tr>\n      <th>2</th>\n      <td>NJ</td>\n      <td>137</td>\n      <td>415</td>\n      <td>No</td>\n      <td>No</td>\n      <td>0</td>\n      <td>243.4</td>\n      <td>114.0</td>\n      <td>41.38</td>\n      <td>121.2</td>\n      <td>110.0</td>\n      <td>10.30</td>\n      <td>162.6</td>\n      <td>104.0</td>\n      <td>7.32</td>\n      <td>12.2</td>\n      <td>5</td>\n      <td>3.29</td>\n      <td>0.0</td>\n      <td>False</td>\n    </tr>\n    <tr>\n      <th>3</th>\n      <td>OH</td>\n      <td>84</td>\n      <td>408</td>\n      <td>Yes</td>\n      <td>No</td>\n      <td>0</td>\n      <td>299.4</td>\n      <td>71.0</td>\n      <td>50.90</td>\n      <td>61.9</td>\n      <td>88.0</td>\n      <td>5.26</td>\n      <td>196.9</td>\n      <td>89.0</td>\n      <td>8.86</td>\n      <td>6.6</td>\n      <td>7</td>\n      <td>1.78</td>\n      <td>2.0</td>\n      <td>False</td>\n    </tr>\n    <tr>\n      <th>4</th>\n      <td>OK</td>\n      <td>75</td>\n      <td>415</td>\n      <td>Yes</td>\n      <td>No</td>\n      <td>0</td>\n      <td>166.7</td>\n      <td>113.0</td>\n      <td>28.34</td>\n      <td>148.3</td>\n      <td>122.0</td>\n      <td>12.61</td>\n      <td>186.9</td>\n      <td>121.0</td>\n      <td>8.41</td>\n      <td>10.1</td>\n      <td>3</td>\n      <td>2.73</td>\n      <td>3.0</td>\n      <td>False</td>\n    </tr>\n    <tr>\n      <th>5</th>\n      <td>AL</td>\n      <td>118</td>\n      <td>510</td>\n      <td>Yes</td>\n      <td>No</td>\n      <td>0</td>\n      <td>223.4</td>\n      <td>98.0</td>\n      <td>37.98</td>\n      <td>220.6</td>\n      <td>101.0</td>\n      <td>18.75</td>\n      <td>203.9</td>\n      <td>118.0</td>\n      <td>9.18</td>\n      <td>6.3</td>\n      <td>6</td>\n      <td>1.70</td>\n      <td>0.0</td>\n      <td>False</td>\n    </tr>\n    <tr>\n      <th>7</th>\n      <td>MO</td>\n      <td>147</td>\n      <td>415</td>\n      <td>Yes</td>\n      <td>No</td>\n      <td>0</td>\n      <td>157.0</td>\n      <td>79.0</td>\n      <td>26.69</td>\n      <td>103.1</td>\n      <td>94.0</td>\n      <td>8.76</td>\n      <td>211.8</td>\n      <td>96.0</td>\n      <td>9.53</td>\n      <td>7.1</td>\n      <td>6</td>\n      <td>1.92</td>\n      <td>0.0</td>\n      <td>False</td>\n    </tr>\n    <tr>\n      <th>...</th>\n      <td>...</td>\n      <td>...</td>\n      <td>...</td>\n      <td>...</td>\n      <td>...</td>\n      <td>...</td>\n      <td>...</td>\n      <td>...</td>\n      <td>...</td>\n      <td>...</td>\n      <td>...</td>\n      <td>...</td>\n      <td>...</td>\n      <td>...</td>\n      <td>...</td>\n      <td>...</td>\n      <td>...</td>\n      <td>...</td>\n      <td>...</td>\n      <td>...</td>\n    </tr>\n    <tr>\n      <th>3326</th>\n      <td>OH</td>\n      <td>96</td>\n      <td>415</td>\n      <td>No</td>\n      <td>No</td>\n      <td>0</td>\n      <td>106.6</td>\n      <td>128.0</td>\n      <td>18.12</td>\n      <td>284.8</td>\n      <td>87.0</td>\n      <td>24.21</td>\n      <td>178.9</td>\n      <td>92.0</td>\n      <td>8.05</td>\n      <td>14.9</td>\n      <td>7</td>\n      <td>4.02</td>\n      <td>1.0</td>\n      <td>False</td>\n    </tr>\n    <tr>\n      <th>3327</th>\n      <td>SC</td>\n      <td>79</td>\n      <td>415</td>\n      <td>No</td>\n      <td>No</td>\n      <td>0</td>\n      <td>134.7</td>\n      <td>98.0</td>\n      <td>22.90</td>\n      <td>189.7</td>\n      <td>68.0</td>\n      <td>16.12</td>\n      <td>221.4</td>\n      <td>128.0</td>\n      <td>9.96</td>\n      <td>11.8</td>\n      <td>5</td>\n      <td>3.19</td>\n      <td>2.0</td>\n      <td>False</td>\n    </tr>\n    <tr>\n      <th>3329</th>\n      <td>WV</td>\n      <td>68</td>\n      <td>415</td>\n      <td>No</td>\n      <td>No</td>\n      <td>0</td>\n      <td>231.1</td>\n      <td>57.0</td>\n      <td>39.29</td>\n      <td>153.4</td>\n      <td>55.0</td>\n      <td>13.04</td>\n      <td>191.3</td>\n      <td>123.0</td>\n      <td>8.61</td>\n      <td>9.6</td>\n      <td>4</td>\n      <td>2.59</td>\n      <td>3.0</td>\n      <td>False</td>\n    </tr>\n    <tr>\n      <th>3330</th>\n      <td>RI</td>\n      <td>28</td>\n      <td>510</td>\n      <td>No</td>\n      <td>No</td>\n      <td>0</td>\n      <td>180.8</td>\n      <td>109.0</td>\n      <td>30.74</td>\n      <td>288.8</td>\n      <td>58.0</td>\n      <td>24.55</td>\n      <td>191.9</td>\n      <td>91.0</td>\n      <td>8.64</td>\n      <td>14.1</td>\n      <td>6</td>\n      <td>3.81</td>\n      <td>2.0</td>\n      <td>False</td>\n    </tr>\n    <tr>\n      <th>3331</th>\n      <td>CT</td>\n      <td>184</td>\n      <td>510</td>\n      <td>Yes</td>\n      <td>No</td>\n      <td>0</td>\n      <td>213.8</td>\n      <td>105.0</td>\n      <td>36.35</td>\n      <td>159.6</td>\n      <td>84.0</td>\n      <td>13.57</td>\n      <td>139.2</td>\n      <td>137.0</td>\n      <td>6.26</td>\n      <td>5.0</td>\n      <td>10</td>\n      <td>1.35</td>\n      <td>2.0</td>\n      <td>False</td>\n    </tr>\n  </tbody>\n</table>\n<p>2411 rows × 20 columns</p>\n</div>"
     },
     "execution_count": 10,
     "metadata": {},
     "output_type": "execute_result"
    }
   ],
   "source": [
    "df[(df['Voice mail plan'] == 'No')]"
   ]
  },
  {
   "cell_type": "code",
   "execution_count": 11,
   "metadata": {
    "ExecuteTime": {
     "end_time": "2024-02-21T06:30:40.101158Z",
     "start_time": "2024-02-21T06:30:40.066894Z"
    }
   },
   "outputs": [
    {
     "data": {
      "text/plain": "     State  Account length  Area code International plan Voice mail plan  \\\n1240    TN             108        510                 No             Yes   \n1325    TN              17        510                 No             Yes   \n1984    TN             112        415                 No              No   \n\n      Number vmail messages  Total day minutes  Total day calls  \\\n1240                     34              162.1             83.0   \n1325                     31              153.1            115.0   \n1984                      0              272.5            119.0   \n\n      Total day charge  Total eve minutes  Total eve calls  Total eve charge  \\\n1240             27.56              171.8            117.0             14.60   \n1325             26.03              185.9             59.0             15.80   \n1984             46.33              226.1             94.0             19.22   \n\n      Total night minutes  Total night calls  Total night charge  \\\n1240                259.8               76.0               11.69   \n1325                224.3              102.0               10.09   \n1984                159.1               94.0                7.16   \n\n      Total intl minutes  Total intl calls  Total intl charge  \\\n1240                 9.6                 3               2.59   \n1325                10.0                 1               2.70   \n1984                16.4                 5               4.43   \n\n      Customer service calls Churn  \n1240                     4.0  True  \n1325                     6.0  True  \n1984                     3.0  True  ",
      "text/html": "<div>\n<style scoped>\n    .dataframe tbody tr th:only-of-type {\n        vertical-align: middle;\n    }\n\n    .dataframe tbody tr th {\n        vertical-align: top;\n    }\n\n    .dataframe thead th {\n        text-align: right;\n    }\n</style>\n<table border=\"1\" class=\"dataframe\">\n  <thead>\n    <tr style=\"text-align: right;\">\n      <th></th>\n      <th>State</th>\n      <th>Account length</th>\n      <th>Area code</th>\n      <th>International plan</th>\n      <th>Voice mail plan</th>\n      <th>Number vmail messages</th>\n      <th>Total day minutes</th>\n      <th>Total day calls</th>\n      <th>Total day charge</th>\n      <th>Total eve minutes</th>\n      <th>Total eve calls</th>\n      <th>Total eve charge</th>\n      <th>Total night minutes</th>\n      <th>Total night calls</th>\n      <th>Total night charge</th>\n      <th>Total intl minutes</th>\n      <th>Total intl calls</th>\n      <th>Total intl charge</th>\n      <th>Customer service calls</th>\n      <th>Churn</th>\n    </tr>\n  </thead>\n  <tbody>\n    <tr>\n      <th>1240</th>\n      <td>TN</td>\n      <td>108</td>\n      <td>510</td>\n      <td>No</td>\n      <td>Yes</td>\n      <td>34</td>\n      <td>162.1</td>\n      <td>83.0</td>\n      <td>27.56</td>\n      <td>171.8</td>\n      <td>117.0</td>\n      <td>14.60</td>\n      <td>259.8</td>\n      <td>76.0</td>\n      <td>11.69</td>\n      <td>9.6</td>\n      <td>3</td>\n      <td>2.59</td>\n      <td>4.0</td>\n      <td>True</td>\n    </tr>\n    <tr>\n      <th>1325</th>\n      <td>TN</td>\n      <td>17</td>\n      <td>510</td>\n      <td>No</td>\n      <td>Yes</td>\n      <td>31</td>\n      <td>153.1</td>\n      <td>115.0</td>\n      <td>26.03</td>\n      <td>185.9</td>\n      <td>59.0</td>\n      <td>15.80</td>\n      <td>224.3</td>\n      <td>102.0</td>\n      <td>10.09</td>\n      <td>10.0</td>\n      <td>1</td>\n      <td>2.70</td>\n      <td>6.0</td>\n      <td>True</td>\n    </tr>\n    <tr>\n      <th>1984</th>\n      <td>TN</td>\n      <td>112</td>\n      <td>415</td>\n      <td>No</td>\n      <td>No</td>\n      <td>0</td>\n      <td>272.5</td>\n      <td>119.0</td>\n      <td>46.33</td>\n      <td>226.1</td>\n      <td>94.0</td>\n      <td>19.22</td>\n      <td>159.1</td>\n      <td>94.0</td>\n      <td>7.16</td>\n      <td>16.4</td>\n      <td>5</td>\n      <td>4.43</td>\n      <td>3.0</td>\n      <td>True</td>\n    </tr>\n  </tbody>\n</table>\n</div>"
     },
     "execution_count": 11,
     "metadata": {},
     "output_type": "execute_result"
    }
   ],
   "source": [
    "## Data Fillter \n",
    "df[(df['International plan'] == 'No') & (df['State'] == 'TN') & (df['Churn'] == True) ]"
   ]
  },
  {
   "cell_type": "markdown",
   "metadata": {},
   "source": [
    "### Indexing with iloc"
   ]
  },
  {
   "cell_type": "code",
   "execution_count": 12,
   "metadata": {
    "ExecuteTime": {
     "end_time": "2024-02-21T06:30:40.120728Z",
     "start_time": "2024-02-21T06:30:40.081879Z"
    }
   },
   "outputs": [
    {
     "data": {
      "text/plain": "  State  Account length  Area code International plan Voice mail plan  \\\n0    KS             128        415                 No             Yes   \n1    OH             107        415                 No             Yes   \n2    NJ             137        415                 No              No   \n3    OH              84        408                Yes              No   \n4    OK              75        415                Yes              No   \n\n   Number vmail messages  Total day minutes  Total day calls  \\\n0                     25              265.1            110.0   \n1                     26              161.6            123.0   \n2                      0              243.4            114.0   \n3                      0              299.4             71.0   \n4                      0              166.7            113.0   \n\n   Total day charge  Total eve minutes  Total eve calls  Total eve charge  \\\n0             45.07              197.4             99.0             16.78   \n1             27.47              195.5            103.0             16.62   \n2             41.38              121.2            110.0             10.30   \n3             50.90               61.9             88.0              5.26   \n4             28.34              148.3            122.0             12.61   \n\n   Total night minutes  Total night calls  Total night charge  \\\n0                244.7               91.0               11.01   \n1                254.4              103.0               11.45   \n2                162.6              104.0                7.32   \n3                196.9               89.0                8.86   \n4                186.9              121.0                8.41   \n\n   Total intl minutes  Total intl calls  Total intl charge  \\\n0                10.0                 3               2.70   \n1                13.7                 3               3.70   \n2                12.2                 5               3.29   \n3                 6.6                 7               1.78   \n4                10.1                 3               2.73   \n\n   Customer service calls  Churn  \n0                     1.0  False  \n1                     1.0  False  \n2                     0.0  False  \n3                     2.0  False  \n4                     3.0  False  ",
      "text/html": "<div>\n<style scoped>\n    .dataframe tbody tr th:only-of-type {\n        vertical-align: middle;\n    }\n\n    .dataframe tbody tr th {\n        vertical-align: top;\n    }\n\n    .dataframe thead th {\n        text-align: right;\n    }\n</style>\n<table border=\"1\" class=\"dataframe\">\n  <thead>\n    <tr style=\"text-align: right;\">\n      <th></th>\n      <th>State</th>\n      <th>Account length</th>\n      <th>Area code</th>\n      <th>International plan</th>\n      <th>Voice mail plan</th>\n      <th>Number vmail messages</th>\n      <th>Total day minutes</th>\n      <th>Total day calls</th>\n      <th>Total day charge</th>\n      <th>Total eve minutes</th>\n      <th>Total eve calls</th>\n      <th>Total eve charge</th>\n      <th>Total night minutes</th>\n      <th>Total night calls</th>\n      <th>Total night charge</th>\n      <th>Total intl minutes</th>\n      <th>Total intl calls</th>\n      <th>Total intl charge</th>\n      <th>Customer service calls</th>\n      <th>Churn</th>\n    </tr>\n  </thead>\n  <tbody>\n    <tr>\n      <th>0</th>\n      <td>KS</td>\n      <td>128</td>\n      <td>415</td>\n      <td>No</td>\n      <td>Yes</td>\n      <td>25</td>\n      <td>265.1</td>\n      <td>110.0</td>\n      <td>45.07</td>\n      <td>197.4</td>\n      <td>99.0</td>\n      <td>16.78</td>\n      <td>244.7</td>\n      <td>91.0</td>\n      <td>11.01</td>\n      <td>10.0</td>\n      <td>3</td>\n      <td>2.70</td>\n      <td>1.0</td>\n      <td>False</td>\n    </tr>\n    <tr>\n      <th>1</th>\n      <td>OH</td>\n      <td>107</td>\n      <td>415</td>\n      <td>No</td>\n      <td>Yes</td>\n      <td>26</td>\n      <td>161.6</td>\n      <td>123.0</td>\n      <td>27.47</td>\n      <td>195.5</td>\n      <td>103.0</td>\n      <td>16.62</td>\n      <td>254.4</td>\n      <td>103.0</td>\n      <td>11.45</td>\n      <td>13.7</td>\n      <td>3</td>\n      <td>3.70</td>\n      <td>1.0</td>\n      <td>False</td>\n    </tr>\n    <tr>\n      <th>2</th>\n      <td>NJ</td>\n      <td>137</td>\n      <td>415</td>\n      <td>No</td>\n      <td>No</td>\n      <td>0</td>\n      <td>243.4</td>\n      <td>114.0</td>\n      <td>41.38</td>\n      <td>121.2</td>\n      <td>110.0</td>\n      <td>10.30</td>\n      <td>162.6</td>\n      <td>104.0</td>\n      <td>7.32</td>\n      <td>12.2</td>\n      <td>5</td>\n      <td>3.29</td>\n      <td>0.0</td>\n      <td>False</td>\n    </tr>\n    <tr>\n      <th>3</th>\n      <td>OH</td>\n      <td>84</td>\n      <td>408</td>\n      <td>Yes</td>\n      <td>No</td>\n      <td>0</td>\n      <td>299.4</td>\n      <td>71.0</td>\n      <td>50.90</td>\n      <td>61.9</td>\n      <td>88.0</td>\n      <td>5.26</td>\n      <td>196.9</td>\n      <td>89.0</td>\n      <td>8.86</td>\n      <td>6.6</td>\n      <td>7</td>\n      <td>1.78</td>\n      <td>2.0</td>\n      <td>False</td>\n    </tr>\n    <tr>\n      <th>4</th>\n      <td>OK</td>\n      <td>75</td>\n      <td>415</td>\n      <td>Yes</td>\n      <td>No</td>\n      <td>0</td>\n      <td>166.7</td>\n      <td>113.0</td>\n      <td>28.34</td>\n      <td>148.3</td>\n      <td>122.0</td>\n      <td>12.61</td>\n      <td>186.9</td>\n      <td>121.0</td>\n      <td>8.41</td>\n      <td>10.1</td>\n      <td>3</td>\n      <td>2.73</td>\n      <td>3.0</td>\n      <td>False</td>\n    </tr>\n  </tbody>\n</table>\n</div>"
     },
     "execution_count": 12,
     "metadata": {},
     "output_type": "execute_result"
    }
   ],
   "source": [
    "df.iloc[0:5]"
   ]
  },
  {
   "cell_type": "code",
   "execution_count": 13,
   "metadata": {
    "ExecuteTime": {
     "end_time": "2024-02-21T06:30:40.137935Z",
     "start_time": "2024-02-21T06:30:40.085275Z"
    }
   },
   "outputs": [
    {
     "data": {
      "text/plain": "  State  Account length  Area code International plan\n0    KS             128        415                 No\n1    OH             107        415                 No\n2    NJ             137        415                 No\n3    OH              84        408                Yes\n4    OK              75        415                Yes",
      "text/html": "<div>\n<style scoped>\n    .dataframe tbody tr th:only-of-type {\n        vertical-align: middle;\n    }\n\n    .dataframe tbody tr th {\n        vertical-align: top;\n    }\n\n    .dataframe thead th {\n        text-align: right;\n    }\n</style>\n<table border=\"1\" class=\"dataframe\">\n  <thead>\n    <tr style=\"text-align: right;\">\n      <th></th>\n      <th>State</th>\n      <th>Account length</th>\n      <th>Area code</th>\n      <th>International plan</th>\n    </tr>\n  </thead>\n  <tbody>\n    <tr>\n      <th>0</th>\n      <td>KS</td>\n      <td>128</td>\n      <td>415</td>\n      <td>No</td>\n    </tr>\n    <tr>\n      <th>1</th>\n      <td>OH</td>\n      <td>107</td>\n      <td>415</td>\n      <td>No</td>\n    </tr>\n    <tr>\n      <th>2</th>\n      <td>NJ</td>\n      <td>137</td>\n      <td>415</td>\n      <td>No</td>\n    </tr>\n    <tr>\n      <th>3</th>\n      <td>OH</td>\n      <td>84</td>\n      <td>408</td>\n      <td>Yes</td>\n    </tr>\n    <tr>\n      <th>4</th>\n      <td>OK</td>\n      <td>75</td>\n      <td>415</td>\n      <td>Yes</td>\n    </tr>\n  </tbody>\n</table>\n</div>"
     },
     "execution_count": 13,
     "metadata": {},
     "output_type": "execute_result"
    }
   ],
   "source": [
    "df.iloc[0:5, 0:4]"
   ]
  },
  {
   "cell_type": "markdown",
   "metadata": {},
   "source": [
    "### Updating data"
   ]
  },
  {
   "cell_type": "code",
   "execution_count": 14,
   "metadata": {
    "ExecuteTime": {
     "end_time": "2024-02-21T06:30:40.150097Z",
     "start_time": "2024-02-21T06:30:40.091980Z"
    }
   },
   "outputs": [
    {
     "data": {
      "text/plain": "State                      0\nAccount length             0\nArea code                  0\nInternational plan         0\nVoice mail plan            0\nNumber vmail messages      0\nTotal day minutes         10\nTotal day calls           10\nTotal day charge          18\nTotal eve minutes          9\nTotal eve calls            8\nTotal eve charge           0\nTotal night minutes        0\nTotal night calls          1\nTotal night charge         0\nTotal intl minutes         0\nTotal intl calls           0\nTotal intl charge          5\nCustomer service calls     5\nChurn                      8\ndtype: int64"
     },
     "execution_count": 14,
     "metadata": {},
     "output_type": "execute_result"
    }
   ],
   "source": [
    "df.isnull().sum()\n",
    "## column_name      null_count"
   ]
  },
  {
   "cell_type": "markdown",
   "metadata": {},
   "source": [
    "### Drop columns from the DataFrame"
   ]
  },
  {
   "cell_type": "code",
   "execution_count": 15,
   "metadata": {
    "ExecuteTime": {
     "end_time": "2024-02-21T06:30:40.150341Z",
     "start_time": "2024-02-21T06:30:40.097825Z"
    }
   },
   "outputs": [],
   "source": [
    "df.drop('Area code', axis=1)\n",
    "df = df.drop(columns=['Area code'])\n",
    "\n",
    "## drop all columns in a DataFrame except for some specified columns\n",
    "df = df[['State','Total night minutes','Total intl minutes' ,'Churn']]"
   ]
  },
  {
   "cell_type": "code",
   "execution_count": 16,
   "metadata": {
    "ExecuteTime": {
     "end_time": "2024-02-21T06:30:40.151070Z",
     "start_time": "2024-02-21T06:30:40.101228Z"
    }
   },
   "outputs": [],
   "source": [
    "df['NewCol'] = df['Total night minutes'] + df['Total intl minutes']"
   ]
  },
  {
   "cell_type": "code",
   "execution_count": 17,
   "metadata": {
    "ExecuteTime": {
     "end_time": "2024-02-21T06:30:40.151541Z",
     "start_time": "2024-02-21T06:30:40.106491Z"
    }
   },
   "outputs": [
    {
     "data": {
      "text/plain": "     State  NewCol  Total night minutes  Total intl minutes\n0       KS   254.7                244.7                10.0\n1       OH   268.1                254.4                13.7\n2       NJ   174.8                162.6                12.2\n3       OH   203.5                196.9                 6.6\n4       OK   197.0                186.9                10.1\n...    ...     ...                  ...                 ...\n3328    AZ   289.0                279.1                 9.9\n3329    WV   200.9                191.3                 9.6\n3330    RI   206.0                191.9                14.1\n3331    CT   144.2                139.2                 5.0\n3332    TN   255.1                241.4                13.7\n\n[3333 rows x 4 columns]",
      "text/html": "<div>\n<style scoped>\n    .dataframe tbody tr th:only-of-type {\n        vertical-align: middle;\n    }\n\n    .dataframe tbody tr th {\n        vertical-align: top;\n    }\n\n    .dataframe thead th {\n        text-align: right;\n    }\n</style>\n<table border=\"1\" class=\"dataframe\">\n  <thead>\n    <tr style=\"text-align: right;\">\n      <th></th>\n      <th>State</th>\n      <th>NewCol</th>\n      <th>Total night minutes</th>\n      <th>Total intl minutes</th>\n    </tr>\n  </thead>\n  <tbody>\n    <tr>\n      <th>0</th>\n      <td>KS</td>\n      <td>254.7</td>\n      <td>244.7</td>\n      <td>10.0</td>\n    </tr>\n    <tr>\n      <th>1</th>\n      <td>OH</td>\n      <td>268.1</td>\n      <td>254.4</td>\n      <td>13.7</td>\n    </tr>\n    <tr>\n      <th>2</th>\n      <td>NJ</td>\n      <td>174.8</td>\n      <td>162.6</td>\n      <td>12.2</td>\n    </tr>\n    <tr>\n      <th>3</th>\n      <td>OH</td>\n      <td>203.5</td>\n      <td>196.9</td>\n      <td>6.6</td>\n    </tr>\n    <tr>\n      <th>4</th>\n      <td>OK</td>\n      <td>197.0</td>\n      <td>186.9</td>\n      <td>10.1</td>\n    </tr>\n    <tr>\n      <th>...</th>\n      <td>...</td>\n      <td>...</td>\n      <td>...</td>\n      <td>...</td>\n    </tr>\n    <tr>\n      <th>3328</th>\n      <td>AZ</td>\n      <td>289.0</td>\n      <td>279.1</td>\n      <td>9.9</td>\n    </tr>\n    <tr>\n      <th>3329</th>\n      <td>WV</td>\n      <td>200.9</td>\n      <td>191.3</td>\n      <td>9.6</td>\n    </tr>\n    <tr>\n      <th>3330</th>\n      <td>RI</td>\n      <td>206.0</td>\n      <td>191.9</td>\n      <td>14.1</td>\n    </tr>\n    <tr>\n      <th>3331</th>\n      <td>CT</td>\n      <td>144.2</td>\n      <td>139.2</td>\n      <td>5.0</td>\n    </tr>\n    <tr>\n      <th>3332</th>\n      <td>TN</td>\n      <td>255.1</td>\n      <td>241.4</td>\n      <td>13.7</td>\n    </tr>\n  </tbody>\n</table>\n<p>3333 rows × 4 columns</p>\n</div>"
     },
     "execution_count": 17,
     "metadata": {},
     "output_type": "execute_result"
    }
   ],
   "source": [
    "df[['State', 'NewCol', 'Total night minutes', 'Total intl minutes']]"
   ]
  },
  {
   "cell_type": "markdown",
   "metadata": {},
   "source": [
    "### Insert new column with logic"
   ]
  },
  {
   "cell_type": "code",
   "execution_count": 18,
   "metadata": {
    "ExecuteTime": {
     "end_time": "2024-02-21T06:30:40.151868Z",
     "start_time": "2024-02-21T06:30:40.111374Z"
    }
   },
   "outputs": [],
   "source": [
    "df['NewCol_calc'] = df['Churn'].apply(lambda x: 1 if x==True else 0)"
   ]
  },
  {
   "cell_type": "code",
   "execution_count": 19,
   "metadata": {
    "ExecuteTime": {
     "end_time": "2024-02-21T06:30:40.152376Z",
     "start_time": "2024-02-21T06:30:40.115895Z"
    }
   },
   "outputs": [
    {
     "data": {
      "text/plain": "   State  Total night minutes  Total intl minutes Churn  NewCol  NewCol_calc\n10    IN                208.8                12.7  True   221.5            1\n15    NY                160.6                 5.4  True   166.0            1\n21    CO                209.6                 5.7  True   215.3            1\n33    AZ                280.2                11.8  True   292.0            1\n41    MD                122.2                14.6  True   136.8            1",
      "text/html": "<div>\n<style scoped>\n    .dataframe tbody tr th:only-of-type {\n        vertical-align: middle;\n    }\n\n    .dataframe tbody tr th {\n        vertical-align: top;\n    }\n\n    .dataframe thead th {\n        text-align: right;\n    }\n</style>\n<table border=\"1\" class=\"dataframe\">\n  <thead>\n    <tr style=\"text-align: right;\">\n      <th></th>\n      <th>State</th>\n      <th>Total night minutes</th>\n      <th>Total intl minutes</th>\n      <th>Churn</th>\n      <th>NewCol</th>\n      <th>NewCol_calc</th>\n    </tr>\n  </thead>\n  <tbody>\n    <tr>\n      <th>10</th>\n      <td>IN</td>\n      <td>208.8</td>\n      <td>12.7</td>\n      <td>True</td>\n      <td>221.5</td>\n      <td>1</td>\n    </tr>\n    <tr>\n      <th>15</th>\n      <td>NY</td>\n      <td>160.6</td>\n      <td>5.4</td>\n      <td>True</td>\n      <td>166.0</td>\n      <td>1</td>\n    </tr>\n    <tr>\n      <th>21</th>\n      <td>CO</td>\n      <td>209.6</td>\n      <td>5.7</td>\n      <td>True</td>\n      <td>215.3</td>\n      <td>1</td>\n    </tr>\n    <tr>\n      <th>33</th>\n      <td>AZ</td>\n      <td>280.2</td>\n      <td>11.8</td>\n      <td>True</td>\n      <td>292.0</td>\n      <td>1</td>\n    </tr>\n    <tr>\n      <th>41</th>\n      <td>MD</td>\n      <td>122.2</td>\n      <td>14.6</td>\n      <td>True</td>\n      <td>136.8</td>\n      <td>1</td>\n    </tr>\n  </tbody>\n</table>\n</div>"
     },
     "execution_count": 19,
     "metadata": {},
     "output_type": "execute_result"
    }
   ],
   "source": [
    "df[['State', 'NewCol', 'NewCol_calc']]\n",
    "df[df['NewCol_calc'] == True].head()"
   ]
  },
  {
   "cell_type": "markdown",
   "metadata": {},
   "source": [
    "### Output Create new CSV"
   ]
  },
  {
   "cell_type": "code",
   "execution_count": 20,
   "metadata": {
    "ExecuteTime": {
     "end_time": "2024-02-21T06:30:40.179094Z",
     "start_time": "2024-02-21T06:30:40.121363Z"
    }
   },
   "outputs": [],
   "source": [
    "df.to_csv('output.csv')"
   ]
  }
 ],
 "metadata": {
  "kernelspec": {
   "display_name": "venv",
   "language": "python",
   "name": "python3"
  },
  "language_info": {
   "codemirror_mode": {
    "name": "ipython",
    "version": 3
   },
   "file_extension": ".py",
   "mimetype": "text/x-python",
   "name": "python",
   "nbconvert_exporter": "python",
   "pygments_lexer": "ipython3",
   "version": "3.11.6"
  }
 },
 "nbformat": 4,
 "nbformat_minor": 2
}
