{
 "cells": [
  {
   "cell_type": "markdown",
   "metadata": {},
   "source": [
    "### Understanding Our Data\n",
    "#### Source\n",
    "    https://www.youtube.com/watch?v=mJlRTUuVr04&list=PLKnIA16_Rmvbr7zKYQuBfsVkjoLcJgxHH&index=20\n",
    "    https://www.kaggle.com/datasets/stackoverflow/stack-overflow-2023-developers-survey/data"
   ]
  },
  {
   "cell_type": "markdown",
   "metadata": {},
   "source": [
    "\n",
    "Description:\n",
    "\n",
    "The enclosed data set is the complete, cleaned results of the 2023 Stack Overflow Developer Survey. Free response submissions have been removed. There are three files besides this README:\n",
    "\n",
    "1. survey_results_public.csv - CSV file with main survey results, one respondent per row and one column per answer\n",
    "2. survey_results_schema.csv - CSV file with survey schema, i.e., the questions that correspond to each column name\n",
    "3. so_survey_2022.pdf - PDF file of the survey instrument\n"
   ]
  },
  {
   "cell_type": "code",
   "execution_count": 50,
   "metadata": {
    "_cell_guid": "b1076dfc-b9ad-4769-8c92-a6c4dae69d19",
    "_uuid": "8f2839f25d086af736a60e9eeb907d3b93b6e0e5",
    "execution": {
     "iopub.execute_input": "2023-11-30T04:30:57.328338Z",
     "iopub.status.busy": "2023-11-30T04:30:57.327629Z",
     "iopub.status.idle": "2023-11-30T04:30:57.722102Z",
     "shell.execute_reply": "2023-11-30T04:30:57.721118Z",
     "shell.execute_reply.started": "2023-11-30T04:30:57.328302Z"
    },
    "trusted": true,
    "ExecuteTime": {
     "end_time": "2023-12-09T05:02:20.224053Z",
     "start_time": "2023-12-09T05:02:20.210845Z"
    }
   },
   "outputs": [],
   "source": [
    "import numpy as np  # linear algebra\n",
    "import pandas as pd  # data processing, CSV file I/O (e.g. pd.read_csv)\n",
    "import matplotlib.pyplot as plt"
   ]
  },
  {
   "cell_type": "code",
   "execution_count": 14,
   "outputs": [],
   "source": [
    "results = pd.read_csv('./data/stack-overflow-survey-2023/survey_results_public.csv', index_col='ResponseId')\n",
    "schema = pd.read_csv('./data/stack-overflow-survey-2023/survey_results_schema.csv', index_col='')"
   ],
   "metadata": {
    "collapsed": false,
    "ExecuteTime": {
     "end_time": "2023-12-09T04:35:07.206510Z",
     "start_time": "2023-12-09T04:35:05.630822Z"
    }
   }
  },
  {
   "cell_type": "code",
   "execution_count": 18,
   "outputs": [
    {
     "data": {
      "text/plain": "               Q120                                         MainBranch  \\\nResponseId                                                               \n35634       I agree                        I code primarily as a hobby   \n22132       I agree                     I am a developer by profession   \n85219       I agree                     I am a developer by profession   \n37294       I agree                     I am a developer by profession   \n24134       I agree                     I am a developer by profession   \n84876       I agree                     I am a developer by profession   \n6403        I agree                     I am a developer by profession   \n78611       I agree                     I am a developer by profession   \n41255       I agree                     I am a developer by profession   \n17083       I agree                     I am a developer by profession   \n84307       I agree                     I am a developer by profession   \n31498       I agree                     I am a developer by profession   \n10971       I agree                     I am a developer by profession   \n29841       I agree  I am not primarily a developer, but I write co...   \n5693        I agree                     I am a developer by profession   \n\n                        Age  \\\nResponseId                    \n35634       35-44 years old   \n22132       55-64 years old   \n85219       18-24 years old   \n37294       45-54 years old   \n24134       25-34 years old   \n84876       35-44 years old   \n6403        18-24 years old   \n78611       45-54 years old   \n41255       55-64 years old   \n17083       25-34 years old   \n84307       25-34 years old   \n31498       25-34 years old   \n10971       35-44 years old   \n29841       25-34 years old   \n5693        35-44 years old   \n\n                                                   Employment  \\\nResponseId                                                      \n35634                                     Employed, full-time   \n22132                                     Employed, full-time   \n85219       Independent contractor, freelancer, or self-em...   \n37294                                     Employed, full-time   \n24134                                     Employed, full-time   \n84876                                     Employed, full-time   \n6403                                       Student, full-time   \n78611                                     Employed, full-time   \n41255                                     Employed, full-time   \n17083                                     Employed, full-time   \n84307                                     Employed, full-time   \n31498                                     Employed, full-time   \n10971                                     Employed, full-time   \n29841                  Employed, full-time;Student, full-time   \n5693                                      Employed, full-time   \n\n                                      RemoteWork  \\\nResponseId                                         \n35634                                     Remote   \n22132                                     Remote   \n85219       Hybrid (some remote, some in-person)   \n37294       Hybrid (some remote, some in-person)   \n24134       Hybrid (some remote, some in-person)   \n84876       Hybrid (some remote, some in-person)   \n6403                                         NaN   \n78611                                  In-person   \n41255                                  In-person   \n17083                                     Remote   \n84307                                     Remote   \n31498       Hybrid (some remote, some in-person)   \n10971       Hybrid (some remote, some in-person)   \n29841                                  In-person   \n5693        Hybrid (some remote, some in-person)   \n\n                                             CodingActivities  \\\nResponseId                                                      \n35634       Hobby;Bootstrapping a business;Professional de...   \n22132                                                   Hobby   \n85219       Hobby;Contribute to open-source projects;Freel...   \n37294                                                   Hobby   \n24134                          Hobby;Bootstrapping a business   \n84876                                                   Hobby   \n6403                                                      NaN   \n78611       Professional development or self-paced learnin...   \n41255                                                   Hobby   \n17083                                                   Hobby   \n84307                                                   Hobby   \n31498                            I don’t code outside of work   \n10971                                Bootstrapping a business   \n29841       Hobby;Contribute to open-source projects;Schoo...   \n5693                 Hobby;Contribute to open-source projects   \n\n                                                      EdLevel  \\\nResponseId                                                      \n35634         Master’s degree (M.A., M.S., M.Eng., MBA, etc.)   \n22132            Bachelor’s degree (B.A., B.S., B.Eng., etc.)   \n85219            Bachelor’s degree (B.A., B.S., B.Eng., etc.)   \n37294            Bachelor’s degree (B.A., B.S., B.Eng., etc.)   \n24134            Bachelor’s degree (B.A., B.S., B.Eng., etc.)   \n84876            Bachelor’s degree (B.A., B.S., B.Eng., etc.)   \n6403             Bachelor’s degree (B.A., B.S., B.Eng., etc.)   \n78611       Some college/university study without earning ...   \n41255            Bachelor’s degree (B.A., B.S., B.Eng., etc.)   \n17083            Bachelor’s degree (B.A., B.S., B.Eng., etc.)   \n84307            Bachelor’s degree (B.A., B.S., B.Eng., etc.)   \n31498         Master’s degree (M.A., M.S., M.Eng., MBA, etc.)   \n10971       Some college/university study without earning ...   \n29841         Master’s degree (M.A., M.S., M.Eng., MBA, etc.)   \n5693        Some college/university study without earning ...   \n\n                                                    LearnCode  \\\nResponseId                                                      \n35634       Books / Physical media;Online Courses or Certi...   \n22132       Books / Physical media;Colleague;Friend or fam...   \n85219         Online Courses or Certification;Coding Bootcamp   \n37294       Online Courses or Certification;On the job tra...   \n24134       Books / Physical media;On the job training;Oth...   \n84876       Books / Physical media;Other online resources ...   \n6403        Other online resources (e.g., videos, blogs, f...   \n78611       Books / Physical media;Colleague;Hackathons (v...   \n41255       Books / Physical media;Colleague;Online Course...   \n17083       On the job training;School (i.e., University, ...   \n84307       Books / Physical media;Colleague;On the job tr...   \n31498       Books / Physical media;Online Courses or Certi...   \n10971       Other online resources (e.g., videos, blogs, f...   \n29841       Friend or family member;Other online resources...   \n5693        On the job training;Other online resources (e....   \n\n                                              LearnCodeOnline  \\\nResponseId                                                      \n35634       Formal documentation provided by the owner of ...   \n22132       Formal documentation provided by the owner of ...   \n85219                                                     NaN   \n37294       Formal documentation provided by the owner of ...   \n24134       Formal documentation provided by the owner of ...   \n84876       Formal documentation provided by the owner of ...   \n6403        Formal documentation provided by the owner of ...   \n78611       Blogs with tips and tricks;Video-based Online ...   \n41255       Formal documentation provided by the owner of ...   \n17083                                                     NaN   \n84307       Formal documentation provided by the owner of ...   \n31498       Formal documentation provided by the owner of ...   \n10971          How-to videos;Written Tutorials;Stack Overflow   \n29841       Formal documentation provided by the owner of ...   \n5693        Formal documentation provided by the owner of ...   \n\n                             LearnCodeCoursesCert  ...        Frequency_1  \\\nResponseId                                         ...                      \n35634                                       Udemy  ...  6-10 times a week   \n22132                                 Other;Udemy  ...              Never   \n85219                                   Other;edX  ...                NaN   \n37294                                         NaN  ...   1-2 times a week   \n24134                                         NaN  ...   1-2 times a week   \n84876                                         NaN  ...   3-5 times a week   \n6403                                          NaN  ...                NaN   \n78611       Codecademy;Udemy;Pluralsight;Coursera  ...                NaN   \n41255                                       Udemy  ...                NaN   \n17083                                         NaN  ...                NaN   \n84307                                         NaN  ...              Never   \n31498                                 Other;Udemy  ...   1-2 times a week   \n10971                                         NaN  ...                NaN   \n29841                                         NaN  ...                NaN   \n5693                                          NaN  ...   3-5 times a week   \n\n                 Frequency_2       Frequency_3         TimeSearching  \\\nResponseId                                                             \n35634       10+ times a week  10+ times a week  60-120 minutes a day   \n22132       1-2 times a week  1-2 times a week   15-30 minutes a day   \n85219                    NaN               NaN                   NaN   \n37294       1-2 times a week  1-2 times a week   15-30 minutes a day   \n24134       1-2 times a week  1-2 times a week   30-60 minutes a day   \n84876       3-5 times a week  1-2 times a week   30-60 minutes a day   \n6403                     NaN               NaN                   NaN   \n78611                    NaN               NaN                   NaN   \n41255                    NaN               NaN                   NaN   \n17083                    NaN               NaN                   NaN   \n84307       1-2 times a week  1-2 times a week   30-60 minutes a day   \n31498       1-2 times a week  1-2 times a week   30-60 minutes a day   \n10971                    NaN               NaN                   NaN   \n29841                    NaN               NaN                   NaN   \n5693        1-2 times a week  1-2 times a week  60-120 minutes a day   \n\n                         TimeAnswering  \\\nResponseId                               \n35634             60-120 minutes a day   \n22132              15-30 minutes a day   \n85219                              NaN   \n37294       Less than 15 minutes a day   \n24134              30-60 minutes a day   \n84876             60-120 minutes a day   \n6403                               NaN   \n78611                              NaN   \n41255                              NaN   \n17083                              NaN   \n84307              15-30 minutes a day   \n31498              30-60 minutes a day   \n10971                              NaN   \n29841                              NaN   \n5693               15-30 minutes a day   \n\n                                             ProfessionalTech  \\\nResponseId                                                      \n35634       Microservices;Observability tools;Continuous i...   \n22132       Developer portal or other central places to fi...   \n85219                                                     NaN   \n37294       DevOps function;Microservices;Automated testin...   \n24134       DevOps function;Microservices;Automated testin...   \n84876       Microservices;Automated testing;Observability ...   \n6403                                                      NaN   \n78611                                                     NaN   \n41255                                                     NaN   \n17083                                                     NaN   \n84307       DevOps function;Automated testing;Observabilit...   \n31498       DevOps function;Microservices;Observability to...   \n10971                                                     NaN   \n29841                                                     NaN   \n5693        Observability tools;Continuous integration (CI...   \n\n                                                     Industry  \\\nResponseId                                                      \n35634       Information Services, IT, Software Development...   \n22132                                                     NaN   \n85219                                                     NaN   \n37294       Information Services, IT, Software Development...   \n24134                                      Financial Services   \n84876                            Retail and Consumer Services   \n6403                                                      NaN   \n78611                                                     NaN   \n41255                                                     NaN   \n17083                                                     NaN   \n84307       Information Services, IT, Software Development...   \n31498       Information Services, IT, Software Development...   \n10971                                                     NaN   \n29841                                                     NaN   \n5693                                                    Other   \n\n                     SurveyLength                  SurveyEase  \\\nResponseId                                                      \n35634                    Too long  Neither easy nor difficult   \n22132       Appropriate in length  Neither easy nor difficult   \n85219       Appropriate in length                        Easy   \n37294                    Too long                        Easy   \n24134       Appropriate in length                        Easy   \n84876       Appropriate in length  Neither easy nor difficult   \n6403                     Too long  Neither easy nor difficult   \n78611                         NaN  Neither easy nor difficult   \n41255       Appropriate in length                        Easy   \n17083       Appropriate in length                        Easy   \n84307       Appropriate in length                        Easy   \n31498                    Too long                   Difficult   \n10971                    Too long                        Easy   \n29841       Appropriate in length                        Easy   \n5693        Appropriate in length  Neither easy nor difficult   \n\n            ConvertedCompYearly  \nResponseId                       \n35634                       NaN  \n22132                   75498.0  \n85219                       NaN  \n37294                  198389.0  \n24134                       NaN  \n84876                   96381.0  \n6403                        NaN  \n78611                   55285.0  \n41255                  233000.0  \n17083                   93104.0  \n84307                  200000.0  \n31498                  130967.0  \n10971                   79376.0  \n29841                       NaN  \n5693                    25701.0  \n\n[15 rows x 83 columns]",
      "text/html": "<div>\n<style scoped>\n    .dataframe tbody tr th:only-of-type {\n        vertical-align: middle;\n    }\n\n    .dataframe tbody tr th {\n        vertical-align: top;\n    }\n\n    .dataframe thead th {\n        text-align: right;\n    }\n</style>\n<table border=\"1\" class=\"dataframe\">\n  <thead>\n    <tr style=\"text-align: right;\">\n      <th></th>\n      <th>Q120</th>\n      <th>MainBranch</th>\n      <th>Age</th>\n      <th>Employment</th>\n      <th>RemoteWork</th>\n      <th>CodingActivities</th>\n      <th>EdLevel</th>\n      <th>LearnCode</th>\n      <th>LearnCodeOnline</th>\n      <th>LearnCodeCoursesCert</th>\n      <th>...</th>\n      <th>Frequency_1</th>\n      <th>Frequency_2</th>\n      <th>Frequency_3</th>\n      <th>TimeSearching</th>\n      <th>TimeAnswering</th>\n      <th>ProfessionalTech</th>\n      <th>Industry</th>\n      <th>SurveyLength</th>\n      <th>SurveyEase</th>\n      <th>ConvertedCompYearly</th>\n    </tr>\n    <tr>\n      <th>ResponseId</th>\n      <th></th>\n      <th></th>\n      <th></th>\n      <th></th>\n      <th></th>\n      <th></th>\n      <th></th>\n      <th></th>\n      <th></th>\n      <th></th>\n      <th></th>\n      <th></th>\n      <th></th>\n      <th></th>\n      <th></th>\n      <th></th>\n      <th></th>\n      <th></th>\n      <th></th>\n      <th></th>\n      <th></th>\n    </tr>\n  </thead>\n  <tbody>\n    <tr>\n      <th>35634</th>\n      <td>I agree</td>\n      <td>I code primarily as a hobby</td>\n      <td>35-44 years old</td>\n      <td>Employed, full-time</td>\n      <td>Remote</td>\n      <td>Hobby;Bootstrapping a business;Professional de...</td>\n      <td>Master’s degree (M.A., M.S., M.Eng., MBA, etc.)</td>\n      <td>Books / Physical media;Online Courses or Certi...</td>\n      <td>Formal documentation provided by the owner of ...</td>\n      <td>Udemy</td>\n      <td>...</td>\n      <td>6-10 times a week</td>\n      <td>10+ times a week</td>\n      <td>10+ times a week</td>\n      <td>60-120 minutes a day</td>\n      <td>60-120 minutes a day</td>\n      <td>Microservices;Observability tools;Continuous i...</td>\n      <td>Information Services, IT, Software Development...</td>\n      <td>Too long</td>\n      <td>Neither easy nor difficult</td>\n      <td>NaN</td>\n    </tr>\n    <tr>\n      <th>22132</th>\n      <td>I agree</td>\n      <td>I am a developer by profession</td>\n      <td>55-64 years old</td>\n      <td>Employed, full-time</td>\n      <td>Remote</td>\n      <td>Hobby</td>\n      <td>Bachelor’s degree (B.A., B.S., B.Eng., etc.)</td>\n      <td>Books / Physical media;Colleague;Friend or fam...</td>\n      <td>Formal documentation provided by the owner of ...</td>\n      <td>Other;Udemy</td>\n      <td>...</td>\n      <td>Never</td>\n      <td>1-2 times a week</td>\n      <td>1-2 times a week</td>\n      <td>15-30 minutes a day</td>\n      <td>15-30 minutes a day</td>\n      <td>Developer portal or other central places to fi...</td>\n      <td>NaN</td>\n      <td>Appropriate in length</td>\n      <td>Neither easy nor difficult</td>\n      <td>75498.0</td>\n    </tr>\n    <tr>\n      <th>85219</th>\n      <td>I agree</td>\n      <td>I am a developer by profession</td>\n      <td>18-24 years old</td>\n      <td>Independent contractor, freelancer, or self-em...</td>\n      <td>Hybrid (some remote, some in-person)</td>\n      <td>Hobby;Contribute to open-source projects;Freel...</td>\n      <td>Bachelor’s degree (B.A., B.S., B.Eng., etc.)</td>\n      <td>Online Courses or Certification;Coding Bootcamp</td>\n      <td>NaN</td>\n      <td>Other;edX</td>\n      <td>...</td>\n      <td>NaN</td>\n      <td>NaN</td>\n      <td>NaN</td>\n      <td>NaN</td>\n      <td>NaN</td>\n      <td>NaN</td>\n      <td>NaN</td>\n      <td>Appropriate in length</td>\n      <td>Easy</td>\n      <td>NaN</td>\n    </tr>\n    <tr>\n      <th>37294</th>\n      <td>I agree</td>\n      <td>I am a developer by profession</td>\n      <td>45-54 years old</td>\n      <td>Employed, full-time</td>\n      <td>Hybrid (some remote, some in-person)</td>\n      <td>Hobby</td>\n      <td>Bachelor’s degree (B.A., B.S., B.Eng., etc.)</td>\n      <td>Online Courses or Certification;On the job tra...</td>\n      <td>Formal documentation provided by the owner of ...</td>\n      <td>NaN</td>\n      <td>...</td>\n      <td>1-2 times a week</td>\n      <td>1-2 times a week</td>\n      <td>1-2 times a week</td>\n      <td>15-30 minutes a day</td>\n      <td>Less than 15 minutes a day</td>\n      <td>DevOps function;Microservices;Automated testin...</td>\n      <td>Information Services, IT, Software Development...</td>\n      <td>Too long</td>\n      <td>Easy</td>\n      <td>198389.0</td>\n    </tr>\n    <tr>\n      <th>24134</th>\n      <td>I agree</td>\n      <td>I am a developer by profession</td>\n      <td>25-34 years old</td>\n      <td>Employed, full-time</td>\n      <td>Hybrid (some remote, some in-person)</td>\n      <td>Hobby;Bootstrapping a business</td>\n      <td>Bachelor’s degree (B.A., B.S., B.Eng., etc.)</td>\n      <td>Books / Physical media;On the job training;Oth...</td>\n      <td>Formal documentation provided by the owner of ...</td>\n      <td>NaN</td>\n      <td>...</td>\n      <td>1-2 times a week</td>\n      <td>1-2 times a week</td>\n      <td>1-2 times a week</td>\n      <td>30-60 minutes a day</td>\n      <td>30-60 minutes a day</td>\n      <td>DevOps function;Microservices;Automated testin...</td>\n      <td>Financial Services</td>\n      <td>Appropriate in length</td>\n      <td>Easy</td>\n      <td>NaN</td>\n    </tr>\n    <tr>\n      <th>84876</th>\n      <td>I agree</td>\n      <td>I am a developer by profession</td>\n      <td>35-44 years old</td>\n      <td>Employed, full-time</td>\n      <td>Hybrid (some remote, some in-person)</td>\n      <td>Hobby</td>\n      <td>Bachelor’s degree (B.A., B.S., B.Eng., etc.)</td>\n      <td>Books / Physical media;Other online resources ...</td>\n      <td>Formal documentation provided by the owner of ...</td>\n      <td>NaN</td>\n      <td>...</td>\n      <td>3-5 times a week</td>\n      <td>3-5 times a week</td>\n      <td>1-2 times a week</td>\n      <td>30-60 minutes a day</td>\n      <td>60-120 minutes a day</td>\n      <td>Microservices;Automated testing;Observability ...</td>\n      <td>Retail and Consumer Services</td>\n      <td>Appropriate in length</td>\n      <td>Neither easy nor difficult</td>\n      <td>96381.0</td>\n    </tr>\n    <tr>\n      <th>6403</th>\n      <td>I agree</td>\n      <td>I am a developer by profession</td>\n      <td>18-24 years old</td>\n      <td>Student, full-time</td>\n      <td>NaN</td>\n      <td>NaN</td>\n      <td>Bachelor’s degree (B.A., B.S., B.Eng., etc.)</td>\n      <td>Other online resources (e.g., videos, blogs, f...</td>\n      <td>Formal documentation provided by the owner of ...</td>\n      <td>NaN</td>\n      <td>...</td>\n      <td>NaN</td>\n      <td>NaN</td>\n      <td>NaN</td>\n      <td>NaN</td>\n      <td>NaN</td>\n      <td>NaN</td>\n      <td>NaN</td>\n      <td>Too long</td>\n      <td>Neither easy nor difficult</td>\n      <td>NaN</td>\n    </tr>\n    <tr>\n      <th>78611</th>\n      <td>I agree</td>\n      <td>I am a developer by profession</td>\n      <td>45-54 years old</td>\n      <td>Employed, full-time</td>\n      <td>In-person</td>\n      <td>Professional development or self-paced learnin...</td>\n      <td>Some college/university study without earning ...</td>\n      <td>Books / Physical media;Colleague;Hackathons (v...</td>\n      <td>Blogs with tips and tricks;Video-based Online ...</td>\n      <td>Codecademy;Udemy;Pluralsight;Coursera</td>\n      <td>...</td>\n      <td>NaN</td>\n      <td>NaN</td>\n      <td>NaN</td>\n      <td>NaN</td>\n      <td>NaN</td>\n      <td>NaN</td>\n      <td>NaN</td>\n      <td>NaN</td>\n      <td>Neither easy nor difficult</td>\n      <td>55285.0</td>\n    </tr>\n    <tr>\n      <th>41255</th>\n      <td>I agree</td>\n      <td>I am a developer by profession</td>\n      <td>55-64 years old</td>\n      <td>Employed, full-time</td>\n      <td>In-person</td>\n      <td>Hobby</td>\n      <td>Bachelor’s degree (B.A., B.S., B.Eng., etc.)</td>\n      <td>Books / Physical media;Colleague;Online Course...</td>\n      <td>Formal documentation provided by the owner of ...</td>\n      <td>Udemy</td>\n      <td>...</td>\n      <td>NaN</td>\n      <td>NaN</td>\n      <td>NaN</td>\n      <td>NaN</td>\n      <td>NaN</td>\n      <td>NaN</td>\n      <td>NaN</td>\n      <td>Appropriate in length</td>\n      <td>Easy</td>\n      <td>233000.0</td>\n    </tr>\n    <tr>\n      <th>17083</th>\n      <td>I agree</td>\n      <td>I am a developer by profession</td>\n      <td>25-34 years old</td>\n      <td>Employed, full-time</td>\n      <td>Remote</td>\n      <td>Hobby</td>\n      <td>Bachelor’s degree (B.A., B.S., B.Eng., etc.)</td>\n      <td>On the job training;School (i.e., University, ...</td>\n      <td>NaN</td>\n      <td>NaN</td>\n      <td>...</td>\n      <td>NaN</td>\n      <td>NaN</td>\n      <td>NaN</td>\n      <td>NaN</td>\n      <td>NaN</td>\n      <td>NaN</td>\n      <td>NaN</td>\n      <td>Appropriate in length</td>\n      <td>Easy</td>\n      <td>93104.0</td>\n    </tr>\n    <tr>\n      <th>84307</th>\n      <td>I agree</td>\n      <td>I am a developer by profession</td>\n      <td>25-34 years old</td>\n      <td>Employed, full-time</td>\n      <td>Remote</td>\n      <td>Hobby</td>\n      <td>Bachelor’s degree (B.A., B.S., B.Eng., etc.)</td>\n      <td>Books / Physical media;Colleague;On the job tr...</td>\n      <td>Formal documentation provided by the owner of ...</td>\n      <td>NaN</td>\n      <td>...</td>\n      <td>Never</td>\n      <td>1-2 times a week</td>\n      <td>1-2 times a week</td>\n      <td>30-60 minutes a day</td>\n      <td>15-30 minutes a day</td>\n      <td>DevOps function;Automated testing;Observabilit...</td>\n      <td>Information Services, IT, Software Development...</td>\n      <td>Appropriate in length</td>\n      <td>Easy</td>\n      <td>200000.0</td>\n    </tr>\n    <tr>\n      <th>31498</th>\n      <td>I agree</td>\n      <td>I am a developer by profession</td>\n      <td>25-34 years old</td>\n      <td>Employed, full-time</td>\n      <td>Hybrid (some remote, some in-person)</td>\n      <td>I don’t code outside of work</td>\n      <td>Master’s degree (M.A., M.S., M.Eng., MBA, etc.)</td>\n      <td>Books / Physical media;Online Courses or Certi...</td>\n      <td>Formal documentation provided by the owner of ...</td>\n      <td>Other;Udemy</td>\n      <td>...</td>\n      <td>1-2 times a week</td>\n      <td>1-2 times a week</td>\n      <td>1-2 times a week</td>\n      <td>30-60 minutes a day</td>\n      <td>30-60 minutes a day</td>\n      <td>DevOps function;Microservices;Observability to...</td>\n      <td>Information Services, IT, Software Development...</td>\n      <td>Too long</td>\n      <td>Difficult</td>\n      <td>130967.0</td>\n    </tr>\n    <tr>\n      <th>10971</th>\n      <td>I agree</td>\n      <td>I am a developer by profession</td>\n      <td>35-44 years old</td>\n      <td>Employed, full-time</td>\n      <td>Hybrid (some remote, some in-person)</td>\n      <td>Bootstrapping a business</td>\n      <td>Some college/university study without earning ...</td>\n      <td>Other online resources (e.g., videos, blogs, f...</td>\n      <td>How-to videos;Written Tutorials;Stack Overflow</td>\n      <td>NaN</td>\n      <td>...</td>\n      <td>NaN</td>\n      <td>NaN</td>\n      <td>NaN</td>\n      <td>NaN</td>\n      <td>NaN</td>\n      <td>NaN</td>\n      <td>NaN</td>\n      <td>Too long</td>\n      <td>Easy</td>\n      <td>79376.0</td>\n    </tr>\n    <tr>\n      <th>29841</th>\n      <td>I agree</td>\n      <td>I am not primarily a developer, but I write co...</td>\n      <td>25-34 years old</td>\n      <td>Employed, full-time;Student, full-time</td>\n      <td>In-person</td>\n      <td>Hobby;Contribute to open-source projects;Schoo...</td>\n      <td>Master’s degree (M.A., M.S., M.Eng., MBA, etc.)</td>\n      <td>Friend or family member;Other online resources...</td>\n      <td>Formal documentation provided by the owner of ...</td>\n      <td>NaN</td>\n      <td>...</td>\n      <td>NaN</td>\n      <td>NaN</td>\n      <td>NaN</td>\n      <td>NaN</td>\n      <td>NaN</td>\n      <td>NaN</td>\n      <td>NaN</td>\n      <td>Appropriate in length</td>\n      <td>Easy</td>\n      <td>NaN</td>\n    </tr>\n    <tr>\n      <th>5693</th>\n      <td>I agree</td>\n      <td>I am a developer by profession</td>\n      <td>35-44 years old</td>\n      <td>Employed, full-time</td>\n      <td>Hybrid (some remote, some in-person)</td>\n      <td>Hobby;Contribute to open-source projects</td>\n      <td>Some college/university study without earning ...</td>\n      <td>On the job training;Other online resources (e....</td>\n      <td>Formal documentation provided by the owner of ...</td>\n      <td>NaN</td>\n      <td>...</td>\n      <td>3-5 times a week</td>\n      <td>1-2 times a week</td>\n      <td>1-2 times a week</td>\n      <td>60-120 minutes a day</td>\n      <td>15-30 minutes a day</td>\n      <td>Observability tools;Continuous integration (CI...</td>\n      <td>Other</td>\n      <td>Appropriate in length</td>\n      <td>Neither easy nor difficult</td>\n      <td>25701.0</td>\n    </tr>\n  </tbody>\n</table>\n<p>15 rows × 83 columns</p>\n</div>"
     },
     "execution_count": 18,
     "metadata": {},
     "output_type": "execute_result"
    }
   ],
   "source": [
    "results.sample(15)"
   ],
   "metadata": {
    "collapsed": false,
    "ExecuteTime": {
     "end_time": "2023-12-09T04:36:46.930071Z",
     "start_time": "2023-12-09T04:36:46.923854Z"
    }
   }
  },
  {
   "cell_type": "code",
   "execution_count": 60,
   "outputs": [
    {
     "data": {
      "text/plain": "       qid        qname                                           question  \\\n0    QID16           S0  <div><span style=\"font-size:19px;\"><strong>Hel...   \n1    QID12     MetaInfo                                  Browser Meta Info   \n2   QID310         Q310  <div><span style=\"font-size:19px;\"><strong>You...   \n3   QID312         Q120                                                      \n4     QID1           S1  <span style=\"font-size:22px; font-family: aria...   \n..     ...          ...                                                ...   \n73  QID289  Knowledge_7  Waiting on answers to questions often causes i...   \n74  QID289  Knowledge_8  I feel like I have the tools and/or resources ...   \n75  QID290  Frequency_1  Needing help from people outside of your immed...   \n76  QID290  Frequency_2  Interacting with people outside of your immedi...   \n77  QID290  Frequency_3  Encountering knowledge silos (where one indivi...   \n\n   force_resp  type selector  \n0       False    DB       TB  \n1       False  Meta  Browser  \n2       False    DB       TB  \n3        True    MC     SAVR  \n4       False    DB       TB  \n..        ...   ...      ...  \n73        NaN    MC     MAVR  \n74        NaN    MC     MAVR  \n75        NaN    MC     MAVR  \n76        NaN    MC     MAVR  \n77        NaN    MC     MAVR  \n\n[78 rows x 6 columns]",
      "text/html": "<div>\n<style scoped>\n    .dataframe tbody tr th:only-of-type {\n        vertical-align: middle;\n    }\n\n    .dataframe tbody tr th {\n        vertical-align: top;\n    }\n\n    .dataframe thead th {\n        text-align: right;\n    }\n</style>\n<table border=\"1\" class=\"dataframe\">\n  <thead>\n    <tr style=\"text-align: right;\">\n      <th></th>\n      <th>qid</th>\n      <th>qname</th>\n      <th>question</th>\n      <th>force_resp</th>\n      <th>type</th>\n      <th>selector</th>\n    </tr>\n  </thead>\n  <tbody>\n    <tr>\n      <th>0</th>\n      <td>QID16</td>\n      <td>S0</td>\n      <td>&lt;div&gt;&lt;span style=\"font-size:19px;\"&gt;&lt;strong&gt;Hel...</td>\n      <td>False</td>\n      <td>DB</td>\n      <td>TB</td>\n    </tr>\n    <tr>\n      <th>1</th>\n      <td>QID12</td>\n      <td>MetaInfo</td>\n      <td>Browser Meta Info</td>\n      <td>False</td>\n      <td>Meta</td>\n      <td>Browser</td>\n    </tr>\n    <tr>\n      <th>2</th>\n      <td>QID310</td>\n      <td>Q310</td>\n      <td>&lt;div&gt;&lt;span style=\"font-size:19px;\"&gt;&lt;strong&gt;You...</td>\n      <td>False</td>\n      <td>DB</td>\n      <td>TB</td>\n    </tr>\n    <tr>\n      <th>3</th>\n      <td>QID312</td>\n      <td>Q120</td>\n      <td></td>\n      <td>True</td>\n      <td>MC</td>\n      <td>SAVR</td>\n    </tr>\n    <tr>\n      <th>4</th>\n      <td>QID1</td>\n      <td>S1</td>\n      <td>&lt;span style=\"font-size:22px; font-family: aria...</td>\n      <td>False</td>\n      <td>DB</td>\n      <td>TB</td>\n    </tr>\n    <tr>\n      <th>...</th>\n      <td>...</td>\n      <td>...</td>\n      <td>...</td>\n      <td>...</td>\n      <td>...</td>\n      <td>...</td>\n    </tr>\n    <tr>\n      <th>73</th>\n      <td>QID289</td>\n      <td>Knowledge_7</td>\n      <td>Waiting on answers to questions often causes i...</td>\n      <td>NaN</td>\n      <td>MC</td>\n      <td>MAVR</td>\n    </tr>\n    <tr>\n      <th>74</th>\n      <td>QID289</td>\n      <td>Knowledge_8</td>\n      <td>I feel like I have the tools and/or resources ...</td>\n      <td>NaN</td>\n      <td>MC</td>\n      <td>MAVR</td>\n    </tr>\n    <tr>\n      <th>75</th>\n      <td>QID290</td>\n      <td>Frequency_1</td>\n      <td>Needing help from people outside of your immed...</td>\n      <td>NaN</td>\n      <td>MC</td>\n      <td>MAVR</td>\n    </tr>\n    <tr>\n      <th>76</th>\n      <td>QID290</td>\n      <td>Frequency_2</td>\n      <td>Interacting with people outside of your immedi...</td>\n      <td>NaN</td>\n      <td>MC</td>\n      <td>MAVR</td>\n    </tr>\n    <tr>\n      <th>77</th>\n      <td>QID290</td>\n      <td>Frequency_3</td>\n      <td>Encountering knowledge silos (where one indivi...</td>\n      <td>NaN</td>\n      <td>MC</td>\n      <td>MAVR</td>\n    </tr>\n  </tbody>\n</table>\n<p>78 rows × 6 columns</p>\n</div>"
     },
     "execution_count": 60,
     "metadata": {},
     "output_type": "execute_result"
    }
   ],
   "source": [
    "schema.head(78)"
   ],
   "metadata": {
    "collapsed": false,
    "ExecuteTime": {
     "end_time": "2023-12-09T05:08:23.953277Z",
     "start_time": "2023-12-09T05:08:23.951206Z"
    }
   }
  },
  {
   "cell_type": "code",
   "execution_count": 16,
   "outputs": [
    {
     "name": "stdout",
     "output_type": "stream",
     "text": [
      "(89184, 83)\n",
      "(78, 6)\n"
     ]
    }
   ],
   "source": [
    "print(results.shape)\n",
    "print(schema.shape)"
   ],
   "metadata": {
    "collapsed": false,
    "ExecuteTime": {
     "end_time": "2023-12-09T04:36:01.229217Z",
     "start_time": "2023-12-09T04:36:01.218175Z"
    }
   }
  },
  {
   "cell_type": "code",
   "execution_count": 23,
   "outputs": [
    {
     "name": "stdout",
     "output_type": "stream",
     "text": [
      "<class 'pandas.core.frame.DataFrame'>\n",
      "RangeIndex: 78 entries, 0 to 77\n",
      "Data columns (total 6 columns):\n",
      " #   Column      Non-Null Count  Dtype \n",
      "---  ------      --------------  ----- \n",
      " 0   qid         78 non-null     object\n",
      " 1   qname       78 non-null     object\n",
      " 2   question    78 non-null     object\n",
      " 3   force_resp  67 non-null     object\n",
      " 4   type        78 non-null     object\n",
      " 5   selector    78 non-null     object\n",
      "dtypes: object(6)\n",
      "memory usage: 3.8+ KB\n"
     ]
    }
   ],
   "source": [
    "schema.info()"
   ],
   "metadata": {
    "collapsed": false,
    "ExecuteTime": {
     "end_time": "2023-12-09T04:48:34.133970Z",
     "start_time": "2023-12-09T04:48:34.131870Z"
    }
   }
  },
  {
   "cell_type": "code",
   "execution_count": 24,
   "outputs": [
    {
     "name": "stdout",
     "output_type": "stream",
     "text": [
      "<class 'pandas.core.frame.DataFrame'>\n",
      "Index: 89184 entries, 1 to 89184\n",
      "Data columns (total 83 columns):\n",
      " #   Column                               Non-Null Count  Dtype  \n",
      "---  ------                               --------------  -----  \n",
      " 0   Q120                                 89184 non-null  object \n",
      " 1   MainBranch                           89184 non-null  object \n",
      " 2   Age                                  89184 non-null  object \n",
      " 3   Employment                           87898 non-null  object \n",
      " 4   RemoteWork                           73810 non-null  object \n",
      " 5   CodingActivities                     73764 non-null  object \n",
      " 6   EdLevel                              87973 non-null  object \n",
      " 7   LearnCode                            87663 non-null  object \n",
      " 8   LearnCodeOnline                      70084 non-null  object \n",
      " 9   LearnCodeCoursesCert                 37076 non-null  object \n",
      " 10  YearsCode                            87435 non-null  object \n",
      " 11  YearsCodePro                         66136 non-null  object \n",
      " 12  DevType                              76872 non-null  object \n",
      " 13  OrgSize                              65043 non-null  object \n",
      " 14  PurchaseInfluence                    64964 non-null  object \n",
      " 15  TechList                             60851 non-null  object \n",
      " 16  BuyNewTool                           83009 non-null  object \n",
      " 17  Country                              87973 non-null  object \n",
      " 18  Currency                             65334 non-null  object \n",
      " 19  CompTotal                            48225 non-null  float64\n",
      " 20  LanguageHaveWorkedWith               87140 non-null  object \n",
      " 21  LanguageWantToWorkWith               80709 non-null  object \n",
      " 22  DatabaseHaveWorkedWith               73435 non-null  object \n",
      " 23  DatabaseWantToWorkWith               60911 non-null  object \n",
      " 24  PlatformHaveWorkedWith               63628 non-null  object \n",
      " 25  PlatformWantToWorkWith               51308 non-null  object \n",
      " 26  WebframeHaveWorkedWith               66938 non-null  object \n",
      " 27  WebframeWantToWorkWith               56741 non-null  object \n",
      " 28  MiscTechHaveWorkedWith               57019 non-null  object \n",
      " 29  MiscTechWantToWorkWith               46848 non-null  object \n",
      " 30  ToolsTechHaveWorkedWith              77884 non-null  object \n",
      " 31  ToolsTechWantToWorkWith              68315 non-null  object \n",
      " 32  NEWCollabToolsHaveWorkedWith         85864 non-null  object \n",
      " 33  NEWCollabToolsWantToWorkWith         76649 non-null  object \n",
      " 34  OpSysPersonal use                    86557 non-null  object \n",
      " 35  OpSysProfessional use                78587 non-null  object \n",
      " 36  OfficeStackAsyncHaveWorkedWith       69090 non-null  object \n",
      " 37  OfficeStackAsyncWantToWorkWith       53743 non-null  object \n",
      " 38  OfficeStackSyncHaveWorkedWith        83439 non-null  object \n",
      " 39  OfficeStackSyncWantToWorkWith        69776 non-null  object \n",
      " 40  AISearchHaveWorkedWith               56328 non-null  object \n",
      " 41  AISearchWantToWorkWith               46150 non-null  object \n",
      " 42  AIDevHaveWorkedWith                  25904 non-null  object \n",
      " 43  AIDevWantToWorkWith                  19587 non-null  object \n",
      " 44  NEWSOSites                           87973 non-null  object \n",
      " 45  SOVisitFreq                          87140 non-null  object \n",
      " 46  SOAccount                            87852 non-null  object \n",
      " 47  SOPartFreq                           66061 non-null  object \n",
      " 48  SOComm                               87692 non-null  object \n",
      " 49  SOAI                                 47858 non-null  object \n",
      " 50  AISelect                             87973 non-null  object \n",
      " 51  AISent                               61501 non-null  object \n",
      " 52  AIAcc                                38594 non-null  object \n",
      " 53  AIBen                                61396 non-null  object \n",
      " 54  AIToolInterested in Using            32783 non-null  object \n",
      " 55  AIToolCurrently Using                36137 non-null  object \n",
      " 56  AIToolNot interested in Using        21069 non-null  object \n",
      " 57  AINextVery different                 12661 non-null  object \n",
      " 58  AINextNeither different nor similar  6599 non-null   object \n",
      " 59  AINextSomewhat similar               6238 non-null   object \n",
      " 60  AINextVery similar                   2621 non-null   object \n",
      " 61  AINextSomewhat different             23303 non-null  object \n",
      " 62  TBranch                              65768 non-null  object \n",
      " 63  ICorPM                               43668 non-null  object \n",
      " 64  WorkExp                              43579 non-null  float64\n",
      " 65  Knowledge_1                          42535 non-null  object \n",
      " 66  Knowledge_2                          41670 non-null  object \n",
      " 67  Knowledge_3                          41798 non-null  object \n",
      " 68  Knowledge_4                          41684 non-null  object \n",
      " 69  Knowledge_5                          41527 non-null  object \n",
      " 70  Knowledge_6                          41520 non-null  object \n",
      " 71  Knowledge_7                          41467 non-null  object \n",
      " 72  Knowledge_8                          41404 non-null  object \n",
      " 73  Frequency_1                          41916 non-null  object \n",
      " 74  Frequency_2                          41925 non-null  object \n",
      " 75  Frequency_3                          41054 non-null  object \n",
      " 76  TimeSearching                        42778 non-null  object \n",
      " 77  TimeAnswering                        42629 non-null  object \n",
      " 78  ProfessionalTech                     41783 non-null  object \n",
      " 79  Industry                             36774 non-null  object \n",
      " 80  SurveyLength                         86485 non-null  object \n",
      " 81  SurveyEase                           86554 non-null  object \n",
      " 82  ConvertedCompYearly                  48019 non-null  float64\n",
      "dtypes: float64(3), object(80)\n",
      "memory usage: 57.2+ MB\n"
     ]
    }
   ],
   "source": [
    "results.info()"
   ],
   "metadata": {
    "collapsed": false,
    "ExecuteTime": {
     "end_time": "2023-12-09T04:48:36.248272Z",
     "start_time": "2023-12-09T04:48:36.241344Z"
    }
   }
  },
  {
   "cell_type": "code",
   "execution_count": 80,
   "outputs": [
    {
     "data": {
      "text/plain": "          CompTotal       WorkExp  ConvertedCompYearly\ncount  4.822500e+04  43579.000000         4.801900e+04\nmean   1.036807e+42     11.405126         1.031101e+05\nstd    2.276847e+44      9.051989         6.814188e+05\nmin    0.000000e+00      0.000000         1.000000e+00\n25%    6.300000e+04      5.000000         4.390700e+04\n50%    1.150000e+05      9.000000         7.496300e+04\n75%    2.300000e+05     16.000000         1.216410e+05\nmax    5.000000e+46     50.000000         7.435143e+07",
      "text/html": "<div>\n<style scoped>\n    .dataframe tbody tr th:only-of-type {\n        vertical-align: middle;\n    }\n\n    .dataframe tbody tr th {\n        vertical-align: top;\n    }\n\n    .dataframe thead th {\n        text-align: right;\n    }\n</style>\n<table border=\"1\" class=\"dataframe\">\n  <thead>\n    <tr style=\"text-align: right;\">\n      <th></th>\n      <th>CompTotal</th>\n      <th>WorkExp</th>\n      <th>ConvertedCompYearly</th>\n    </tr>\n  </thead>\n  <tbody>\n    <tr>\n      <th>count</th>\n      <td>4.822500e+04</td>\n      <td>43579.000000</td>\n      <td>4.801900e+04</td>\n    </tr>\n    <tr>\n      <th>mean</th>\n      <td>1.036807e+42</td>\n      <td>11.405126</td>\n      <td>1.031101e+05</td>\n    </tr>\n    <tr>\n      <th>std</th>\n      <td>2.276847e+44</td>\n      <td>9.051989</td>\n      <td>6.814188e+05</td>\n    </tr>\n    <tr>\n      <th>min</th>\n      <td>0.000000e+00</td>\n      <td>0.000000</td>\n      <td>1.000000e+00</td>\n    </tr>\n    <tr>\n      <th>25%</th>\n      <td>6.300000e+04</td>\n      <td>5.000000</td>\n      <td>4.390700e+04</td>\n    </tr>\n    <tr>\n      <th>50%</th>\n      <td>1.150000e+05</td>\n      <td>9.000000</td>\n      <td>7.496300e+04</td>\n    </tr>\n    <tr>\n      <th>75%</th>\n      <td>2.300000e+05</td>\n      <td>16.000000</td>\n      <td>1.216410e+05</td>\n    </tr>\n    <tr>\n      <th>max</th>\n      <td>5.000000e+46</td>\n      <td>50.000000</td>\n      <td>7.435143e+07</td>\n    </tr>\n  </tbody>\n</table>\n</div>"
     },
     "execution_count": 80,
     "metadata": {},
     "output_type": "execute_result"
    }
   ],
   "source": [
    "results.describe()"
   ],
   "metadata": {
    "collapsed": false,
    "ExecuteTime": {
     "end_time": "2023-12-09T05:45:16.367136Z",
     "start_time": "2023-12-09T05:45:16.337845Z"
    }
   }
  },
  {
   "cell_type": "code",
   "execution_count": 82,
   "outputs": [
    {
     "data": {
      "text/plain": "1203"
     },
     "execution_count": 82,
     "metadata": {},
     "output_type": "execute_result"
    }
   ],
   "source": [
    "## Count duplicate rows \n",
    "results.duplicated().sum()"
   ],
   "metadata": {
    "collapsed": false,
    "ExecuteTime": {
     "end_time": "2023-12-09T05:46:28.289149Z",
     "start_time": "2023-12-09T05:46:27.891375Z"
    }
   }
  }
 ],
 "metadata": {
  "kaggle": {
   "accelerator": "none",
   "dataSources": [],
   "dockerImageVersionId": 30587,
   "isGpuEnabled": false,
   "isInternetEnabled": true,
   "language": "python",
   "sourceType": "notebook"
  },
  "kernelspec": {
   "display_name": "Python 3",
   "language": "python",
   "name": "python3"
  },
  "language_info": {
   "codemirror_mode": {
    "name": "ipython",
    "version": 3
   },
   "file_extension": ".py",
   "mimetype": "text/x-python",
   "name": "python",
   "nbconvert_exporter": "python",
   "pygments_lexer": "ipython3",
   "version": "3.11.6"
  }
 },
 "nbformat": 4,
 "nbformat_minor": 4
}
