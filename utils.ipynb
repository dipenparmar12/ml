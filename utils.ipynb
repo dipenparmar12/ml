{
 "cells": [
  {
   "cell_type": "code",
   "execution_count": 4,
   "id": "initial_id",
   "metadata": {
    "collapsed": true,
    "ExecuteTime": {
     "end_time": "2023-12-26T05:48:26.120303Z",
     "start_time": "2023-12-26T05:48:26.116056Z"
    }
   },
   "outputs": [],
   "source": [
    "import pandas as pd  # data processing\n",
    "from sklearn.base import BaseEstimator, TransformerMixin\n",
    "# import numpy as np  # linear algebra\n",
    "# import matplotlib.pyplot as plt\n",
    "# import seaborn as sns"
   ]
  },
  {
   "cell_type": "code",
   "execution_count": 5,
   "outputs": [],
   "source": [
    "from sklearn.impute import SimpleImputer\n",
    "from sklearn.preprocessing import OneHotEncoder\n",
    "# from sklearn.compose import ColumnTransformer"
   ],
   "metadata": {
    "collapsed": false,
    "ExecuteTime": {
     "end_time": "2023-12-26T05:48:26.503237Z",
     "start_time": "2023-12-26T05:48:26.500475Z"
    }
   },
   "id": "f240058fb79c82e3"
  },
  {
   "cell_type": "code",
   "execution_count": 6,
   "outputs": [],
   "source": [
    "class ColumnSelector(BaseEstimator, TransformerMixin):\n",
    "    \"\"\"\n",
    "    Selects specific columns from a DataFrame.\n",
    "    Example:\n",
    "        selector = ColumnSelector(['Age', 'Test'])\n",
    "        selector.fit_transform(df)\n",
    "    \"\"\"\n",
    "\n",
    "    def __init__(self, columns_to_keep):\n",
    "        \"\"\"\n",
    "        columns_to_keep (list): List of column names to be selected.\n",
    "        \"\"\"\n",
    "        self.columns_to_keep = columns_to_keep\n",
    "\n",
    "    def fit(self, X, y=None):\n",
    "        return self\n",
    "\n",
    "    def transform(self, X):\n",
    "        \"\"\"\n",
    "        Returns:\n",
    "        selected_columns (DataFrame): DataFrame with selected columns.\n",
    "        \"\"\"\n",
    "        x_copy = X.copy()\n",
    "        # selected_columns = X[self.columns_to_keep]\n",
    "        # selected_columns = [x for x in x_copy if x in self.columns_to_keep]\n",
    "        selected_columns = list(set(self.columns_to_keep) & set(X.columns))  # list-intersection\n",
    "        return x_copy[selected_columns]"
   ],
   "metadata": {
    "collapsed": false,
    "ExecuteTime": {
     "end_time": "2023-12-26T05:48:27.196376Z",
     "start_time": "2023-12-26T05:48:27.192629Z"
    }
   },
   "id": "f889b5bd2aa334a4"
  },
  {
   "cell_type": "code",
   "execution_count": 10,
   "outputs": [],
   "source": [
    "class Imputer(BaseEstimator, TransformerMixin):\n",
    "    \"\"\"\n",
    "    Example: \n",
    "        imputer = Imputer(['Age'])\n",
    "        imputer.fit_transform(df)\n",
    "    \"\"\"\n",
    "\n",
    "    def __init__(self, columns_to_impute, **kwargs):\n",
    "        self.columns_to_impute = columns_to_impute\n",
    "        self.strategy = kwargs.get('strategy', 'mean')\n",
    "\n",
    "    def fit(self, X, y=None):\n",
    "        return self\n",
    "\n",
    "    def transform(self, X):\n",
    "        x_copy = X.copy()\n",
    "        selected_columns = x_copy[self.columns_to_impute]\n",
    "        imputer = SimpleImputer(strategy=self.strategy)\n",
    "        x_copy.loc[:, self.columns_to_impute] = imputer.fit_transform(selected_columns)\n",
    "        # X['Age'] = imputer.fit_transform(selected_columns)\n",
    "\n",
    "        return X"
   ],
   "metadata": {
    "collapsed": false,
    "ExecuteTime": {
     "end_time": "2023-12-26T05:48:57.907166Z",
     "start_time": "2023-12-26T05:48:57.903804Z"
    }
   },
   "id": "2323e5b4a88849b5"
  },
  {
   "cell_type": "code",
   "execution_count": 12,
   "outputs": [],
   "source": [
    "class FeatureEncode(BaseEstimator, TransformerMixin):\n",
    "    \"\"\"\n",
    "    Example:\n",
    "        feature_encoder = FeatureEncode('Sex', val_replace={'male': 1, 'female': 0})\n",
    "        feature_encoder.fit_transform(df)       \n",
    "    \"\"\"\n",
    "\n",
    "    def __init__(self, column_name, **kwargs):\n",
    "        self.column_name = column_name\n",
    "        self.val_replace = kwargs.get('val_replace', {'male': 1, 'female': 0})\n",
    "\n",
    "    def fit(self, X, y=None):\n",
    "        return self\n",
    "\n",
    "    def transform(self, X):\n",
    "        x_copy = X.copy()\n",
    "        x_copy.loc[:, [self.column_name]] = x_copy[self.column_name].replace(self.val_replace)\n",
    "        return x_copy"
   ],
   "metadata": {
    "collapsed": false,
    "ExecuteTime": {
     "end_time": "2023-12-26T05:49:00.056133Z",
     "start_time": "2023-12-26T05:49:00.054414Z"
    }
   },
   "id": "9b8b58d50a8f5341"
  },
  {
   "cell_type": "code",
   "execution_count": null,
   "outputs": [],
   "source": [
    "class Ohe(BaseEstimator, TransformerMixin):\n",
    "    \"\"\"\n",
    "    One-hot encoding\n",
    "    ohe = Ohe(column_name='Embarked', drop_original=True)\n",
    "    ohe.fit_transform(pd.read_csv('./data.csv'))\n",
    "    \"\"\"\n",
    "\n",
    "    def __init__(self, column_name, **kwargs):\n",
    "        self.column_name = column_name\n",
    "        self.drop = kwargs.get('drop', None)  # first\n",
    "        self.drop_original = kwargs.get('drop_original', False)\n",
    "\n",
    "    def fit(self, X, y=None):\n",
    "        return self\n",
    "\n",
    "    def transform(self, X):\n",
    "        x_copy = X.copy()\n",
    "        encoder = OneHotEncoder(sparse_output=False, drop=self.drop)\n",
    "        matrix = encoder.fit_transform(x_copy.loc[:, [self.column_name]])\n",
    "\n",
    "        # # Retrieve feature names\n",
    "        feature_names = encoder.get_feature_names_out(input_features=[self.column_name])\n",
    "        x_copy = pd.concat([df, pd.DataFrame(matrix, columns=feature_names)], axis=1)\n",
    "\n",
    "        if self.drop_original:\n",
    "            x_copy.drop(columns=[self.column_name], inplace=True)\n",
    "        return x_copy"
   ],
   "metadata": {
    "collapsed": false
   },
   "id": "3cc6348ca63d7e04"
  }
 ],
 "metadata": {
  "kernelspec": {
   "display_name": "Python 3",
   "language": "python",
   "name": "python3"
  },
  "language_info": {
   "codemirror_mode": {
    "name": "ipython",
    "version": 2
   },
   "file_extension": ".py",
   "mimetype": "text/x-python",
   "name": "python",
   "nbconvert_exporter": "python",
   "pygments_lexer": "ipython2",
   "version": "2.7.6"
  }
 },
 "nbformat": 4,
 "nbformat_minor": 5
}
