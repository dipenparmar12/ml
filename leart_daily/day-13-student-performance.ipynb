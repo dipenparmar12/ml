{
 "metadata": {
  "kernelspec": {
   "language": "python",
   "display_name": "Python 3",
   "name": "python3"
  },
  "language_info": {
   "name": "python",
   "version": "3.10.12",
   "mimetype": "text/x-python",
   "codemirror_mode": {
    "name": "ipython",
    "version": 3
   },
   "pygments_lexer": "ipython3",
   "nbconvert_exporter": "python",
   "file_extension": ".py"
  },
  "kaggle": {
   "accelerator": "none",
   "dataSources": [
    {
     "sourceId": 7082327,
     "sourceType": "datasetVersion",
     "datasetId": 4080093
    }
   ],
   "dockerImageVersionId": 30587,
   "isInternetEnabled": false,
   "language": "python",
   "sourceType": "notebook",
   "isGpuEnabled": false
  }
 },
 "nbformat_minor": 4,
 "nbformat": 4,
 "cells": [
  {
   "cell_type": "markdown",
   "source": [
    "#### Steps to follow \n",
    "- Preprocess + EDA + Feature Selection\n",
    "- Extract input and output cols\n",
    "- Scale the values\n",
    "- Train test split\n",
    "- Train the model\n",
    "- Evaluate the model/model selection\n",
    "- Deploy the model\n"
   ],
   "metadata": {}
  },
  {
   "cell_type": "code",
   "source": [
    "# # This Python 3 environment comes with many helpful analytics libraries installed\n",
    "# # It is defined by the kaggle/python Docker image: https://github.com/kaggle/docker-python\n",
    "# # For example, here's several helpful packages to load\n",
    "# \n",
    "# import numpy as np # linear algebra\n",
    "# import pandas as pd # data processing, CSV file I/O (e.g. pd.read_csv)\n",
    "# \n",
    "# # Input data files are available in the read-only \"../input/\" directory\n",
    "# # For example, running this (by clicking run or pressing Shift+Enter) will list all files under the input directory\n",
    "# \n",
    "# import os\n",
    "# for dirname, _, filenames in os.walk('/kaggle/input'):\n",
    "#     for filename in filenames:\n",
    "#         print(os.path.join(dirname, filename))\n",
    "# \n",
    "# # You can write up to 20GB to the current directory (/kaggle/working/) that gets preserved as output when you create a version using \"Save & Run All\" \n",
    "# # You can also write temporary files to /kaggle/temp/, but they won't be saved outside of the current session"
   ],
   "metadata": {
    "_uuid": "8f2839f25d086af736a60e9eeb907d3b93b6e0e5",
    "_cell_guid": "b1076dfc-b9ad-4769-8c92-a6c4dae69d19",
    "execution": {
     "iopub.status.busy": "2023-11-29T13:14:50.323984Z",
     "iopub.execute_input": "2023-11-29T13:14:50.324371Z",
     "iopub.status.idle": "2023-11-29T13:14:50.515828Z",
     "shell.execute_reply.started": "2023-11-29T13:14:50.324340Z",
     "shell.execute_reply": "2023-11-29T13:14:50.514916Z"
    },
    "trusted": true
   },
   "execution_count": 61,
   "outputs": [
    {
     "name": "stdout",
     "text": "/kaggle/input/day-13-student-performance-raw/day_13_student_performance_raw.csv\n",
     "output_type": "stream"
    }
   ]
  },
  {
   "cell_type": "code",
   "source": [
    "import pandas as pd\n",
    "\n",
    "df = pd.read_csv('/kaggle/input/day-13-student-performance-raw/day_13_student_performance_raw.csv')\n",
    "\n",
    "## Mapping 1 to 'Yes' and 0 to 'No' for the 'placement' column\n",
    "# df['placement'] = df['placement'].map({1: 'Yes', 0: 'No'})\n",
    "# df.placement = df.placement.replace({'Yes':1,'No':0})"
   ],
   "metadata": {
    "execution": {
     "iopub.status.busy": "2023-11-29T13:14:50.517533Z",
     "iopub.execute_input": "2023-11-29T13:14:50.518706Z",
     "iopub.status.idle": "2023-11-29T13:14:50.533737Z",
     "shell.execute_reply.started": "2023-11-29T13:14:50.518636Z",
     "shell.execute_reply": "2023-11-29T13:14:50.532433Z"
    },
    "trusted": true
   },
   "execution_count": 62,
   "outputs": []
  },
  {
   "cell_type": "code",
   "source": [
    "df"
   ],
   "metadata": {
    "execution": {
     "iopub.status.busy": "2023-11-29T13:14:50.535492Z",
     "iopub.execute_input": "2023-11-29T13:14:50.535842Z",
     "iopub.status.idle": "2023-11-29T13:14:50.553134Z",
     "shell.execute_reply.started": "2023-11-29T13:14:50.535813Z",
     "shell.execute_reply": "2023-11-29T13:14:50.552212Z"
    },
    "trusted": true
   },
   "execution_count": 63,
   "outputs": [
    {
     "execution_count": 63,
     "output_type": "execute_result",
     "data": {
      "text/plain": "     id        name  cgpa   iq  age      dob    college  gender  math_score  \\\n0     1    Student1   6.8  123   21  40:06.7  College A  Female          71   \n1     2    Student2   5.9  106   19  40:06.7  College B    Male          91   \n2     3    Student3   5.3  121   18  40:06.7  College C  Female          69   \n3     4    Student4   7.4  132   21  40:06.7  College C    Male          86   \n4     5    Student5   5.8  142   21  40:06.7  College C  Female          74   \n..  ...         ...   ...  ...  ...      ...        ...     ...         ...   \n95   96   Student96   4.3  200   22  40:06.7  College C  Female          84   \n96   97   Student97   4.4   42   18  40:06.7  College C    Male          43   \n97   98   Student98   6.7  182   23  40:06.7  College C  Female          55   \n98   99   Student99   6.3  103   22  40:06.7  College B    Male          63   \n99  100  Student100   6.2  113   24  40:06.7  College C  Female          55   \n\n    placement  \n0           1  \n1           0  \n2           0  \n3           1  \n4           0  \n..        ...  \n95          0  \n96          0  \n97          1  \n98          1  \n99          1  \n\n[100 rows x 10 columns]",
      "text/html": "<div>\n<style scoped>\n    .dataframe tbody tr th:only-of-type {\n        vertical-align: middle;\n    }\n\n    .dataframe tbody tr th {\n        vertical-align: top;\n    }\n\n    .dataframe thead th {\n        text-align: right;\n    }\n</style>\n<table border=\"1\" class=\"dataframe\">\n  <thead>\n    <tr style=\"text-align: right;\">\n      <th></th>\n      <th>id</th>\n      <th>name</th>\n      <th>cgpa</th>\n      <th>iq</th>\n      <th>age</th>\n      <th>dob</th>\n      <th>college</th>\n      <th>gender</th>\n      <th>math_score</th>\n      <th>placement</th>\n    </tr>\n  </thead>\n  <tbody>\n    <tr>\n      <th>0</th>\n      <td>1</td>\n      <td>Student1</td>\n      <td>6.8</td>\n      <td>123</td>\n      <td>21</td>\n      <td>40:06.7</td>\n      <td>College A</td>\n      <td>Female</td>\n      <td>71</td>\n      <td>1</td>\n    </tr>\n    <tr>\n      <th>1</th>\n      <td>2</td>\n      <td>Student2</td>\n      <td>5.9</td>\n      <td>106</td>\n      <td>19</td>\n      <td>40:06.7</td>\n      <td>College B</td>\n      <td>Male</td>\n      <td>91</td>\n      <td>0</td>\n    </tr>\n    <tr>\n      <th>2</th>\n      <td>3</td>\n      <td>Student3</td>\n      <td>5.3</td>\n      <td>121</td>\n      <td>18</td>\n      <td>40:06.7</td>\n      <td>College C</td>\n      <td>Female</td>\n      <td>69</td>\n      <td>0</td>\n    </tr>\n    <tr>\n      <th>3</th>\n      <td>4</td>\n      <td>Student4</td>\n      <td>7.4</td>\n      <td>132</td>\n      <td>21</td>\n      <td>40:06.7</td>\n      <td>College C</td>\n      <td>Male</td>\n      <td>86</td>\n      <td>1</td>\n    </tr>\n    <tr>\n      <th>4</th>\n      <td>5</td>\n      <td>Student5</td>\n      <td>5.8</td>\n      <td>142</td>\n      <td>21</td>\n      <td>40:06.7</td>\n      <td>College C</td>\n      <td>Female</td>\n      <td>74</td>\n      <td>0</td>\n    </tr>\n    <tr>\n      <th>...</th>\n      <td>...</td>\n      <td>...</td>\n      <td>...</td>\n      <td>...</td>\n      <td>...</td>\n      <td>...</td>\n      <td>...</td>\n      <td>...</td>\n      <td>...</td>\n      <td>...</td>\n    </tr>\n    <tr>\n      <th>95</th>\n      <td>96</td>\n      <td>Student96</td>\n      <td>4.3</td>\n      <td>200</td>\n      <td>22</td>\n      <td>40:06.7</td>\n      <td>College C</td>\n      <td>Female</td>\n      <td>84</td>\n      <td>0</td>\n    </tr>\n    <tr>\n      <th>96</th>\n      <td>97</td>\n      <td>Student97</td>\n      <td>4.4</td>\n      <td>42</td>\n      <td>18</td>\n      <td>40:06.7</td>\n      <td>College C</td>\n      <td>Male</td>\n      <td>43</td>\n      <td>0</td>\n    </tr>\n    <tr>\n      <th>97</th>\n      <td>98</td>\n      <td>Student98</td>\n      <td>6.7</td>\n      <td>182</td>\n      <td>23</td>\n      <td>40:06.7</td>\n      <td>College C</td>\n      <td>Female</td>\n      <td>55</td>\n      <td>1</td>\n    </tr>\n    <tr>\n      <th>98</th>\n      <td>99</td>\n      <td>Student99</td>\n      <td>6.3</td>\n      <td>103</td>\n      <td>22</td>\n      <td>40:06.7</td>\n      <td>College B</td>\n      <td>Male</td>\n      <td>63</td>\n      <td>1</td>\n    </tr>\n    <tr>\n      <th>99</th>\n      <td>100</td>\n      <td>Student100</td>\n      <td>6.2</td>\n      <td>113</td>\n      <td>24</td>\n      <td>40:06.7</td>\n      <td>College C</td>\n      <td>Female</td>\n      <td>55</td>\n      <td>1</td>\n    </tr>\n  </tbody>\n</table>\n<p>100 rows × 10 columns</p>\n</div>"
     },
     "metadata": {}
    }
   ]
  },
  {
   "cell_type": "code",
   "source": [
    "df.info()"
   ],
   "metadata": {
    "execution": {
     "iopub.status.busy": "2023-11-29T13:14:50.555581Z",
     "iopub.execute_input": "2023-11-29T13:14:50.556725Z",
     "iopub.status.idle": "2023-11-29T13:14:50.568408Z",
     "shell.execute_reply.started": "2023-11-29T13:14:50.556687Z",
     "shell.execute_reply": "2023-11-29T13:14:50.567165Z"
    },
    "trusted": true
   },
   "execution_count": 64,
   "outputs": [
    {
     "name": "stdout",
     "text": "<class 'pandas.core.frame.DataFrame'>\nRangeIndex: 100 entries, 0 to 99\nData columns (total 10 columns):\n #   Column      Non-Null Count  Dtype  \n---  ------      --------------  -----  \n 0   id          100 non-null    int64  \n 1   name        100 non-null    object \n 2   cgpa        100 non-null    float64\n 3   iq          100 non-null    int64  \n 4   age         100 non-null    int64  \n 5   dob         100 non-null    object \n 6   college     100 non-null    object \n 7   gender      100 non-null    object \n 8   math_score  100 non-null    int64  \n 9   placement   100 non-null    int64  \ndtypes: float64(1), int64(5), object(4)\nmemory usage: 7.9+ KB\n",
     "output_type": "stream"
    }
   ]
  },
  {
   "cell_type": "code",
   "source": [
    "df = df[['cgpa','iq','placement']]\n",
    "\n",
    "# features = iq, cgpa\n",
    "# depended_var = placement"
   ],
   "metadata": {
    "execution": {
     "iopub.status.busy": "2023-11-29T13:14:50.569559Z",
     "iopub.execute_input": "2023-11-29T13:14:50.569842Z",
     "iopub.status.idle": "2023-11-29T13:14:50.583594Z",
     "shell.execute_reply.started": "2023-11-29T13:14:50.569818Z",
     "shell.execute_reply": "2023-11-29T13:14:50.582070Z"
    },
    "trusted": true
   },
   "execution_count": 65,
   "outputs": []
  },
  {
   "cell_type": "code",
   "source": [
    "df.placement.unique()"
   ],
   "metadata": {
    "execution": {
     "iopub.status.busy": "2023-11-29T13:14:50.585336Z",
     "iopub.execute_input": "2023-11-29T13:14:50.585651Z",
     "iopub.status.idle": "2023-11-29T13:14:50.598572Z",
     "shell.execute_reply.started": "2023-11-29T13:14:50.585621Z",
     "shell.execute_reply": "2023-11-29T13:14:50.597631Z"
    },
    "trusted": true
   },
   "execution_count": 66,
   "outputs": [
    {
     "execution_count": 66,
     "output_type": "execute_result",
     "data": {
      "text/plain": "array([1, 0])"
     },
     "metadata": {}
    }
   ]
  },
  {
   "cell_type": "code",
   "source": [
    "import matplotlib.pyplot as plt"
   ],
   "metadata": {
    "execution": {
     "iopub.status.busy": "2023-11-29T13:14:50.599826Z",
     "iopub.execute_input": "2023-11-29T13:14:50.600302Z",
     "iopub.status.idle": "2023-11-29T13:14:50.611590Z",
     "shell.execute_reply.started": "2023-11-29T13:14:50.600273Z",
     "shell.execute_reply": "2023-11-29T13:14:50.609787Z"
    },
    "trusted": true
   },
   "execution_count": 67,
   "outputs": []
  },
  {
   "cell_type": "code",
   "source": [
    "plt.scatter(df['cgpa'], df['iq'], c=df['placement'])"
   ],
   "metadata": {
    "execution": {
     "iopub.status.busy": "2023-11-29T13:14:50.613558Z",
     "iopub.execute_input": "2023-11-29T13:14:50.614033Z",
     "iopub.status.idle": "2023-11-29T13:14:50.821072Z",
     "shell.execute_reply.started": "2023-11-29T13:14:50.613993Z",
     "shell.execute_reply": "2023-11-29T13:14:50.819159Z"
    },
    "trusted": true
   },
   "execution_count": 68,
   "outputs": [
    {
     "execution_count": 68,
     "output_type": "execute_result",
     "data": {
      "text/plain": "<matplotlib.collections.PathCollection at 0x78431ab5a6e0>"
     },
     "metadata": {}
    },
    {
     "output_type": "display_data",
     "data": {
      "text/plain": "<Figure size 640x480 with 1 Axes>",
      "image/png": "[encoded data removed]"
     },
     "metadata": {}
    }
   ]
  },
  {
   "cell_type": "code",
   "source": [
    "x_features = df.iloc[:,0:2]\n",
    "x_features"
   ],
   "metadata": {
    "execution": {
     "iopub.status.busy": "2023-11-29T13:14:50.822912Z",
     "iopub.execute_input": "2023-11-29T13:14:50.823292Z",
     "iopub.status.idle": "2023-11-29T13:14:50.837986Z",
     "shell.execute_reply.started": "2023-11-29T13:14:50.823257Z",
     "shell.execute_reply": "2023-11-29T13:14:50.836282Z"
    },
    "trusted": true
   },
   "execution_count": 69,
   "outputs": [
    {
     "execution_count": 69,
     "output_type": "execute_result",
     "data": {
      "text/plain": "    cgpa   iq\n0    6.8  123\n1    5.9  106\n2    5.3  121\n3    7.4  132\n4    5.8  142\n..   ...  ...\n95   4.3  200\n96   4.4   42\n97   6.7  182\n98   6.3  103\n99   6.2  113\n\n[100 rows x 2 columns]",
      "text/html": "<div>\n<style scoped>\n    .dataframe tbody tr th:only-of-type {\n        vertical-align: middle;\n    }\n\n    .dataframe tbody tr th {\n        vertical-align: top;\n    }\n\n    .dataframe thead th {\n        text-align: right;\n    }\n</style>\n<table border=\"1\" class=\"dataframe\">\n  <thead>\n    <tr style=\"text-align: right;\">\n      <th></th>\n      <th>cgpa</th>\n      <th>iq</th>\n    </tr>\n  </thead>\n  <tbody>\n    <tr>\n      <th>0</th>\n      <td>6.8</td>\n      <td>123</td>\n    </tr>\n    <tr>\n      <th>1</th>\n      <td>5.9</td>\n      <td>106</td>\n    </tr>\n    <tr>\n      <th>2</th>\n      <td>5.3</td>\n      <td>121</td>\n    </tr>\n    <tr>\n      <th>3</th>\n      <td>7.4</td>\n      <td>132</td>\n    </tr>\n    <tr>\n      <th>4</th>\n      <td>5.8</td>\n      <td>142</td>\n    </tr>\n    <tr>\n      <th>...</th>\n      <td>...</td>\n      <td>...</td>\n    </tr>\n    <tr>\n      <th>95</th>\n      <td>4.3</td>\n      <td>200</td>\n    </tr>\n    <tr>\n      <th>96</th>\n      <td>4.4</td>\n      <td>42</td>\n    </tr>\n    <tr>\n      <th>97</th>\n      <td>6.7</td>\n      <td>182</td>\n    </tr>\n    <tr>\n      <th>98</th>\n      <td>6.3</td>\n      <td>103</td>\n    </tr>\n    <tr>\n      <th>99</th>\n      <td>6.2</td>\n      <td>113</td>\n    </tr>\n  </tbody>\n</table>\n<p>100 rows × 2 columns</p>\n</div>"
     },
     "metadata": {}
    }
   ]
  },
  {
   "cell_type": "code",
   "source": [
    "y = df.iloc[:,-1]\n",
    "y"
   ],
   "metadata": {
    "execution": {
     "iopub.status.busy": "2023-11-29T13:14:50.842395Z",
     "iopub.execute_input": "2023-11-29T13:14:50.842800Z",
     "iopub.status.idle": "2023-11-29T13:14:50.854575Z",
     "shell.execute_reply.started": "2023-11-29T13:14:50.842772Z",
     "shell.execute_reply": "2023-11-29T13:14:50.853374Z"
    },
    "trusted": true
   },
   "execution_count": 70,
   "outputs": [
    {
     "execution_count": 70,
     "output_type": "execute_result",
     "data": {
      "text/plain": "0     1\n1     0\n2     0\n3     1\n4     0\n     ..\n95    0\n96    0\n97    1\n98    1\n99    1\nName: placement, Length: 100, dtype: int64"
     },
     "metadata": {}
    }
   ]
  },
  {
   "cell_type": "code",
   "source": [
    "from sklearn.model_selection import train_test_split\n",
    "\n",
    "x_train,x_test, y_train, y_test = train_test_split(x_features,y,test_size=0.1)\n",
    "\n",
    "print(x_train, x_test)\n",
    "# print(y_train, y_test)"
   ],
   "metadata": {
    "execution": {
     "iopub.status.busy": "2023-11-29T13:14:50.856446Z",
     "iopub.execute_input": "2023-11-29T13:14:50.857475Z",
     "iopub.status.idle": "2023-11-29T13:14:50.871947Z",
     "shell.execute_reply.started": "2023-11-29T13:14:50.857406Z",
     "shell.execute_reply": "2023-11-29T13:14:50.870085Z"
    },
    "trusted": true
   },
   "execution_count": 71,
   "outputs": [
    {
     "name": "stdout",
     "text": "    cgpa   iq\n85   5.8  166\n90   7.3   86\n64   7.0   64\n44   7.5   61\n86   5.1  128\n..   ...  ...\n39   4.6  146\n57   6.5  130\n70   6.3  127\n54   6.4  141\n38   6.5  160\n\n[90 rows x 2 columns]     cgpa   iq\n96   4.4   42\n59   4.8  112\n53   8.3  168\n17   3.3  183\n22   4.9  120\n37   8.1  149\n30   7.6  128\n21   7.1  151\n73   4.9   61\n87   5.7  132\n",
     "output_type": "stream"
    }
   ]
  },
  {
   "cell_type": "code",
   "source": [
    "from sklearn.preprocessing import StandardScaler\n",
    "scalar = StandardScaler()\n",
    "\n",
    "x_train = scalar.fit_transform(x_train)\n",
    "x_test = scalar.transform(x_test)\n",
    "\n",
    "# print(x_test)\n",
    "# print(x_train)\n",
    "\n",
    "# type(x_train) ## numpy.ndarray"
   ],
   "metadata": {
    "execution": {
     "iopub.status.busy": "2023-11-29T13:14:50.873219Z",
     "iopub.execute_input": "2023-11-29T13:14:50.875814Z",
     "iopub.status.idle": "2023-11-29T13:14:50.889412Z",
     "shell.execute_reply.started": "2023-11-29T13:14:50.875786Z",
     "shell.execute_reply": "2023-11-29T13:14:50.888192Z"
    },
    "trusted": true
   },
   "execution_count": 72,
   "outputs": []
  },
  {
   "cell_type": "code",
   "source": [
    "from sklearn.linear_model import LogisticRegression\n",
    "lg = LogisticRegression()\n",
    "\n",
    "model = lg.fit(x_train, y_train)\n",
    "y_predict = model.predict(x_test)"
   ],
   "metadata": {
    "execution": {
     "iopub.status.busy": "2023-11-29T13:14:50.890788Z",
     "iopub.execute_input": "2023-11-29T13:14:50.891090Z",
     "iopub.status.idle": "2023-11-29T13:14:50.907804Z",
     "shell.execute_reply.started": "2023-11-29T13:14:50.891063Z",
     "shell.execute_reply": "2023-11-29T13:14:50.905931Z"
    },
    "trusted": true
   },
   "execution_count": 73,
   "outputs": []
  },
  {
   "cell_type": "code",
   "source": [
    "## Prediction Score\n",
    "from sklearn.metrics import accuracy_score\n",
    "accuracy_score(y_test, y_predict)"
   ],
   "metadata": {
    "execution": {
     "iopub.status.busy": "2023-11-29T13:14:50.909492Z",
     "iopub.execute_input": "2023-11-29T13:14:50.909881Z",
     "iopub.status.idle": "2023-11-29T13:14:50.921831Z",
     "shell.execute_reply.started": "2023-11-29T13:14:50.909831Z",
     "shell.execute_reply": "2023-11-29T13:14:50.920928Z"
    },
    "trusted": true
   },
   "execution_count": 74,
   "outputs": [
    {
     "execution_count": 74,
     "output_type": "execute_result",
     "data": {
      "text/plain": "0.9"
     },
     "metadata": {}
    }
   ]
  },
  {
   "cell_type": "code",
   "source": [
    "## Visualise Predictions\n",
    "from mlxtend.plotting import plot_decision_regions\n",
    "plot_decision_regions(x_train,y_train.values, clf=model, legend)"
   ],
   "metadata": {
    "execution": {
     "iopub.status.busy": "2023-11-29T13:14:50.922830Z",
     "iopub.execute_input": "2023-11-29T13:14:50.923142Z",
     "iopub.status.idle": "2023-11-29T13:14:51.204420Z",
     "shell.execute_reply.started": "2023-11-29T13:14:50.923109Z",
     "shell.execute_reply": "2023-11-29T13:14:51.203181Z"
    },
    "trusted": true
   },
   "execution_count": 75,
   "outputs": [
    {
     "execution_count": 75,
     "output_type": "execute_result",
     "data": {
      "text/plain": "<Axes: >"
     },
     "metadata": {}
    },
    {
     "output_type": "display_data",
     "data": {
      "text/plain": "<Figure size 640x480 with 1 Axes>",
      "image/png": "[encoded data removed]"
     },
     "metadata": {}
    }
   ]
  },
  {
   "cell_type": "code",
   "source": [
    "## Dump Trained Model to file\n",
    "import pickle\n",
    "pickle.dump(model,open('day_13_student_performance_model.pkl','wb'))"
   ],
   "metadata": {
    "execution": {
     "iopub.status.busy": "2023-11-29T13:14:51.206090Z",
     "iopub.execute_input": "2023-11-29T13:14:51.206462Z",
     "iopub.status.idle": "2023-11-29T13:14:51.211716Z",
     "shell.execute_reply.started": "2023-11-29T13:14:51.206429Z",
     "shell.execute_reply": "2023-11-29T13:14:51.210829Z"
    },
    "trusted": true
   },
   "execution_count": 76,
   "outputs": []
  }
 ]
}
