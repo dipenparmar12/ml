{
 "cells": [
  {
   "cell_type": "code",
   "execution_count": 1,
   "id": "initial_id",
   "metadata": {
    "collapsed": true,
    "ExecuteTime": {
     "end_time": "2023-12-13T12:35:14.902183Z",
     "start_time": "2023-12-13T12:35:14.900467Z"
    }
   },
   "outputs": [],
   "source": [
    "import numpy as np  # linear algebra\n",
    "import pandas as pd  # data processing\n",
    "import matplotlib.pyplot as plt\n",
    "import seaborn as sns"
   ]
  },
  {
   "cell_type": "code",
   "execution_count": 7,
   "outputs": [
    {
     "data": {
      "text/plain": "        brand  km_driven    fuel                 owner  selling_price\n0      Maruti     145500  Diesel           First Owner         450000\n1       Skoda     120000  Diesel          Second Owner         370000\n2       Honda     140000  Petrol           Third Owner         158000\n3     Hyundai     127000  Diesel           First Owner         225000\n4      Maruti     120000  Petrol           First Owner         130000\n...       ...        ...     ...                   ...            ...\n8123  Hyundai     110000  Petrol           First Owner         320000\n8124  Hyundai     119000  Diesel  Fourth & Above Owner         135000\n8125   Maruti     120000  Diesel           First Owner         382000\n8126     Tata      25000  Diesel           First Owner         290000\n8127     Tata      25000  Diesel           First Owner         290000\n\n[8128 rows x 5 columns]",
      "text/html": "<div>\n<style scoped>\n    .dataframe tbody tr th:only-of-type {\n        vertical-align: middle;\n    }\n\n    .dataframe tbody tr th {\n        vertical-align: top;\n    }\n\n    .dataframe thead th {\n        text-align: right;\n    }\n</style>\n<table border=\"1\" class=\"dataframe\">\n  <thead>\n    <tr style=\"text-align: right;\">\n      <th></th>\n      <th>brand</th>\n      <th>km_driven</th>\n      <th>fuel</th>\n      <th>owner</th>\n      <th>selling_price</th>\n    </tr>\n  </thead>\n  <tbody>\n    <tr>\n      <th>0</th>\n      <td>Maruti</td>\n      <td>145500</td>\n      <td>Diesel</td>\n      <td>First Owner</td>\n      <td>450000</td>\n    </tr>\n    <tr>\n      <th>1</th>\n      <td>Skoda</td>\n      <td>120000</td>\n      <td>Diesel</td>\n      <td>Second Owner</td>\n      <td>370000</td>\n    </tr>\n    <tr>\n      <th>2</th>\n      <td>Honda</td>\n      <td>140000</td>\n      <td>Petrol</td>\n      <td>Third Owner</td>\n      <td>158000</td>\n    </tr>\n    <tr>\n      <th>3</th>\n      <td>Hyundai</td>\n      <td>127000</td>\n      <td>Diesel</td>\n      <td>First Owner</td>\n      <td>225000</td>\n    </tr>\n    <tr>\n      <th>4</th>\n      <td>Maruti</td>\n      <td>120000</td>\n      <td>Petrol</td>\n      <td>First Owner</td>\n      <td>130000</td>\n    </tr>\n    <tr>\n      <th>...</th>\n      <td>...</td>\n      <td>...</td>\n      <td>...</td>\n      <td>...</td>\n      <td>...</td>\n    </tr>\n    <tr>\n      <th>8123</th>\n      <td>Hyundai</td>\n      <td>110000</td>\n      <td>Petrol</td>\n      <td>First Owner</td>\n      <td>320000</td>\n    </tr>\n    <tr>\n      <th>8124</th>\n      <td>Hyundai</td>\n      <td>119000</td>\n      <td>Diesel</td>\n      <td>Fourth &amp; Above Owner</td>\n      <td>135000</td>\n    </tr>\n    <tr>\n      <th>8125</th>\n      <td>Maruti</td>\n      <td>120000</td>\n      <td>Diesel</td>\n      <td>First Owner</td>\n      <td>382000</td>\n    </tr>\n    <tr>\n      <th>8126</th>\n      <td>Tata</td>\n      <td>25000</td>\n      <td>Diesel</td>\n      <td>First Owner</td>\n      <td>290000</td>\n    </tr>\n    <tr>\n      <th>8127</th>\n      <td>Tata</td>\n      <td>25000</td>\n      <td>Diesel</td>\n      <td>First Owner</td>\n      <td>290000</td>\n    </tr>\n  </tbody>\n</table>\n<p>8128 rows × 5 columns</p>\n</div>"
     },
     "execution_count": 7,
     "metadata": {},
     "output_type": "execute_result"
    }
   ],
   "source": [
    "cars = pd.read_csv('./day-26-one-hot-encoding-categorical-data-cars.csv')\n",
    "cars"
   ],
   "metadata": {
    "collapsed": false,
    "ExecuteTime": {
     "end_time": "2023-12-13T12:36:54.980808Z",
     "start_time": "2023-12-13T12:36:54.963634Z"
    }
   },
   "id": "b08b72c4c868d208"
  },
  {
   "cell_type": "code",
   "execution_count": 32,
   "outputs": [
    {
     "name": "stdout",
     "output_type": "stream",
     "text": [
      "Total unique Brands: 32\n"
     ]
    }
   ],
   "source": [
    "total_brands = cars['brand'].nunique()\n",
    "print(\"Total unique Brands:\", total_brands)"
   ],
   "metadata": {
    "collapsed": false,
    "ExecuteTime": {
     "end_time": "2023-12-13T12:39:05.513913Z",
     "start_time": "2023-12-13T12:39:05.508576Z"
    }
   },
   "id": "c491904bf3f85a1c"
  },
  {
   "cell_type": "code",
   "execution_count": 28,
   "outputs": [
    {
     "data": {
      "text/plain": "brand\nMaruti           2448\nHyundai          1415\nMahindra          772\nTata              734\nToyota            488\nHonda             467\nFord              397\nChevrolet         230\nRenault           228\nVolkswagen        186\nBMW               120\nSkoda             105\nNissan             81\nJaguar             71\nVolvo              67\nDatsun             65\nMercedes-Benz      54\nFiat               47\nAudi               40\nLexus              34\nJeep               31\nMitsubishi         14\nForce               6\nLand                6\nIsuzu               5\nKia                 4\nAmbassador          4\nDaewoo              3\nMG                  3\nAshok               1\nOpel                1\nPeugeot             1\nName: count, dtype: int64"
     },
     "execution_count": 28,
     "metadata": {},
     "output_type": "execute_result"
    }
   ],
   "source": [
    "cars['brand'].value_counts()"
   ],
   "metadata": {
    "collapsed": false,
    "ExecuteTime": {
     "end_time": "2023-12-13T12:38:19.501995Z",
     "start_time": "2023-12-13T12:38:19.471377Z"
    }
   },
   "id": "a094978a5db28e01"
  },
  {
   "cell_type": "code",
   "execution_count": 35,
   "outputs": [
    {
     "data": {
      "text/plain": "owner\nFirst Owner             5289\nSecond Owner            2105\nThird Owner              555\nFourth & Above Owner     174\nTest Drive Car             5\nName: count, dtype: int64"
     },
     "execution_count": 35,
     "metadata": {},
     "output_type": "execute_result"
    }
   ],
   "source": [
    "cars['owner'].value_counts()"
   ],
   "metadata": {
    "collapsed": false,
    "ExecuteTime": {
     "end_time": "2023-12-13T12:41:18.094566Z",
     "start_time": "2023-12-13T12:41:18.076139Z"
    }
   },
   "id": "b76d77d7487e1b6"
  },
  {
   "cell_type": "code",
   "execution_count": 36,
   "outputs": [
    {
     "data": {
      "text/plain": "fuel\nDiesel    4402\nPetrol    3631\nCNG         57\nLPG         38\nName: count, dtype: int64"
     },
     "execution_count": 36,
     "metadata": {},
     "output_type": "execute_result"
    }
   ],
   "source": [
    "cars['fuel'].value_counts()"
   ],
   "metadata": {
    "collapsed": false,
    "ExecuteTime": {
     "end_time": "2023-12-13T12:41:21.320642Z",
     "start_time": "2023-12-13T12:41:21.315062Z"
    }
   },
   "id": "4bb0ae5be22baf45"
  },
  {
   "cell_type": "markdown",
   "source": [
    "### One Hot Encoding using pandas \n",
    "Not useful in real word projects, because it does not have state"
   ],
   "metadata": {
    "collapsed": false
   },
   "id": "5d6fd4a46c4b3fd0"
  },
  {
   "cell_type": "code",
   "execution_count": 37,
   "outputs": [
    {
     "data": {
      "text/plain": "        brand  km_driven  selling_price  fuel_CNG  fuel_Diesel  fuel_LPG  \\\n0      Maruti     145500         450000     False         True     False   \n1       Skoda     120000         370000     False         True     False   \n2       Honda     140000         158000     False        False     False   \n3     Hyundai     127000         225000     False         True     False   \n4      Maruti     120000         130000     False        False     False   \n...       ...        ...            ...       ...          ...       ...   \n8123  Hyundai     110000         320000     False        False     False   \n8124  Hyundai     119000         135000     False         True     False   \n8125   Maruti     120000         382000     False         True     False   \n8126     Tata      25000         290000     False         True     False   \n8127     Tata      25000         290000     False         True     False   \n\n      fuel_Petrol  owner_First Owner  owner_Fourth & Above Owner  \\\n0           False               True                       False   \n1           False              False                       False   \n2            True              False                       False   \n3           False               True                       False   \n4            True               True                       False   \n...           ...                ...                         ...   \n8123         True               True                       False   \n8124        False              False                        True   \n8125        False               True                       False   \n8126        False               True                       False   \n8127        False               True                       False   \n\n      owner_Second Owner  owner_Test Drive Car  owner_Third Owner  \n0                  False                 False              False  \n1                   True                 False              False  \n2                  False                 False               True  \n3                  False                 False              False  \n4                  False                 False              False  \n...                  ...                   ...                ...  \n8123               False                 False              False  \n8124               False                 False              False  \n8125               False                 False              False  \n8126               False                 False              False  \n8127               False                 False              False  \n\n[8128 rows x 12 columns]",
      "text/html": "<div>\n<style scoped>\n    .dataframe tbody tr th:only-of-type {\n        vertical-align: middle;\n    }\n\n    .dataframe tbody tr th {\n        vertical-align: top;\n    }\n\n    .dataframe thead th {\n        text-align: right;\n    }\n</style>\n<table border=\"1\" class=\"dataframe\">\n  <thead>\n    <tr style=\"text-align: right;\">\n      <th></th>\n      <th>brand</th>\n      <th>km_driven</th>\n      <th>selling_price</th>\n      <th>fuel_CNG</th>\n      <th>fuel_Diesel</th>\n      <th>fuel_LPG</th>\n      <th>fuel_Petrol</th>\n      <th>owner_First Owner</th>\n      <th>owner_Fourth &amp; Above Owner</th>\n      <th>owner_Second Owner</th>\n      <th>owner_Test Drive Car</th>\n      <th>owner_Third Owner</th>\n    </tr>\n  </thead>\n  <tbody>\n    <tr>\n      <th>0</th>\n      <td>Maruti</td>\n      <td>145500</td>\n      <td>450000</td>\n      <td>False</td>\n      <td>True</td>\n      <td>False</td>\n      <td>False</td>\n      <td>True</td>\n      <td>False</td>\n      <td>False</td>\n      <td>False</td>\n      <td>False</td>\n    </tr>\n    <tr>\n      <th>1</th>\n      <td>Skoda</td>\n      <td>120000</td>\n      <td>370000</td>\n      <td>False</td>\n      <td>True</td>\n      <td>False</td>\n      <td>False</td>\n      <td>False</td>\n      <td>False</td>\n      <td>True</td>\n      <td>False</td>\n      <td>False</td>\n    </tr>\n    <tr>\n      <th>2</th>\n      <td>Honda</td>\n      <td>140000</td>\n      <td>158000</td>\n      <td>False</td>\n      <td>False</td>\n      <td>False</td>\n      <td>True</td>\n      <td>False</td>\n      <td>False</td>\n      <td>False</td>\n      <td>False</td>\n      <td>True</td>\n    </tr>\n    <tr>\n      <th>3</th>\n      <td>Hyundai</td>\n      <td>127000</td>\n      <td>225000</td>\n      <td>False</td>\n      <td>True</td>\n      <td>False</td>\n      <td>False</td>\n      <td>True</td>\n      <td>False</td>\n      <td>False</td>\n      <td>False</td>\n      <td>False</td>\n    </tr>\n    <tr>\n      <th>4</th>\n      <td>Maruti</td>\n      <td>120000</td>\n      <td>130000</td>\n      <td>False</td>\n      <td>False</td>\n      <td>False</td>\n      <td>True</td>\n      <td>True</td>\n      <td>False</td>\n      <td>False</td>\n      <td>False</td>\n      <td>False</td>\n    </tr>\n    <tr>\n      <th>...</th>\n      <td>...</td>\n      <td>...</td>\n      <td>...</td>\n      <td>...</td>\n      <td>...</td>\n      <td>...</td>\n      <td>...</td>\n      <td>...</td>\n      <td>...</td>\n      <td>...</td>\n      <td>...</td>\n      <td>...</td>\n    </tr>\n    <tr>\n      <th>8123</th>\n      <td>Hyundai</td>\n      <td>110000</td>\n      <td>320000</td>\n      <td>False</td>\n      <td>False</td>\n      <td>False</td>\n      <td>True</td>\n      <td>True</td>\n      <td>False</td>\n      <td>False</td>\n      <td>False</td>\n      <td>False</td>\n    </tr>\n    <tr>\n      <th>8124</th>\n      <td>Hyundai</td>\n      <td>119000</td>\n      <td>135000</td>\n      <td>False</td>\n      <td>True</td>\n      <td>False</td>\n      <td>False</td>\n      <td>False</td>\n      <td>True</td>\n      <td>False</td>\n      <td>False</td>\n      <td>False</td>\n    </tr>\n    <tr>\n      <th>8125</th>\n      <td>Maruti</td>\n      <td>120000</td>\n      <td>382000</td>\n      <td>False</td>\n      <td>True</td>\n      <td>False</td>\n      <td>False</td>\n      <td>True</td>\n      <td>False</td>\n      <td>False</td>\n      <td>False</td>\n      <td>False</td>\n    </tr>\n    <tr>\n      <th>8126</th>\n      <td>Tata</td>\n      <td>25000</td>\n      <td>290000</td>\n      <td>False</td>\n      <td>True</td>\n      <td>False</td>\n      <td>False</td>\n      <td>True</td>\n      <td>False</td>\n      <td>False</td>\n      <td>False</td>\n      <td>False</td>\n    </tr>\n    <tr>\n      <th>8127</th>\n      <td>Tata</td>\n      <td>25000</td>\n      <td>290000</td>\n      <td>False</td>\n      <td>True</td>\n      <td>False</td>\n      <td>False</td>\n      <td>True</td>\n      <td>False</td>\n      <td>False</td>\n      <td>False</td>\n      <td>False</td>\n    </tr>\n  </tbody>\n</table>\n<p>8128 rows × 12 columns</p>\n</div>"
     },
     "execution_count": 37,
     "metadata": {},
     "output_type": "execute_result"
    }
   ],
   "source": [
    "pd.get_dummies(cars, columns=['fuel', 'owner'])"
   ],
   "metadata": {
    "collapsed": false,
    "ExecuteTime": {
     "end_time": "2023-12-13T12:41:25.663509Z",
     "start_time": "2023-12-13T12:41:25.648635Z"
    }
   },
   "id": "bf9142d4b87c1b07"
  },
  {
   "cell_type": "markdown",
   "source": [
    "#### K-1 OneHotEncoding"
   ],
   "metadata": {
    "collapsed": false
   },
   "id": "51160cc12d794378"
  },
  {
   "cell_type": "code",
   "execution_count": 39,
   "outputs": [
    {
     "data": {
      "text/plain": "        brand  km_driven  selling_price  fuel_Diesel  fuel_LPG  fuel_Petrol  \\\n0      Maruti     145500         450000         True     False        False   \n1       Skoda     120000         370000         True     False        False   \n2       Honda     140000         158000        False     False         True   \n3     Hyundai     127000         225000         True     False        False   \n4      Maruti     120000         130000        False     False         True   \n...       ...        ...            ...          ...       ...          ...   \n8123  Hyundai     110000         320000        False     False         True   \n8124  Hyundai     119000         135000         True     False        False   \n8125   Maruti     120000         382000         True     False        False   \n8126     Tata      25000         290000         True     False        False   \n8127     Tata      25000         290000         True     False        False   \n\n      owner_Fourth & Above Owner  owner_Second Owner  owner_Test Drive Car  \\\n0                          False               False                 False   \n1                          False                True                 False   \n2                          False               False                 False   \n3                          False               False                 False   \n4                          False               False                 False   \n...                          ...                 ...                   ...   \n8123                       False               False                 False   \n8124                        True               False                 False   \n8125                       False               False                 False   \n8126                       False               False                 False   \n8127                       False               False                 False   \n\n      owner_Third Owner  \n0                 False  \n1                 False  \n2                  True  \n3                 False  \n4                 False  \n...                 ...  \n8123              False  \n8124              False  \n8125              False  \n8126              False  \n8127              False  \n\n[8128 rows x 10 columns]",
      "text/html": "<div>\n<style scoped>\n    .dataframe tbody tr th:only-of-type {\n        vertical-align: middle;\n    }\n\n    .dataframe tbody tr th {\n        vertical-align: top;\n    }\n\n    .dataframe thead th {\n        text-align: right;\n    }\n</style>\n<table border=\"1\" class=\"dataframe\">\n  <thead>\n    <tr style=\"text-align: right;\">\n      <th></th>\n      <th>brand</th>\n      <th>km_driven</th>\n      <th>selling_price</th>\n      <th>fuel_Diesel</th>\n      <th>fuel_LPG</th>\n      <th>fuel_Petrol</th>\n      <th>owner_Fourth &amp; Above Owner</th>\n      <th>owner_Second Owner</th>\n      <th>owner_Test Drive Car</th>\n      <th>owner_Third Owner</th>\n    </tr>\n  </thead>\n  <tbody>\n    <tr>\n      <th>0</th>\n      <td>Maruti</td>\n      <td>145500</td>\n      <td>450000</td>\n      <td>True</td>\n      <td>False</td>\n      <td>False</td>\n      <td>False</td>\n      <td>False</td>\n      <td>False</td>\n      <td>False</td>\n    </tr>\n    <tr>\n      <th>1</th>\n      <td>Skoda</td>\n      <td>120000</td>\n      <td>370000</td>\n      <td>True</td>\n      <td>False</td>\n      <td>False</td>\n      <td>False</td>\n      <td>True</td>\n      <td>False</td>\n      <td>False</td>\n    </tr>\n    <tr>\n      <th>2</th>\n      <td>Honda</td>\n      <td>140000</td>\n      <td>158000</td>\n      <td>False</td>\n      <td>False</td>\n      <td>True</td>\n      <td>False</td>\n      <td>False</td>\n      <td>False</td>\n      <td>True</td>\n    </tr>\n    <tr>\n      <th>3</th>\n      <td>Hyundai</td>\n      <td>127000</td>\n      <td>225000</td>\n      <td>True</td>\n      <td>False</td>\n      <td>False</td>\n      <td>False</td>\n      <td>False</td>\n      <td>False</td>\n      <td>False</td>\n    </tr>\n    <tr>\n      <th>4</th>\n      <td>Maruti</td>\n      <td>120000</td>\n      <td>130000</td>\n      <td>False</td>\n      <td>False</td>\n      <td>True</td>\n      <td>False</td>\n      <td>False</td>\n      <td>False</td>\n      <td>False</td>\n    </tr>\n    <tr>\n      <th>...</th>\n      <td>...</td>\n      <td>...</td>\n      <td>...</td>\n      <td>...</td>\n      <td>...</td>\n      <td>...</td>\n      <td>...</td>\n      <td>...</td>\n      <td>...</td>\n      <td>...</td>\n    </tr>\n    <tr>\n      <th>8123</th>\n      <td>Hyundai</td>\n      <td>110000</td>\n      <td>320000</td>\n      <td>False</td>\n      <td>False</td>\n      <td>True</td>\n      <td>False</td>\n      <td>False</td>\n      <td>False</td>\n      <td>False</td>\n    </tr>\n    <tr>\n      <th>8124</th>\n      <td>Hyundai</td>\n      <td>119000</td>\n      <td>135000</td>\n      <td>True</td>\n      <td>False</td>\n      <td>False</td>\n      <td>True</td>\n      <td>False</td>\n      <td>False</td>\n      <td>False</td>\n    </tr>\n    <tr>\n      <th>8125</th>\n      <td>Maruti</td>\n      <td>120000</td>\n      <td>382000</td>\n      <td>True</td>\n      <td>False</td>\n      <td>False</td>\n      <td>False</td>\n      <td>False</td>\n      <td>False</td>\n      <td>False</td>\n    </tr>\n    <tr>\n      <th>8126</th>\n      <td>Tata</td>\n      <td>25000</td>\n      <td>290000</td>\n      <td>True</td>\n      <td>False</td>\n      <td>False</td>\n      <td>False</td>\n      <td>False</td>\n      <td>False</td>\n      <td>False</td>\n    </tr>\n    <tr>\n      <th>8127</th>\n      <td>Tata</td>\n      <td>25000</td>\n      <td>290000</td>\n      <td>True</td>\n      <td>False</td>\n      <td>False</td>\n      <td>False</td>\n      <td>False</td>\n      <td>False</td>\n      <td>False</td>\n    </tr>\n  </tbody>\n</table>\n<p>8128 rows × 10 columns</p>\n</div>"
     },
     "execution_count": 39,
     "metadata": {},
     "output_type": "execute_result"
    }
   ],
   "source": [
    "pd.get_dummies(cars, columns=['fuel', 'owner'], drop_first=True)"
   ],
   "metadata": {
    "collapsed": false,
    "ExecuteTime": {
     "end_time": "2023-12-13T12:42:23.200341Z",
     "start_time": "2023-12-13T12:42:23.182604Z"
    }
   },
   "id": "b620e4b9f62ed126"
  },
  {
   "cell_type": "markdown",
   "source": [
    "### One Hot Encoding using SkLearn"
   ],
   "metadata": {
    "collapsed": false
   },
   "id": "29b680fd39d123c1"
  },
  {
   "cell_type": "code",
   "execution_count": 85,
   "outputs": [
    {
     "data": {
      "text/plain": "        brand  km_driven    fuel         owner\n1939    Honda     100000  Diesel  Second Owner\n5455   Maruti     120000  Diesel  Second Owner\n7079  Renault     100000  Diesel  Second Owner\n2000    Honda      80000  Petrol  Second Owner\n1578    Honda      56494  Petrol   First Owner\n...       ...        ...     ...           ...\n7935   Maruti     100000  Petrol   Third Owner\n5192  Hyundai     152000  Diesel   First Owner\n3980  Hyundai      70000  Petrol   First Owner\n235    Maruti     110000  Diesel  Second Owner\n5157   Maruti      65755  Petrol   First Owner\n\n[6502 rows x 4 columns]",
      "text/html": "<div>\n<style scoped>\n    .dataframe tbody tr th:only-of-type {\n        vertical-align: middle;\n    }\n\n    .dataframe tbody tr th {\n        vertical-align: top;\n    }\n\n    .dataframe thead th {\n        text-align: right;\n    }\n</style>\n<table border=\"1\" class=\"dataframe\">\n  <thead>\n    <tr style=\"text-align: right;\">\n      <th></th>\n      <th>brand</th>\n      <th>km_driven</th>\n      <th>fuel</th>\n      <th>owner</th>\n    </tr>\n  </thead>\n  <tbody>\n    <tr>\n      <th>1939</th>\n      <td>Honda</td>\n      <td>100000</td>\n      <td>Diesel</td>\n      <td>Second Owner</td>\n    </tr>\n    <tr>\n      <th>5455</th>\n      <td>Maruti</td>\n      <td>120000</td>\n      <td>Diesel</td>\n      <td>Second Owner</td>\n    </tr>\n    <tr>\n      <th>7079</th>\n      <td>Renault</td>\n      <td>100000</td>\n      <td>Diesel</td>\n      <td>Second Owner</td>\n    </tr>\n    <tr>\n      <th>2000</th>\n      <td>Honda</td>\n      <td>80000</td>\n      <td>Petrol</td>\n      <td>Second Owner</td>\n    </tr>\n    <tr>\n      <th>1578</th>\n      <td>Honda</td>\n      <td>56494</td>\n      <td>Petrol</td>\n      <td>First Owner</td>\n    </tr>\n    <tr>\n      <th>...</th>\n      <td>...</td>\n      <td>...</td>\n      <td>...</td>\n      <td>...</td>\n    </tr>\n    <tr>\n      <th>7935</th>\n      <td>Maruti</td>\n      <td>100000</td>\n      <td>Petrol</td>\n      <td>Third Owner</td>\n    </tr>\n    <tr>\n      <th>5192</th>\n      <td>Hyundai</td>\n      <td>152000</td>\n      <td>Diesel</td>\n      <td>First Owner</td>\n    </tr>\n    <tr>\n      <th>3980</th>\n      <td>Hyundai</td>\n      <td>70000</td>\n      <td>Petrol</td>\n      <td>First Owner</td>\n    </tr>\n    <tr>\n      <th>235</th>\n      <td>Maruti</td>\n      <td>110000</td>\n      <td>Diesel</td>\n      <td>Second Owner</td>\n    </tr>\n    <tr>\n      <th>5157</th>\n      <td>Maruti</td>\n      <td>65755</td>\n      <td>Petrol</td>\n      <td>First Owner</td>\n    </tr>\n  </tbody>\n</table>\n<p>6502 rows × 4 columns</p>\n</div>"
     },
     "execution_count": 85,
     "metadata": {},
     "output_type": "execute_result"
    }
   ],
   "source": [
    "from sklearn.model_selection import train_test_split\n",
    "\n",
    "features = cars[['brand', 'km_driven', 'fuel', 'owner']]\n",
    "target = cars['selling_price']\n",
    "x_train, x_test, y_train, y_test = train_test_split(features, target, test_size=0.2, random_state=True)\n",
    "\n",
    "x_train"
   ],
   "metadata": {
    "collapsed": false,
    "ExecuteTime": {
     "end_time": "2023-12-13T12:55:05.503540Z",
     "start_time": "2023-12-13T12:55:05.489748Z"
    }
   },
   "id": "b05ba919b9b503ce"
  },
  {
   "cell_type": "code",
   "execution_count": 86,
   "outputs": [
    {
     "data": {
      "text/plain": "1939    420000\n5455    675000\n7079    570000\n2000    350000\n1578    550000\n         ...  \n7935     40000\n5192    580000\n3980    190000\n235     250000\n5157    480000\nName: selling_price, Length: 6502, dtype: int64"
     },
     "execution_count": 86,
     "metadata": {},
     "output_type": "execute_result"
    }
   ],
   "source": [
    "y_train"
   ],
   "metadata": {
    "collapsed": false,
    "ExecuteTime": {
     "end_time": "2023-12-13T12:55:10.289078Z",
     "start_time": "2023-12-13T12:55:10.281549Z"
    }
   },
   "id": "63cc44fd6d09444c"
  },
  {
   "cell_type": "code",
   "execution_count": 87,
   "outputs": [],
   "source": [
    "from sklearn.preprocessing import OneHotEncoder\n",
    "\n",
    "ohe = OneHotEncoder(drop='first', dtype=np.int32)"
   ],
   "metadata": {
    "collapsed": false,
    "ExecuteTime": {
     "end_time": "2023-12-13T12:55:20.583180Z",
     "start_time": "2023-12-13T12:55:20.562340Z"
    }
   },
   "id": "26a173725e8ad60"
  },
  {
   "cell_type": "code",
   "execution_count": 88,
   "outputs": [
    {
     "name": "stdout",
     "output_type": "stream",
     "text": [
      "(6502, 7)\n"
     ]
    },
    {
     "data": {
      "text/plain": "array([[1, 0, 0, ..., 1, 0, 0],\n       [1, 0, 0, ..., 1, 0, 0],\n       [1, 0, 0, ..., 1, 0, 0],\n       ...,\n       [0, 0, 1, ..., 0, 0, 0],\n       [1, 0, 0, ..., 1, 0, 0],\n       [0, 0, 1, ..., 0, 0, 0]], dtype=int32)"
     },
     "execution_count": 88,
     "metadata": {},
     "output_type": "execute_result"
    }
   ],
   "source": [
    "x_train_ohe = ohe.fit_transform(x_train[['fuel', 'owner']]).toarray()\n",
    "x_test_ohe = ohe.fit_transform(x_test[['fuel', 'owner']]).toarray()\n",
    "\n",
    "print(x_train_ohe.shape)\n",
    "\n",
    "x_train_ohe"
   ],
   "metadata": {
    "collapsed": false,
    "ExecuteTime": {
     "end_time": "2023-12-13T12:55:21.695268Z",
     "start_time": "2023-12-13T12:55:21.684919Z"
    }
   },
   "id": "d97618cee612060e"
  },
  {
   "cell_type": "code",
   "execution_count": 95,
   "outputs": [],
   "source": [
    "x_train_values = x_train[['brand', 'km_driven']].values"
   ],
   "metadata": {
    "collapsed": false,
    "ExecuteTime": {
     "end_time": "2023-12-13T12:57:08.115284Z",
     "start_time": "2023-12-13T12:57:08.112141Z"
    }
   },
   "id": "6e7b2f3006d40867"
  },
  {
   "cell_type": "code",
   "execution_count": 101,
   "outputs": [
    {
     "data": {
      "text/plain": "array([['Honda', 100000, 1, ..., 1, 0, 0],\n       ['Maruti', 120000, 1, ..., 1, 0, 0],\n       ['Renault', 100000, 1, ..., 1, 0, 0],\n       ...,\n       ['Hyundai', 70000, 0, ..., 0, 0, 0],\n       ['Maruti', 110000, 1, ..., 1, 0, 0],\n       ['Maruti', 65755, 0, ..., 0, 0, 0]], dtype=object)"
     },
     "execution_count": 101,
     "metadata": {},
     "output_type": "execute_result"
    }
   ],
   "source": [
    "## JOIN OHE values & Reset of columns \n",
    "np.hstack((x_train_values, x_train_ohe))"
   ],
   "metadata": {
    "collapsed": false,
    "ExecuteTime": {
     "end_time": "2023-12-13T12:58:44.841161Z",
     "start_time": "2023-12-13T12:58:44.826984Z"
    }
   },
   "id": "ad686097c5865244"
  },
  {
   "cell_type": "markdown",
   "source": [
    "#### One Hot Encoding with Top-Categories "
   ],
   "metadata": {
    "collapsed": false
   },
   "id": "f91f40715021e7a9"
  },
  {
   "cell_type": "code",
   "execution_count": 118,
   "outputs": [
    {
     "name": "stdout",
     "output_type": "stream",
     "text": [
      "total_brands: 32\n"
     ]
    }
   ],
   "source": [
    "brands_count = cars['brand'].nunique()\n",
    "print(\"total_brands:\", total_brands)\n",
    "\n",
    "total_brands_names = cars['brand'].value_counts()"
   ],
   "metadata": {
    "collapsed": false,
    "ExecuteTime": {
     "end_time": "2023-12-13T13:07:31.704757Z",
     "start_time": "2023-12-13T13:07:31.701561Z"
    }
   },
   "id": "d994e04dfbf0210"
  },
  {
   "cell_type": "code",
   "execution_count": 198,
   "outputs": [
    {
     "data": {
      "text/plain": "brand\nMaruti      2448\nHyundai     1415\nMahindra     772\nTata         734\nName: count, dtype: int64"
     },
     "execution_count": 198,
     "metadata": {},
     "output_type": "execute_result"
    }
   ],
   "source": [
    "threshold = 500\n",
    "# total_brands_names.loc[lambda x: x > threshold]\n",
    "top_brands = total_brands_names[lambda x: x > threshold]\n",
    "top_brands"
   ],
   "metadata": {
    "collapsed": false,
    "ExecuteTime": {
     "end_time": "2023-12-13T13:15:43.794531Z",
     "start_time": "2023-12-13T13:15:43.791714Z"
    }
   },
   "id": "2af6fb116e6eb6fb"
  },
  {
   "cell_type": "code",
   "execution_count": 215,
   "outputs": [
    {
     "data": {
      "text/plain": "Index(['Maruti', 'Hyundai', 'Mahindra', 'Tata'], dtype='object', name='brand')"
     },
     "execution_count": 215,
     "metadata": {},
     "output_type": "execute_result"
    }
   ],
   "source": [
    "top_brands.index"
   ],
   "metadata": {
    "collapsed": false,
    "ExecuteTime": {
     "end_time": "2023-12-13T13:17:30.544863Z",
     "start_time": "2023-12-13T13:17:30.540486Z"
    }
   },
   "id": "3583d7ab8cd01954"
  },
  {
   "cell_type": "code",
   "execution_count": 219,
   "outputs": [
    {
     "name": "stdout",
     "output_type": "stream",
     "text": [
      "29\n"
     ]
    },
    {
     "data": {
      "text/plain": "0       others\n1        Skoda\n2        Honda\n3       others\n4       others\n         ...  \n8123    others\n8124    others\n8125    others\n8126    others\n8127    others\nName: brand, Length: 8128, dtype: object"
     },
     "execution_count": 219,
     "metadata": {},
     "output_type": "execute_result"
    }
   ],
   "source": [
    "cars_ = cars['brand'].replace(top_brands.index, 'others')\n",
    "print(cars_.nunique())\n",
    "cars_"
   ],
   "metadata": {
    "collapsed": false,
    "ExecuteTime": {
     "end_time": "2023-12-13T13:18:54.272211Z",
     "start_time": "2023-12-13T13:18:54.261949Z"
    }
   },
   "id": "3b6f6e915fe637be"
  },
  {
   "cell_type": "markdown",
   "source": [
    "### Some error in threshold \n",
    "Supposed to get only top 4 brands as per above filter  "
   ],
   "metadata": {
    "collapsed": false
   },
   "id": "9b8fa39a435accfa"
  },
  {
   "cell_type": "code",
   "execution_count": 201,
   "outputs": [
    {
     "data": {
      "text/plain": "      Ambassador  Ashok   Audi    BMW  Chevrolet  Daewoo  Datsun   Fiat  \\\n0          False  False  False  False      False   False   False  False   \n1          False  False  False  False      False   False   False  False   \n2          False  False  False  False      False   False   False  False   \n3          False  False  False  False      False   False   False  False   \n4          False  False  False  False      False   False   False  False   \n...          ...    ...    ...    ...        ...     ...     ...    ...   \n8123       False  False  False  False      False   False   False  False   \n8124       False  False  False  False      False   False   False  False   \n8125       False  False  False  False      False   False   False  False   \n8126       False  False  False  False      False   False   False  False   \n8127       False  False  False  False      False   False   False  False   \n\n      Force   Ford  ...  Mitsubishi  Nissan   Opel  Peugeot  Renault  Skoda  \\\n0     False  False  ...       False   False  False    False    False  False   \n1     False  False  ...       False   False  False    False    False   True   \n2     False  False  ...       False   False  False    False    False  False   \n3     False  False  ...       False   False  False    False    False  False   \n4     False  False  ...       False   False  False    False    False  False   \n...     ...    ...  ...         ...     ...    ...      ...      ...    ...   \n8123  False  False  ...       False   False  False    False    False  False   \n8124  False  False  ...       False   False  False    False    False  False   \n8125  False  False  ...       False   False  False    False    False  False   \n8126  False  False  ...       False   False  False    False    False  False   \n8127  False  False  ...       False   False  False    False    False  False   \n\n      Toyota  Volkswagen  Volvo  others  \n0      False       False  False    True  \n1      False       False  False   False  \n2      False       False  False   False  \n3      False       False  False    True  \n4      False       False  False    True  \n...      ...         ...    ...     ...  \n8123   False       False  False    True  \n8124   False       False  False    True  \n8125   False       False  False    True  \n8126   False       False  False    True  \n8127   False       False  False    True  \n\n[8128 rows x 29 columns]",
      "text/html": "<div>\n<style scoped>\n    .dataframe tbody tr th:only-of-type {\n        vertical-align: middle;\n    }\n\n    .dataframe tbody tr th {\n        vertical-align: top;\n    }\n\n    .dataframe thead th {\n        text-align: right;\n    }\n</style>\n<table border=\"1\" class=\"dataframe\">\n  <thead>\n    <tr style=\"text-align: right;\">\n      <th></th>\n      <th>Ambassador</th>\n      <th>Ashok</th>\n      <th>Audi</th>\n      <th>BMW</th>\n      <th>Chevrolet</th>\n      <th>Daewoo</th>\n      <th>Datsun</th>\n      <th>Fiat</th>\n      <th>Force</th>\n      <th>Ford</th>\n      <th>...</th>\n      <th>Mitsubishi</th>\n      <th>Nissan</th>\n      <th>Opel</th>\n      <th>Peugeot</th>\n      <th>Renault</th>\n      <th>Skoda</th>\n      <th>Toyota</th>\n      <th>Volkswagen</th>\n      <th>Volvo</th>\n      <th>others</th>\n    </tr>\n  </thead>\n  <tbody>\n    <tr>\n      <th>0</th>\n      <td>False</td>\n      <td>False</td>\n      <td>False</td>\n      <td>False</td>\n      <td>False</td>\n      <td>False</td>\n      <td>False</td>\n      <td>False</td>\n      <td>False</td>\n      <td>False</td>\n      <td>...</td>\n      <td>False</td>\n      <td>False</td>\n      <td>False</td>\n      <td>False</td>\n      <td>False</td>\n      <td>False</td>\n      <td>False</td>\n      <td>False</td>\n      <td>False</td>\n      <td>True</td>\n    </tr>\n    <tr>\n      <th>1</th>\n      <td>False</td>\n      <td>False</td>\n      <td>False</td>\n      <td>False</td>\n      <td>False</td>\n      <td>False</td>\n      <td>False</td>\n      <td>False</td>\n      <td>False</td>\n      <td>False</td>\n      <td>...</td>\n      <td>False</td>\n      <td>False</td>\n      <td>False</td>\n      <td>False</td>\n      <td>False</td>\n      <td>True</td>\n      <td>False</td>\n      <td>False</td>\n      <td>False</td>\n      <td>False</td>\n    </tr>\n    <tr>\n      <th>2</th>\n      <td>False</td>\n      <td>False</td>\n      <td>False</td>\n      <td>False</td>\n      <td>False</td>\n      <td>False</td>\n      <td>False</td>\n      <td>False</td>\n      <td>False</td>\n      <td>False</td>\n      <td>...</td>\n      <td>False</td>\n      <td>False</td>\n      <td>False</td>\n      <td>False</td>\n      <td>False</td>\n      <td>False</td>\n      <td>False</td>\n      <td>False</td>\n      <td>False</td>\n      <td>False</td>\n    </tr>\n    <tr>\n      <th>3</th>\n      <td>False</td>\n      <td>False</td>\n      <td>False</td>\n      <td>False</td>\n      <td>False</td>\n      <td>False</td>\n      <td>False</td>\n      <td>False</td>\n      <td>False</td>\n      <td>False</td>\n      <td>...</td>\n      <td>False</td>\n      <td>False</td>\n      <td>False</td>\n      <td>False</td>\n      <td>False</td>\n      <td>False</td>\n      <td>False</td>\n      <td>False</td>\n      <td>False</td>\n      <td>True</td>\n    </tr>\n    <tr>\n      <th>4</th>\n      <td>False</td>\n      <td>False</td>\n      <td>False</td>\n      <td>False</td>\n      <td>False</td>\n      <td>False</td>\n      <td>False</td>\n      <td>False</td>\n      <td>False</td>\n      <td>False</td>\n      <td>...</td>\n      <td>False</td>\n      <td>False</td>\n      <td>False</td>\n      <td>False</td>\n      <td>False</td>\n      <td>False</td>\n      <td>False</td>\n      <td>False</td>\n      <td>False</td>\n      <td>True</td>\n    </tr>\n    <tr>\n      <th>...</th>\n      <td>...</td>\n      <td>...</td>\n      <td>...</td>\n      <td>...</td>\n      <td>...</td>\n      <td>...</td>\n      <td>...</td>\n      <td>...</td>\n      <td>...</td>\n      <td>...</td>\n      <td>...</td>\n      <td>...</td>\n      <td>...</td>\n      <td>...</td>\n      <td>...</td>\n      <td>...</td>\n      <td>...</td>\n      <td>...</td>\n      <td>...</td>\n      <td>...</td>\n      <td>...</td>\n    </tr>\n    <tr>\n      <th>8123</th>\n      <td>False</td>\n      <td>False</td>\n      <td>False</td>\n      <td>False</td>\n      <td>False</td>\n      <td>False</td>\n      <td>False</td>\n      <td>False</td>\n      <td>False</td>\n      <td>False</td>\n      <td>...</td>\n      <td>False</td>\n      <td>False</td>\n      <td>False</td>\n      <td>False</td>\n      <td>False</td>\n      <td>False</td>\n      <td>False</td>\n      <td>False</td>\n      <td>False</td>\n      <td>True</td>\n    </tr>\n    <tr>\n      <th>8124</th>\n      <td>False</td>\n      <td>False</td>\n      <td>False</td>\n      <td>False</td>\n      <td>False</td>\n      <td>False</td>\n      <td>False</td>\n      <td>False</td>\n      <td>False</td>\n      <td>False</td>\n      <td>...</td>\n      <td>False</td>\n      <td>False</td>\n      <td>False</td>\n      <td>False</td>\n      <td>False</td>\n      <td>False</td>\n      <td>False</td>\n      <td>False</td>\n      <td>False</td>\n      <td>True</td>\n    </tr>\n    <tr>\n      <th>8125</th>\n      <td>False</td>\n      <td>False</td>\n      <td>False</td>\n      <td>False</td>\n      <td>False</td>\n      <td>False</td>\n      <td>False</td>\n      <td>False</td>\n      <td>False</td>\n      <td>False</td>\n      <td>...</td>\n      <td>False</td>\n      <td>False</td>\n      <td>False</td>\n      <td>False</td>\n      <td>False</td>\n      <td>False</td>\n      <td>False</td>\n      <td>False</td>\n      <td>False</td>\n      <td>True</td>\n    </tr>\n    <tr>\n      <th>8126</th>\n      <td>False</td>\n      <td>False</td>\n      <td>False</td>\n      <td>False</td>\n      <td>False</td>\n      <td>False</td>\n      <td>False</td>\n      <td>False</td>\n      <td>False</td>\n      <td>False</td>\n      <td>...</td>\n      <td>False</td>\n      <td>False</td>\n      <td>False</td>\n      <td>False</td>\n      <td>False</td>\n      <td>False</td>\n      <td>False</td>\n      <td>False</td>\n      <td>False</td>\n      <td>True</td>\n    </tr>\n    <tr>\n      <th>8127</th>\n      <td>False</td>\n      <td>False</td>\n      <td>False</td>\n      <td>False</td>\n      <td>False</td>\n      <td>False</td>\n      <td>False</td>\n      <td>False</td>\n      <td>False</td>\n      <td>False</td>\n      <td>...</td>\n      <td>False</td>\n      <td>False</td>\n      <td>False</td>\n      <td>False</td>\n      <td>False</td>\n      <td>False</td>\n      <td>False</td>\n      <td>False</td>\n      <td>False</td>\n      <td>True</td>\n    </tr>\n  </tbody>\n</table>\n<p>8128 rows × 29 columns</p>\n</div>"
     },
     "execution_count": 201,
     "metadata": {},
     "output_type": "execute_result"
    }
   ],
   "source": [
    "pd.get_dummies(cars_)"
   ],
   "metadata": {
    "collapsed": false,
    "ExecuteTime": {
     "end_time": "2023-12-13T13:15:47.288550Z",
     "start_time": "2023-12-13T13:15:47.271445Z"
    }
   },
   "id": "5060d2f0aa56580e"
  },
  {
   "cell_type": "code",
   "execution_count": null,
   "outputs": [],
   "source": [],
   "metadata": {
    "collapsed": false
   },
   "id": "9daf4530f18dc546"
  }
 ],
 "metadata": {
  "kernelspec": {
   "display_name": "Python 3",
   "language": "python",
   "name": "python3"
  },
  "language_info": {
   "codemirror_mode": {
    "name": "ipython",
    "version": 2
   },
   "file_extension": ".py",
   "mimetype": "text/x-python",
   "name": "python",
   "nbconvert_exporter": "python",
   "pygments_lexer": "ipython2",
   "version": "2.7.6"
  }
 },
 "nbformat": 4,
 "nbformat_minor": 5
}
