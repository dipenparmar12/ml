{
 "cells": [
  {
   "cell_type": "code",
   "execution_count": 8,
   "id": "6044e373f6cc739c",
   "metadata": {
    "ExecuteTime": {
     "end_time": "2023-12-24T13:20:03.709567Z",
     "start_time": "2023-12-24T13:20:03.705817Z"
    },
    "collapsed": false
   },
   "outputs": [],
   "source": [
    "import numpy as np  # linear algebra\n",
    "import matplotlib.pyplot as plt\n",
    "import seaborn as sns\n",
    "import pandas as pd  # data processing"
   ]
  },
  {
   "cell_type": "code",
   "execution_count": 9,
   "id": "b0f9a63a4f4427c9",
   "metadata": {
    "ExecuteTime": {
     "end_time": "2023-12-24T13:20:04.349635Z",
     "start_time": "2023-12-24T13:20:04.346046Z"
    },
    "collapsed": false
   },
   "outputs": [],
   "source": [
    "from sklearn.compose import ColumnTransformer\n",
    "from sklearn.impute import SimpleImputer\n",
    "from sklearn.preprocessing import OneHotEncoder\n",
    "from sklearn.model_selection import train_test_split\n",
    "from sklearn.preprocessing import MinMaxScaler\n",
    "from sklearn.pipeline import Pipeline, make_pipeline\n",
    "# from sklearn.feature_selection import SelectKBest,chi2\n",
    "# from sklearn.tree import DecisionTreeClassifier"
   ]
  },
  {
   "cell_type": "code",
   "execution_count": 10,
   "id": "54786dbdbed56eb5",
   "metadata": {
    "ExecuteTime": {
     "end_time": "2023-12-24T13:20:04.954250Z",
     "start_time": "2023-12-24T13:20:04.924798Z"
    },
    "collapsed": false
   },
   "outputs": [
    {
     "data": {
      "text/html": [
       "<div>\n",
       "<style scoped>\n",
       "    .dataframe tbody tr th:only-of-type {\n",
       "        vertical-align: middle;\n",
       "    }\n",
       "\n",
       "    .dataframe tbody tr th {\n",
       "        vertical-align: top;\n",
       "    }\n",
       "\n",
       "    .dataframe thead th {\n",
       "        text-align: right;\n",
       "    }\n",
       "</style>\n",
       "<table border=\"1\" class=\"dataframe\">\n",
       "  <thead>\n",
       "    <tr style=\"text-align: right;\">\n",
       "      <th></th>\n",
       "      <th>Survived</th>\n",
       "      <th>Pclass</th>\n",
       "      <th>Sex</th>\n",
       "      <th>Age</th>\n",
       "      <th>SibSp</th>\n",
       "      <th>Parch</th>\n",
       "      <th>Fare</th>\n",
       "      <th>Embarked</th>\n",
       "    </tr>\n",
       "  </thead>\n",
       "  <tbody>\n",
       "    <tr>\n",
       "      <th>0</th>\n",
       "      <td>0</td>\n",
       "      <td>3</td>\n",
       "      <td>male</td>\n",
       "      <td>22.0</td>\n",
       "      <td>1</td>\n",
       "      <td>0</td>\n",
       "      <td>7.2500</td>\n",
       "      <td>S</td>\n",
       "    </tr>\n",
       "    <tr>\n",
       "      <th>1</th>\n",
       "      <td>1</td>\n",
       "      <td>1</td>\n",
       "      <td>female</td>\n",
       "      <td>38.0</td>\n",
       "      <td>1</td>\n",
       "      <td>0</td>\n",
       "      <td>71.2833</td>\n",
       "      <td>C</td>\n",
       "    </tr>\n",
       "    <tr>\n",
       "      <th>2</th>\n",
       "      <td>1</td>\n",
       "      <td>3</td>\n",
       "      <td>female</td>\n",
       "      <td>26.0</td>\n",
       "      <td>0</td>\n",
       "      <td>0</td>\n",
       "      <td>7.9250</td>\n",
       "      <td>S</td>\n",
       "    </tr>\n",
       "    <tr>\n",
       "      <th>3</th>\n",
       "      <td>1</td>\n",
       "      <td>1</td>\n",
       "      <td>female</td>\n",
       "      <td>35.0</td>\n",
       "      <td>1</td>\n",
       "      <td>0</td>\n",
       "      <td>53.1000</td>\n",
       "      <td>S</td>\n",
       "    </tr>\n",
       "    <tr>\n",
       "      <th>4</th>\n",
       "      <td>0</td>\n",
       "      <td>3</td>\n",
       "      <td>male</td>\n",
       "      <td>35.0</td>\n",
       "      <td>0</td>\n",
       "      <td>0</td>\n",
       "      <td>8.0500</td>\n",
       "      <td>S</td>\n",
       "    </tr>\n",
       "    <tr>\n",
       "      <th>...</th>\n",
       "      <td>...</td>\n",
       "      <td>...</td>\n",
       "      <td>...</td>\n",
       "      <td>...</td>\n",
       "      <td>...</td>\n",
       "      <td>...</td>\n",
       "      <td>...</td>\n",
       "      <td>...</td>\n",
       "    </tr>\n",
       "    <tr>\n",
       "      <th>886</th>\n",
       "      <td>0</td>\n",
       "      <td>2</td>\n",
       "      <td>male</td>\n",
       "      <td>27.0</td>\n",
       "      <td>0</td>\n",
       "      <td>0</td>\n",
       "      <td>13.0000</td>\n",
       "      <td>S</td>\n",
       "    </tr>\n",
       "    <tr>\n",
       "      <th>887</th>\n",
       "      <td>1</td>\n",
       "      <td>1</td>\n",
       "      <td>female</td>\n",
       "      <td>19.0</td>\n",
       "      <td>0</td>\n",
       "      <td>0</td>\n",
       "      <td>30.0000</td>\n",
       "      <td>S</td>\n",
       "    </tr>\n",
       "    <tr>\n",
       "      <th>888</th>\n",
       "      <td>0</td>\n",
       "      <td>3</td>\n",
       "      <td>female</td>\n",
       "      <td>NaN</td>\n",
       "      <td>1</td>\n",
       "      <td>2</td>\n",
       "      <td>23.4500</td>\n",
       "      <td>S</td>\n",
       "    </tr>\n",
       "    <tr>\n",
       "      <th>889</th>\n",
       "      <td>1</td>\n",
       "      <td>1</td>\n",
       "      <td>male</td>\n",
       "      <td>26.0</td>\n",
       "      <td>0</td>\n",
       "      <td>0</td>\n",
       "      <td>30.0000</td>\n",
       "      <td>C</td>\n",
       "    </tr>\n",
       "    <tr>\n",
       "      <th>890</th>\n",
       "      <td>0</td>\n",
       "      <td>3</td>\n",
       "      <td>male</td>\n",
       "      <td>32.0</td>\n",
       "      <td>0</td>\n",
       "      <td>0</td>\n",
       "      <td>7.7500</td>\n",
       "      <td>Q</td>\n",
       "    </tr>\n",
       "  </tbody>\n",
       "</table>\n",
       "<p>891 rows × 8 columns</p>\n",
       "</div>"
      ],
      "text/plain": [
       "     Survived  Pclass     Sex   Age  SibSp  Parch     Fare Embarked\n",
       "0           0       3    male  22.0      1      0   7.2500        S\n",
       "1           1       1  female  38.0      1      0  71.2833        C\n",
       "2           1       3  female  26.0      0      0   7.9250        S\n",
       "3           1       1  female  35.0      1      0  53.1000        S\n",
       "4           0       3    male  35.0      0      0   8.0500        S\n",
       "..        ...     ...     ...   ...    ...    ...      ...      ...\n",
       "886         0       2    male  27.0      0      0  13.0000        S\n",
       "887         1       1  female  19.0      0      0  30.0000        S\n",
       "888         0       3  female   NaN      1      2  23.4500        S\n",
       "889         1       1    male  26.0      0      0  30.0000        C\n",
       "890         0       3    male  32.0      0      0   7.7500        Q\n",
       "\n",
       "[891 rows x 8 columns]"
      ]
     },
     "execution_count": 10,
     "metadata": {},
     "output_type": "execute_result"
    }
   ],
   "source": [
    "df = pd.read_csv('./reference/100_day_ml_source_code/day29-sklearn-pipelines/train.csv')\n",
    "df.drop(columns=['PassengerId', 'Name', 'Ticket', 'Cabin'], inplace=True)\n",
    "df"
   ]
  },
  {
   "cell_type": "code",
   "execution_count": 339,
   "id": "e758e5ddac318b68",
   "metadata": {
    "collapsed": false,
    "ExecuteTime": {
     "end_time": "2023-12-24T13:42:34.958496Z",
     "start_time": "2023-12-24T13:42:34.949948Z"
    }
   },
   "outputs": [
    {
     "name": "stdout",
     "output_type": "stream",
     "text": [
      "<class 'pandas.core.frame.DataFrame'>\n",
      "Index: 712 entries, 331 to 102\n",
      "Data columns (total 7 columns):\n",
      " #   Column    Non-Null Count  Dtype  \n",
      "---  ------    --------------  -----  \n",
      " 0   Pclass    712 non-null    int64  \n",
      " 1   Sex       712 non-null    object \n",
      " 2   Age       572 non-null    float64\n",
      " 3   SibSp     712 non-null    int64  \n",
      " 4   Parch     712 non-null    int64  \n",
      " 5   Fare      712 non-null    float64\n",
      " 6   Embarked  710 non-null    object \n",
      "dtypes: float64(2), int64(3), object(2)\n",
      "memory usage: 44.5+ KB\n"
     ]
    }
   ],
   "source": [
    "from sklearn.model_selection import train_test_split\n",
    "\n",
    "x = df.loc[:, df.columns != 'Survived']\n",
    "y = df.loc[:, ['Survived']]\n",
    "\n",
    "x, y, x_test, y_test = train_test_split(x, y, test_size=0.2, random_state=42)\n",
    "\n",
    "x.info()\n",
    "# x"
   ]
  },
  {
   "cell_type": "code",
   "execution_count": 340,
   "outputs": [
    {
     "name": "stdout",
     "output_type": "stream",
     "text": [
      "'Age' column index:  2\n",
      "'Embarked' column index:  6\n",
      "Pclass        0\n",
      "Sex           0\n",
      "Age         140\n",
      "SibSp         0\n",
      "Parch         0\n",
      "Fare          0\n",
      "Embarked      2\n",
      "dtype: int64\n"
     ]
    }
   ],
   "source": [
    "print(\"'Age' column index: \", x.columns.get_loc('Age'))\n",
    "print(\"'Embarked' column index: \", x.columns.get_loc('Embarked'))\n",
    "print(x.isna().sum())"
   ],
   "metadata": {
    "collapsed": false,
    "ExecuteTime": {
     "end_time": "2023-12-24T13:42:36.514889Z",
     "start_time": "2023-12-24T13:42:36.511818Z"
    }
   },
   "id": "777098f8ea4d3969"
  },
  {
   "cell_type": "code",
   "execution_count": 341,
   "id": "264fba2f0baa0f1a",
   "metadata": {
    "collapsed": false,
    "ExecuteTime": {
     "end_time": "2023-12-24T13:42:40.277254Z",
     "start_time": "2023-12-24T13:42:40.273368Z"
    }
   },
   "outputs": [],
   "source": [
    "transformers = [\n",
    "    ('impute_age', SimpleImputer(), [2]),\n",
    "    ('impute_embarked', SimpleImputer(strategy='most_frequent'), [6])\n",
    "]\n",
    "t1 = ColumnTransformer(transformers=transformers, remainder='passthrough')"
   ]
  },
  {
   "cell_type": "code",
   "execution_count": 315,
   "outputs": [],
   "source": [
    "# x.iloc[:, [2, 6]]"
   ],
   "metadata": {
    "collapsed": false,
    "ExecuteTime": {
     "end_time": "2023-12-24T13:39:09.187359Z",
     "start_time": "2023-12-24T13:39:09.181012Z"
    }
   },
   "id": "68185fe79735f6b0"
  },
  {
   "cell_type": "code",
   "execution_count": 361,
   "id": "cc8564ca38e84a5e",
   "metadata": {
    "collapsed": false,
    "ExecuteTime": {
     "end_time": "2023-12-24T13:46:25.864356Z",
     "start_time": "2023-12-24T13:46:25.858529Z"
    }
   },
   "outputs": [
    {
     "data": {
      "text/plain": "array([[45.5, 'S', 1, ..., 0, 0, 28.5],\n       [23.0, 'S', 2, ..., 0, 0, 13.0],\n       [32.0, 'S', 3, ..., 0, 0, 7.925],\n       ...,\n       [41.0, 'S', 3, ..., 2, 0, 14.1083],\n       [14.0, 'S', 1, ..., 1, 2, 120.0],\n       [21.0, 'S', 1, ..., 0, 1, 77.2875]], dtype=object)"
     },
     "execution_count": 361,
     "metadata": {},
     "output_type": "execute_result"
    }
   ],
   "source": [
    "df1 = t1.fit_transform(x)\n",
    "df1"
   ]
  },
  {
   "cell_type": "code",
   "execution_count": 428,
   "id": "fd6dc59e98d21b93",
   "metadata": {
    "collapsed": false,
    "ExecuteTime": {
     "end_time": "2023-12-24T13:59:51.830086Z",
     "start_time": "2023-12-24T13:59:51.826585Z"
    }
   },
   "outputs": [
    {
     "name": "stdout",
     "output_type": "stream",
     "text": [
      "'Sex' column index:  1\n"
     ]
    }
   ],
   "source": [
    "print(\"'Sex' column index: \", x.columns.get_loc('Sex'))\n",
    "\n",
    "t2 = ColumnTransformer(transformers=[\n",
    "    ('ohe_sex_embarked', OneHotEncoder(sparse_output=False, handle_unknown='ignore'), [1, 6])\n",
    "], remainder='passthrough')\n",
    "# t2"
   ]
  },
  {
   "cell_type": "code",
   "execution_count": 435,
   "outputs": [
    {
     "data": {
      "text/plain": "        Sex Embarked\n331    male        S\n733    male        S\n382    male        S\n704    male        S\n813  female        S\n..      ...      ...\n106  female        S\n270    male        S\n860    male        S\n435  female        S\n102    male        S\n\n[712 rows x 2 columns]",
      "text/html": "<div>\n<style scoped>\n    .dataframe tbody tr th:only-of-type {\n        vertical-align: middle;\n    }\n\n    .dataframe tbody tr th {\n        vertical-align: top;\n    }\n\n    .dataframe thead th {\n        text-align: right;\n    }\n</style>\n<table border=\"1\" class=\"dataframe\">\n  <thead>\n    <tr style=\"text-align: right;\">\n      <th></th>\n      <th>Sex</th>\n      <th>Embarked</th>\n    </tr>\n  </thead>\n  <tbody>\n    <tr>\n      <th>331</th>\n      <td>male</td>\n      <td>S</td>\n    </tr>\n    <tr>\n      <th>733</th>\n      <td>male</td>\n      <td>S</td>\n    </tr>\n    <tr>\n      <th>382</th>\n      <td>male</td>\n      <td>S</td>\n    </tr>\n    <tr>\n      <th>704</th>\n      <td>male</td>\n      <td>S</td>\n    </tr>\n    <tr>\n      <th>813</th>\n      <td>female</td>\n      <td>S</td>\n    </tr>\n    <tr>\n      <th>...</th>\n      <td>...</td>\n      <td>...</td>\n    </tr>\n    <tr>\n      <th>106</th>\n      <td>female</td>\n      <td>S</td>\n    </tr>\n    <tr>\n      <th>270</th>\n      <td>male</td>\n      <td>S</td>\n    </tr>\n    <tr>\n      <th>860</th>\n      <td>male</td>\n      <td>S</td>\n    </tr>\n    <tr>\n      <th>435</th>\n      <td>female</td>\n      <td>S</td>\n    </tr>\n    <tr>\n      <th>102</th>\n      <td>male</td>\n      <td>S</td>\n    </tr>\n  </tbody>\n</table>\n<p>712 rows × 2 columns</p>\n</div>"
     },
     "execution_count": 435,
     "metadata": {},
     "output_type": "execute_result"
    }
   ],
   "source": [
    "# OneHotEncoder(handle_unknown='ignore').fit_transform(df2[:, [1]]).toarray()\n",
    "x.iloc[:, [1, 6]]"
   ],
   "metadata": {
    "collapsed": false,
    "ExecuteTime": {
     "end_time": "2023-12-24T14:00:38.959210Z",
     "start_time": "2023-12-24T14:00:38.952337Z"
    }
   },
   "id": "f383cb008d953b9b"
  },
  {
   "cell_type": "code",
   "execution_count": 438,
   "id": "52a29321d32fc681",
   "metadata": {
    "collapsed": false,
    "ExecuteTime": {
     "end_time": "2023-12-24T14:01:01.485017Z",
     "start_time": "2023-12-24T14:01:01.476168Z"
    }
   },
   "outputs": [
    {
     "data": {
      "text/plain": "array([[  0.    ,   1.    ,   0.    , ...,   0.    ,   0.    ,  28.5   ],\n       [  0.    ,   1.    ,   0.    , ...,   0.    ,   0.    ,  13.    ],\n       [  0.    ,   1.    ,   0.    , ...,   0.    ,   0.    ,   7.925 ],\n       ...,\n       [  0.    ,   1.    ,   0.    , ...,   2.    ,   0.    ,  14.1083],\n       [  1.    ,   0.    ,   0.    , ...,   1.    ,   2.    , 120.    ],\n       [  0.    ,   1.    ,   0.    , ...,   0.    ,   1.    ,  77.2875]])"
     },
     "execution_count": 438,
     "metadata": {},
     "output_type": "execute_result"
    }
   ],
   "source": [
    "df2 = t2.fit_transform(x)\n",
    "df2"
   ]
  },
  {
   "cell_type": "code",
   "execution_count": 439,
   "id": "7c7f1927ef91362d",
   "metadata": {
    "collapsed": false,
    "ExecuteTime": {
     "end_time": "2023-12-24T14:01:27.970963Z",
     "start_time": "2023-12-24T14:01:27.966965Z"
    }
   },
   "outputs": [],
   "source": [
    "t3 = ColumnTransformer(transformers=[\n",
    "    ('scaler', MinMaxScaler(), slice(0, 10))\n",
    "], remainder='passthrough')"
   ]
  },
  {
   "cell_type": "code",
   "execution_count": 422,
   "id": "6930de3f6344eb4d",
   "metadata": {
    "collapsed": false,
    "ExecuteTime": {
     "end_time": "2023-12-24T13:55:58.553766Z",
     "start_time": "2023-12-24T13:55:58.541096Z"
    }
   },
   "outputs": [
    {
     "data": {
      "text/plain": "array([[0.0, 0.0, 1.0, ..., 'male', 0, 0],\n       [0.0, 0.0, 1.0, ..., 'male', 0, 0],\n       [0.0, 0.0, 1.0, ..., 'male', 0, 0],\n       ...,\n       [0.0, 0.0, 1.0, ..., 'male', 2, 0],\n       [0.0, 0.0, 1.0, ..., 'female', 1, 2],\n       [0.0, 0.0, 1.0, ..., 'male', 0, 1]], dtype=object)"
     },
     "execution_count": 422,
     "metadata": {},
     "output_type": "execute_result"
    }
   ],
   "source": [
    "df3 = t3.fit_transform(df2)\n",
    "df3"
   ]
  },
  {
   "cell_type": "code",
   "execution_count": 459,
   "id": "e687521efacf9830",
   "metadata": {
    "collapsed": false,
    "ExecuteTime": {
     "end_time": "2023-12-24T14:03:24.088235Z",
     "start_time": "2023-12-24T14:03:24.086039Z"
    }
   },
   "outputs": [],
   "source": [
    "pipe = Pipeline([\n",
    "    ('imputes', t1),\n",
    "    ('ohe', t2),\n",
    "    ('scalars', t3)\n",
    "])\n",
    "\n",
    "# pipe.fit(x)\n",
    "# pipe.transform(x)\n",
    "\n",
    "# Alternate Syntax\n",
    "# pipe = make_pipeline(trf1,trf2,trf3,trf4,trf5)"
   ]
  }
 ],
 "metadata": {
  "kernelspec": {
   "display_name": "Python 3 (ipykernel)",
   "language": "python",
   "name": "python3"
  },
  "language_info": {
   "codemirror_mode": {
    "name": "ipython",
    "version": 3
   },
   "file_extension": ".py",
   "mimetype": "text/x-python",
   "name": "python",
   "nbconvert_exporter": "python",
   "pygments_lexer": "ipython3",
   "version": "3.11.6"
  }
 },
 "nbformat": 4,
 "nbformat_minor": 5
}
